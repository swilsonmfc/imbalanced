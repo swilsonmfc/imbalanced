{
  "nbformat": 4,
  "nbformat_minor": 0,
  "metadata": {
    "colab": {
      "name": "WineQuality.ipynb",
      "provenance": [],
      "collapsed_sections": [],
      "toc_visible": true,
      "authorship_tag": "ABX9TyN1IdITO0mr7kK/gS7Xo1CD",
      "include_colab_link": true
    },
    "kernelspec": {
      "name": "python3",
      "display_name": "Python 3"
    }
  },
  "cells": [
    {
      "cell_type": "markdown",
      "metadata": {
        "id": "view-in-github",
        "colab_type": "text"
      },
      "source": [
        "<a href=\"https://colab.research.google.com/github/swilsonmfc/imbalanced/blob/main/WineQuality.ipynb\" target=\"_parent\"><img src=\"https://colab.research.google.com/assets/colab-badge.svg\" alt=\"Open In Colab\"/></a>"
      ]
    },
    {
      "cell_type": "markdown",
      "metadata": {
        "id": "-BowEGoCa1f5"
      },
      "source": [
        "# Wine Quality"
      ]
    },
    {
      "cell_type": "markdown",
      "metadata": {
        "id": "u8z_2cGIbMAx"
      },
      "source": [
        "# Install"
      ]
    },
    {
      "cell_type": "code",
      "metadata": {
        "id": "bpvjWYsDbTqR",
        "outputId": "6ea9c5eb-a69a-4412-9301-657c763d2047",
        "colab": {
          "base_uri": "https://localhost:8080/",
          "height": 139
        }
      },
      "source": [
        "!pip install imblearn"
      ],
      "execution_count": 1,
      "outputs": [
        {
          "output_type": "stream",
          "text": [
            "Requirement already satisfied: imblearn in /usr/local/lib/python3.6/dist-packages (0.0)\n",
            "Requirement already satisfied: imbalanced-learn in /usr/local/lib/python3.6/dist-packages (from imblearn) (0.4.3)\n",
            "Requirement already satisfied: scikit-learn>=0.20 in /usr/local/lib/python3.6/dist-packages (from imbalanced-learn->imblearn) (0.22.2.post1)\n",
            "Requirement already satisfied: scipy>=0.13.3 in /usr/local/lib/python3.6/dist-packages (from imbalanced-learn->imblearn) (1.4.1)\n",
            "Requirement already satisfied: numpy>=1.8.2 in /usr/local/lib/python3.6/dist-packages (from imbalanced-learn->imblearn) (1.18.5)\n",
            "Requirement already satisfied: joblib>=0.11 in /usr/local/lib/python3.6/dist-packages (from scikit-learn>=0.20->imbalanced-learn->imblearn) (0.16.0)\n"
          ],
          "name": "stdout"
        }
      ]
    },
    {
      "cell_type": "markdown",
      "metadata": {
        "id": "4eV2wd9HbMTK"
      },
      "source": [
        "# Setup"
      ]
    },
    {
      "cell_type": "code",
      "metadata": {
        "id": "gex3afsbbW34",
        "outputId": "3893351c-3959-436a-deb4-2704eec28c93",
        "colab": {
          "base_uri": "https://localhost:8080/",
          "height": 173
        }
      },
      "source": [
        "import pandas as pd\n",
        "import numpy as np\n",
        "import matplotlib.pyplot as plt\n",
        "import seaborn as sns\n",
        "\n",
        "import tensorflow as tf\n",
        "import tensorflow.keras as keras\n",
        "from tensorflow.keras import backend as K\n",
        "\n",
        "from tensorflow.keras.models import Model\n",
        "from tensorflow.keras.models import Sequential\n",
        "from tensorflow.keras.layers import Input\n",
        "from tensorflow.keras.layers import Dense\n",
        "from tensorflow.keras.layers import Dropout\n",
        "\n",
        "from tensorflow.keras.optimizers import Adam\n",
        "from tensorflow.keras.callbacks import EarlyStopping\n",
        "from tensorflow.keras.losses import BinaryCrossentropy\n",
        "\n",
        "from tensorflow.keras.metrics import Recall\n",
        "from tensorflow.keras.metrics import Precision\n",
        "from tensorflow.keras.metrics import BinaryAccuracy\n",
        "from tensorflow.keras.metrics import TruePositives, FalsePositives\n",
        "from tensorflow.keras.metrics import TrueNegatives, FalseNegatives\n",
        "from tensorflow.keras.metrics import AUC\n",
        "\n",
        "from sklearn.model_selection import train_test_split\n",
        "from sklearn.preprocessing import StandardScaler\n",
        "from sklearn.metrics import classification_report\n",
        "from sklearn.metrics import confusion_matrix\n",
        "from sklearn.metrics import f1_score\n",
        "from sklearn.metrics import accuracy_score\n",
        "\n",
        "from imblearn.keras import BalancedBatchGenerator\n",
        "from imblearn.metrics import classification_report_imbalanced\n",
        "from imblearn.over_sampling import RandomOverSampler\n",
        "from imblearn.under_sampling import RandomUnderSampler"
      ],
      "execution_count": 2,
      "outputs": [
        {
          "output_type": "stream",
          "text": [
            "/usr/local/lib/python3.6/dist-packages/sklearn/externals/six.py:31: FutureWarning: The module is deprecated in version 0.21 and will be removed in version 0.23 since we've dropped support for Python 2.7. Please rely on the official version of six (https://pypi.org/project/six/).\n",
            "  \"(https://pypi.org/project/six/).\", FutureWarning)\n",
            "/usr/local/lib/python3.6/dist-packages/sklearn/utils/deprecation.py:144: FutureWarning: The sklearn.neighbors.base module is  deprecated in version 0.22 and will be removed in version 0.24. The corresponding classes / functions should instead be imported from sklearn.neighbors. Anything that cannot be imported from sklearn.neighbors is now part of the private API.\n",
            "  warnings.warn(message, FutureWarning)\n",
            "/usr/local/lib/python3.6/dist-packages/sklearn/utils/deprecation.py:144: FutureWarning: The sklearn.utils.testing module is  deprecated in version 0.22 and will be removed in version 0.24. The corresponding classes / functions should instead be imported from sklearn.utils. Anything that cannot be imported from sklearn.utils is now part of the private API.\n",
            "  warnings.warn(message, FutureWarning)\n",
            "/usr/local/lib/python3.6/dist-packages/sklearn/utils/deprecation.py:144: FutureWarning: The sklearn.metrics.classification module is  deprecated in version 0.22 and will be removed in version 0.24. The corresponding classes / functions should instead be imported from sklearn.metrics. Anything that cannot be imported from sklearn.metrics is now part of the private API.\n",
            "  warnings.warn(message, FutureWarning)\n"
          ],
          "name": "stderr"
        }
      ]
    },
    {
      "cell_type": "markdown",
      "metadata": {
        "id": "GoAmA1oqbMV5"
      },
      "source": [
        "# Data"
      ]
    },
    {
      "cell_type": "code",
      "metadata": {
        "id": "rutIPKyQbiLS",
        "outputId": "9ffa2c39-3624-440e-c085-f4a9cd01c723",
        "colab": {
          "base_uri": "https://localhost:8080/",
          "height": 411
        }
      },
      "source": [
        "!wget -O wine-red.csv https://archive.ics.uci.edu/ml/machine-learning-databases/wine-quality/winequality-red.csv\n",
        "!wget -O wine-white.csv https://archive.ics.uci.edu/ml/machine-learning-databases/wine-quality/winequality-white.csv"
      ],
      "execution_count": 3,
      "outputs": [
        {
          "output_type": "stream",
          "text": [
            "--2020-10-22 21:02:49--  https://archive.ics.uci.edu/ml/machine-learning-databases/wine-quality/winequality-red.csv\n",
            "Resolving archive.ics.uci.edu (archive.ics.uci.edu)... 128.195.10.252\n",
            "Connecting to archive.ics.uci.edu (archive.ics.uci.edu)|128.195.10.252|:443... connected.\n",
            "HTTP request sent, awaiting response... 200 OK\n",
            "Length: 84199 (82K) [application/x-httpd-php]\n",
            "Saving to: ‘wine-red.csv’\n",
            "\n",
            "wine-red.csv        100%[===================>]  82.23K   309KB/s    in 0.3s    \n",
            "\n",
            "2020-10-22 21:02:49 (309 KB/s) - ‘wine-red.csv’ saved [84199/84199]\n",
            "\n",
            "--2020-10-22 21:02:50--  https://archive.ics.uci.edu/ml/machine-learning-databases/wine-quality/winequality-white.csv\n",
            "Resolving archive.ics.uci.edu (archive.ics.uci.edu)... 128.195.10.252\n",
            "Connecting to archive.ics.uci.edu (archive.ics.uci.edu)|128.195.10.252|:443... connected.\n",
            "HTTP request sent, awaiting response... 200 OK\n",
            "Length: 264426 (258K) [application/x-httpd-php]\n",
            "Saving to: ‘wine-white.csv’\n",
            "\n",
            "wine-white.csv      100%[===================>] 258.23K   478KB/s    in 0.5s    \n",
            "\n",
            "2020-10-22 21:02:51 (478 KB/s) - ‘wine-white.csv’ saved [264426/264426]\n",
            "\n"
          ],
          "name": "stdout"
        }
      ]
    },
    {
      "cell_type": "code",
      "metadata": {
        "id": "pSn-vGiabn2p",
        "outputId": "b01a10cc-82db-4456-a7c0-07b6956d32af",
        "colab": {
          "base_uri": "https://localhost:8080/",
          "height": 473
        }
      },
      "source": [
        "red_df   = pd.read_csv('wine-red.csv', sep=';')\n",
        "red_df['type'] = 'red'\n",
        "white_df = pd.read_csv('wine-white.csv', sep=';')\n",
        "white_df['type'] = 'white'\n",
        "\n",
        "df = pd.concat([red_df, white_df])\n",
        "df['target'] = np.where(df.quality <= 4, 1, 0) \n",
        "df"
      ],
      "execution_count": 4,
      "outputs": [
        {
          "output_type": "execute_result",
          "data": {
            "text/html": [
              "<div>\n",
              "<style scoped>\n",
              "    .dataframe tbody tr th:only-of-type {\n",
              "        vertical-align: middle;\n",
              "    }\n",
              "\n",
              "    .dataframe tbody tr th {\n",
              "        vertical-align: top;\n",
              "    }\n",
              "\n",
              "    .dataframe thead th {\n",
              "        text-align: right;\n",
              "    }\n",
              "</style>\n",
              "<table border=\"1\" class=\"dataframe\">\n",
              "  <thead>\n",
              "    <tr style=\"text-align: right;\">\n",
              "      <th></th>\n",
              "      <th>fixed acidity</th>\n",
              "      <th>volatile acidity</th>\n",
              "      <th>citric acid</th>\n",
              "      <th>residual sugar</th>\n",
              "      <th>chlorides</th>\n",
              "      <th>free sulfur dioxide</th>\n",
              "      <th>total sulfur dioxide</th>\n",
              "      <th>density</th>\n",
              "      <th>pH</th>\n",
              "      <th>sulphates</th>\n",
              "      <th>alcohol</th>\n",
              "      <th>quality</th>\n",
              "      <th>type</th>\n",
              "      <th>target</th>\n",
              "    </tr>\n",
              "  </thead>\n",
              "  <tbody>\n",
              "    <tr>\n",
              "      <th>0</th>\n",
              "      <td>7.4</td>\n",
              "      <td>0.70</td>\n",
              "      <td>0.00</td>\n",
              "      <td>1.9</td>\n",
              "      <td>0.076</td>\n",
              "      <td>11.0</td>\n",
              "      <td>34.0</td>\n",
              "      <td>0.99780</td>\n",
              "      <td>3.51</td>\n",
              "      <td>0.56</td>\n",
              "      <td>9.4</td>\n",
              "      <td>5</td>\n",
              "      <td>red</td>\n",
              "      <td>0</td>\n",
              "    </tr>\n",
              "    <tr>\n",
              "      <th>1</th>\n",
              "      <td>7.8</td>\n",
              "      <td>0.88</td>\n",
              "      <td>0.00</td>\n",
              "      <td>2.6</td>\n",
              "      <td>0.098</td>\n",
              "      <td>25.0</td>\n",
              "      <td>67.0</td>\n",
              "      <td>0.99680</td>\n",
              "      <td>3.20</td>\n",
              "      <td>0.68</td>\n",
              "      <td>9.8</td>\n",
              "      <td>5</td>\n",
              "      <td>red</td>\n",
              "      <td>0</td>\n",
              "    </tr>\n",
              "    <tr>\n",
              "      <th>2</th>\n",
              "      <td>7.8</td>\n",
              "      <td>0.76</td>\n",
              "      <td>0.04</td>\n",
              "      <td>2.3</td>\n",
              "      <td>0.092</td>\n",
              "      <td>15.0</td>\n",
              "      <td>54.0</td>\n",
              "      <td>0.99700</td>\n",
              "      <td>3.26</td>\n",
              "      <td>0.65</td>\n",
              "      <td>9.8</td>\n",
              "      <td>5</td>\n",
              "      <td>red</td>\n",
              "      <td>0</td>\n",
              "    </tr>\n",
              "    <tr>\n",
              "      <th>3</th>\n",
              "      <td>11.2</td>\n",
              "      <td>0.28</td>\n",
              "      <td>0.56</td>\n",
              "      <td>1.9</td>\n",
              "      <td>0.075</td>\n",
              "      <td>17.0</td>\n",
              "      <td>60.0</td>\n",
              "      <td>0.99800</td>\n",
              "      <td>3.16</td>\n",
              "      <td>0.58</td>\n",
              "      <td>9.8</td>\n",
              "      <td>6</td>\n",
              "      <td>red</td>\n",
              "      <td>0</td>\n",
              "    </tr>\n",
              "    <tr>\n",
              "      <th>4</th>\n",
              "      <td>7.4</td>\n",
              "      <td>0.70</td>\n",
              "      <td>0.00</td>\n",
              "      <td>1.9</td>\n",
              "      <td>0.076</td>\n",
              "      <td>11.0</td>\n",
              "      <td>34.0</td>\n",
              "      <td>0.99780</td>\n",
              "      <td>3.51</td>\n",
              "      <td>0.56</td>\n",
              "      <td>9.4</td>\n",
              "      <td>5</td>\n",
              "      <td>red</td>\n",
              "      <td>0</td>\n",
              "    </tr>\n",
              "    <tr>\n",
              "      <th>...</th>\n",
              "      <td>...</td>\n",
              "      <td>...</td>\n",
              "      <td>...</td>\n",
              "      <td>...</td>\n",
              "      <td>...</td>\n",
              "      <td>...</td>\n",
              "      <td>...</td>\n",
              "      <td>...</td>\n",
              "      <td>...</td>\n",
              "      <td>...</td>\n",
              "      <td>...</td>\n",
              "      <td>...</td>\n",
              "      <td>...</td>\n",
              "      <td>...</td>\n",
              "    </tr>\n",
              "    <tr>\n",
              "      <th>4893</th>\n",
              "      <td>6.2</td>\n",
              "      <td>0.21</td>\n",
              "      <td>0.29</td>\n",
              "      <td>1.6</td>\n",
              "      <td>0.039</td>\n",
              "      <td>24.0</td>\n",
              "      <td>92.0</td>\n",
              "      <td>0.99114</td>\n",
              "      <td>3.27</td>\n",
              "      <td>0.50</td>\n",
              "      <td>11.2</td>\n",
              "      <td>6</td>\n",
              "      <td>white</td>\n",
              "      <td>0</td>\n",
              "    </tr>\n",
              "    <tr>\n",
              "      <th>4894</th>\n",
              "      <td>6.6</td>\n",
              "      <td>0.32</td>\n",
              "      <td>0.36</td>\n",
              "      <td>8.0</td>\n",
              "      <td>0.047</td>\n",
              "      <td>57.0</td>\n",
              "      <td>168.0</td>\n",
              "      <td>0.99490</td>\n",
              "      <td>3.15</td>\n",
              "      <td>0.46</td>\n",
              "      <td>9.6</td>\n",
              "      <td>5</td>\n",
              "      <td>white</td>\n",
              "      <td>0</td>\n",
              "    </tr>\n",
              "    <tr>\n",
              "      <th>4895</th>\n",
              "      <td>6.5</td>\n",
              "      <td>0.24</td>\n",
              "      <td>0.19</td>\n",
              "      <td>1.2</td>\n",
              "      <td>0.041</td>\n",
              "      <td>30.0</td>\n",
              "      <td>111.0</td>\n",
              "      <td>0.99254</td>\n",
              "      <td>2.99</td>\n",
              "      <td>0.46</td>\n",
              "      <td>9.4</td>\n",
              "      <td>6</td>\n",
              "      <td>white</td>\n",
              "      <td>0</td>\n",
              "    </tr>\n",
              "    <tr>\n",
              "      <th>4896</th>\n",
              "      <td>5.5</td>\n",
              "      <td>0.29</td>\n",
              "      <td>0.30</td>\n",
              "      <td>1.1</td>\n",
              "      <td>0.022</td>\n",
              "      <td>20.0</td>\n",
              "      <td>110.0</td>\n",
              "      <td>0.98869</td>\n",
              "      <td>3.34</td>\n",
              "      <td>0.38</td>\n",
              "      <td>12.8</td>\n",
              "      <td>7</td>\n",
              "      <td>white</td>\n",
              "      <td>0</td>\n",
              "    </tr>\n",
              "    <tr>\n",
              "      <th>4897</th>\n",
              "      <td>6.0</td>\n",
              "      <td>0.21</td>\n",
              "      <td>0.38</td>\n",
              "      <td>0.8</td>\n",
              "      <td>0.020</td>\n",
              "      <td>22.0</td>\n",
              "      <td>98.0</td>\n",
              "      <td>0.98941</td>\n",
              "      <td>3.26</td>\n",
              "      <td>0.32</td>\n",
              "      <td>11.8</td>\n",
              "      <td>6</td>\n",
              "      <td>white</td>\n",
              "      <td>0</td>\n",
              "    </tr>\n",
              "  </tbody>\n",
              "</table>\n",
              "<p>6497 rows × 14 columns</p>\n",
              "</div>"
            ],
            "text/plain": [
              "      fixed acidity  volatile acidity  citric acid  ...  quality   type  target\n",
              "0               7.4              0.70         0.00  ...        5    red       0\n",
              "1               7.8              0.88         0.00  ...        5    red       0\n",
              "2               7.8              0.76         0.04  ...        5    red       0\n",
              "3              11.2              0.28         0.56  ...        6    red       0\n",
              "4               7.4              0.70         0.00  ...        5    red       0\n",
              "...             ...               ...          ...  ...      ...    ...     ...\n",
              "4893            6.2              0.21         0.29  ...        6  white       0\n",
              "4894            6.6              0.32         0.36  ...        5  white       0\n",
              "4895            6.5              0.24         0.19  ...        6  white       0\n",
              "4896            5.5              0.29         0.30  ...        7  white       0\n",
              "4897            6.0              0.21         0.38  ...        6  white       0\n",
              "\n",
              "[6497 rows x 14 columns]"
            ]
          },
          "metadata": {
            "tags": []
          },
          "execution_count": 4
        }
      ]
    },
    {
      "cell_type": "markdown",
      "metadata": {
        "id": "kK5eA-ATbMhW"
      },
      "source": [
        "# EDA"
      ]
    },
    {
      "cell_type": "code",
      "metadata": {
        "id": "m8ewe9YXdFcp"
      },
      "source": [
        "def plot_feature(df, feature, outcome='target'):\n",
        "  fig, (ax1, ax2) = plt.subplots(1, 2, figsize=(12,6))\n",
        "  df.hist(feature, ax=ax1)\n",
        "  ax1.set_xlabel(feature)\n",
        "  ax1.set_title(f'Histogram for {feature}')\n",
        "  df.boxplot(feature, by=outcome, ax=ax2)\n",
        "  ax2.set_ylabel(feature)\n",
        "  ax2.set_title(f'{feature} grouped by Target')\n",
        "  plt.show();\n",
        "\n",
        "def plot_class_density(df, feature, outcome='target'):\n",
        "  fig = plt.figure(figsize=(12, 6))\n",
        "  sns.kdeplot(df[feature], hue=df[outcome], palette='gist_rainbow')\n",
        "  plt.show();"
      ],
      "execution_count": 5,
      "outputs": []
    },
    {
      "cell_type": "markdown",
      "metadata": {
        "id": "Na1ED1mwcnA-"
      },
      "source": [
        "## Target Class\n",
        "* Imbalanced 25 to 1\n",
        "* A target of 1 means it is a low quality wine"
      ]
    },
    {
      "cell_type": "code",
      "metadata": {
        "id": "XpmN9tBmcRo2",
        "outputId": "2c41722d-1a2d-4858-806c-05882aa1eb58",
        "colab": {
          "base_uri": "https://localhost:8080/",
          "height": 293
        }
      },
      "source": [
        "df.groupby('target').size().plot.bar()"
      ],
      "execution_count": 6,
      "outputs": [
        {
          "output_type": "execute_result",
          "data": {
            "text/plain": [
              "<matplotlib.axes._subplots.AxesSubplot at 0x7ff8477c1710>"
            ]
          },
          "metadata": {
            "tags": []
          },
          "execution_count": 6
        },
        {
          "output_type": "display_data",
          "data": {
            "image/png": "[encoded data removed]",
            "text/plain": [
              "<Figure size 432x288 with 1 Axes>"
            ]
          },
          "metadata": {
            "tags": [],
            "needs_background": "light"
          }
        }
      ]
    },
    {
      "cell_type": "code",
      "metadata": {
        "id": "ns3zYg_TcgnZ",
        "outputId": "8b2a394d-0c77-4969-fc50-c57f9f6eb412",
        "colab": {
          "base_uri": "https://localhost:8080/",
          "height": 85
        }
      },
      "source": [
        "grp = df.groupby('target').size()\n",
        "(grp / min(grp))"
      ],
      "execution_count": 7,
      "outputs": [
        {
          "output_type": "execute_result",
          "data": {
            "text/plain": [
              "target\n",
              "0    25.410569\n",
              "1     1.000000\n",
              "dtype: float64"
            ]
          },
          "metadata": {
            "tags": []
          },
          "execution_count": 7
        }
      ]
    },
    {
      "cell_type": "markdown",
      "metadata": {
        "id": "AKPn8R2BAs5O"
      },
      "source": [
        "## Missing\n",
        "* Nothing missing to impute"
      ]
    },
    {
      "cell_type": "code",
      "metadata": {
        "id": "Pak6OrOAAvfP",
        "outputId": "c4a2b646-9d2f-47b0-a52f-b0c9dca36173",
        "colab": {
          "base_uri": "https://localhost:8080/",
          "height": 272
        }
      },
      "source": [
        "df.isna().sum()"
      ],
      "execution_count": 8,
      "outputs": [
        {
          "output_type": "execute_result",
          "data": {
            "text/plain": [
              "fixed acidity           0\n",
              "volatile acidity        0\n",
              "citric acid             0\n",
              "residual sugar          0\n",
              "chlorides               0\n",
              "free sulfur dioxide     0\n",
              "total sulfur dioxide    0\n",
              "density                 0\n",
              "pH                      0\n",
              "sulphates               0\n",
              "alcohol                 0\n",
              "quality                 0\n",
              "type                    0\n",
              "target                  0\n",
              "dtype: int64"
            ]
          },
          "metadata": {
            "tags": []
          },
          "execution_count": 8
        }
      ]
    },
    {
      "cell_type": "markdown",
      "metadata": {
        "id": "EX6YbcjFc-_6"
      },
      "source": [
        "## Wine Type\n",
        "* More whites than reds"
      ]
    },
    {
      "cell_type": "code",
      "metadata": {
        "id": "i35nXLbDdBbp",
        "outputId": "8d296000-895c-4ebb-841f-95bb86258b12",
        "colab": {
          "base_uri": "https://localhost:8080/",
          "height": 314
        }
      },
      "source": [
        "df.groupby('type').size().plot.bar()"
      ],
      "execution_count": 9,
      "outputs": [
        {
          "output_type": "execute_result",
          "data": {
            "text/plain": [
              "<matplotlib.axes._subplots.AxesSubplot at 0x7ff847715f28>"
            ]
          },
          "metadata": {
            "tags": []
          },
          "execution_count": 9
        },
        {
          "output_type": "display_data",
          "data": {
            "image/png": "[encoded data removed]",
            "text/plain": [
              "<Figure size 432x288 with 1 Axes>"
            ]
          },
          "metadata": {
            "tags": [],
            "needs_background": "light"
          }
        }
      ]
    },
    {
      "cell_type": "markdown",
      "metadata": {
        "id": "HYrPQSuKd1Uj"
      },
      "source": [
        "## Acidity\n",
        "* More \"outliers\" for fixed acidity in normal / high quality wines\n",
        "* More variation for volatile acidity in low quality wines"
      ]
    },
    {
      "cell_type": "code",
      "metadata": {
        "id": "R3guaeyHd308",
        "outputId": "d84f490e-851d-4d21-a21f-09b0f3c2f15f",
        "colab": {
          "base_uri": "https://localhost:8080/",
          "height": 420
        }
      },
      "source": [
        "plot_feature(df, 'fixed acidity')"
      ],
      "execution_count": 10,
      "outputs": [
        {
          "output_type": "display_data",
          "data": {
            "image/png": "[encoded data removed]",
            "text/plain": [
              "<Figure size 864x432 with 2 Axes>"
            ]
          },
          "metadata": {
            "tags": [],
            "needs_background": "light"
          }
        }
      ]
    },
    {
      "cell_type": "code",
      "metadata": {
        "id": "eKo1Cqm-eMPV",
        "outputId": "8b1487f8-91ff-4569-86ab-c79e738652d6",
        "colab": {
          "base_uri": "https://localhost:8080/",
          "height": 420
        }
      },
      "source": [
        "plot_feature(df, 'volatile acidity')"
      ],
      "execution_count": 11,
      "outputs": [
        {
          "output_type": "display_data",
          "data": {
            "image/png": "[encoded data removed]",
            "text/plain": [
              "<Figure size 864x432 with 2 Axes>"
            ]
          },
          "metadata": {
            "tags": [],
            "needs_background": "light"
          }
        }
      ]
    },
    {
      "cell_type": "markdown",
      "metadata": {
        "id": "GXvugbBEd1hY"
      },
      "source": [
        "## Citric Acid"
      ]
    },
    {
      "cell_type": "code",
      "metadata": {
        "id": "ltDAufyOenr2",
        "outputId": "641d7829-9979-4c3a-e9c4-4b2b501e6b86",
        "colab": {
          "base_uri": "https://localhost:8080/",
          "height": 420
        }
      },
      "source": [
        "plot_feature(df, 'citric acid')"
      ],
      "execution_count": 12,
      "outputs": [
        {
          "output_type": "display_data",
          "data": {
            "image/png": "[encoded data removed]",
            "text/plain": [
              "<Figure size 864x432 with 2 Axes>"
            ]
          },
          "metadata": {
            "tags": [],
            "needs_background": "light"
          }
        }
      ]
    },
    {
      "cell_type": "markdown",
      "metadata": {
        "id": "I3_OLdrAd1q8"
      },
      "source": [
        "## Residual Sugar"
      ]
    },
    {
      "cell_type": "code",
      "metadata": {
        "id": "BWw6yipne0af",
        "outputId": "cbcbfb1a-f142-4cd9-9f54-d64b7048b3b8",
        "colab": {
          "base_uri": "https://localhost:8080/",
          "height": 420
        }
      },
      "source": [
        "plot_feature(df, 'residual sugar')"
      ],
      "execution_count": 13,
      "outputs": [
        {
          "output_type": "display_data",
          "data": {
            "image/png": "[encoded data removed]",
            "text/plain": [
              "<Figure size 864x432 with 2 Axes>"
            ]
          },
          "metadata": {
            "tags": [],
            "needs_background": "light"
          }
        }
      ]
    },
    {
      "cell_type": "markdown",
      "metadata": {
        "id": "aKsps07Hd1oY"
      },
      "source": [
        "## Chlorides"
      ]
    },
    {
      "cell_type": "code",
      "metadata": {
        "id": "tF7cynHye9iQ",
        "outputId": "1c688107-8226-4446-cf66-51ef0db1b319",
        "colab": {
          "base_uri": "https://localhost:8080/",
          "height": 420
        }
      },
      "source": [
        "plot_feature(df, 'chlorides')"
      ],
      "execution_count": 14,
      "outputs": [
        {
          "output_type": "display_data",
          "data": {
            "image/png": "[encoded data removed]",
            "text/plain": [
              "<Figure size 864x432 with 2 Axes>"
            ]
          },
          "metadata": {
            "tags": [],
            "needs_background": "light"
          }
        }
      ]
    },
    {
      "cell_type": "markdown",
      "metadata": {
        "id": "GUaFp2KvgqS_"
      },
      "source": [
        "## Sulphur"
      ]
    },
    {
      "cell_type": "code",
      "metadata": {
        "id": "F0Je6bnyhkyT",
        "outputId": "c2cd11f6-a96a-46f4-d2aa-2aecba6b64ec",
        "colab": {
          "base_uri": "https://localhost:8080/",
          "height": 420
        }
      },
      "source": [
        "plot_feature(df, 'free sulfur dioxide')"
      ],
      "execution_count": 15,
      "outputs": [
        {
          "output_type": "display_data",
          "data": {
            "image/png": "[encoded data removed]",
            "text/plain": [
              "<Figure size 864x432 with 2 Axes>"
            ]
          },
          "metadata": {
            "tags": [],
            "needs_background": "light"
          }
        }
      ]
    },
    {
      "cell_type": "code",
      "metadata": {
        "id": "zSvZ1vcthkvI",
        "outputId": "0ab33e4b-76b8-4531-b397-6fa530abb343",
        "colab": {
          "base_uri": "https://localhost:8080/",
          "height": 420
        }
      },
      "source": [
        "plot_feature(df, 'total sulfur dioxide')"
      ],
      "execution_count": 16,
      "outputs": [
        {
          "output_type": "display_data",
          "data": {
            "image/png": "[encoded data removed]",
            "text/plain": [
              "<Figure size 864x432 with 2 Axes>"
            ]
          },
          "metadata": {
            "tags": [],
            "needs_background": "light"
          }
        }
      ]
    },
    {
      "cell_type": "markdown",
      "metadata": {
        "id": "3xOBI6_cgqnz"
      },
      "source": [
        "## Density"
      ]
    },
    {
      "cell_type": "code",
      "metadata": {
        "id": "2bBInMWRhWac",
        "outputId": "ea201a72-40e4-4d53-8cf7-3af23b34dd3a",
        "colab": {
          "base_uri": "https://localhost:8080/",
          "height": 420
        }
      },
      "source": [
        "plot_feature(df, 'density')"
      ],
      "execution_count": 17,
      "outputs": [
        {
          "output_type": "display_data",
          "data": {
            "image/png": "[encoded data removed]",
            "text/plain": [
              "<Figure size 864x432 with 2 Axes>"
            ]
          },
          "metadata": {
            "tags": [],
            "needs_background": "light"
          }
        }
      ]
    },
    {
      "cell_type": "markdown",
      "metadata": {
        "id": "2UCH-NtHd1ls"
      },
      "source": [
        "## pH"
      ]
    },
    {
      "cell_type": "code",
      "metadata": {
        "id": "IU2bCJSJhZMx",
        "outputId": "d07ba7f8-b537-4242-d739-ebe95e76db68",
        "colab": {
          "base_uri": "https://localhost:8080/",
          "height": 420
        }
      },
      "source": [
        "plot_feature(df, 'pH')"
      ],
      "execution_count": 18,
      "outputs": [
        {
          "output_type": "display_data",
          "data": {
            "image/png": "[encoded data removed]",
            "text/plain": [
              "<Figure size 864x432 with 2 Axes>"
            ]
          },
          "metadata": {
            "tags": [],
            "needs_background": "light"
          }
        }
      ]
    },
    {
      "cell_type": "markdown",
      "metadata": {
        "id": "6Qpk1psyhLLM"
      },
      "source": [
        "## Sulphates"
      ]
    },
    {
      "cell_type": "code",
      "metadata": {
        "id": "iAEjyhKQhbIH",
        "outputId": "e9d91be0-4199-45b3-db78-89889b668da6",
        "colab": {
          "base_uri": "https://localhost:8080/",
          "height": 420
        }
      },
      "source": [
        "plot_feature(df, 'sulphates')"
      ],
      "execution_count": 19,
      "outputs": [
        {
          "output_type": "display_data",
          "data": {
            "image/png": "[encoded data removed]",
            "text/plain": [
              "<Figure size 864x432 with 2 Axes>"
            ]
          },
          "metadata": {
            "tags": [],
            "needs_background": "light"
          }
        }
      ]
    },
    {
      "cell_type": "markdown",
      "metadata": {
        "id": "J8VwXjhshLGr"
      },
      "source": [
        "## Alcohol"
      ]
    },
    {
      "cell_type": "code",
      "metadata": {
        "id": "hBCFC388hdcs",
        "outputId": "a4fe78d6-a884-441a-84fe-18ab1ddc3f4c",
        "colab": {
          "base_uri": "https://localhost:8080/",
          "height": 420
        }
      },
      "source": [
        "plot_feature(df, 'alcohol')"
      ],
      "execution_count": 20,
      "outputs": [
        {
          "output_type": "display_data",
          "data": {
            "image/png": "[encoded data removed]",
            "text/plain": [
              "<Figure size 864x432 with 2 Axes>"
            ]
          },
          "metadata": {
            "tags": [],
            "needs_background": "light"
          }
        }
      ]
    },
    {
      "cell_type": "markdown",
      "metadata": {
        "id": "UFY7fgmChtFn"
      },
      "source": [
        "## Correlations"
      ]
    },
    {
      "cell_type": "code",
      "metadata": {
        "id": "wEDHcwbMh1ND",
        "outputId": "183ede12-2ea9-4cbe-c945-ea50bf1f2d7b",
        "colab": {
          "base_uri": "https://localhost:8080/",
          "height": 679
        }
      },
      "source": [
        "columns = ['fixed acidity',\n",
        "           'volatile acidity',\n",
        "           'citric acid',\n",
        "           'residual sugar',\n",
        "           'chlorides',\n",
        "           'free sulfur dioxide',\n",
        "           'total sulfur dioxide', \n",
        "           'density', \n",
        "           'pH',\t\n",
        "           'sulphates',\n",
        "           'alcohol']\n",
        "plt.figure(figsize=(10, 10))\n",
        "sns.heatmap(df[columns].corr(), cmap='Blues');"
      ],
      "execution_count": 21,
      "outputs": [
        {
          "output_type": "display_data",
          "data": {
            "image/png": "[encoded data removed]",
            "text/plain": [
              "<Figure size 720x720 with 2 Axes>"
            ]
          },
          "metadata": {
            "tags": [],
            "needs_background": "light"
          }
        }
      ]
    },
    {
      "cell_type": "markdown",
      "metadata": {
        "id": "po1TWZpNApEU"
      },
      "source": [
        "# Training Data"
      ]
    },
    {
      "cell_type": "code",
      "metadata": {
        "id": "2ry-gWaYUkMj"
      },
      "source": [
        "X = df.copy()\n",
        "X = X.drop(columns=['quality', 'type',\t'target'])\n",
        "y = df['target']"
      ],
      "execution_count": 22,
      "outputs": []
    },
    {
      "cell_type": "code",
      "metadata": {
        "id": "QG6CMJWBU6Bb"
      },
      "source": [
        "X_train, X_test, y_train, y_test = train_test_split(X, y)\n",
        "X_train, X_val, y_train, y_val   = train_test_split(X_train, y_train)"
      ],
      "execution_count": 23,
      "outputs": []
    },
    {
      "cell_type": "markdown",
      "metadata": {
        "id": "Bh5guYomVFkF"
      },
      "source": [
        "## Scale\n",
        "* Apply standard scaler - no need to apply clipping"
      ]
    },
    {
      "cell_type": "code",
      "metadata": {
        "id": "i-zassSMVHE7"
      },
      "source": [
        "scaler = StandardScaler()\n",
        "X_train = scaler.fit_transform(X_train)\n",
        "X_test  = scaler.transform(X_test)\n",
        "X_val   = scaler.transform(X_val)"
      ],
      "execution_count": 24,
      "outputs": []
    },
    {
      "cell_type": "code",
      "metadata": {
        "id": "aJ90WlQhVmFh",
        "outputId": "ed573980-5e8d-4957-fa7b-54a961cbc4f7",
        "colab": {
          "base_uri": "https://localhost:8080/",
          "height": 390
        }
      },
      "source": [
        "pd.DataFrame([i for i in zip(X.columns, X_train.min(axis=1), X_train.max(axis=1))],\n",
        "             columns=['Feature', 'Min', 'Max'])"
      ],
      "execution_count": 25,
      "outputs": [
        {
          "output_type": "execute_result",
          "data": {
            "text/html": [
              "<div>\n",
              "<style scoped>\n",
              "    .dataframe tbody tr th:only-of-type {\n",
              "        vertical-align: middle;\n",
              "    }\n",
              "\n",
              "    .dataframe tbody tr th {\n",
              "        vertical-align: top;\n",
              "    }\n",
              "\n",
              "    .dataframe thead th {\n",
              "        text-align: right;\n",
              "    }\n",
              "</style>\n",
              "<table border=\"1\" class=\"dataframe\">\n",
              "  <thead>\n",
              "    <tr style=\"text-align: right;\">\n",
              "      <th></th>\n",
              "      <th>Feature</th>\n",
              "      <th>Min</th>\n",
              "      <th>Max</th>\n",
              "    </tr>\n",
              "  </thead>\n",
              "  <tbody>\n",
              "    <tr>\n",
              "      <th>0</th>\n",
              "      <td>fixed acidity</td>\n",
              "      <td>-1.009096</td>\n",
              "      <td>11.475774</td>\n",
              "    </tr>\n",
              "    <tr>\n",
              "      <th>1</th>\n",
              "      <td>volatile acidity</td>\n",
              "      <td>-1.412366</td>\n",
              "      <td>0.569523</td>\n",
              "    </tr>\n",
              "    <tr>\n",
              "      <th>2</th>\n",
              "      <td>citric acid</td>\n",
              "      <td>-0.699912</td>\n",
              "      <td>0.521125</td>\n",
              "    </tr>\n",
              "    <tr>\n",
              "      <th>3</th>\n",
              "      <td>residual sugar</td>\n",
              "      <td>-0.785985</td>\n",
              "      <td>0.833370</td>\n",
              "    </tr>\n",
              "    <tr>\n",
              "      <th>4</th>\n",
              "      <td>chlorides</td>\n",
              "      <td>-1.122240</td>\n",
              "      <td>1.976673</td>\n",
              "    </tr>\n",
              "    <tr>\n",
              "      <th>5</th>\n",
              "      <td>free sulfur dioxide</td>\n",
              "      <td>-0.496570</td>\n",
              "      <td>1.126372</td>\n",
              "    </tr>\n",
              "    <tr>\n",
              "      <th>6</th>\n",
              "      <td>total sulfur dioxide</td>\n",
              "      <td>-2.019585</td>\n",
              "      <td>1.732717</td>\n",
              "    </tr>\n",
              "    <tr>\n",
              "      <th>7</th>\n",
              "      <td>density</td>\n",
              "      <td>-1.281801</td>\n",
              "      <td>0.895819</td>\n",
              "    </tr>\n",
              "    <tr>\n",
              "      <th>8</th>\n",
              "      <td>pH</td>\n",
              "      <td>-1.011785</td>\n",
              "      <td>0.323296</td>\n",
              "    </tr>\n",
              "    <tr>\n",
              "      <th>9</th>\n",
              "      <td>sulphates</td>\n",
              "      <td>-0.926011</td>\n",
              "      <td>3.420439</td>\n",
              "    </tr>\n",
              "    <tr>\n",
              "      <th>10</th>\n",
              "      <td>alcohol</td>\n",
              "      <td>-1.011785</td>\n",
              "      <td>0.323296</td>\n",
              "    </tr>\n",
              "  </tbody>\n",
              "</table>\n",
              "</div>"
            ],
            "text/plain": [
              "                 Feature       Min        Max\n",
              "0          fixed acidity -1.009096  11.475774\n",
              "1       volatile acidity -1.412366   0.569523\n",
              "2            citric acid -0.699912   0.521125\n",
              "3         residual sugar -0.785985   0.833370\n",
              "4              chlorides -1.122240   1.976673\n",
              "5    free sulfur dioxide -0.496570   1.126372\n",
              "6   total sulfur dioxide -2.019585   1.732717\n",
              "7                density -1.281801   0.895819\n",
              "8                     pH -1.011785   0.323296\n",
              "9              sulphates -0.926011   3.420439\n",
              "10               alcohol -1.011785   0.323296"
            ]
          },
          "metadata": {
            "tags": []
          },
          "execution_count": 25
        }
      ]
    },
    {
      "cell_type": "code",
      "metadata": {
        "id": "TEVDWVXqWjvV",
        "outputId": "e4d0ecc4-13d6-4562-b059-74d09250d52a",
        "colab": {
          "base_uri": "https://localhost:8080/",
          "height": 390
        }
      },
      "source": [
        "pd.DataFrame([i for i in zip(X.columns, X_test.min(axis=1), X_test.max(axis=1))],\n",
        "             columns=['Feature', 'Min', 'Max'])"
      ],
      "execution_count": 26,
      "outputs": [
        {
          "output_type": "execute_result",
          "data": {
            "text/html": [
              "<div>\n",
              "<style scoped>\n",
              "    .dataframe tbody tr th:only-of-type {\n",
              "        vertical-align: middle;\n",
              "    }\n",
              "\n",
              "    .dataframe tbody tr th {\n",
              "        vertical-align: top;\n",
              "    }\n",
              "\n",
              "    .dataframe thead th {\n",
              "        text-align: right;\n",
              "    }\n",
              "</style>\n",
              "<table border=\"1\" class=\"dataframe\">\n",
              "  <thead>\n",
              "    <tr style=\"text-align: right;\">\n",
              "      <th></th>\n",
              "      <th>Feature</th>\n",
              "      <th>Min</th>\n",
              "      <th>Max</th>\n",
              "    </tr>\n",
              "  </thead>\n",
              "  <tbody>\n",
              "    <tr>\n",
              "      <th>0</th>\n",
              "      <td>fixed acidity</td>\n",
              "      <td>-2.011940</td>\n",
              "      <td>1.519758</td>\n",
              "    </tr>\n",
              "    <tr>\n",
              "      <th>1</th>\n",
              "      <td>volatile acidity</td>\n",
              "      <td>-1.477239</td>\n",
              "      <td>0.945923</td>\n",
              "    </tr>\n",
              "    <tr>\n",
              "      <th>2</th>\n",
              "      <td>citric acid</td>\n",
              "      <td>-0.926011</td>\n",
              "      <td>1.573287</td>\n",
              "    </tr>\n",
              "    <tr>\n",
              "      <th>3</th>\n",
              "      <td>residual sugar</td>\n",
              "      <td>-1.389932</td>\n",
              "      <td>2.392202</td>\n",
              "    </tr>\n",
              "    <tr>\n",
              "      <th>4</th>\n",
              "      <td>chlorides</td>\n",
              "      <td>-1.621932</td>\n",
              "      <td>2.093401</td>\n",
              "    </tr>\n",
              "    <tr>\n",
              "      <th>5</th>\n",
              "      <td>free sulfur dioxide</td>\n",
              "      <td>-1.097572</td>\n",
              "      <td>0.403353</td>\n",
              "    </tr>\n",
              "    <tr>\n",
              "      <th>6</th>\n",
              "      <td>total sulfur dioxide</td>\n",
              "      <td>-1.159890</td>\n",
              "      <td>1.151517</td>\n",
              "    </tr>\n",
              "    <tr>\n",
              "      <th>7</th>\n",
              "      <td>density</td>\n",
              "      <td>-0.676755</td>\n",
              "      <td>1.108526</td>\n",
              "    </tr>\n",
              "    <tr>\n",
              "      <th>8</th>\n",
              "      <td>pH</td>\n",
              "      <td>-1.339298</td>\n",
              "      <td>1.981973</td>\n",
              "    </tr>\n",
              "    <tr>\n",
              "      <th>9</th>\n",
              "      <td>sulphates</td>\n",
              "      <td>-1.675470</td>\n",
              "      <td>2.768441</td>\n",
              "    </tr>\n",
              "    <tr>\n",
              "      <th>10</th>\n",
              "      <td>alcohol</td>\n",
              "      <td>-1.702770</td>\n",
              "      <td>2.563569</td>\n",
              "    </tr>\n",
              "  </tbody>\n",
              "</table>\n",
              "</div>"
            ],
            "text/plain": [
              "                 Feature       Min       Max\n",
              "0          fixed acidity -2.011940  1.519758\n",
              "1       volatile acidity -1.477239  0.945923\n",
              "2            citric acid -0.926011  1.573287\n",
              "3         residual sugar -1.389932  2.392202\n",
              "4              chlorides -1.621932  2.093401\n",
              "5    free sulfur dioxide -1.097572  0.403353\n",
              "6   total sulfur dioxide -1.159890  1.151517\n",
              "7                density -0.676755  1.108526\n",
              "8                     pH -1.339298  1.981973\n",
              "9              sulphates -1.675470  2.768441\n",
              "10               alcohol -1.702770  2.563569"
            ]
          },
          "metadata": {
            "tags": []
          },
          "execution_count": 26
        }
      ]
    },
    {
      "cell_type": "markdown",
      "metadata": {
        "id": "uFAP8tY0bMle"
      },
      "source": [
        "# Metrics"
      ]
    },
    {
      "cell_type": "code",
      "metadata": {
        "id": "ZItm7N7YW2mO"
      },
      "source": [
        "METRICS = [\n",
        "      TruePositives(name='tp'),\n",
        "      FalsePositives(name='fp'),\n",
        "      TrueNegatives(name='tn'),\n",
        "      FalseNegatives(name='fn'), \n",
        "      BinaryAccuracy(name='accuracy'),\n",
        "      Precision(name='precision'),\n",
        "      Recall(name='recall'),\n",
        "      AUC(name='auc')\n",
        "]"
      ],
      "execution_count": 27,
      "outputs": []
    },
    {
      "cell_type": "code",
      "metadata": {
        "id": "NzWc-JcQCBL4"
      },
      "source": [
        "def score_model(y, y_hat):\n",
        "  cm = confusion_matrix(y, y_hat)\n",
        "  maj_precision = cm[0][0] / (cm[0][0] + cm[1][0])\n",
        "  maj_recall    = cm[0][0] / (cm[0][0] + cm[0][1])\n",
        "  min_precision = cm[1][1] / (cm[1][1] + cm[0][1])\n",
        "  min_recall    = cm[1][1] / (cm[1][1] + cm[1][0])\n",
        "  acc = accuracy_score(y, y_hat)\n",
        "  f1  = f1_score(y, y_hat)\n",
        "  return cm, acc, (maj_precision, maj_recall), (min_precision, min_recall), f1"
      ],
      "execution_count": 28,
      "outputs": []
    },
    {
      "cell_type": "markdown",
      "metadata": {
        "id": "9olbm4_gEPxX"
      },
      "source": [
        "# Tracking"
      ]
    },
    {
      "cell_type": "code",
      "metadata": {
        "id": "awe1ZHN-ERBB"
      },
      "source": [
        "cols = pd.MultiIndex.from_tuples(zip(['Majority', 'Majority', 'Minority', 'Minority', 'Scoring', 'Scoring'],\n",
        "                                     ['Precision', 'Recall', 'Precision', 'Recall', 'Accuracy', 'F1']))\n",
        "\n",
        "results_df = pd.DataFrame(columns=cols)"
      ],
      "execution_count": 29,
      "outputs": []
    },
    {
      "cell_type": "markdown",
      "metadata": {
        "id": "9Goia0GJbMdp"
      },
      "source": [
        "# Model"
      ]
    },
    {
      "cell_type": "code",
      "metadata": {
        "id": "kd_INRstXeue"
      },
      "source": [
        "def construct_model(layers=[64], loss=BinaryCrossentropy(), dropout=0.2):\n",
        "  model = Sequential()\n",
        "  model.add(Dense(layers[0], activation='relu', input_shape=(X_train.shape[-1],)))\n",
        "  \n",
        "  for layer in layers[1:]:\n",
        "    model.add(Dense(layer, activation='relu'))\n",
        "  \n",
        "  model.add(Dropout(dropout))\n",
        "  model.add(Dense(1, activation='sigmoid'))\n",
        "\n",
        "  model.compile(\n",
        "      optimizer=keras.optimizers.Adam(lr=1e-3),\n",
        "      loss=loss,\n",
        "      metrics=METRICS)\n",
        "\n",
        "  return model"
      ],
      "execution_count": 30,
      "outputs": []
    },
    {
      "cell_type": "code",
      "metadata": {
        "id": "C8p6nW4VsonB"
      },
      "source": [
        "def plot_history(history):\n",
        "  plt.figure(figsize=(10,8))\n",
        "  \n",
        "  metrics =  ['loss', 'auc', 'precision', 'recall']\n",
        "  for n, metric in enumerate(metrics):\n",
        "    name = metric.replace(\"_\",\" \").capitalize()\n",
        "    plt.subplot(2,2,n+1)\n",
        "    \n",
        "    plt.plot(history.epoch, \n",
        "             history.history[metric], \n",
        "             color='blue', \n",
        "             label='Train')\n",
        "    plt.plot(history.epoch, \n",
        "             history.history['val_' + metric],\n",
        "             color='blue', \n",
        "             linestyle=\"--\", \n",
        "             label='Val')\n",
        "    \n",
        "    plt.xlabel('Epoch')\n",
        "    plt.ylabel(name)\n",
        "    \n",
        "    if metric == 'loss':\n",
        "      plt.ylim([0, plt.ylim()[1]])\n",
        "    elif metric == 'auc':\n",
        "      plt.ylim([0.2,1])\n",
        "    else:\n",
        "      plt.ylim([0,1])\n",
        "    plt.legend()"
      ],
      "execution_count": 31,
      "outputs": []
    },
    {
      "cell_type": "markdown",
      "metadata": {
        "id": "3g5JcRz8-_Ds"
      },
      "source": [
        "# Baseline"
      ]
    },
    {
      "cell_type": "code",
      "metadata": {
        "id": "BJFdSl5V--PJ",
        "outputId": "e2608899-b171-447b-a22d-f9f47d4aa386",
        "colab": {
          "base_uri": "https://localhost:8080/",
          "height": 224
        }
      },
      "source": [
        "y_hat_proba = np.repeat(0, len(X_test))\n",
        "y_hat = np.where(y_hat_proba > 0.5, 1, 0)\n",
        "print(classification_report(y_test, y_hat))"
      ],
      "execution_count": 32,
      "outputs": [
        {
          "output_type": "stream",
          "text": [
            "              precision    recall  f1-score   support\n",
            "\n",
            "           0       0.96      1.00      0.98      1567\n",
            "           1       0.00      0.00      0.00        58\n",
            "\n",
            "    accuracy                           0.96      1625\n",
            "   macro avg       0.48      0.50      0.49      1625\n",
            "weighted avg       0.93      0.96      0.95      1625\n",
            "\n"
          ],
          "name": "stdout"
        },
        {
          "output_type": "stream",
          "text": [
            "/usr/local/lib/python3.6/dist-packages/sklearn/metrics/_classification.py:1272: UndefinedMetricWarning: Precision and F-score are ill-defined and being set to 0.0 in labels with no predicted samples. Use `zero_division` parameter to control this behavior.\n",
            "  _warn_prf(average, modifier, msg_start, len(result))\n"
          ],
          "name": "stderr"
        }
      ]
    },
    {
      "cell_type": "code",
      "metadata": {
        "id": "_oSwHXBJEDoY",
        "outputId": "d6c4bae7-b5da-43d0-f2e7-b4065937fdc1",
        "colab": {
          "base_uri": "https://localhost:8080/",
          "height": 165
        }
      },
      "source": [
        "cm, acc, maj, min, f1 = score_model(y_test, y_hat)\n",
        "results_df.loc['Baseline'] = [*maj, *min, acc, f1]\n",
        "results_df"
      ],
      "execution_count": 33,
      "outputs": [
        {
          "output_type": "stream",
          "text": [
            "/usr/local/lib/python3.6/dist-packages/ipykernel_launcher.py:5: RuntimeWarning: invalid value encountered in long_scalars\n",
            "  \"\"\"\n"
          ],
          "name": "stderr"
        },
        {
          "output_type": "execute_result",
          "data": {
            "text/html": [
              "<div>\n",
              "<style scoped>\n",
              "    .dataframe tbody tr th:only-of-type {\n",
              "        vertical-align: middle;\n",
              "    }\n",
              "\n",
              "    .dataframe tbody tr th {\n",
              "        vertical-align: top;\n",
              "    }\n",
              "\n",
              "    .dataframe thead tr th {\n",
              "        text-align: left;\n",
              "    }\n",
              "</style>\n",
              "<table border=\"1\" class=\"dataframe\">\n",
              "  <thead>\n",
              "    <tr>\n",
              "      <th></th>\n",
              "      <th colspan=\"2\" halign=\"left\">Majority</th>\n",
              "      <th colspan=\"2\" halign=\"left\">Minority</th>\n",
              "      <th colspan=\"2\" halign=\"left\">Scoring</th>\n",
              "    </tr>\n",
              "    <tr>\n",
              "      <th></th>\n",
              "      <th>Precision</th>\n",
              "      <th>Recall</th>\n",
              "      <th>Precision</th>\n",
              "      <th>Recall</th>\n",
              "      <th>Accuracy</th>\n",
              "      <th>F1</th>\n",
              "    </tr>\n",
              "  </thead>\n",
              "  <tbody>\n",
              "    <tr>\n",
              "      <th>Baseline</th>\n",
              "      <td>0.964308</td>\n",
              "      <td>1.0</td>\n",
              "      <td>NaN</td>\n",
              "      <td>0.0</td>\n",
              "      <td>0.964308</td>\n",
              "      <td>0.0</td>\n",
              "    </tr>\n",
              "  </tbody>\n",
              "</table>\n",
              "</div>"
            ],
            "text/plain": [
              "          Majority         Minority          Scoring     \n",
              "         Precision Recall Precision Recall  Accuracy   F1\n",
              "Baseline  0.964308    1.0       NaN    0.0  0.964308  0.0"
            ]
          },
          "metadata": {
            "tags": []
          },
          "execution_count": 33
        }
      ]
    },
    {
      "cell_type": "markdown",
      "metadata": {
        "id": "ietbonm5bMay"
      },
      "source": [
        "# Random\n",
        "* Simplest baseline, use random weights and "
      ]
    },
    {
      "cell_type": "code",
      "metadata": {
        "id": "Fk5uegJVYMjU"
      },
      "source": [
        "EPOCHS = 100\n",
        "BATCH_SIZE = 256\n",
        "\n",
        "early_stopping = EarlyStopping(\n",
        "    monitor='val_auc', \n",
        "    verbose=1,\n",
        "    patience=5,\n",
        "    mode='max',\n",
        "    restore_best_weights=True)"
      ],
      "execution_count": 34,
      "outputs": []
    },
    {
      "cell_type": "code",
      "metadata": {
        "id": "e7I5NrkXYZoR",
        "outputId": "a8786e28-61be-40cf-b7db-127572f49a96",
        "colab": {
          "base_uri": "https://localhost:8080/",
          "height": 255
        }
      },
      "source": [
        "model = construct_model()\n",
        "model.summary()"
      ],
      "execution_count": 35,
      "outputs": [
        {
          "output_type": "stream",
          "text": [
            "Model: \"sequential\"\n",
            "_________________________________________________________________\n",
            "Layer (type)                 Output Shape              Param #   \n",
            "=================================================================\n",
            "dense (Dense)                (None, 64)                768       \n",
            "_________________________________________________________________\n",
            "dropout (Dropout)            (None, 64)                0         \n",
            "_________________________________________________________________\n",
            "dense_1 (Dense)              (None, 1)                 65        \n",
            "=================================================================\n",
            "Total params: 833\n",
            "Trainable params: 833\n",
            "Non-trainable params: 0\n",
            "_________________________________________________________________\n"
          ],
          "name": "stdout"
        }
      ]
    },
    {
      "cell_type": "code",
      "metadata": {
        "id": "cTWjesqkY0Ot",
        "outputId": "ecc6f3fa-43d4-4c99-d4e1-d6335d542905",
        "colab": {
          "base_uri": "https://localhost:8080/",
          "height": 187
        }
      },
      "source": [
        "model.predict(X_train[:10])"
      ],
      "execution_count": 36,
      "outputs": [
        {
          "output_type": "execute_result",
          "data": {
            "text/plain": [
              "array([[0.17000678],\n",
              "       [0.42358476],\n",
              "       [0.40529197],\n",
              "       [0.51355994],\n",
              "       [0.39178836],\n",
              "       [0.6075268 ],\n",
              "       [0.4215722 ],\n",
              "       [0.34154308],\n",
              "       [0.44838017],\n",
              "       [0.29398865]], dtype=float32)"
            ]
          },
          "metadata": {
            "tags": []
          },
          "execution_count": 36
        }
      ]
    },
    {
      "cell_type": "code",
      "metadata": {
        "id": "SfdfhemrY1bW",
        "outputId": "89583824-cb20-4834-e8e0-76bbafb0f406",
        "colab": {
          "base_uri": "https://localhost:8080/",
          "height": 34
        }
      },
      "source": [
        "results = model.evaluate(X_train, y_train, batch_size=BATCH_SIZE, verbose=0)\n",
        "print(\"Loss: {:0.4f}\".format(results[0]))"
      ],
      "execution_count": 37,
      "outputs": [
        {
          "output_type": "stream",
          "text": [
            "Loss: 0.7211\n"
          ],
          "name": "stdout"
        }
      ]
    },
    {
      "cell_type": "code",
      "metadata": {
        "id": "URKMvAdS-0tT",
        "outputId": "08bdbd90-2738-4e27-9100-6b48c2879f82",
        "colab": {
          "base_uri": "https://localhost:8080/",
          "height": 170
        }
      },
      "source": [
        "y_hat_proba = model.predict(X_test)\n",
        "y_hat = np.where(y_hat_proba > 0.5, 1, 0)\n",
        "print(classification_report(y_test, y_hat))"
      ],
      "execution_count": 38,
      "outputs": [
        {
          "output_type": "stream",
          "text": [
            "              precision    recall  f1-score   support\n",
            "\n",
            "           0       0.95      0.53      0.68      1567\n",
            "           1       0.02      0.22      0.03        58\n",
            "\n",
            "    accuracy                           0.52      1625\n",
            "   macro avg       0.48      0.38      0.36      1625\n",
            "weighted avg       0.92      0.52      0.66      1625\n",
            "\n"
          ],
          "name": "stdout"
        }
      ]
    },
    {
      "cell_type": "code",
      "metadata": {
        "id": "zsqhgKhjFzLX",
        "outputId": "6683d77d-e47c-4070-cf3b-83addd9f498e",
        "colab": {
          "base_uri": "https://localhost:8080/",
          "height": 142
        }
      },
      "source": [
        "cm, acc, maj, min, f1 = score_model(y_test, y_hat)\n",
        "results_df.loc['Random'] = [*maj, *min, acc, f1]\n",
        "results_df"
      ],
      "execution_count": 39,
      "outputs": [
        {
          "output_type": "execute_result",
          "data": {
            "text/html": [
              "<div>\n",
              "<style scoped>\n",
              "    .dataframe tbody tr th:only-of-type {\n",
              "        vertical-align: middle;\n",
              "    }\n",
              "\n",
              "    .dataframe tbody tr th {\n",
              "        vertical-align: top;\n",
              "    }\n",
              "\n",
              "    .dataframe thead tr th {\n",
              "        text-align: left;\n",
              "    }\n",
              "</style>\n",
              "<table border=\"1\" class=\"dataframe\">\n",
              "  <thead>\n",
              "    <tr>\n",
              "      <th></th>\n",
              "      <th colspan=\"2\" halign=\"left\">Majority</th>\n",
              "      <th colspan=\"2\" halign=\"left\">Minority</th>\n",
              "      <th colspan=\"2\" halign=\"left\">Scoring</th>\n",
              "    </tr>\n",
              "    <tr>\n",
              "      <th></th>\n",
              "      <th>Precision</th>\n",
              "      <th>Recall</th>\n",
              "      <th>Precision</th>\n",
              "      <th>Recall</th>\n",
              "      <th>Accuracy</th>\n",
              "      <th>F1</th>\n",
              "    </tr>\n",
              "  </thead>\n",
              "  <tbody>\n",
              "    <tr>\n",
              "      <th>Baseline</th>\n",
              "      <td>0.964308</td>\n",
              "      <td>1.000000</td>\n",
              "      <td>NaN</td>\n",
              "      <td>0.000000</td>\n",
              "      <td>0.964308</td>\n",
              "      <td>0.000000</td>\n",
              "    </tr>\n",
              "    <tr>\n",
              "      <th>Random</th>\n",
              "      <td>0.948980</td>\n",
              "      <td>0.534142</td>\n",
              "      <td>0.017497</td>\n",
              "      <td>0.224138</td>\n",
              "      <td>0.523077</td>\n",
              "      <td>0.032459</td>\n",
              "    </tr>\n",
              "  </tbody>\n",
              "</table>\n",
              "</div>"
            ],
            "text/plain": [
              "          Majority            Minority             Scoring          \n",
              "         Precision    Recall Precision    Recall  Accuracy        F1\n",
              "Baseline  0.964308  1.000000       NaN  0.000000  0.964308  0.000000\n",
              "Random    0.948980  0.534142  0.017497  0.224138  0.523077  0.032459"
            ]
          },
          "metadata": {
            "tags": []
          },
          "execution_count": 39
        }
      ]
    },
    {
      "cell_type": "markdown",
      "metadata": {
        "id": "Pd-K4NMvrRzv"
      },
      "source": [
        "# Unbalanced"
      ]
    },
    {
      "cell_type": "code",
      "metadata": {
        "id": "XUmaw-bMsTFc",
        "outputId": "a37d3476-3427-4510-abf7-fd6f568e452a",
        "colab": {
          "base_uri": "https://localhost:8080/",
          "height": 255
        }
      },
      "source": [
        "model = construct_model()\n",
        "model.summary()"
      ],
      "execution_count": 40,
      "outputs": [
        {
          "output_type": "stream",
          "text": [
            "Model: \"sequential_1\"\n",
            "_________________________________________________________________\n",
            "Layer (type)                 Output Shape              Param #   \n",
            "=================================================================\n",
            "dense_2 (Dense)              (None, 64)                768       \n",
            "_________________________________________________________________\n",
            "dropout_1 (Dropout)          (None, 64)                0         \n",
            "_________________________________________________________________\n",
            "dense_3 (Dense)              (None, 1)                 65        \n",
            "=================================================================\n",
            "Total params: 833\n",
            "Trainable params: 833\n",
            "Non-trainable params: 0\n",
            "_________________________________________________________________\n"
          ],
          "name": "stdout"
        }
      ]
    },
    {
      "cell_type": "code",
      "metadata": {
        "id": "8CDbckKDrhe2",
        "outputId": "fcfc54fb-e09c-48ff-cf05-d98089f1901d",
        "colab": {
          "base_uri": "https://localhost:8080/",
          "height": 1000
        }
      },
      "source": [
        "history_unbalanced = model.fit(\n",
        "    X_train,\n",
        "    y_train,\n",
        "    batch_size=BATCH_SIZE,\n",
        "    epochs=EPOCHS,\n",
        "    callbacks = [early_stopping],\n",
        "    validation_data=(X_val, y_val))"
      ],
      "execution_count": 41,
      "outputs": [
        {
          "output_type": "stream",
          "text": [
            "Epoch 1/100\n",
            "15/15 [==============================] - 1s 50ms/step - loss: 0.6533 - tp: 81.0000 - fp: 2843.0000 - tn: 4189.0000 - fn: 195.0000 - accuracy: 0.5843 - precision: 0.0277 - recall: 0.2935 - auc: 0.4036 - val_loss: 0.5466 - val_tp: 2.0000 - val_fp: 62.0000 - val_tn: 1106.0000 - val_fn: 48.0000 - val_accuracy: 0.9097 - val_precision: 0.0312 - val_recall: 0.0400 - val_auc: 0.4097\n",
            "Epoch 2/100\n",
            "15/15 [==============================] - 0s 4ms/step - loss: 0.4903 - tp: 4.0000 - fp: 221.0000 - tn: 3295.0000 - fn: 134.0000 - accuracy: 0.9028 - precision: 0.0178 - recall: 0.0290 - auc: 0.4816 - val_loss: 0.4260 - val_tp: 0.0000e+00 - val_fp: 0.0000e+00 - val_tn: 1168.0000 - val_fn: 50.0000 - val_accuracy: 0.9589 - val_precision: 0.0000e+00 - val_recall: 0.0000e+00 - val_auc: 0.4373\n",
            "Epoch 3/100\n",
            "15/15 [==============================] - 0s 4ms/step - loss: 0.3842 - tp: 0.0000e+00 - fp: 15.0000 - tn: 3501.0000 - fn: 138.0000 - accuracy: 0.9581 - precision: 0.0000e+00 - recall: 0.0000e+00 - auc: 0.4908 - val_loss: 0.3478 - val_tp: 0.0000e+00 - val_fp: 0.0000e+00 - val_tn: 1168.0000 - val_fn: 50.0000 - val_accuracy: 0.9589 - val_precision: 0.0000e+00 - val_recall: 0.0000e+00 - val_auc: 0.4611\n",
            "Epoch 4/100\n",
            "15/15 [==============================] - 0s 4ms/step - loss: 0.3147 - tp: 0.0000e+00 - fp: 2.0000 - tn: 3514.0000 - fn: 138.0000 - accuracy: 0.9617 - precision: 0.0000e+00 - recall: 0.0000e+00 - auc: 0.5241 - val_loss: 0.2959 - val_tp: 0.0000e+00 - val_fp: 0.0000e+00 - val_tn: 1168.0000 - val_fn: 50.0000 - val_accuracy: 0.9589 - val_precision: 0.0000e+00 - val_recall: 0.0000e+00 - val_auc: 0.4863\n",
            "Epoch 5/100\n",
            "15/15 [==============================] - 0s 4ms/step - loss: 0.2717 - tp: 0.0000e+00 - fp: 0.0000e+00 - tn: 3516.0000 - fn: 138.0000 - accuracy: 0.9622 - precision: 0.0000e+00 - recall: 0.0000e+00 - auc: 0.5108 - val_loss: 0.2606 - val_tp: 0.0000e+00 - val_fp: 0.0000e+00 - val_tn: 1168.0000 - val_fn: 50.0000 - val_accuracy: 0.9589 - val_precision: 0.0000e+00 - val_recall: 0.0000e+00 - val_auc: 0.5125\n",
            "Epoch 6/100\n",
            "15/15 [==============================] - 0s 4ms/step - loss: 0.2392 - tp: 0.0000e+00 - fp: 0.0000e+00 - tn: 3516.0000 - fn: 138.0000 - accuracy: 0.9622 - precision: 0.0000e+00 - recall: 0.0000e+00 - auc: 0.5300 - val_loss: 0.2361 - val_tp: 0.0000e+00 - val_fp: 0.0000e+00 - val_tn: 1168.0000 - val_fn: 50.0000 - val_accuracy: 0.9589 - val_precision: 0.0000e+00 - val_recall: 0.0000e+00 - val_auc: 0.5408\n",
            "Epoch 7/100\n",
            "15/15 [==============================] - 0s 4ms/step - loss: 0.2170 - tp: 0.0000e+00 - fp: 0.0000e+00 - tn: 3516.0000 - fn: 138.0000 - accuracy: 0.9622 - precision: 0.0000e+00 - recall: 0.0000e+00 - auc: 0.5410 - val_loss: 0.2195 - val_tp: 0.0000e+00 - val_fp: 0.0000e+00 - val_tn: 1168.0000 - val_fn: 50.0000 - val_accuracy: 0.9589 - val_precision: 0.0000e+00 - val_recall: 0.0000e+00 - val_auc: 0.5638\n",
            "Epoch 8/100\n",
            "15/15 [==============================] - 0s 4ms/step - loss: 0.1989 - tp: 0.0000e+00 - fp: 1.0000 - tn: 3515.0000 - fn: 138.0000 - accuracy: 0.9620 - precision: 0.0000e+00 - recall: 0.0000e+00 - auc: 0.5753 - val_loss: 0.2076 - val_tp: 0.0000e+00 - val_fp: 0.0000e+00 - val_tn: 1168.0000 - val_fn: 50.0000 - val_accuracy: 0.9589 - val_precision: 0.0000e+00 - val_recall: 0.0000e+00 - val_auc: 0.5864\n",
            "Epoch 9/100\n",
            "15/15 [==============================] - 0s 4ms/step - loss: 0.1864 - tp: 0.0000e+00 - fp: 0.0000e+00 - tn: 3516.0000 - fn: 138.0000 - accuracy: 0.9622 - precision: 0.0000e+00 - recall: 0.0000e+00 - auc: 0.5982 - val_loss: 0.1997 - val_tp: 0.0000e+00 - val_fp: 0.0000e+00 - val_tn: 1168.0000 - val_fn: 50.0000 - val_accuracy: 0.9589 - val_precision: 0.0000e+00 - val_recall: 0.0000e+00 - val_auc: 0.6067\n",
            "Epoch 10/100\n",
            "15/15 [==============================] - 0s 4ms/step - loss: 0.1806 - tp: 0.0000e+00 - fp: 0.0000e+00 - tn: 3516.0000 - fn: 138.0000 - accuracy: 0.9622 - precision: 0.0000e+00 - recall: 0.0000e+00 - auc: 0.5949 - val_loss: 0.1940 - val_tp: 0.0000e+00 - val_fp: 0.0000e+00 - val_tn: 1168.0000 - val_fn: 50.0000 - val_accuracy: 0.9589 - val_precision: 0.0000e+00 - val_recall: 0.0000e+00 - val_auc: 0.6228\n",
            "Epoch 11/100\n",
            "15/15 [==============================] - 0s 4ms/step - loss: 0.1783 - tp: 0.0000e+00 - fp: 0.0000e+00 - tn: 3516.0000 - fn: 138.0000 - accuracy: 0.9622 - precision: 0.0000e+00 - recall: 0.0000e+00 - auc: 0.5858 - val_loss: 0.1900 - val_tp: 0.0000e+00 - val_fp: 0.0000e+00 - val_tn: 1168.0000 - val_fn: 50.0000 - val_accuracy: 0.9589 - val_precision: 0.0000e+00 - val_recall: 0.0000e+00 - val_auc: 0.6376\n",
            "Epoch 12/100\n",
            "15/15 [==============================] - 0s 4ms/step - loss: 0.1715 - tp: 0.0000e+00 - fp: 0.0000e+00 - tn: 3516.0000 - fn: 138.0000 - accuracy: 0.9622 - precision: 0.0000e+00 - recall: 0.0000e+00 - auc: 0.6115 - val_loss: 0.1872 - val_tp: 0.0000e+00 - val_fp: 0.0000e+00 - val_tn: 1168.0000 - val_fn: 50.0000 - val_accuracy: 0.9589 - val_precision: 0.0000e+00 - val_recall: 0.0000e+00 - val_auc: 0.6517\n",
            "Epoch 13/100\n",
            "15/15 [==============================] - 0s 4ms/step - loss: 0.1692 - tp: 0.0000e+00 - fp: 0.0000e+00 - tn: 3516.0000 - fn: 138.0000 - accuracy: 0.9622 - precision: 0.0000e+00 - recall: 0.0000e+00 - auc: 0.6045 - val_loss: 0.1850 - val_tp: 0.0000e+00 - val_fp: 0.0000e+00 - val_tn: 1168.0000 - val_fn: 50.0000 - val_accuracy: 0.9589 - val_precision: 0.0000e+00 - val_recall: 0.0000e+00 - val_auc: 0.6661\n",
            "Epoch 14/100\n",
            "15/15 [==============================] - 0s 4ms/step - loss: 0.1629 - tp: 0.0000e+00 - fp: 0.0000e+00 - tn: 3516.0000 - fn: 138.0000 - accuracy: 0.9622 - precision: 0.0000e+00 - recall: 0.0000e+00 - auc: 0.6504 - val_loss: 0.1830 - val_tp: 0.0000e+00 - val_fp: 0.0000e+00 - val_tn: 1168.0000 - val_fn: 50.0000 - val_accuracy: 0.9589 - val_precision: 0.0000e+00 - val_recall: 0.0000e+00 - val_auc: 0.6799\n",
            "Epoch 15/100\n",
            "15/15 [==============================] - 0s 4ms/step - loss: 0.1644 - tp: 0.0000e+00 - fp: 0.0000e+00 - tn: 3516.0000 - fn: 138.0000 - accuracy: 0.9622 - precision: 0.0000e+00 - recall: 0.0000e+00 - auc: 0.6462 - val_loss: 0.1814 - val_tp: 0.0000e+00 - val_fp: 0.0000e+00 - val_tn: 1168.0000 - val_fn: 50.0000 - val_accuracy: 0.9589 - val_precision: 0.0000e+00 - val_recall: 0.0000e+00 - val_auc: 0.6945\n",
            "Epoch 16/100\n",
            "15/15 [==============================] - 0s 4ms/step - loss: 0.1597 - tp: 0.0000e+00 - fp: 0.0000e+00 - tn: 3516.0000 - fn: 138.0000 - accuracy: 0.9622 - precision: 0.0000e+00 - recall: 0.0000e+00 - auc: 0.6696 - val_loss: 0.1807 - val_tp: 0.0000e+00 - val_fp: 0.0000e+00 - val_tn: 1168.0000 - val_fn: 50.0000 - val_accuracy: 0.9589 - val_precision: 0.0000e+00 - val_recall: 0.0000e+00 - val_auc: 0.6970\n",
            "Epoch 17/100\n",
            "15/15 [==============================] - 0s 4ms/step - loss: 0.1586 - tp: 0.0000e+00 - fp: 0.0000e+00 - tn: 3516.0000 - fn: 138.0000 - accuracy: 0.9622 - precision: 0.0000e+00 - recall: 0.0000e+00 - auc: 0.6733 - val_loss: 0.1802 - val_tp: 0.0000e+00 - val_fp: 0.0000e+00 - val_tn: 1168.0000 - val_fn: 50.0000 - val_accuracy: 0.9589 - val_precision: 0.0000e+00 - val_recall: 0.0000e+00 - val_auc: 0.7035\n",
            "Epoch 18/100\n",
            "15/15 [==============================] - 0s 4ms/step - loss: 0.1606 - tp: 0.0000e+00 - fp: 0.0000e+00 - tn: 3516.0000 - fn: 138.0000 - accuracy: 0.9622 - precision: 0.0000e+00 - recall: 0.0000e+00 - auc: 0.6599 - val_loss: 0.1794 - val_tp: 0.0000e+00 - val_fp: 0.0000e+00 - val_tn: 1168.0000 - val_fn: 50.0000 - val_accuracy: 0.9589 - val_precision: 0.0000e+00 - val_recall: 0.0000e+00 - val_auc: 0.7057\n",
            "Epoch 19/100\n",
            "15/15 [==============================] - 0s 4ms/step - loss: 0.1580 - tp: 0.0000e+00 - fp: 0.0000e+00 - tn: 3516.0000 - fn: 138.0000 - accuracy: 0.9622 - precision: 0.0000e+00 - recall: 0.0000e+00 - auc: 0.6720 - val_loss: 0.1788 - val_tp: 0.0000e+00 - val_fp: 0.0000e+00 - val_tn: 1168.0000 - val_fn: 50.0000 - val_accuracy: 0.9589 - val_precision: 0.0000e+00 - val_recall: 0.0000e+00 - val_auc: 0.7138\n",
            "Epoch 20/100\n",
            "15/15 [==============================] - 0s 4ms/step - loss: 0.1533 - tp: 0.0000e+00 - fp: 0.0000e+00 - tn: 3516.0000 - fn: 138.0000 - accuracy: 0.9622 - precision: 0.0000e+00 - recall: 0.0000e+00 - auc: 0.7125 - val_loss: 0.1784 - val_tp: 0.0000e+00 - val_fp: 0.0000e+00 - val_tn: 1168.0000 - val_fn: 50.0000 - val_accuracy: 0.9589 - val_precision: 0.0000e+00 - val_recall: 0.0000e+00 - val_auc: 0.7207\n",
            "Epoch 21/100\n",
            "15/15 [==============================] - 0s 4ms/step - loss: 0.1555 - tp: 0.0000e+00 - fp: 0.0000e+00 - tn: 3516.0000 - fn: 138.0000 - accuracy: 0.9622 - precision: 0.0000e+00 - recall: 0.0000e+00 - auc: 0.6982 - val_loss: 0.1782 - val_tp: 0.0000e+00 - val_fp: 0.0000e+00 - val_tn: 1168.0000 - val_fn: 50.0000 - val_accuracy: 0.9589 - val_precision: 0.0000e+00 - val_recall: 0.0000e+00 - val_auc: 0.7241\n",
            "Epoch 22/100\n",
            "15/15 [==============================] - 0s 4ms/step - loss: 0.1553 - tp: 0.0000e+00 - fp: 0.0000e+00 - tn: 3516.0000 - fn: 138.0000 - accuracy: 0.9622 - precision: 0.0000e+00 - recall: 0.0000e+00 - auc: 0.6887 - val_loss: 0.1781 - val_tp: 0.0000e+00 - val_fp: 0.0000e+00 - val_tn: 1168.0000 - val_fn: 50.0000 - val_accuracy: 0.9589 - val_precision: 0.0000e+00 - val_recall: 0.0000e+00 - val_auc: 0.7241\n",
            "Epoch 23/100\n",
            "15/15 [==============================] - 0s 4ms/step - loss: 0.1530 - tp: 0.0000e+00 - fp: 0.0000e+00 - tn: 3516.0000 - fn: 138.0000 - accuracy: 0.9622 - precision: 0.0000e+00 - recall: 0.0000e+00 - auc: 0.7115 - val_loss: 0.1778 - val_tp: 0.0000e+00 - val_fp: 0.0000e+00 - val_tn: 1168.0000 - val_fn: 50.0000 - val_accuracy: 0.9589 - val_precision: 0.0000e+00 - val_recall: 0.0000e+00 - val_auc: 0.7285\n",
            "Epoch 24/100\n",
            "15/15 [==============================] - 0s 4ms/step - loss: 0.1533 - tp: 0.0000e+00 - fp: 0.0000e+00 - tn: 3516.0000 - fn: 138.0000 - accuracy: 0.9622 - precision: 0.0000e+00 - recall: 0.0000e+00 - auc: 0.7037 - val_loss: 0.1770 - val_tp: 0.0000e+00 - val_fp: 0.0000e+00 - val_tn: 1168.0000 - val_fn: 50.0000 - val_accuracy: 0.9589 - val_precision: 0.0000e+00 - val_recall: 0.0000e+00 - val_auc: 0.7314\n",
            "Epoch 25/100\n",
            "15/15 [==============================] - 0s 4ms/step - loss: 0.1544 - tp: 0.0000e+00 - fp: 0.0000e+00 - tn: 3516.0000 - fn: 138.0000 - accuracy: 0.9622 - precision: 0.0000e+00 - recall: 0.0000e+00 - auc: 0.7012 - val_loss: 0.1773 - val_tp: 0.0000e+00 - val_fp: 0.0000e+00 - val_tn: 1168.0000 - val_fn: 50.0000 - val_accuracy: 0.9589 - val_precision: 0.0000e+00 - val_recall: 0.0000e+00 - val_auc: 0.7313\n",
            "Epoch 26/100\n",
            "15/15 [==============================] - 0s 4ms/step - loss: 0.1522 - tp: 0.0000e+00 - fp: 0.0000e+00 - tn: 3516.0000 - fn: 138.0000 - accuracy: 0.9622 - precision: 0.0000e+00 - recall: 0.0000e+00 - auc: 0.7150 - val_loss: 0.1766 - val_tp: 0.0000e+00 - val_fp: 0.0000e+00 - val_tn: 1168.0000 - val_fn: 50.0000 - val_accuracy: 0.9589 - val_precision: 0.0000e+00 - val_recall: 0.0000e+00 - val_auc: 0.7341\n",
            "Epoch 27/100\n",
            "15/15 [==============================] - 0s 4ms/step - loss: 0.1528 - tp: 0.0000e+00 - fp: 0.0000e+00 - tn: 3516.0000 - fn: 138.0000 - accuracy: 0.9622 - precision: 0.0000e+00 - recall: 0.0000e+00 - auc: 0.7123 - val_loss: 0.1764 - val_tp: 0.0000e+00 - val_fp: 0.0000e+00 - val_tn: 1168.0000 - val_fn: 50.0000 - val_accuracy: 0.9589 - val_precision: 0.0000e+00 - val_recall: 0.0000e+00 - val_auc: 0.7358\n",
            "Epoch 28/100\n",
            "15/15 [==============================] - 0s 4ms/step - loss: 0.1506 - tp: 0.0000e+00 - fp: 0.0000e+00 - tn: 3516.0000 - fn: 138.0000 - accuracy: 0.9622 - precision: 0.0000e+00 - recall: 0.0000e+00 - auc: 0.7249 - val_loss: 0.1765 - val_tp: 0.0000e+00 - val_fp: 0.0000e+00 - val_tn: 1168.0000 - val_fn: 50.0000 - val_accuracy: 0.9589 - val_precision: 0.0000e+00 - val_recall: 0.0000e+00 - val_auc: 0.7367\n",
            "Epoch 29/100\n",
            "15/15 [==============================] - 0s 4ms/step - loss: 0.1508 - tp: 0.0000e+00 - fp: 0.0000e+00 - tn: 3516.0000 - fn: 138.0000 - accuracy: 0.9622 - precision: 0.0000e+00 - recall: 0.0000e+00 - auc: 0.7213 - val_loss: 0.1764 - val_tp: 0.0000e+00 - val_fp: 0.0000e+00 - val_tn: 1168.0000 - val_fn: 50.0000 - val_accuracy: 0.9589 - val_precision: 0.0000e+00 - val_recall: 0.0000e+00 - val_auc: 0.7388\n",
            "Epoch 30/100\n",
            "15/15 [==============================] - 0s 4ms/step - loss: 0.1482 - tp: 0.0000e+00 - fp: 0.0000e+00 - tn: 3516.0000 - fn: 138.0000 - accuracy: 0.9622 - precision: 0.0000e+00 - recall: 0.0000e+00 - auc: 0.7343 - val_loss: 0.1764 - val_tp: 0.0000e+00 - val_fp: 0.0000e+00 - val_tn: 1168.0000 - val_fn: 50.0000 - val_accuracy: 0.9589 - val_precision: 0.0000e+00 - val_recall: 0.0000e+00 - val_auc: 0.7394\n",
            "Epoch 31/100\n",
            "15/15 [==============================] - 0s 4ms/step - loss: 0.1503 - tp: 1.0000 - fp: 0.0000e+00 - tn: 3516.0000 - fn: 137.0000 - accuracy: 0.9625 - precision: 1.0000 - recall: 0.0072 - auc: 0.7253 - val_loss: 0.1759 - val_tp: 0.0000e+00 - val_fp: 0.0000e+00 - val_tn: 1168.0000 - val_fn: 50.0000 - val_accuracy: 0.9589 - val_precision: 0.0000e+00 - val_recall: 0.0000e+00 - val_auc: 0.7413\n",
            "Epoch 32/100\n",
            "15/15 [==============================] - 0s 4ms/step - loss: 0.1499 - tp: 0.0000e+00 - fp: 0.0000e+00 - tn: 3516.0000 - fn: 138.0000 - accuracy: 0.9622 - precision: 0.0000e+00 - recall: 0.0000e+00 - auc: 0.7342 - val_loss: 0.1760 - val_tp: 0.0000e+00 - val_fp: 0.0000e+00 - val_tn: 1168.0000 - val_fn: 50.0000 - val_accuracy: 0.9589 - val_precision: 0.0000e+00 - val_recall: 0.0000e+00 - val_auc: 0.7428\n",
            "Epoch 33/100\n",
            "15/15 [==============================] - 0s 5ms/step - loss: 0.1478 - tp: 0.0000e+00 - fp: 0.0000e+00 - tn: 3516.0000 - fn: 138.0000 - accuracy: 0.9622 - precision: 0.0000e+00 - recall: 0.0000e+00 - auc: 0.7399 - val_loss: 0.1757 - val_tp: 0.0000e+00 - val_fp: 0.0000e+00 - val_tn: 1168.0000 - val_fn: 50.0000 - val_accuracy: 0.9589 - val_precision: 0.0000e+00 - val_recall: 0.0000e+00 - val_auc: 0.7447\n",
            "Epoch 34/100\n",
            "15/15 [==============================] - 0s 4ms/step - loss: 0.1486 - tp: 0.0000e+00 - fp: 0.0000e+00 - tn: 3516.0000 - fn: 138.0000 - accuracy: 0.9622 - precision: 0.0000e+00 - recall: 0.0000e+00 - auc: 0.7445 - val_loss: 0.1751 - val_tp: 0.0000e+00 - val_fp: 0.0000e+00 - val_tn: 1168.0000 - val_fn: 50.0000 - val_accuracy: 0.9589 - val_precision: 0.0000e+00 - val_recall: 0.0000e+00 - val_auc: 0.7470\n",
            "Epoch 35/100\n",
            "15/15 [==============================] - 0s 4ms/step - loss: 0.1462 - tp: 1.0000 - fp: 0.0000e+00 - tn: 3516.0000 - fn: 137.0000 - accuracy: 0.9625 - precision: 1.0000 - recall: 0.0072 - auc: 0.7468 - val_loss: 0.1755 - val_tp: 0.0000e+00 - val_fp: 0.0000e+00 - val_tn: 1168.0000 - val_fn: 50.0000 - val_accuracy: 0.9589 - val_precision: 0.0000e+00 - val_recall: 0.0000e+00 - val_auc: 0.7479\n",
            "Epoch 36/100\n",
            "15/15 [==============================] - 0s 4ms/step - loss: 0.1480 - tp: 0.0000e+00 - fp: 0.0000e+00 - tn: 3516.0000 - fn: 138.0000 - accuracy: 0.9622 - precision: 0.0000e+00 - recall: 0.0000e+00 - auc: 0.7386 - val_loss: 0.1743 - val_tp: 0.0000e+00 - val_fp: 0.0000e+00 - val_tn: 1168.0000 - val_fn: 50.0000 - val_accuracy: 0.9589 - val_precision: 0.0000e+00 - val_recall: 0.0000e+00 - val_auc: 0.7547\n",
            "Epoch 37/100\n",
            "15/15 [==============================] - 0s 4ms/step - loss: 0.1464 - tp: 0.0000e+00 - fp: 1.0000 - tn: 3515.0000 - fn: 138.0000 - accuracy: 0.9620 - precision: 0.0000e+00 - recall: 0.0000e+00 - auc: 0.7463 - val_loss: 0.1741 - val_tp: 0.0000e+00 - val_fp: 0.0000e+00 - val_tn: 1168.0000 - val_fn: 50.0000 - val_accuracy: 0.9589 - val_precision: 0.0000e+00 - val_recall: 0.0000e+00 - val_auc: 0.7575\n",
            "Epoch 38/100\n",
            "15/15 [==============================] - 0s 4ms/step - loss: 0.1481 - tp: 1.0000 - fp: 1.0000 - tn: 3515.0000 - fn: 137.0000 - accuracy: 0.9622 - precision: 0.5000 - recall: 0.0072 - auc: 0.7380 - val_loss: 0.1740 - val_tp: 0.0000e+00 - val_fp: 0.0000e+00 - val_tn: 1168.0000 - val_fn: 50.0000 - val_accuracy: 0.9589 - val_precision: 0.0000e+00 - val_recall: 0.0000e+00 - val_auc: 0.7588\n",
            "Epoch 39/100\n",
            "15/15 [==============================] - 0s 4ms/step - loss: 0.1449 - tp: 0.0000e+00 - fp: 0.0000e+00 - tn: 3516.0000 - fn: 138.0000 - accuracy: 0.9622 - precision: 0.0000e+00 - recall: 0.0000e+00 - auc: 0.7543 - val_loss: 0.1741 - val_tp: 0.0000e+00 - val_fp: 0.0000e+00 - val_tn: 1168.0000 - val_fn: 50.0000 - val_accuracy: 0.9589 - val_precision: 0.0000e+00 - val_recall: 0.0000e+00 - val_auc: 0.7583\n",
            "Epoch 40/100\n",
            "15/15 [==============================] - 0s 4ms/step - loss: 0.1435 - tp: 1.0000 - fp: 0.0000e+00 - tn: 3516.0000 - fn: 137.0000 - accuracy: 0.9625 - precision: 1.0000 - recall: 0.0072 - auc: 0.7585 - val_loss: 0.1742 - val_tp: 0.0000e+00 - val_fp: 0.0000e+00 - val_tn: 1168.0000 - val_fn: 50.0000 - val_accuracy: 0.9589 - val_precision: 0.0000e+00 - val_recall: 0.0000e+00 - val_auc: 0.7577\n",
            "Epoch 41/100\n",
            "15/15 [==============================] - 0s 4ms/step - loss: 0.1438 - tp: 2.0000 - fp: 0.0000e+00 - tn: 3516.0000 - fn: 136.0000 - accuracy: 0.9628 - precision: 1.0000 - recall: 0.0145 - auc: 0.7599 - val_loss: 0.1744 - val_tp: 0.0000e+00 - val_fp: 0.0000e+00 - val_tn: 1168.0000 - val_fn: 50.0000 - val_accuracy: 0.9589 - val_precision: 0.0000e+00 - val_recall: 0.0000e+00 - val_auc: 0.7584\n",
            "Epoch 42/100\n",
            "15/15 [==============================] - 0s 4ms/step - loss: 0.1433 - tp: 0.0000e+00 - fp: 1.0000 - tn: 3515.0000 - fn: 138.0000 - accuracy: 0.9620 - precision: 0.0000e+00 - recall: 0.0000e+00 - auc: 0.7621 - val_loss: 0.1742 - val_tp: 0.0000e+00 - val_fp: 0.0000e+00 - val_tn: 1168.0000 - val_fn: 50.0000 - val_accuracy: 0.9589 - val_precision: 0.0000e+00 - val_recall: 0.0000e+00 - val_auc: 0.7562\n",
            "Epoch 43/100\n",
            " 1/15 [=>............................] - ETA: 0s - loss: 0.1359 - tp: 0.0000e+00 - fp: 0.0000e+00 - tn: 246.0000 - fn: 10.0000 - accuracy: 0.9609 - precision: 0.0000e+00 - recall: 0.0000e+00 - auc: 0.8053Restoring model weights from the end of the best epoch.\n",
            "15/15 [==============================] - 0s 4ms/step - loss: 0.1481 - tp: 0.0000e+00 - fp: 1.0000 - tn: 3515.0000 - fn: 138.0000 - accuracy: 0.9620 - precision: 0.0000e+00 - recall: 0.0000e+00 - auc: 0.7424 - val_loss: 0.1741 - val_tp: 0.0000e+00 - val_fp: 0.0000e+00 - val_tn: 1168.0000 - val_fn: 50.0000 - val_accuracy: 0.9589 - val_precision: 0.0000e+00 - val_recall: 0.0000e+00 - val_auc: 0.7570\n",
            "Epoch 00043: early stopping\n"
          ],
          "name": "stdout"
        }
      ]
    },
    {
      "cell_type": "code",
      "metadata": {
        "id": "BqnnNO3ort5D",
        "outputId": "9af59928-6fd4-40bf-d82f-fa35a818a99a",
        "colab": {
          "base_uri": "https://localhost:8080/",
          "height": 501
        }
      },
      "source": [
        "plot_history(history_unbalanced)"
      ],
      "execution_count": 42,
      "outputs": [
        {
          "output_type": "display_data",
          "data": {
            "image/png": "[encoded data removed]",
            "text/plain": [
              "<Figure size 720x576 with 4 Axes>"
            ]
          },
          "metadata": {
            "tags": [],
            "needs_background": "light"
          }
        }
      ]
    },
    {
      "cell_type": "code",
      "metadata": {
        "id": "9q1JvEuxtnQ7",
        "outputId": "17ad40c9-aa27-4455-94c9-9bd5a18b678d",
        "colab": {
          "base_uri": "https://localhost:8080/",
          "height": 224
        }
      },
      "source": [
        "y_hat_proba = model.predict(X_test)\n",
        "y_hat = np.where(y_hat_proba > 0.5, 1, 0)\n",
        "print(classification_report(y_test, y_hat))"
      ],
      "execution_count": 43,
      "outputs": [
        {
          "output_type": "stream",
          "text": [
            "              precision    recall  f1-score   support\n",
            "\n",
            "           0       0.96      1.00      0.98      1567\n",
            "           1       0.00      0.00      0.00        58\n",
            "\n",
            "    accuracy                           0.96      1625\n",
            "   macro avg       0.48      0.50      0.49      1625\n",
            "weighted avg       0.93      0.96      0.95      1625\n",
            "\n"
          ],
          "name": "stdout"
        },
        {
          "output_type": "stream",
          "text": [
            "/usr/local/lib/python3.6/dist-packages/sklearn/metrics/_classification.py:1272: UndefinedMetricWarning: Precision and F-score are ill-defined and being set to 0.0 in labels with no predicted samples. Use `zero_division` parameter to control this behavior.\n",
            "  _warn_prf(average, modifier, msg_start, len(result))\n"
          ],
          "name": "stderr"
        }
      ]
    },
    {
      "cell_type": "code",
      "metadata": {
        "id": "IPUze0d-F10h",
        "outputId": "9f7a048d-9a28-44d9-9eb0-056460f0451e",
        "colab": {
          "base_uri": "https://localhost:8080/",
          "height": 227
        }
      },
      "source": [
        "cm, acc, maj, min, f1 = score_model(y_test, y_hat)\n",
        "results_df.loc['Unbalanced'] = [*maj, *min, acc, f1]\n",
        "results_df"
      ],
      "execution_count": 44,
      "outputs": [
        {
          "output_type": "stream",
          "text": [
            "/usr/local/lib/python3.6/dist-packages/ipykernel_launcher.py:5: RuntimeWarning: invalid value encountered in long_scalars\n",
            "  \"\"\"\n"
          ],
          "name": "stderr"
        },
        {
          "output_type": "execute_result",
          "data": {
            "text/html": [
              "<div>\n",
              "<style scoped>\n",
              "    .dataframe tbody tr th:only-of-type {\n",
              "        vertical-align: middle;\n",
              "    }\n",
              "\n",
              "    .dataframe tbody tr th {\n",
              "        vertical-align: top;\n",
              "    }\n",
              "\n",
              "    .dataframe thead tr th {\n",
              "        text-align: left;\n",
              "    }\n",
              "</style>\n",
              "<table border=\"1\" class=\"dataframe\">\n",
              "  <thead>\n",
              "    <tr>\n",
              "      <th></th>\n",
              "      <th colspan=\"2\" halign=\"left\">Majority</th>\n",
              "      <th colspan=\"2\" halign=\"left\">Minority</th>\n",
              "      <th colspan=\"2\" halign=\"left\">Scoring</th>\n",
              "    </tr>\n",
              "    <tr>\n",
              "      <th></th>\n",
              "      <th>Precision</th>\n",
              "      <th>Recall</th>\n",
              "      <th>Precision</th>\n",
              "      <th>Recall</th>\n",
              "      <th>Accuracy</th>\n",
              "      <th>F1</th>\n",
              "    </tr>\n",
              "  </thead>\n",
              "  <tbody>\n",
              "    <tr>\n",
              "      <th>Baseline</th>\n",
              "      <td>0.964308</td>\n",
              "      <td>1.000000</td>\n",
              "      <td>NaN</td>\n",
              "      <td>0.000000</td>\n",
              "      <td>0.964308</td>\n",
              "      <td>0.000000</td>\n",
              "    </tr>\n",
              "    <tr>\n",
              "      <th>Random</th>\n",
              "      <td>0.948980</td>\n",
              "      <td>0.534142</td>\n",
              "      <td>0.017497</td>\n",
              "      <td>0.224138</td>\n",
              "      <td>0.523077</td>\n",
              "      <td>0.032459</td>\n",
              "    </tr>\n",
              "    <tr>\n",
              "      <th>Unbalanced</th>\n",
              "      <td>0.964308</td>\n",
              "      <td>1.000000</td>\n",
              "      <td>NaN</td>\n",
              "      <td>0.000000</td>\n",
              "      <td>0.964308</td>\n",
              "      <td>0.000000</td>\n",
              "    </tr>\n",
              "  </tbody>\n",
              "</table>\n",
              "</div>"
            ],
            "text/plain": [
              "            Majority            Minority             Scoring          \n",
              "           Precision    Recall Precision    Recall  Accuracy        F1\n",
              "Baseline    0.964308  1.000000       NaN  0.000000  0.964308  0.000000\n",
              "Random      0.948980  0.534142  0.017497  0.224138  0.523077  0.032459\n",
              "Unbalanced  0.964308  1.000000       NaN  0.000000  0.964308  0.000000"
            ]
          },
          "metadata": {
            "tags": []
          },
          "execution_count": 44
        }
      ]
    },
    {
      "cell_type": "markdown",
      "metadata": {
        "id": "hUJx-xYryQ9B"
      },
      "source": [
        "# Weighted Model"
      ]
    },
    {
      "cell_type": "code",
      "metadata": {
        "id": "pcTGRAY5ytmn",
        "outputId": "f6dc59bb-5539-4621-ebb3-4d52fbd559c7",
        "colab": {
          "base_uri": "https://localhost:8080/",
          "height": 51
        }
      },
      "source": [
        "# Scaling by total/2 helps keep the loss to a similar magnitude.\n",
        "# The sum of the weights of all examples stays the same.\n",
        "pos = y_train.sum()\n",
        "neg = len(y_train) - pos\n",
        "tot = len(y_train)\n",
        "\n",
        "weight_neg = (1 / neg) * (tot) / 2.0 \n",
        "weight_pos = (1 / pos) * (tot) / 2.0\n",
        "\n",
        "class_weight = {0: weight_neg, 1: weight_pos}\n",
        "\n",
        "print('Weight Negative: {:.2f}'.format(weight_neg))\n",
        "print('Weight Positive: {:.2f}'.format(weight_pos))"
      ],
      "execution_count": 45,
      "outputs": [
        {
          "output_type": "stream",
          "text": [
            "Weight Negative: 0.52\n",
            "Weight Positive: 13.24\n"
          ],
          "name": "stdout"
        }
      ]
    },
    {
      "cell_type": "code",
      "metadata": {
        "id": "SDqX70CS-IE6",
        "outputId": "70fd535d-5352-49e3-94b7-7acc1c68a1da",
        "colab": {
          "base_uri": "https://localhost:8080/",
          "height": 255
        }
      },
      "source": [
        "model = construct_model()\n",
        "model.summary()"
      ],
      "execution_count": 46,
      "outputs": [
        {
          "output_type": "stream",
          "text": [
            "Model: \"sequential_2\"\n",
            "_________________________________________________________________\n",
            "Layer (type)                 Output Shape              Param #   \n",
            "=================================================================\n",
            "dense_4 (Dense)              (None, 64)                768       \n",
            "_________________________________________________________________\n",
            "dropout_2 (Dropout)          (None, 64)                0         \n",
            "_________________________________________________________________\n",
            "dense_5 (Dense)              (None, 1)                 65        \n",
            "=================================================================\n",
            "Total params: 833\n",
            "Trainable params: 833\n",
            "Non-trainable params: 0\n",
            "_________________________________________________________________\n"
          ],
          "name": "stdout"
        }
      ]
    },
    {
      "cell_type": "code",
      "metadata": {
        "id": "H7A99zZE-ITh",
        "outputId": "053ca1cb-c7ff-4a12-c043-a5f2fabde386",
        "colab": {
          "base_uri": "https://localhost:8080/",
          "height": 1000
        }
      },
      "source": [
        "history_weighted = model.fit(\n",
        "    X_train,\n",
        "    y_train,\n",
        "    batch_size=BATCH_SIZE,\n",
        "    epochs=EPOCHS,\n",
        "    callbacks = [early_stopping],\n",
        "    class_weight=class_weight,\n",
        "    validation_data=(X_val, y_val))"
      ],
      "execution_count": 47,
      "outputs": [
        {
          "output_type": "stream",
          "text": [
            "Epoch 1/100\n",
            "15/15 [==============================] - 1s 51ms/step - loss: 0.7474 - tp: 57.0000 - fp: 1456.0000 - tn: 3228.0000 - fn: 131.0000 - accuracy: 0.6743 - precision: 0.0377 - recall: 0.3032 - auc: 0.4924 - val_loss: 0.6934 - val_tp: 21.0000 - val_fp: 477.0000 - val_tn: 691.0000 - val_fn: 29.0000 - val_accuracy: 0.5846 - val_precision: 0.0422 - val_recall: 0.4200 - val_auc: 0.5032\n",
            "Epoch 2/100\n",
            "15/15 [==============================] - 0s 4ms/step - loss: 0.7018 - tp: 73.0000 - fp: 1533.0000 - tn: 1983.0000 - fn: 65.0000 - accuracy: 0.5627 - precision: 0.0455 - recall: 0.5290 - auc: 0.5561 - val_loss: 0.6941 - val_tp: 31.0000 - val_fp: 487.0000 - val_tn: 681.0000 - val_fn: 19.0000 - val_accuracy: 0.5846 - val_precision: 0.0598 - val_recall: 0.6200 - val_auc: 0.6261\n",
            "Epoch 3/100\n",
            "15/15 [==============================] - 0s 4ms/step - loss: 0.6592 - tp: 83.0000 - fp: 1435.0000 - tn: 2081.0000 - fn: 55.0000 - accuracy: 0.5922 - precision: 0.0547 - recall: 0.6014 - auc: 0.6558 - val_loss: 0.6770 - val_tp: 33.0000 - val_fp: 421.0000 - val_tn: 747.0000 - val_fn: 17.0000 - val_accuracy: 0.6404 - val_precision: 0.0727 - val_recall: 0.6600 - val_auc: 0.6895\n",
            "Epoch 4/100\n",
            "15/15 [==============================] - 0s 4ms/step - loss: 0.6373 - tp: 92.0000 - fp: 1293.0000 - tn: 2223.0000 - fn: 46.0000 - accuracy: 0.6336 - precision: 0.0664 - recall: 0.6667 - auc: 0.7007 - val_loss: 0.6619 - val_tp: 33.0000 - val_fp: 399.0000 - val_tn: 769.0000 - val_fn: 17.0000 - val_accuracy: 0.6585 - val_precision: 0.0764 - val_recall: 0.6600 - val_auc: 0.7245\n",
            "Epoch 5/100\n",
            "15/15 [==============================] - 0s 4ms/step - loss: 0.6390 - tp: 88.0000 - fp: 1254.0000 - tn: 2262.0000 - fn: 50.0000 - accuracy: 0.6431 - precision: 0.0656 - recall: 0.6377 - auc: 0.6877 - val_loss: 0.6626 - val_tp: 37.0000 - val_fp: 405.0000 - val_tn: 763.0000 - val_fn: 13.0000 - val_accuracy: 0.6568 - val_precision: 0.0837 - val_recall: 0.7400 - val_auc: 0.7417\n",
            "Epoch 6/100\n",
            "15/15 [==============================] - 0s 4ms/step - loss: 0.6114 - tp: 97.0000 - fp: 1192.0000 - tn: 2324.0000 - fn: 41.0000 - accuracy: 0.6626 - precision: 0.0753 - recall: 0.7029 - auc: 0.7353 - val_loss: 0.6458 - val_tp: 36.0000 - val_fp: 377.0000 - val_tn: 791.0000 - val_fn: 14.0000 - val_accuracy: 0.6790 - val_precision: 0.0872 - val_recall: 0.7200 - val_auc: 0.7550\n",
            "Epoch 7/100\n",
            "15/15 [==============================] - 0s 3ms/step - loss: 0.6010 - tp: 95.0000 - fp: 1112.0000 - tn: 2404.0000 - fn: 43.0000 - accuracy: 0.6839 - precision: 0.0787 - recall: 0.6884 - auc: 0.7493 - val_loss: 0.6238 - val_tp: 35.0000 - val_fp: 342.0000 - val_tn: 826.0000 - val_fn: 15.0000 - val_accuracy: 0.7069 - val_precision: 0.0928 - val_recall: 0.7000 - val_auc: 0.7589\n",
            "Epoch 8/100\n",
            "15/15 [==============================] - 0s 4ms/step - loss: 0.5864 - tp: 103.0000 - fp: 1062.0000 - tn: 2454.0000 - fn: 35.0000 - accuracy: 0.6998 - precision: 0.0884 - recall: 0.7464 - auc: 0.7746 - val_loss: 0.6110 - val_tp: 33.0000 - val_fp: 312.0000 - val_tn: 856.0000 - val_fn: 17.0000 - val_accuracy: 0.7299 - val_precision: 0.0957 - val_recall: 0.6600 - val_auc: 0.7645\n",
            "Epoch 9/100\n",
            "15/15 [==============================] - 0s 4ms/step - loss: 0.5845 - tp: 96.0000 - fp: 996.0000 - tn: 2520.0000 - fn: 42.0000 - accuracy: 0.7159 - precision: 0.0879 - recall: 0.6957 - auc: 0.7694 - val_loss: 0.6090 - val_tp: 36.0000 - val_fp: 322.0000 - val_tn: 846.0000 - val_fn: 14.0000 - val_accuracy: 0.7241 - val_precision: 0.1006 - val_recall: 0.7200 - val_auc: 0.7683\n",
            "Epoch 10/100\n",
            "15/15 [==============================] - 0s 4ms/step - loss: 0.5650 - tp: 105.0000 - fp: 965.0000 - tn: 2551.0000 - fn: 33.0000 - accuracy: 0.7269 - precision: 0.0981 - recall: 0.7609 - auc: 0.8051 - val_loss: 0.6038 - val_tp: 35.0000 - val_fp: 315.0000 - val_tn: 853.0000 - val_fn: 15.0000 - val_accuracy: 0.7291 - val_precision: 0.1000 - val_recall: 0.7000 - val_auc: 0.7729\n",
            "Epoch 11/100\n",
            "15/15 [==============================] - 0s 4ms/step - loss: 0.5677 - tp: 98.0000 - fp: 974.0000 - tn: 2542.0000 - fn: 40.0000 - accuracy: 0.7225 - precision: 0.0914 - recall: 0.7101 - auc: 0.7845 - val_loss: 0.6035 - val_tp: 35.0000 - val_fp: 322.0000 - val_tn: 846.0000 - val_fn: 15.0000 - val_accuracy: 0.7233 - val_precision: 0.0980 - val_recall: 0.7000 - val_auc: 0.7748\n",
            "Epoch 12/100\n",
            "15/15 [==============================] - 0s 4ms/step - loss: 0.5608 - tp: 102.0000 - fp: 968.0000 - tn: 2548.0000 - fn: 36.0000 - accuracy: 0.7252 - precision: 0.0953 - recall: 0.7391 - auc: 0.7995 - val_loss: 0.5919 - val_tp: 35.0000 - val_fp: 311.0000 - val_tn: 857.0000 - val_fn: 15.0000 - val_accuracy: 0.7323 - val_precision: 0.1012 - val_recall: 0.7000 - val_auc: 0.7779\n",
            "Epoch 13/100\n",
            "15/15 [==============================] - 0s 4ms/step - loss: 0.5538 - tp: 104.0000 - fp: 918.0000 - tn: 2598.0000 - fn: 34.0000 - accuracy: 0.7395 - precision: 0.1018 - recall: 0.7536 - auc: 0.8055 - val_loss: 0.5885 - val_tp: 36.0000 - val_fp: 316.0000 - val_tn: 852.0000 - val_fn: 14.0000 - val_accuracy: 0.7291 - val_precision: 0.1023 - val_recall: 0.7200 - val_auc: 0.7811\n",
            "Epoch 14/100\n",
            "15/15 [==============================] - 0s 4ms/step - loss: 0.5556 - tp: 94.0000 - fp: 936.0000 - tn: 2580.0000 - fn: 44.0000 - accuracy: 0.7318 - precision: 0.0913 - recall: 0.6812 - auc: 0.8032 - val_loss: 0.5883 - val_tp: 36.0000 - val_fp: 319.0000 - val_tn: 849.0000 - val_fn: 14.0000 - val_accuracy: 0.7266 - val_precision: 0.1014 - val_recall: 0.7200 - val_auc: 0.7822\n",
            "Epoch 15/100\n",
            "15/15 [==============================] - 0s 5ms/step - loss: 0.5576 - tp: 105.0000 - fp: 974.0000 - tn: 2542.0000 - fn: 33.0000 - accuracy: 0.7244 - precision: 0.0973 - recall: 0.7609 - auc: 0.7981 - val_loss: 0.5864 - val_tp: 36.0000 - val_fp: 319.0000 - val_tn: 849.0000 - val_fn: 14.0000 - val_accuracy: 0.7266 - val_precision: 0.1014 - val_recall: 0.7200 - val_auc: 0.7845\n",
            "Epoch 16/100\n",
            "15/15 [==============================] - 0s 4ms/step - loss: 0.5295 - tp: 106.0000 - fp: 935.0000 - tn: 2581.0000 - fn: 32.0000 - accuracy: 0.7354 - precision: 0.1018 - recall: 0.7681 - auc: 0.8259 - val_loss: 0.5684 - val_tp: 35.0000 - val_fp: 296.0000 - val_tn: 872.0000 - val_fn: 15.0000 - val_accuracy: 0.7447 - val_precision: 0.1057 - val_recall: 0.7000 - val_auc: 0.7856\n",
            "Epoch 17/100\n",
            "15/15 [==============================] - 0s 4ms/step - loss: 0.5393 - tp: 98.0000 - fp: 899.0000 - tn: 2617.0000 - fn: 40.0000 - accuracy: 0.7430 - precision: 0.0983 - recall: 0.7101 - auc: 0.8146 - val_loss: 0.5716 - val_tp: 35.0000 - val_fp: 307.0000 - val_tn: 861.0000 - val_fn: 15.0000 - val_accuracy: 0.7356 - val_precision: 0.1023 - val_recall: 0.7000 - val_auc: 0.7915\n",
            "Epoch 18/100\n",
            "15/15 [==============================] - 0s 4ms/step - loss: 0.5247 - tp: 104.0000 - fp: 930.0000 - tn: 2586.0000 - fn: 34.0000 - accuracy: 0.7362 - precision: 0.1006 - recall: 0.7536 - auc: 0.8253 - val_loss: 0.5665 - val_tp: 35.0000 - val_fp: 303.0000 - val_tn: 865.0000 - val_fn: 15.0000 - val_accuracy: 0.7389 - val_precision: 0.1036 - val_recall: 0.7000 - val_auc: 0.7938\n",
            "Epoch 19/100\n",
            "15/15 [==============================] - 0s 4ms/step - loss: 0.5310 - tp: 103.0000 - fp: 888.0000 - tn: 2628.0000 - fn: 35.0000 - accuracy: 0.7474 - precision: 0.1039 - recall: 0.7464 - auc: 0.8204 - val_loss: 0.5623 - val_tp: 35.0000 - val_fp: 301.0000 - val_tn: 867.0000 - val_fn: 15.0000 - val_accuracy: 0.7406 - val_precision: 0.1042 - val_recall: 0.7000 - val_auc: 0.7943\n",
            "Epoch 20/100\n",
            "15/15 [==============================] - 0s 4ms/step - loss: 0.5317 - tp: 104.0000 - fp: 915.0000 - tn: 2601.0000 - fn: 34.0000 - accuracy: 0.7403 - precision: 0.1021 - recall: 0.7536 - auc: 0.8186 - val_loss: 0.5601 - val_tp: 35.0000 - val_fp: 299.0000 - val_tn: 869.0000 - val_fn: 15.0000 - val_accuracy: 0.7422 - val_precision: 0.1048 - val_recall: 0.7000 - val_auc: 0.7967\n",
            "Epoch 21/100\n",
            "15/15 [==============================] - 0s 4ms/step - loss: 0.5260 - tp: 105.0000 - fp: 898.0000 - tn: 2618.0000 - fn: 33.0000 - accuracy: 0.7452 - precision: 0.1047 - recall: 0.7609 - auc: 0.8240 - val_loss: 0.5568 - val_tp: 35.0000 - val_fp: 296.0000 - val_tn: 872.0000 - val_fn: 15.0000 - val_accuracy: 0.7447 - val_precision: 0.1057 - val_recall: 0.7000 - val_auc: 0.7983\n",
            "Epoch 22/100\n",
            "15/15 [==============================] - 0s 4ms/step - loss: 0.5245 - tp: 106.0000 - fp: 861.0000 - tn: 2655.0000 - fn: 32.0000 - accuracy: 0.7556 - precision: 0.1096 - recall: 0.7681 - auc: 0.8255 - val_loss: 0.5574 - val_tp: 36.0000 - val_fp: 295.0000 - val_tn: 873.0000 - val_fn: 14.0000 - val_accuracy: 0.7463 - val_precision: 0.1088 - val_recall: 0.7200 - val_auc: 0.8003\n",
            "Epoch 23/100\n",
            "15/15 [==============================] - 0s 4ms/step - loss: 0.5244 - tp: 103.0000 - fp: 886.0000 - tn: 2630.0000 - fn: 35.0000 - accuracy: 0.7479 - precision: 0.1041 - recall: 0.7464 - auc: 0.8258 - val_loss: 0.5625 - val_tp: 36.0000 - val_fp: 302.0000 - val_tn: 866.0000 - val_fn: 14.0000 - val_accuracy: 0.7406 - val_precision: 0.1065 - val_recall: 0.7200 - val_auc: 0.8017\n",
            "Epoch 24/100\n",
            "15/15 [==============================] - 0s 4ms/step - loss: 0.5185 - tp: 105.0000 - fp: 901.0000 - tn: 2615.0000 - fn: 33.0000 - accuracy: 0.7444 - precision: 0.1044 - recall: 0.7609 - auc: 0.8245 - val_loss: 0.5516 - val_tp: 37.0000 - val_fp: 292.0000 - val_tn: 876.0000 - val_fn: 13.0000 - val_accuracy: 0.7496 - val_precision: 0.1125 - val_recall: 0.7400 - val_auc: 0.8043\n",
            "Epoch 25/100\n",
            "15/15 [==============================] - 0s 4ms/step - loss: 0.5081 - tp: 104.0000 - fp: 860.0000 - tn: 2656.0000 - fn: 34.0000 - accuracy: 0.7553 - precision: 0.1079 - recall: 0.7536 - auc: 0.8363 - val_loss: 0.5374 - val_tp: 37.0000 - val_fp: 279.0000 - val_tn: 889.0000 - val_fn: 13.0000 - val_accuracy: 0.7603 - val_precision: 0.1171 - val_recall: 0.7400 - val_auc: 0.8039\n",
            "Epoch 26/100\n",
            "15/15 [==============================] - 0s 4ms/step - loss: 0.5210 - tp: 106.0000 - fp: 846.0000 - tn: 2670.0000 - fn: 32.0000 - accuracy: 0.7597 - precision: 0.1113 - recall: 0.7681 - auc: 0.8284 - val_loss: 0.5442 - val_tp: 37.0000 - val_fp: 287.0000 - val_tn: 881.0000 - val_fn: 13.0000 - val_accuracy: 0.7537 - val_precision: 0.1142 - val_recall: 0.7400 - val_auc: 0.8044\n",
            "Epoch 27/100\n",
            "15/15 [==============================] - 0s 4ms/step - loss: 0.5200 - tp: 100.0000 - fp: 875.0000 - tn: 2641.0000 - fn: 38.0000 - accuracy: 0.7501 - precision: 0.1026 - recall: 0.7246 - auc: 0.8255 - val_loss: 0.5570 - val_tp: 38.0000 - val_fp: 302.0000 - val_tn: 866.0000 - val_fn: 12.0000 - val_accuracy: 0.7422 - val_precision: 0.1118 - val_recall: 0.7600 - val_auc: 0.8062\n",
            "Epoch 28/100\n",
            "15/15 [==============================] - 0s 4ms/step - loss: 0.5178 - tp: 103.0000 - fp: 840.0000 - tn: 2676.0000 - fn: 35.0000 - accuracy: 0.7605 - precision: 0.1092 - recall: 0.7464 - auc: 0.8252 - val_loss: 0.5377 - val_tp: 37.0000 - val_fp: 278.0000 - val_tn: 890.0000 - val_fn: 13.0000 - val_accuracy: 0.7611 - val_precision: 0.1175 - val_recall: 0.7400 - val_auc: 0.8076\n",
            "Epoch 29/100\n",
            "15/15 [==============================] - 0s 5ms/step - loss: 0.5185 - tp: 101.0000 - fp: 836.0000 - tn: 2680.0000 - fn: 37.0000 - accuracy: 0.7611 - precision: 0.1078 - recall: 0.7319 - auc: 0.8255 - val_loss: 0.5474 - val_tp: 37.0000 - val_fp: 294.0000 - val_tn: 874.0000 - val_fn: 13.0000 - val_accuracy: 0.7479 - val_precision: 0.1118 - val_recall: 0.7400 - val_auc: 0.8090\n",
            "Epoch 30/100\n",
            "15/15 [==============================] - 0s 4ms/step - loss: 0.5178 - tp: 109.0000 - fp: 842.0000 - tn: 2674.0000 - fn: 29.0000 - accuracy: 0.7616 - precision: 0.1146 - recall: 0.7899 - auc: 0.8315 - val_loss: 0.5379 - val_tp: 37.0000 - val_fp: 280.0000 - val_tn: 888.0000 - val_fn: 13.0000 - val_accuracy: 0.7594 - val_precision: 0.1167 - val_recall: 0.7400 - val_auc: 0.8064\n",
            "Epoch 31/100\n",
            "15/15 [==============================] - 0s 4ms/step - loss: 0.5196 - tp: 102.0000 - fp: 827.0000 - tn: 2689.0000 - fn: 36.0000 - accuracy: 0.7638 - precision: 0.1098 - recall: 0.7391 - auc: 0.8264 - val_loss: 0.5369 - val_tp: 36.0000 - val_fp: 274.0000 - val_tn: 894.0000 - val_fn: 14.0000 - val_accuracy: 0.7635 - val_precision: 0.1161 - val_recall: 0.7200 - val_auc: 0.8087\n",
            "Epoch 32/100\n",
            "15/15 [==============================] - 0s 4ms/step - loss: 0.5027 - tp: 104.0000 - fp: 822.0000 - tn: 2694.0000 - fn: 34.0000 - accuracy: 0.7657 - precision: 0.1123 - recall: 0.7536 - auc: 0.8399 - val_loss: 0.5285 - val_tp: 36.0000 - val_fp: 268.0000 - val_tn: 900.0000 - val_fn: 14.0000 - val_accuracy: 0.7685 - val_precision: 0.1184 - val_recall: 0.7200 - val_auc: 0.8086\n",
            "Epoch 33/100\n",
            "15/15 [==============================] - 0s 4ms/step - loss: 0.5087 - tp: 105.0000 - fp: 840.0000 - tn: 2676.0000 - fn: 33.0000 - accuracy: 0.7611 - precision: 0.1111 - recall: 0.7609 - auc: 0.8323 - val_loss: 0.5483 - val_tp: 38.0000 - val_fp: 291.0000 - val_tn: 877.0000 - val_fn: 12.0000 - val_accuracy: 0.7512 - val_precision: 0.1155 - val_recall: 0.7600 - val_auc: 0.8088\n",
            "Epoch 34/100\n",
            "15/15 [==============================] - 0s 4ms/step - loss: 0.5133 - tp: 110.0000 - fp: 877.0000 - tn: 2639.0000 - fn: 28.0000 - accuracy: 0.7523 - precision: 0.1114 - recall: 0.7971 - auc: 0.8301 - val_loss: 0.5428 - val_tp: 37.0000 - val_fp: 285.0000 - val_tn: 883.0000 - val_fn: 13.0000 - val_accuracy: 0.7553 - val_precision: 0.1149 - val_recall: 0.7400 - val_auc: 0.8090\n",
            "Epoch 35/100\n",
            "15/15 [==============================] - 0s 4ms/step - loss: 0.5069 - tp: 109.0000 - fp: 880.0000 - tn: 2636.0000 - fn: 29.0000 - accuracy: 0.7512 - precision: 0.1102 - recall: 0.7899 - auc: 0.8365 - val_loss: 0.5474 - val_tp: 37.0000 - val_fp: 290.0000 - val_tn: 878.0000 - val_fn: 13.0000 - val_accuracy: 0.7512 - val_precision: 0.1131 - val_recall: 0.7400 - val_auc: 0.8108\n",
            "Epoch 36/100\n",
            "15/15 [==============================] - 0s 4ms/step - loss: 0.5006 - tp: 107.0000 - fp: 880.0000 - tn: 2636.0000 - fn: 31.0000 - accuracy: 0.7507 - precision: 0.1084 - recall: 0.7754 - auc: 0.8398 - val_loss: 0.5323 - val_tp: 37.0000 - val_fp: 278.0000 - val_tn: 890.0000 - val_fn: 13.0000 - val_accuracy: 0.7611 - val_precision: 0.1175 - val_recall: 0.7400 - val_auc: 0.8099\n",
            "Epoch 37/100\n",
            "15/15 [==============================] - 0s 4ms/step - loss: 0.5015 - tp: 107.0000 - fp: 798.0000 - tn: 2718.0000 - fn: 31.0000 - accuracy: 0.7731 - precision: 0.1182 - recall: 0.7754 - auc: 0.8415 - val_loss: 0.5245 - val_tp: 37.0000 - val_fp: 269.0000 - val_tn: 899.0000 - val_fn: 13.0000 - val_accuracy: 0.7685 - val_precision: 0.1209 - val_recall: 0.7400 - val_auc: 0.8100\n",
            "Epoch 38/100\n",
            "15/15 [==============================] - 0s 4ms/step - loss: 0.5115 - tp: 110.0000 - fp: 811.0000 - tn: 2705.0000 - fn: 28.0000 - accuracy: 0.7704 - precision: 0.1194 - recall: 0.7971 - auc: 0.8353 - val_loss: 0.5319 - val_tp: 37.0000 - val_fp: 273.0000 - val_tn: 895.0000 - val_fn: 13.0000 - val_accuracy: 0.7652 - val_precision: 0.1194 - val_recall: 0.7400 - val_auc: 0.8108\n",
            "Epoch 39/100\n",
            "15/15 [==============================] - 0s 4ms/step - loss: 0.4993 - tp: 110.0000 - fp: 858.0000 - tn: 2658.0000 - fn: 28.0000 - accuracy: 0.7575 - precision: 0.1136 - recall: 0.7971 - auc: 0.8437 - val_loss: 0.5510 - val_tp: 37.0000 - val_fp: 294.0000 - val_tn: 874.0000 - val_fn: 13.0000 - val_accuracy: 0.7479 - val_precision: 0.1118 - val_recall: 0.7400 - val_auc: 0.8092\n",
            "Epoch 40/100\n",
            " 1/15 [=>............................] - ETA: 0s - loss: 0.5306 - tp: 5.0000 - fp: 63.0000 - tn: 185.0000 - fn: 3.0000 - accuracy: 0.7422 - precision: 0.0735 - recall: 0.6250 - auc: 0.7588Restoring model weights from the end of the best epoch.\n",
            "15/15 [==============================] - 0s 4ms/step - loss: 0.4998 - tp: 107.0000 - fp: 906.0000 - tn: 2610.0000 - fn: 31.0000 - accuracy: 0.7436 - precision: 0.1056 - recall: 0.7754 - auc: 0.8400 - val_loss: 0.5443 - val_tp: 37.0000 - val_fp: 292.0000 - val_tn: 876.0000 - val_fn: 13.0000 - val_accuracy: 0.7496 - val_precision: 0.1125 - val_recall: 0.7400 - val_auc: 0.8074\n",
            "Epoch 00040: early stopping\n"
          ],
          "name": "stdout"
        }
      ]
    },
    {
      "cell_type": "code",
      "metadata": {
        "id": "lhX1JLPn-IRL",
        "outputId": "db6e2814-0ae4-4097-b88f-46c52729639f",
        "colab": {
          "base_uri": "https://localhost:8080/",
          "height": 501
        }
      },
      "source": [
        "plot_history(history_weighted)"
      ],
      "execution_count": 48,
      "outputs": [
        {
          "output_type": "display_data",
          "data": {
            "image/png": "[encoded data removed]",
            "text/plain": [
              "<Figure size 720x576 with 4 Axes>"
            ]
          },
          "metadata": {
            "tags": [],
            "needs_background": "light"
          }
        }
      ]
    },
    {
      "cell_type": "code",
      "metadata": {
        "id": "5RHfllwc-IO8",
        "outputId": "8d2c1e29-833c-4a29-ad27-919c98e33046",
        "colab": {
          "base_uri": "https://localhost:8080/",
          "height": 170
        }
      },
      "source": [
        "y_hat_proba = model.predict(X_test)\n",
        "y_hat = np.where(y_hat_proba > 0.5, 1, 0)\n",
        "print(classification_report(y_test, y_hat))"
      ],
      "execution_count": 49,
      "outputs": [
        {
          "output_type": "stream",
          "text": [
            "              precision    recall  f1-score   support\n",
            "\n",
            "           0       0.99      0.77      0.86      1567\n",
            "           1       0.11      0.74      0.18        58\n",
            "\n",
            "    accuracy                           0.77      1625\n",
            "   macro avg       0.55      0.75      0.52      1625\n",
            "weighted avg       0.96      0.77      0.84      1625\n",
            "\n"
          ],
          "name": "stdout"
        }
      ]
    },
    {
      "cell_type": "code",
      "metadata": {
        "id": "rQblmomhF4KH",
        "outputId": "1f11417e-7f42-41f3-b7c6-f59141d16653",
        "colab": {
          "base_uri": "https://localhost:8080/",
          "height": 204
        }
      },
      "source": [
        "cm, acc, maj, min, f1 = score_model(y_test, y_hat)\n",
        "results_df.loc['Weighted'] = [*maj, *min, acc, f1]\n",
        "results_df"
      ],
      "execution_count": 50,
      "outputs": [
        {
          "output_type": "execute_result",
          "data": {
            "text/html": [
              "<div>\n",
              "<style scoped>\n",
              "    .dataframe tbody tr th:only-of-type {\n",
              "        vertical-align: middle;\n",
              "    }\n",
              "\n",
              "    .dataframe tbody tr th {\n",
              "        vertical-align: top;\n",
              "    }\n",
              "\n",
              "    .dataframe thead tr th {\n",
              "        text-align: left;\n",
              "    }\n",
              "</style>\n",
              "<table border=\"1\" class=\"dataframe\">\n",
              "  <thead>\n",
              "    <tr>\n",
              "      <th></th>\n",
              "      <th colspan=\"2\" halign=\"left\">Majority</th>\n",
              "      <th colspan=\"2\" halign=\"left\">Minority</th>\n",
              "      <th colspan=\"2\" halign=\"left\">Scoring</th>\n",
              "    </tr>\n",
              "    <tr>\n",
              "      <th></th>\n",
              "      <th>Precision</th>\n",
              "      <th>Recall</th>\n",
              "      <th>Precision</th>\n",
              "      <th>Recall</th>\n",
              "      <th>Accuracy</th>\n",
              "      <th>F1</th>\n",
              "    </tr>\n",
              "  </thead>\n",
              "  <tbody>\n",
              "    <tr>\n",
              "      <th>Baseline</th>\n",
              "      <td>0.964308</td>\n",
              "      <td>1.000000</td>\n",
              "      <td>NaN</td>\n",
              "      <td>0.000000</td>\n",
              "      <td>0.964308</td>\n",
              "      <td>0.000000</td>\n",
              "    </tr>\n",
              "    <tr>\n",
              "      <th>Random</th>\n",
              "      <td>0.948980</td>\n",
              "      <td>0.534142</td>\n",
              "      <td>0.017497</td>\n",
              "      <td>0.224138</td>\n",
              "      <td>0.523077</td>\n",
              "      <td>0.032459</td>\n",
              "    </tr>\n",
              "    <tr>\n",
              "      <th>Unbalanced</th>\n",
              "      <td>0.964308</td>\n",
              "      <td>1.000000</td>\n",
              "      <td>NaN</td>\n",
              "      <td>0.000000</td>\n",
              "      <td>0.964308</td>\n",
              "      <td>0.000000</td>\n",
              "    </tr>\n",
              "    <tr>\n",
              "      <th>Weighted</th>\n",
              "      <td>0.987685</td>\n",
              "      <td>0.767709</td>\n",
              "      <td>0.105651</td>\n",
              "      <td>0.741379</td>\n",
              "      <td>0.766769</td>\n",
              "      <td>0.184946</td>\n",
              "    </tr>\n",
              "  </tbody>\n",
              "</table>\n",
              "</div>"
            ],
            "text/plain": [
              "            Majority            Minority             Scoring          \n",
              "           Precision    Recall Precision    Recall  Accuracy        F1\n",
              "Baseline    0.964308  1.000000       NaN  0.000000  0.964308  0.000000\n",
              "Random      0.948980  0.534142  0.017497  0.224138  0.523077  0.032459\n",
              "Unbalanced  0.964308  1.000000       NaN  0.000000  0.964308  0.000000\n",
              "Weighted    0.987685  0.767709  0.105651  0.741379  0.766769  0.184946"
            ]
          },
          "metadata": {
            "tags": []
          },
          "execution_count": 50
        }
      ]
    },
    {
      "cell_type": "markdown",
      "metadata": {
        "id": "6K3-0N_uzAyO"
      },
      "source": [
        "# Over Sample"
      ]
    },
    {
      "cell_type": "code",
      "metadata": {
        "id": "AyTxTxfQz2Sq",
        "outputId": "419870c7-e792-49a6-9bee-0fd0d8d2b4d8",
        "colab": {
          "base_uri": "https://localhost:8080/",
          "height": 255
        }
      },
      "source": [
        "model = construct_model()\n",
        "model.summary()"
      ],
      "execution_count": 51,
      "outputs": [
        {
          "output_type": "stream",
          "text": [
            "Model: \"sequential_3\"\n",
            "_________________________________________________________________\n",
            "Layer (type)                 Output Shape              Param #   \n",
            "=================================================================\n",
            "dense_6 (Dense)              (None, 64)                768       \n",
            "_________________________________________________________________\n",
            "dropout_3 (Dropout)          (None, 64)                0         \n",
            "_________________________________________________________________\n",
            "dense_7 (Dense)              (None, 1)                 65        \n",
            "=================================================================\n",
            "Total params: 833\n",
            "Trainable params: 833\n",
            "Non-trainable params: 0\n",
            "_________________________________________________________________\n"
          ],
          "name": "stdout"
        }
      ]
    },
    {
      "cell_type": "code",
      "metadata": {
        "id": "VRl6iNpf8B0v",
        "outputId": "dbd9cff6-a2b6-4aa9-d19b-a8a9edc535ad",
        "colab": {
          "base_uri": "https://localhost:8080/",
          "height": 71
        }
      },
      "source": [
        "sampler = RandomOverSampler()\n",
        "X_over, y_over = sampler.fit_resample(X_train, y_train)"
      ],
      "execution_count": 52,
      "outputs": [
        {
          "output_type": "stream",
          "text": [
            "/usr/local/lib/python3.6/dist-packages/sklearn/utils/deprecation.py:87: FutureWarning: Function safe_indexing is deprecated; safe_indexing is deprecated in version 0.22 and will be removed in version 0.24.\n",
            "  warnings.warn(msg, category=FutureWarning)\n"
          ],
          "name": "stderr"
        }
      ]
    },
    {
      "cell_type": "code",
      "metadata": {
        "id": "lwA9LZJp8MMG",
        "outputId": "ca993ea4-f025-48b7-bb86-77bf02312544",
        "colab": {
          "base_uri": "https://localhost:8080/",
          "height": 785
        }
      },
      "source": [
        "history_over_sample = model.fit(\n",
        "    X_over,\n",
        "    y_over,\n",
        "    batch_size=BATCH_SIZE,\n",
        "    epochs=EPOCHS,\n",
        "    callbacks = [early_stopping],\n",
        "    validation_data=(X_val, y_val))"
      ],
      "execution_count": 53,
      "outputs": [
        {
          "output_type": "stream",
          "text": [
            "Epoch 1/100\n",
            "28/28 [==============================] - 1s 28ms/step - loss: 0.6624 - tp: 2676.0000 - fp: 2222.0000 - tn: 2462.0000 - fn: 890.0000 - accuracy: 0.6228 - precision: 0.5463 - recall: 0.7504 - auc: 0.6940 - val_loss: 0.6766 - val_tp: 40.0000 - val_fp: 481.0000 - val_tn: 687.0000 - val_fn: 10.0000 - val_accuracy: 0.5969 - val_precision: 0.0768 - val_recall: 0.8000 - val_auc: 0.7721\n",
            "Epoch 2/100\n",
            "28/28 [==============================] - 0s 3ms/step - loss: 0.6112 - tp: 2581.0000 - fp: 1284.0000 - tn: 2232.0000 - fn: 935.0000 - accuracy: 0.6844 - precision: 0.6678 - recall: 0.7341 - auc: 0.7505 - val_loss: 0.6355 - val_tp: 35.0000 - val_fp: 386.0000 - val_tn: 782.0000 - val_fn: 15.0000 - val_accuracy: 0.6708 - val_precision: 0.0831 - val_recall: 0.7000 - val_auc: 0.7583\n",
            "Epoch 3/100\n",
            "28/28 [==============================] - 0s 3ms/step - loss: 0.5770 - tp: 2644.0000 - fp: 1106.0000 - tn: 2410.0000 - fn: 872.0000 - accuracy: 0.7187 - precision: 0.7051 - recall: 0.7520 - auc: 0.7871 - val_loss: 0.6049 - val_tp: 34.0000 - val_fp: 342.0000 - val_tn: 826.0000 - val_fn: 16.0000 - val_accuracy: 0.7061 - val_precision: 0.0904 - val_recall: 0.6800 - val_auc: 0.7706\n",
            "Epoch 4/100\n",
            "28/28 [==============================] - 0s 3ms/step - loss: 0.5538 - tp: 2650.0000 - fp: 1010.0000 - tn: 2506.0000 - fn: 866.0000 - accuracy: 0.7332 - precision: 0.7240 - recall: 0.7537 - auc: 0.8061 - val_loss: 0.5819 - val_tp: 34.0000 - val_fp: 315.0000 - val_tn: 853.0000 - val_fn: 16.0000 - val_accuracy: 0.7282 - val_precision: 0.0974 - val_recall: 0.6800 - val_auc: 0.7777\n",
            "Epoch 5/100\n",
            "28/28 [==============================] - 0s 3ms/step - loss: 0.5352 - tp: 2704.0000 - fp: 963.0000 - tn: 2553.0000 - fn: 812.0000 - accuracy: 0.7476 - precision: 0.7374 - recall: 0.7691 - auc: 0.8193 - val_loss: 0.5705 - val_tp: 33.0000 - val_fp: 314.0000 - val_tn: 854.0000 - val_fn: 17.0000 - val_accuracy: 0.7282 - val_precision: 0.0951 - val_recall: 0.6600 - val_auc: 0.7870\n",
            "Epoch 6/100\n",
            "28/28 [==============================] - 0s 3ms/step - loss: 0.5213 - tp: 2747.0000 - fp: 937.0000 - tn: 2579.0000 - fn: 769.0000 - accuracy: 0.7574 - precision: 0.7457 - recall: 0.7813 - auc: 0.8283 - val_loss: 0.5476 - val_tp: 34.0000 - val_fp: 303.0000 - val_tn: 865.0000 - val_fn: 16.0000 - val_accuracy: 0.7381 - val_precision: 0.1009 - val_recall: 0.6800 - val_auc: 0.7964\n",
            "Epoch 7/100\n",
            "28/28 [==============================] - 0s 3ms/step - loss: 0.5095 - tp: 2735.0000 - fp: 837.0000 - tn: 2679.0000 - fn: 781.0000 - accuracy: 0.7699 - precision: 0.7657 - recall: 0.7779 - auc: 0.8376 - val_loss: 0.5464 - val_tp: 35.0000 - val_fp: 300.0000 - val_tn: 868.0000 - val_fn: 15.0000 - val_accuracy: 0.7414 - val_precision: 0.1045 - val_recall: 0.7000 - val_auc: 0.8000\n",
            "Epoch 8/100\n",
            "28/28 [==============================] - 0s 3ms/step - loss: 0.5036 - tp: 2774.0000 - fp: 897.0000 - tn: 2619.0000 - fn: 742.0000 - accuracy: 0.7669 - precision: 0.7557 - recall: 0.7890 - auc: 0.8405 - val_loss: 0.5350 - val_tp: 35.0000 - val_fp: 293.0000 - val_tn: 875.0000 - val_fn: 15.0000 - val_accuracy: 0.7471 - val_precision: 0.1067 - val_recall: 0.7000 - val_auc: 0.8044\n",
            "Epoch 9/100\n",
            "28/28 [==============================] - 0s 3ms/step - loss: 0.4955 - tp: 2781.0000 - fp: 855.0000 - tn: 2661.0000 - fn: 735.0000 - accuracy: 0.7739 - precision: 0.7649 - recall: 0.7910 - auc: 0.8457 - val_loss: 0.5326 - val_tp: 35.0000 - val_fp: 292.0000 - val_tn: 876.0000 - val_fn: 15.0000 - val_accuracy: 0.7479 - val_precision: 0.1070 - val_recall: 0.7000 - val_auc: 0.8071\n",
            "Epoch 10/100\n",
            "28/28 [==============================] - 0s 3ms/step - loss: 0.4884 - tp: 2780.0000 - fp: 838.0000 - tn: 2678.0000 - fn: 736.0000 - accuracy: 0.7762 - precision: 0.7684 - recall: 0.7907 - auc: 0.8494 - val_loss: 0.5272 - val_tp: 35.0000 - val_fp: 286.0000 - val_tn: 882.0000 - val_fn: 15.0000 - val_accuracy: 0.7529 - val_precision: 0.1090 - val_recall: 0.7000 - val_auc: 0.8095\n",
            "Epoch 11/100\n",
            "28/28 [==============================] - 0s 3ms/step - loss: 0.4799 - tp: 2830.0000 - fp: 839.0000 - tn: 2677.0000 - fn: 686.0000 - accuracy: 0.7831 - precision: 0.7713 - recall: 0.8049 - auc: 0.8565 - val_loss: 0.5172 - val_tp: 35.0000 - val_fp: 273.0000 - val_tn: 895.0000 - val_fn: 15.0000 - val_accuracy: 0.7635 - val_precision: 0.1136 - val_recall: 0.7000 - val_auc: 0.8111\n",
            "Epoch 12/100\n",
            "28/28 [==============================] - 0s 3ms/step - loss: 0.4778 - tp: 2830.0000 - fp: 844.0000 - tn: 2672.0000 - fn: 686.0000 - accuracy: 0.7824 - precision: 0.7703 - recall: 0.8049 - auc: 0.8572 - val_loss: 0.5113 - val_tp: 36.0000 - val_fp: 266.0000 - val_tn: 902.0000 - val_fn: 14.0000 - val_accuracy: 0.7701 - val_precision: 0.1192 - val_recall: 0.7200 - val_auc: 0.8136\n",
            "Epoch 13/100\n",
            "28/28 [==============================] - 0s 3ms/step - loss: 0.4740 - tp: 2779.0000 - fp: 795.0000 - tn: 2721.0000 - fn: 737.0000 - accuracy: 0.7821 - precision: 0.7776 - recall: 0.7904 - auc: 0.8593 - val_loss: 0.5124 - val_tp: 36.0000 - val_fp: 262.0000 - val_tn: 906.0000 - val_fn: 14.0000 - val_accuracy: 0.7734 - val_precision: 0.1208 - val_recall: 0.7200 - val_auc: 0.8138\n",
            "Epoch 14/100\n",
            "28/28 [==============================] - 0s 3ms/step - loss: 0.4725 - tp: 2840.0000 - fp: 822.0000 - tn: 2694.0000 - fn: 676.0000 - accuracy: 0.7870 - precision: 0.7755 - recall: 0.8077 - auc: 0.8595 - val_loss: 0.5020 - val_tp: 36.0000 - val_fp: 251.0000 - val_tn: 917.0000 - val_fn: 14.0000 - val_accuracy: 0.7824 - val_precision: 0.1254 - val_recall: 0.7200 - val_auc: 0.8132\n",
            "Epoch 15/100\n",
            "28/28 [==============================] - 0s 3ms/step - loss: 0.4630 - tp: 2869.0000 - fp: 789.0000 - tn: 2727.0000 - fn: 647.0000 - accuracy: 0.7958 - precision: 0.7843 - recall: 0.8160 - auc: 0.8660 - val_loss: 0.4949 - val_tp: 36.0000 - val_fp: 245.0000 - val_tn: 923.0000 - val_fn: 14.0000 - val_accuracy: 0.7874 - val_precision: 0.1281 - val_recall: 0.7200 - val_auc: 0.8139\n",
            "Epoch 16/100\n",
            "28/28 [==============================] - 0s 3ms/step - loss: 0.4635 - tp: 2805.0000 - fp: 768.0000 - tn: 2748.0000 - fn: 711.0000 - accuracy: 0.7897 - precision: 0.7851 - recall: 0.7978 - auc: 0.8657 - val_loss: 0.4914 - val_tp: 35.0000 - val_fp: 237.0000 - val_tn: 931.0000 - val_fn: 15.0000 - val_accuracy: 0.7931 - val_precision: 0.1287 - val_recall: 0.7000 - val_auc: 0.8177\n",
            "Epoch 17/100\n",
            "28/28 [==============================] - 0s 3ms/step - loss: 0.4574 - tp: 2843.0000 - fp: 737.0000 - tn: 2779.0000 - fn: 673.0000 - accuracy: 0.7995 - precision: 0.7941 - recall: 0.8086 - auc: 0.8696 - val_loss: 0.4930 - val_tp: 35.0000 - val_fp: 241.0000 - val_tn: 927.0000 - val_fn: 15.0000 - val_accuracy: 0.7898 - val_precision: 0.1268 - val_recall: 0.7000 - val_auc: 0.8159\n",
            "Epoch 18/100\n",
            "28/28 [==============================] - 0s 3ms/step - loss: 0.4606 - tp: 2897.0000 - fp: 822.0000 - tn: 2694.0000 - fn: 619.0000 - accuracy: 0.7951 - precision: 0.7790 - recall: 0.8239 - auc: 0.8669 - val_loss: 0.4917 - val_tp: 36.0000 - val_fp: 237.0000 - val_tn: 931.0000 - val_fn: 14.0000 - val_accuracy: 0.7939 - val_precision: 0.1319 - val_recall: 0.7200 - val_auc: 0.8154\n",
            "Epoch 19/100\n",
            "28/28 [==============================] - 0s 3ms/step - loss: 0.4521 - tp: 2863.0000 - fp: 741.0000 - tn: 2775.0000 - fn: 653.0000 - accuracy: 0.8018 - precision: 0.7944 - recall: 0.8143 - auc: 0.8722 - val_loss: 0.4878 - val_tp: 35.0000 - val_fp: 233.0000 - val_tn: 935.0000 - val_fn: 15.0000 - val_accuracy: 0.7964 - val_precision: 0.1306 - val_recall: 0.7000 - val_auc: 0.8162\n",
            "Epoch 20/100\n",
            "28/28 [==============================] - 0s 3ms/step - loss: 0.4509 - tp: 2848.0000 - fp: 730.0000 - tn: 2786.0000 - fn: 668.0000 - accuracy: 0.8012 - precision: 0.7960 - recall: 0.8100 - auc: 0.8732 - val_loss: 0.4901 - val_tp: 35.0000 - val_fp: 237.0000 - val_tn: 931.0000 - val_fn: 15.0000 - val_accuracy: 0.7931 - val_precision: 0.1287 - val_recall: 0.7000 - val_auc: 0.8156\n",
            "Epoch 21/100\n",
            "23/28 [=======================>......] - ETA: 0s - loss: 0.4443 - tp: 2433.0000 - fp: 649.0000 - tn: 2298.0000 - fn: 508.0000 - accuracy: 0.8035 - precision: 0.7894 - recall: 0.8273 - auc: 0.8772Restoring model weights from the end of the best epoch.\n",
            "28/28 [==============================] - 0s 3ms/step - loss: 0.4472 - tp: 2908.0000 - fp: 779.0000 - tn: 2737.0000 - fn: 608.0000 - accuracy: 0.8028 - precision: 0.7887 - recall: 0.8271 - auc: 0.8754 - val_loss: 0.4854 - val_tp: 34.0000 - val_fp: 233.0000 - val_tn: 935.0000 - val_fn: 16.0000 - val_accuracy: 0.7956 - val_precision: 0.1273 - val_recall: 0.6800 - val_auc: 0.8167\n",
            "Epoch 00021: early stopping\n"
          ],
          "name": "stdout"
        }
      ]
    },
    {
      "cell_type": "code",
      "metadata": {
        "id": "GkIVnVNh8SLa",
        "outputId": "4b69e962-e0ff-4773-a16e-4b6ae6d5367d",
        "colab": {
          "base_uri": "https://localhost:8080/",
          "height": 501
        }
      },
      "source": [
        "plot_history(history_over_sample)"
      ],
      "execution_count": 54,
      "outputs": [
        {
          "output_type": "display_data",
          "data": {
            "image/png": "[encoded data removed]",
            "text/plain": [
              "<Figure size 720x576 with 4 Axes>"
            ]
          },
          "metadata": {
            "tags": [],
            "needs_background": "light"
          }
        }
      ]
    },
    {
      "cell_type": "code",
      "metadata": {
        "id": "kjRf8YY18SJO",
        "outputId": "9cc45169-b040-4eba-91e7-8b98bbd31a5d",
        "colab": {
          "base_uri": "https://localhost:8080/",
          "height": 170
        }
      },
      "source": [
        "y_hat_proba = model.predict(X_test)\n",
        "y_hat = np.where(y_hat_proba > 0.5, 1, 0)\n",
        "print(classification_report(y_test, y_hat))"
      ],
      "execution_count": 55,
      "outputs": [
        {
          "output_type": "stream",
          "text": [
            "              precision    recall  f1-score   support\n",
            "\n",
            "           0       0.99      0.80      0.88      1567\n",
            "           1       0.11      0.67      0.19        58\n",
            "\n",
            "    accuracy                           0.79      1625\n",
            "   macro avg       0.55      0.73      0.53      1625\n",
            "weighted avg       0.95      0.79      0.86      1625\n",
            "\n"
          ],
          "name": "stdout"
        }
      ]
    },
    {
      "cell_type": "code",
      "metadata": {
        "id": "Jz-M9sqCF6s_",
        "outputId": "0afe2603-9173-4977-e62d-dccfcb39091c",
        "colab": {
          "base_uri": "https://localhost:8080/",
          "height": 235
        }
      },
      "source": [
        "cm, acc, maj, min, f1 = score_model(y_test, y_hat)\n",
        "results_df.loc['Over Sample'] = [*maj, *min, acc, f1]\n",
        "results_df"
      ],
      "execution_count": 56,
      "outputs": [
        {
          "output_type": "execute_result",
          "data": {
            "text/html": [
              "<div>\n",
              "<style scoped>\n",
              "    .dataframe tbody tr th:only-of-type {\n",
              "        vertical-align: middle;\n",
              "    }\n",
              "\n",
              "    .dataframe tbody tr th {\n",
              "        vertical-align: top;\n",
              "    }\n",
              "\n",
              "    .dataframe thead tr th {\n",
              "        text-align: left;\n",
              "    }\n",
              "</style>\n",
              "<table border=\"1\" class=\"dataframe\">\n",
              "  <thead>\n",
              "    <tr>\n",
              "      <th></th>\n",
              "      <th colspan=\"2\" halign=\"left\">Majority</th>\n",
              "      <th colspan=\"2\" halign=\"left\">Minority</th>\n",
              "      <th colspan=\"2\" halign=\"left\">Scoring</th>\n",
              "    </tr>\n",
              "    <tr>\n",
              "      <th></th>\n",
              "      <th>Precision</th>\n",
              "      <th>Recall</th>\n",
              "      <th>Precision</th>\n",
              "      <th>Recall</th>\n",
              "      <th>Accuracy</th>\n",
              "      <th>F1</th>\n",
              "    </tr>\n",
              "  </thead>\n",
              "  <tbody>\n",
              "    <tr>\n",
              "      <th>Baseline</th>\n",
              "      <td>0.964308</td>\n",
              "      <td>1.000000</td>\n",
              "      <td>NaN</td>\n",
              "      <td>0.000000</td>\n",
              "      <td>0.964308</td>\n",
              "      <td>0.000000</td>\n",
              "    </tr>\n",
              "    <tr>\n",
              "      <th>Random</th>\n",
              "      <td>0.948980</td>\n",
              "      <td>0.534142</td>\n",
              "      <td>0.017497</td>\n",
              "      <td>0.224138</td>\n",
              "      <td>0.523077</td>\n",
              "      <td>0.032459</td>\n",
              "    </tr>\n",
              "    <tr>\n",
              "      <th>Unbalanced</th>\n",
              "      <td>0.964308</td>\n",
              "      <td>1.000000</td>\n",
              "      <td>NaN</td>\n",
              "      <td>0.000000</td>\n",
              "      <td>0.964308</td>\n",
              "      <td>0.000000</td>\n",
              "    </tr>\n",
              "    <tr>\n",
              "      <th>Weighted</th>\n",
              "      <td>0.987685</td>\n",
              "      <td>0.767709</td>\n",
              "      <td>0.105651</td>\n",
              "      <td>0.741379</td>\n",
              "      <td>0.766769</td>\n",
              "      <td>0.184946</td>\n",
              "    </tr>\n",
              "    <tr>\n",
              "      <th>Over Sample</th>\n",
              "      <td>0.985004</td>\n",
              "      <td>0.796426</td>\n",
              "      <td>0.108939</td>\n",
              "      <td>0.672414</td>\n",
              "      <td>0.792000</td>\n",
              "      <td>0.187500</td>\n",
              "    </tr>\n",
              "  </tbody>\n",
              "</table>\n",
              "</div>"
            ],
            "text/plain": [
              "             Majority            Minority             Scoring          \n",
              "            Precision    Recall Precision    Recall  Accuracy        F1\n",
              "Baseline     0.964308  1.000000       NaN  0.000000  0.964308  0.000000\n",
              "Random       0.948980  0.534142  0.017497  0.224138  0.523077  0.032459\n",
              "Unbalanced   0.964308  1.000000       NaN  0.000000  0.964308  0.000000\n",
              "Weighted     0.987685  0.767709  0.105651  0.741379  0.766769  0.184946\n",
              "Over Sample  0.985004  0.796426  0.108939  0.672414  0.792000  0.187500"
            ]
          },
          "metadata": {
            "tags": []
          },
          "execution_count": 56
        }
      ]
    },
    {
      "cell_type": "markdown",
      "metadata": {
        "id": "LJOeAY1vzBe9"
      },
      "source": [
        "# Under Sample"
      ]
    },
    {
      "cell_type": "code",
      "metadata": {
        "id": "8sGUWhSLz3DC",
        "outputId": "13c473d3-43d4-4ce8-c0a1-96f6fef3b4d3",
        "colab": {
          "base_uri": "https://localhost:8080/",
          "height": 255
        }
      },
      "source": [
        "model = construct_model()\n",
        "model.summary()"
      ],
      "execution_count": 57,
      "outputs": [
        {
          "output_type": "stream",
          "text": [
            "Model: \"sequential_4\"\n",
            "_________________________________________________________________\n",
            "Layer (type)                 Output Shape              Param #   \n",
            "=================================================================\n",
            "dense_8 (Dense)              (None, 64)                768       \n",
            "_________________________________________________________________\n",
            "dropout_4 (Dropout)          (None, 64)                0         \n",
            "_________________________________________________________________\n",
            "dense_9 (Dense)              (None, 1)                 65        \n",
            "=================================================================\n",
            "Total params: 833\n",
            "Trainable params: 833\n",
            "Non-trainable params: 0\n",
            "_________________________________________________________________\n"
          ],
          "name": "stdout"
        }
      ]
    },
    {
      "cell_type": "code",
      "metadata": {
        "id": "dH3rx-Go8j0H",
        "outputId": "927414d3-e960-47a6-af32-a0dbc326f702",
        "colab": {
          "base_uri": "https://localhost:8080/",
          "height": 71
        }
      },
      "source": [
        "sampler = RandomUnderSampler()\n",
        "X_under, y_under = sampler.fit_resample(X_train, y_train)"
      ],
      "execution_count": 58,
      "outputs": [
        {
          "output_type": "stream",
          "text": [
            "/usr/local/lib/python3.6/dist-packages/sklearn/utils/deprecation.py:87: FutureWarning: Function safe_indexing is deprecated; safe_indexing is deprecated in version 0.22 and will be removed in version 0.24.\n",
            "  warnings.warn(msg, category=FutureWarning)\n"
          ],
          "name": "stderr"
        }
      ]
    },
    {
      "cell_type": "code",
      "metadata": {
        "id": "HbCgkbLn8j86",
        "outputId": "fb0cb304-dcd7-43f4-bc5e-61771fa3aa12",
        "colab": {
          "base_uri": "https://localhost:8080/",
          "height": 1000
        }
      },
      "source": [
        "history_under_sample = model.fit(\n",
        "    X_under,\n",
        "    y_under,\n",
        "    batch_size=BATCH_SIZE,\n",
        "    epochs=EPOCHS,\n",
        "    callbacks = [early_stopping],\n",
        "    validation_data=(X_val, y_val))"
      ],
      "execution_count": 59,
      "outputs": [
        {
          "output_type": "stream",
          "text": [
            "Epoch 1/100\n",
            "2/2 [==============================] - 1s 370ms/step - loss: 0.6943 - tp: 116.0000 - fp: 301.0000 - tn: 1005.0000 - fn: 72.0000 - accuracy: 0.7503 - precision: 0.2782 - recall: 0.6170 - auc: 0.7810 - val_loss: 0.7291 - val_tp: 33.0000 - val_fp: 603.0000 - val_tn: 565.0000 - val_fn: 17.0000 - val_accuracy: 0.4910 - val_precision: 0.0519 - val_recall: 0.6600 - val_auc: 0.5615\n",
            "Epoch 2/100\n",
            "2/2 [==============================] - 0s 14ms/step - loss: 0.7183 - tp: 77.0000 - fp: 79.0000 - tn: 59.0000 - fn: 61.0000 - accuracy: 0.4928 - precision: 0.4936 - recall: 0.5580 - auc: 0.4953 - val_loss: 0.7291 - val_tp: 33.0000 - val_fp: 596.0000 - val_tn: 572.0000 - val_fn: 17.0000 - val_accuracy: 0.4967 - val_precision: 0.0525 - val_recall: 0.6600 - val_auc: 0.5842\n",
            "Epoch 3/100\n",
            "2/2 [==============================] - 0s 13ms/step - loss: 0.6883 - tp: 87.0000 - fp: 70.0000 - tn: 68.0000 - fn: 51.0000 - accuracy: 0.5616 - precision: 0.5541 - recall: 0.6304 - auc: 0.5892 - val_loss: 0.7299 - val_tp: 33.0000 - val_fp: 589.0000 - val_tn: 579.0000 - val_fn: 17.0000 - val_accuracy: 0.5025 - val_precision: 0.0531 - val_recall: 0.6600 - val_auc: 0.5974\n",
            "Epoch 4/100\n",
            "2/2 [==============================] - 0s 14ms/step - loss: 0.6872 - tp: 84.0000 - fp: 70.0000 - tn: 68.0000 - fn: 54.0000 - accuracy: 0.5507 - precision: 0.5455 - recall: 0.6087 - auc: 0.5925 - val_loss: 0.7288 - val_tp: 34.0000 - val_fp: 579.0000 - val_tn: 589.0000 - val_fn: 16.0000 - val_accuracy: 0.5115 - val_precision: 0.0555 - val_recall: 0.6800 - val_auc: 0.6081\n",
            "Epoch 5/100\n",
            "2/2 [==============================] - 0s 14ms/step - loss: 0.6796 - tp: 83.0000 - fp: 64.0000 - tn: 74.0000 - fn: 55.0000 - accuracy: 0.5688 - precision: 0.5646 - recall: 0.6014 - auc: 0.6053 - val_loss: 0.7272 - val_tp: 33.0000 - val_fp: 565.0000 - val_tn: 603.0000 - val_fn: 17.0000 - val_accuracy: 0.5222 - val_precision: 0.0552 - val_recall: 0.6600 - val_auc: 0.6161\n",
            "Epoch 6/100\n",
            "2/2 [==============================] - 0s 13ms/step - loss: 0.7018 - tp: 91.0000 - fp: 65.0000 - tn: 73.0000 - fn: 47.0000 - accuracy: 0.5942 - precision: 0.5833 - recall: 0.6594 - auc: 0.5729 - val_loss: 0.7266 - val_tp: 33.0000 - val_fp: 567.0000 - val_tn: 601.0000 - val_fn: 17.0000 - val_accuracy: 0.5205 - val_precision: 0.0550 - val_recall: 0.6600 - val_auc: 0.6242\n",
            "Epoch 7/100\n",
            "2/2 [==============================] - 0s 14ms/step - loss: 0.6900 - tp: 89.0000 - fp: 66.0000 - tn: 72.0000 - fn: 49.0000 - accuracy: 0.5833 - precision: 0.5742 - recall: 0.6449 - auc: 0.5929 - val_loss: 0.7262 - val_tp: 34.0000 - val_fp: 564.0000 - val_tn: 604.0000 - val_fn: 16.0000 - val_accuracy: 0.5238 - val_precision: 0.0569 - val_recall: 0.6800 - val_auc: 0.6327\n",
            "Epoch 8/100\n",
            "2/2 [==============================] - 0s 14ms/step - loss: 0.6764 - tp: 89.0000 - fp: 67.0000 - tn: 71.0000 - fn: 49.0000 - accuracy: 0.5797 - precision: 0.5705 - recall: 0.6449 - auc: 0.6169 - val_loss: 0.7240 - val_tp: 36.0000 - val_fp: 554.0000 - val_tn: 614.0000 - val_fn: 14.0000 - val_accuracy: 0.5337 - val_precision: 0.0610 - val_recall: 0.7200 - val_auc: 0.6404\n",
            "Epoch 9/100\n",
            "2/2 [==============================] - 0s 15ms/step - loss: 0.6625 - tp: 93.0000 - fp: 69.0000 - tn: 69.0000 - fn: 45.0000 - accuracy: 0.5870 - precision: 0.5741 - recall: 0.6739 - auc: 0.6554 - val_loss: 0.7201 - val_tp: 36.0000 - val_fp: 535.0000 - val_tn: 633.0000 - val_fn: 14.0000 - val_accuracy: 0.5493 - val_precision: 0.0630 - val_recall: 0.7200 - val_auc: 0.6474\n",
            "Epoch 10/100\n",
            "2/2 [==============================] - 0s 13ms/step - loss: 0.6720 - tp: 94.0000 - fp: 66.0000 - tn: 72.0000 - fn: 44.0000 - accuracy: 0.6014 - precision: 0.5875 - recall: 0.6812 - auc: 0.6429 - val_loss: 0.7165 - val_tp: 36.0000 - val_fp: 521.0000 - val_tn: 647.0000 - val_fn: 14.0000 - val_accuracy: 0.5608 - val_precision: 0.0646 - val_recall: 0.7200 - val_auc: 0.6561\n",
            "Epoch 11/100\n",
            "2/2 [==============================] - 0s 13ms/step - loss: 0.6593 - tp: 98.0000 - fp: 54.0000 - tn: 84.0000 - fn: 40.0000 - accuracy: 0.6594 - precision: 0.6447 - recall: 0.7101 - auc: 0.6708 - val_loss: 0.7126 - val_tp: 36.0000 - val_fp: 518.0000 - val_tn: 650.0000 - val_fn: 14.0000 - val_accuracy: 0.5632 - val_precision: 0.0650 - val_recall: 0.7200 - val_auc: 0.6615\n",
            "Epoch 12/100\n",
            "2/2 [==============================] - 0s 14ms/step - loss: 0.6582 - tp: 93.0000 - fp: 55.0000 - tn: 83.0000 - fn: 45.0000 - accuracy: 0.6377 - precision: 0.6284 - recall: 0.6739 - auc: 0.6713 - val_loss: 0.7101 - val_tp: 36.0000 - val_fp: 509.0000 - val_tn: 659.0000 - val_fn: 14.0000 - val_accuracy: 0.5706 - val_precision: 0.0661 - val_recall: 0.7200 - val_auc: 0.6680\n",
            "Epoch 13/100\n",
            "2/2 [==============================] - 0s 13ms/step - loss: 0.6509 - tp: 92.0000 - fp: 57.0000 - tn: 81.0000 - fn: 46.0000 - accuracy: 0.6268 - precision: 0.6174 - recall: 0.6667 - auc: 0.6864 - val_loss: 0.7100 - val_tp: 36.0000 - val_fp: 506.0000 - val_tn: 662.0000 - val_fn: 14.0000 - val_accuracy: 0.5731 - val_precision: 0.0664 - val_recall: 0.7200 - val_auc: 0.6728\n",
            "Epoch 14/100\n",
            "2/2 [==============================] - 0s 13ms/step - loss: 0.6424 - tp: 97.0000 - fp: 52.0000 - tn: 86.0000 - fn: 41.0000 - accuracy: 0.6630 - precision: 0.6510 - recall: 0.7029 - auc: 0.7042 - val_loss: 0.7091 - val_tp: 36.0000 - val_fp: 497.0000 - val_tn: 671.0000 - val_fn: 14.0000 - val_accuracy: 0.5805 - val_precision: 0.0675 - val_recall: 0.7200 - val_auc: 0.6773\n",
            "Epoch 15/100\n",
            "2/2 [==============================] - 0s 13ms/step - loss: 0.6527 - tp: 98.0000 - fp: 61.0000 - tn: 77.0000 - fn: 40.0000 - accuracy: 0.6341 - precision: 0.6164 - recall: 0.7101 - auc: 0.6869 - val_loss: 0.7073 - val_tp: 36.0000 - val_fp: 500.0000 - val_tn: 668.0000 - val_fn: 14.0000 - val_accuracy: 0.5780 - val_precision: 0.0672 - val_recall: 0.7200 - val_auc: 0.6815\n",
            "Epoch 16/100\n",
            "2/2 [==============================] - 0s 14ms/step - loss: 0.6411 - tp: 95.0000 - fp: 53.0000 - tn: 85.0000 - fn: 43.0000 - accuracy: 0.6522 - precision: 0.6419 - recall: 0.6884 - auc: 0.7066 - val_loss: 0.7057 - val_tp: 35.0000 - val_fp: 498.0000 - val_tn: 670.0000 - val_fn: 15.0000 - val_accuracy: 0.5788 - val_precision: 0.0657 - val_recall: 0.7000 - val_auc: 0.6855\n",
            "Epoch 17/100\n",
            "2/2 [==============================] - 0s 15ms/step - loss: 0.6563 - tp: 95.0000 - fp: 56.0000 - tn: 82.0000 - fn: 43.0000 - accuracy: 0.6413 - precision: 0.6291 - recall: 0.6884 - auc: 0.6843 - val_loss: 0.7034 - val_tp: 35.0000 - val_fp: 494.0000 - val_tn: 674.0000 - val_fn: 15.0000 - val_accuracy: 0.5821 - val_precision: 0.0662 - val_recall: 0.7000 - val_auc: 0.6869\n",
            "Epoch 18/100\n",
            "2/2 [==============================] - 0s 18ms/step - loss: 0.6488 - tp: 96.0000 - fp: 53.0000 - tn: 85.0000 - fn: 42.0000 - accuracy: 0.6558 - precision: 0.6443 - recall: 0.6957 - auc: 0.6928 - val_loss: 0.7004 - val_tp: 36.0000 - val_fp: 485.0000 - val_tn: 683.0000 - val_fn: 14.0000 - val_accuracy: 0.5903 - val_precision: 0.0691 - val_recall: 0.7200 - val_auc: 0.6872\n",
            "Epoch 19/100\n",
            "2/2 [==============================] - 0s 16ms/step - loss: 0.6328 - tp: 98.0000 - fp: 56.0000 - tn: 82.0000 - fn: 40.0000 - accuracy: 0.6522 - precision: 0.6364 - recall: 0.7101 - auc: 0.7222 - val_loss: 0.6971 - val_tp: 36.0000 - val_fp: 478.0000 - val_tn: 690.0000 - val_fn: 14.0000 - val_accuracy: 0.5961 - val_precision: 0.0700 - val_recall: 0.7200 - val_auc: 0.6883\n",
            "Epoch 20/100\n",
            "2/2 [==============================] - 0s 14ms/step - loss: 0.6411 - tp: 104.0000 - fp: 51.0000 - tn: 87.0000 - fn: 34.0000 - accuracy: 0.6920 - precision: 0.6710 - recall: 0.7536 - auc: 0.7027 - val_loss: 0.6943 - val_tp: 35.0000 - val_fp: 482.0000 - val_tn: 686.0000 - val_fn: 15.0000 - val_accuracy: 0.5920 - val_precision: 0.0677 - val_recall: 0.7000 - val_auc: 0.6879\n",
            "Epoch 21/100\n",
            "2/2 [==============================] - 0s 13ms/step - loss: 0.6492 - tp: 92.0000 - fp: 54.0000 - tn: 84.0000 - fn: 46.0000 - accuracy: 0.6377 - precision: 0.6301 - recall: 0.6667 - auc: 0.6856 - val_loss: 0.6929 - val_tp: 35.0000 - val_fp: 474.0000 - val_tn: 694.0000 - val_fn: 15.0000 - val_accuracy: 0.5985 - val_precision: 0.0688 - val_recall: 0.7000 - val_auc: 0.6888\n",
            "Epoch 22/100\n",
            "2/2 [==============================] - 0s 13ms/step - loss: 0.6298 - tp: 103.0000 - fp: 49.0000 - tn: 89.0000 - fn: 35.0000 - accuracy: 0.6957 - precision: 0.6776 - recall: 0.7464 - auc: 0.7251 - val_loss: 0.6924 - val_tp: 35.0000 - val_fp: 469.0000 - val_tn: 699.0000 - val_fn: 15.0000 - val_accuracy: 0.6026 - val_precision: 0.0694 - val_recall: 0.7000 - val_auc: 0.6915\n",
            "Epoch 23/100\n",
            "2/2 [==============================] - 0s 21ms/step - loss: 0.6236 - tp: 99.0000 - fp: 50.0000 - tn: 88.0000 - fn: 39.0000 - accuracy: 0.6775 - precision: 0.6644 - recall: 0.7174 - auc: 0.7296 - val_loss: 0.6915 - val_tp: 34.0000 - val_fp: 466.0000 - val_tn: 702.0000 - val_fn: 16.0000 - val_accuracy: 0.6043 - val_precision: 0.0680 - val_recall: 0.6800 - val_auc: 0.6921\n",
            "Epoch 24/100\n",
            "2/2 [==============================] - 0s 16ms/step - loss: 0.6388 - tp: 97.0000 - fp: 52.0000 - tn: 86.0000 - fn: 41.0000 - accuracy: 0.6630 - precision: 0.6510 - recall: 0.7029 - auc: 0.7139 - val_loss: 0.6902 - val_tp: 34.0000 - val_fp: 464.0000 - val_tn: 704.0000 - val_fn: 16.0000 - val_accuracy: 0.6059 - val_precision: 0.0683 - val_recall: 0.6800 - val_auc: 0.6942\n",
            "Epoch 25/100\n",
            "2/2 [==============================] - 0s 14ms/step - loss: 0.6374 - tp: 99.0000 - fp: 55.0000 - tn: 83.0000 - fn: 39.0000 - accuracy: 0.6594 - precision: 0.6429 - recall: 0.7174 - auc: 0.7089 - val_loss: 0.6871 - val_tp: 34.0000 - val_fp: 453.0000 - val_tn: 715.0000 - val_fn: 16.0000 - val_accuracy: 0.6149 - val_precision: 0.0698 - val_recall: 0.6800 - val_auc: 0.6963\n",
            "Epoch 26/100\n",
            "2/2 [==============================] - 0s 14ms/step - loss: 0.6251 - tp: 99.0000 - fp: 48.0000 - tn: 90.0000 - fn: 39.0000 - accuracy: 0.6848 - precision: 0.6735 - recall: 0.7174 - auc: 0.7310 - val_loss: 0.6814 - val_tp: 34.0000 - val_fp: 443.0000 - val_tn: 725.0000 - val_fn: 16.0000 - val_accuracy: 0.6232 - val_precision: 0.0713 - val_recall: 0.6800 - val_auc: 0.6962\n",
            "Epoch 27/100\n",
            "2/2 [==============================] - 0s 14ms/step - loss: 0.6210 - tp: 103.0000 - fp: 52.0000 - tn: 86.0000 - fn: 35.0000 - accuracy: 0.6848 - precision: 0.6645 - recall: 0.7464 - auc: 0.7387 - val_loss: 0.6750 - val_tp: 33.0000 - val_fp: 430.0000 - val_tn: 738.0000 - val_fn: 17.0000 - val_accuracy: 0.6330 - val_precision: 0.0713 - val_recall: 0.6600 - val_auc: 0.6987\n",
            "Epoch 28/100\n",
            "2/2 [==============================] - 0s 14ms/step - loss: 0.6212 - tp: 101.0000 - fp: 44.0000 - tn: 94.0000 - fn: 37.0000 - accuracy: 0.7065 - precision: 0.6966 - recall: 0.7319 - auc: 0.7350 - val_loss: 0.6700 - val_tp: 32.0000 - val_fp: 418.0000 - val_tn: 750.0000 - val_fn: 18.0000 - val_accuracy: 0.6420 - val_precision: 0.0711 - val_recall: 0.6400 - val_auc: 0.6994\n",
            "Epoch 29/100\n",
            "2/2 [==============================] - 0s 14ms/step - loss: 0.6153 - tp: 97.0000 - fp: 43.0000 - tn: 95.0000 - fn: 41.0000 - accuracy: 0.6957 - precision: 0.6929 - recall: 0.7029 - auc: 0.7428 - val_loss: 0.6645 - val_tp: 32.0000 - val_fp: 405.0000 - val_tn: 763.0000 - val_fn: 18.0000 - val_accuracy: 0.6527 - val_precision: 0.0732 - val_recall: 0.6400 - val_auc: 0.6993\n",
            "Epoch 30/100\n",
            "2/2 [==============================] - 0s 15ms/step - loss: 0.6113 - tp: 100.0000 - fp: 39.0000 - tn: 99.0000 - fn: 38.0000 - accuracy: 0.7210 - precision: 0.7194 - recall: 0.7246 - auc: 0.7550 - val_loss: 0.6581 - val_tp: 32.0000 - val_fp: 402.0000 - val_tn: 766.0000 - val_fn: 18.0000 - val_accuracy: 0.6552 - val_precision: 0.0737 - val_recall: 0.6400 - val_auc: 0.6992\n",
            "Epoch 31/100\n",
            "2/2 [==============================] - 0s 16ms/step - loss: 0.6138 - tp: 100.0000 - fp: 41.0000 - tn: 97.0000 - fn: 38.0000 - accuracy: 0.7138 - precision: 0.7092 - recall: 0.7246 - auc: 0.7502 - val_loss: 0.6528 - val_tp: 32.0000 - val_fp: 389.0000 - val_tn: 779.0000 - val_fn: 18.0000 - val_accuracy: 0.6658 - val_precision: 0.0760 - val_recall: 0.6400 - val_auc: 0.6983\n",
            "Epoch 32/100\n",
            "2/2 [==============================] - 0s 18ms/step - loss: 0.6191 - tp: 94.0000 - fp: 41.0000 - tn: 97.0000 - fn: 44.0000 - accuracy: 0.6920 - precision: 0.6963 - recall: 0.6812 - auc: 0.7347 - val_loss: 0.6493 - val_tp: 32.0000 - val_fp: 384.0000 - val_tn: 784.0000 - val_fn: 18.0000 - val_accuracy: 0.6700 - val_precision: 0.0769 - val_recall: 0.6400 - val_auc: 0.6990\n",
            "Epoch 33/100\n",
            "1/2 [==============>...............] - ETA: 0s - loss: 0.6138 - tp: 86.0000 - fp: 36.0000 - tn: 90.0000 - fn: 44.0000 - accuracy: 0.6875 - precision: 0.7049 - recall: 0.6615 - auc: 0.7376Restoring model weights from the end of the best epoch.\n",
            "2/2 [==============================] - 0s 15ms/step - loss: 0.6159 - tp: 92.0000 - fp: 42.0000 - tn: 96.0000 - fn: 46.0000 - accuracy: 0.6812 - precision: 0.6866 - recall: 0.6667 - auc: 0.7331 - val_loss: 0.6465 - val_tp: 32.0000 - val_fp: 379.0000 - val_tn: 789.0000 - val_fn: 18.0000 - val_accuracy: 0.6741 - val_precision: 0.0779 - val_recall: 0.6400 - val_auc: 0.6983\n",
            "Epoch 00033: early stopping\n"
          ],
          "name": "stdout"
        }
      ]
    },
    {
      "cell_type": "code",
      "metadata": {
        "id": "gRrjh94D8kBu",
        "outputId": "fec10efa-24fa-44f6-8baf-b2a9da1f66c4",
        "colab": {
          "base_uri": "https://localhost:8080/",
          "height": 501
        }
      },
      "source": [
        "plot_history(history_under_sample)"
      ],
      "execution_count": 60,
      "outputs": [
        {
          "output_type": "display_data",
          "data": {
            "image/png": "[encoded data removed]",
            "text/plain": [
              "<Figure size 720x576 with 4 Axes>"
            ]
          },
          "metadata": {
            "tags": [],
            "needs_background": "light"
          }
        }
      ]
    },
    {
      "cell_type": "code",
      "metadata": {
        "id": "4M1hnSNV8kH4",
        "outputId": "1b004308-83e2-4540-8397-c1e14c891613",
        "colab": {
          "base_uri": "https://localhost:8080/",
          "height": 170
        }
      },
      "source": [
        "y_hat_proba = model.predict(X_test)\n",
        "y_hat = np.where(y_hat_proba > 0.5, 1, 0)\n",
        "print(classification_report(y_test, y_hat))"
      ],
      "execution_count": 61,
      "outputs": [
        {
          "output_type": "stream",
          "text": [
            "              precision    recall  f1-score   support\n",
            "\n",
            "           0       0.98      0.64      0.78      1567\n",
            "           1       0.06      0.64      0.11        58\n",
            "\n",
            "    accuracy                           0.64      1625\n",
            "   macro avg       0.52      0.64      0.45      1625\n",
            "weighted avg       0.95      0.64      0.75      1625\n",
            "\n"
          ],
          "name": "stdout"
        }
      ]
    },
    {
      "cell_type": "code",
      "metadata": {
        "id": "0IbKiBxcF9NM",
        "outputId": "b2d1d407-dfdc-4fc9-ac5b-70d83e1bd71a",
        "colab": {
          "base_uri": "https://localhost:8080/",
          "height": 266
        }
      },
      "source": [
        "cm, acc, maj, min, f1 = score_model(y_test, y_hat)\n",
        "results_df.loc['Under Sample'] = [*maj, *min, acc, f1]\n",
        "results_df"
      ],
      "execution_count": 62,
      "outputs": [
        {
          "output_type": "execute_result",
          "data": {
            "text/html": [
              "<div>\n",
              "<style scoped>\n",
              "    .dataframe tbody tr th:only-of-type {\n",
              "        vertical-align: middle;\n",
              "    }\n",
              "\n",
              "    .dataframe tbody tr th {\n",
              "        vertical-align: top;\n",
              "    }\n",
              "\n",
              "    .dataframe thead tr th {\n",
              "        text-align: left;\n",
              "    }\n",
              "</style>\n",
              "<table border=\"1\" class=\"dataframe\">\n",
              "  <thead>\n",
              "    <tr>\n",
              "      <th></th>\n",
              "      <th colspan=\"2\" halign=\"left\">Majority</th>\n",
              "      <th colspan=\"2\" halign=\"left\">Minority</th>\n",
              "      <th colspan=\"2\" halign=\"left\">Scoring</th>\n",
              "    </tr>\n",
              "    <tr>\n",
              "      <th></th>\n",
              "      <th>Precision</th>\n",
              "      <th>Recall</th>\n",
              "      <th>Precision</th>\n",
              "      <th>Recall</th>\n",
              "      <th>Accuracy</th>\n",
              "      <th>F1</th>\n",
              "    </tr>\n",
              "  </thead>\n",
              "  <tbody>\n",
              "    <tr>\n",
              "      <th>Baseline</th>\n",
              "      <td>0.964308</td>\n",
              "      <td>1.000000</td>\n",
              "      <td>NaN</td>\n",
              "      <td>0.000000</td>\n",
              "      <td>0.964308</td>\n",
              "      <td>0.000000</td>\n",
              "    </tr>\n",
              "    <tr>\n",
              "      <th>Random</th>\n",
              "      <td>0.948980</td>\n",
              "      <td>0.534142</td>\n",
              "      <td>0.017497</td>\n",
              "      <td>0.224138</td>\n",
              "      <td>0.523077</td>\n",
              "      <td>0.032459</td>\n",
              "    </tr>\n",
              "    <tr>\n",
              "      <th>Unbalanced</th>\n",
              "      <td>0.964308</td>\n",
              "      <td>1.000000</td>\n",
              "      <td>NaN</td>\n",
              "      <td>0.000000</td>\n",
              "      <td>0.964308</td>\n",
              "      <td>0.000000</td>\n",
              "    </tr>\n",
              "    <tr>\n",
              "      <th>Weighted</th>\n",
              "      <td>0.987685</td>\n",
              "      <td>0.767709</td>\n",
              "      <td>0.105651</td>\n",
              "      <td>0.741379</td>\n",
              "      <td>0.766769</td>\n",
              "      <td>0.184946</td>\n",
              "    </tr>\n",
              "    <tr>\n",
              "      <th>Over Sample</th>\n",
              "      <td>0.985004</td>\n",
              "      <td>0.796426</td>\n",
              "      <td>0.108939</td>\n",
              "      <td>0.672414</td>\n",
              "      <td>0.792000</td>\n",
              "      <td>0.187500</td>\n",
              "    </tr>\n",
              "    <tr>\n",
              "      <th>Under Sample</th>\n",
              "      <td>0.979631</td>\n",
              "      <td>0.644544</td>\n",
              "      <td>0.062290</td>\n",
              "      <td>0.637931</td>\n",
              "      <td>0.644308</td>\n",
              "      <td>0.113497</td>\n",
              "    </tr>\n",
              "  </tbody>\n",
              "</table>\n",
              "</div>"
            ],
            "text/plain": [
              "              Majority            Minority             Scoring          \n",
              "             Precision    Recall Precision    Recall  Accuracy        F1\n",
              "Baseline      0.964308  1.000000       NaN  0.000000  0.964308  0.000000\n",
              "Random        0.948980  0.534142  0.017497  0.224138  0.523077  0.032459\n",
              "Unbalanced    0.964308  1.000000       NaN  0.000000  0.964308  0.000000\n",
              "Weighted      0.987685  0.767709  0.105651  0.741379  0.766769  0.184946\n",
              "Over Sample   0.985004  0.796426  0.108939  0.672414  0.792000  0.187500\n",
              "Under Sample  0.979631  0.644544  0.062290  0.637931  0.644308  0.113497"
            ]
          },
          "metadata": {
            "tags": []
          },
          "execution_count": 62
        }
      ]
    },
    {
      "cell_type": "markdown",
      "metadata": {
        "id": "yJXDh4hazAnU"
      },
      "source": [
        "# Batch Balancing"
      ]
    },
    {
      "cell_type": "code",
      "metadata": {
        "id": "RtzaAB7L1hTP",
        "outputId": "29904581-3017-49c0-db4a-ebe6b2fcc133",
        "colab": {
          "base_uri": "https://localhost:8080/",
          "height": 255
        }
      },
      "source": [
        "model = construct_model()\n",
        "model.summary()"
      ],
      "execution_count": 63,
      "outputs": [
        {
          "output_type": "stream",
          "text": [
            "Model: \"sequential_5\"\n",
            "_________________________________________________________________\n",
            "Layer (type)                 Output Shape              Param #   \n",
            "=================================================================\n",
            "dense_10 (Dense)             (None, 64)                768       \n",
            "_________________________________________________________________\n",
            "dropout_5 (Dropout)          (None, 64)                0         \n",
            "_________________________________________________________________\n",
            "dense_11 (Dense)             (None, 1)                 65        \n",
            "=================================================================\n",
            "Total params: 833\n",
            "Trainable params: 833\n",
            "Non-trainable params: 0\n",
            "_________________________________________________________________\n"
          ],
          "name": "stdout"
        }
      ]
    },
    {
      "cell_type": "code",
      "metadata": {
        "id": "Apdw4uNv3Apc",
        "outputId": "d30c3de8-331f-4ee0-db7b-7d79df3b48c3",
        "colab": {
          "base_uri": "https://localhost:8080/",
          "height": 71
        }
      },
      "source": [
        "training_generator = BalancedBatchGenerator(\n",
        "    X_train, \n",
        "    y_train.to_numpy(), \n",
        "    sampler=RandomOverSampler(), \n",
        "    batch_size=32, \n",
        "    random_state=42)"
      ],
      "execution_count": 64,
      "outputs": [
        {
          "output_type": "stream",
          "text": [
            "/usr/local/lib/python3.6/dist-packages/sklearn/utils/deprecation.py:87: FutureWarning: Function safe_indexing is deprecated; safe_indexing is deprecated in version 0.22 and will be removed in version 0.24.\n",
            "  warnings.warn(msg, category=FutureWarning)\n"
          ],
          "name": "stderr"
        }
      ]
    },
    {
      "cell_type": "code",
      "metadata": {
        "id": "qgGv7naQ12NY",
        "outputId": "be443891-9abf-4c65-d8a9-0996f9ff3f5f",
        "colab": {
          "base_uri": "https://localhost:8080/",
          "height": 581
        }
      },
      "source": [
        "history_batch_balanced = model.fit(\n",
        "    training_generator,\n",
        "    validation_data=(X_val, y_val),\n",
        "    epochs=EPOCHS,\n",
        "    callbacks = [early_stopping])"
      ],
      "execution_count": 65,
      "outputs": [
        {
          "output_type": "stream",
          "text": [
            "Epoch 1/100\n"
          ],
          "name": "stdout"
        },
        {
          "output_type": "stream",
          "text": [
            "/usr/local/lib/python3.6/dist-packages/sklearn/utils/deprecation.py:87: FutureWarning: Function safe_indexing is deprecated; safe_indexing is deprecated in version 0.22 and will be removed in version 0.24.\n",
            "  warnings.warn(msg, category=FutureWarning)\n"
          ],
          "name": "stderr"
        },
        {
          "output_type": "stream",
          "text": [
            "219/219 [==============================] - 1s 5ms/step - loss: 0.6103 - tp: 2429.0000 - fp: 1636.0000 - tn: 3036.0000 - fn: 1125.0000 - accuracy: 0.6644 - precision: 0.5975 - recall: 0.6835 - auc: 0.7316 - val_loss: 0.5660 - val_tp: 34.0000 - val_fp: 307.0000 - val_tn: 861.0000 - val_fn: 16.0000 - val_accuracy: 0.7348 - val_precision: 0.0997 - val_recall: 0.6800 - val_auc: 0.7835\n",
            "Epoch 2/100\n",
            "219/219 [==============================] - 0s 2ms/step - loss: 0.5261 - tp: 2680.0000 - fp: 914.0000 - tn: 2590.0000 - fn: 824.0000 - accuracy: 0.7520 - precision: 0.7457 - recall: 0.7648 - auc: 0.8239 - val_loss: 0.5389 - val_tp: 34.0000 - val_fp: 281.0000 - val_tn: 887.0000 - val_fn: 16.0000 - val_accuracy: 0.7562 - val_precision: 0.1079 - val_recall: 0.6800 - val_auc: 0.7986\n",
            "Epoch 3/100\n",
            "219/219 [==============================] - 0s 2ms/step - loss: 0.4958 - tp: 2752.0000 - fp: 842.0000 - tn: 2662.0000 - fn: 752.0000 - accuracy: 0.7725 - precision: 0.7657 - recall: 0.7854 - auc: 0.8444 - val_loss: 0.5345 - val_tp: 38.0000 - val_fp: 282.0000 - val_tn: 886.0000 - val_fn: 12.0000 - val_accuracy: 0.7586 - val_precision: 0.1187 - val_recall: 0.7600 - val_auc: 0.8120\n",
            "Epoch 4/100\n",
            "219/219 [==============================] - 0s 2ms/step - loss: 0.4769 - tp: 2833.0000 - fp: 820.0000 - tn: 2684.0000 - fn: 671.0000 - accuracy: 0.7872 - precision: 0.7755 - recall: 0.8085 - auc: 0.8566 - val_loss: 0.5396 - val_tp: 38.0000 - val_fp: 302.0000 - val_tn: 866.0000 - val_fn: 12.0000 - val_accuracy: 0.7422 - val_precision: 0.1118 - val_recall: 0.7600 - val_auc: 0.8111\n",
            "Epoch 5/100\n",
            "219/219 [==============================] - 0s 2ms/step - loss: 0.4703 - tp: 2830.0000 - fp: 790.0000 - tn: 2714.0000 - fn: 674.0000 - accuracy: 0.7911 - precision: 0.7818 - recall: 0.8076 - auc: 0.8613 - val_loss: 0.4906 - val_tp: 35.0000 - val_fp: 250.0000 - val_tn: 918.0000 - val_fn: 15.0000 - val_accuracy: 0.7824 - val_precision: 0.1228 - val_recall: 0.7000 - val_auc: 0.8146\n",
            "Epoch 6/100\n",
            "219/219 [==============================] - 0s 2ms/step - loss: 0.4551 - tp: 2848.0000 - fp: 761.0000 - tn: 2743.0000 - fn: 656.0000 - accuracy: 0.7978 - precision: 0.7891 - recall: 0.8128 - auc: 0.8699 - val_loss: 0.4538 - val_tp: 34.0000 - val_fp: 213.0000 - val_tn: 955.0000 - val_fn: 16.0000 - val_accuracy: 0.8120 - val_precision: 0.1377 - val_recall: 0.6800 - val_auc: 0.8178\n",
            "Epoch 7/100\n",
            "219/219 [==============================] - 0s 2ms/step - loss: 0.4478 - tp: 2858.0000 - fp: 707.0000 - tn: 2797.0000 - fn: 646.0000 - accuracy: 0.8069 - precision: 0.8017 - recall: 0.8156 - auc: 0.8747 - val_loss: 0.4449 - val_tp: 31.0000 - val_fp: 213.0000 - val_tn: 955.0000 - val_fn: 19.0000 - val_accuracy: 0.8095 - val_precision: 0.1270 - val_recall: 0.6200 - val_auc: 0.8069\n",
            "Epoch 8/100\n",
            "219/219 [==============================] - 0s 2ms/step - loss: 0.4447 - tp: 2865.0000 - fp: 731.0000 - tn: 2773.0000 - fn: 639.0000 - accuracy: 0.8045 - precision: 0.7967 - recall: 0.8176 - auc: 0.8763 - val_loss: 0.4465 - val_tp: 34.0000 - val_fp: 207.0000 - val_tn: 961.0000 - val_fn: 16.0000 - val_accuracy: 0.8169 - val_precision: 0.1411 - val_recall: 0.6800 - val_auc: 0.8209\n",
            "Epoch 9/100\n",
            "219/219 [==============================] - 0s 2ms/step - loss: 0.4361 - tp: 2890.0000 - fp: 704.0000 - tn: 2800.0000 - fn: 614.0000 - accuracy: 0.8119 - precision: 0.8041 - recall: 0.8248 - auc: 0.8817 - val_loss: 0.4273 - val_tp: 33.0000 - val_fp: 190.0000 - val_tn: 978.0000 - val_fn: 17.0000 - val_accuracy: 0.8300 - val_precision: 0.1480 - val_recall: 0.6600 - val_auc: 0.8218\n",
            "Epoch 10/100\n",
            "219/219 [==============================] - 0s 2ms/step - loss: 0.4300 - tp: 2875.0000 - fp: 687.0000 - tn: 2817.0000 - fn: 629.0000 - accuracy: 0.8122 - precision: 0.8071 - recall: 0.8205 - auc: 0.8850 - val_loss: 0.4491 - val_tp: 34.0000 - val_fp: 220.0000 - val_tn: 948.0000 - val_fn: 16.0000 - val_accuracy: 0.8062 - val_precision: 0.1339 - val_recall: 0.6800 - val_auc: 0.8121\n",
            "Epoch 11/100\n",
            "219/219 [==============================] - 0s 2ms/step - loss: 0.4276 - tp: 2885.0000 - fp: 689.0000 - tn: 2815.0000 - fn: 619.0000 - accuracy: 0.8134 - precision: 0.8072 - recall: 0.8233 - auc: 0.8863 - val_loss: 0.4643 - val_tp: 36.0000 - val_fp: 235.0000 - val_tn: 933.0000 - val_fn: 14.0000 - val_accuracy: 0.7956 - val_precision: 0.1328 - val_recall: 0.7200 - val_auc: 0.8127\n",
            "Epoch 12/100\n",
            "219/219 [==============================] - 0s 2ms/step - loss: 0.4185 - tp: 2931.0000 - fp: 664.0000 - tn: 2840.0000 - fn: 573.0000 - accuracy: 0.8235 - precision: 0.8153 - recall: 0.8365 - auc: 0.8923 - val_loss: 0.4553 - val_tp: 35.0000 - val_fp: 225.0000 - val_tn: 943.0000 - val_fn: 15.0000 - val_accuracy: 0.8030 - val_precision: 0.1346 - val_recall: 0.7000 - val_auc: 0.8092\n",
            "Epoch 13/100\n",
            "219/219 [==============================] - 0s 2ms/step - loss: 0.4140 - tp: 2913.0000 - fp: 665.0000 - tn: 2839.0000 - fn: 591.0000 - accuracy: 0.8208 - precision: 0.8141 - recall: 0.8313 - auc: 0.8939 - val_loss: 0.4297 - val_tp: 33.0000 - val_fp: 200.0000 - val_tn: 968.0000 - val_fn: 17.0000 - val_accuracy: 0.8218 - val_precision: 0.1416 - val_recall: 0.6600 - val_auc: 0.8176\n",
            "Epoch 14/100\n",
            "193/219 [=========================>....] - ETA: 0s - loss: 0.4102 - tp: 2588.0000 - fp: 578.0000 - tn: 2493.0000 - fn: 517.0000 - accuracy: 0.8227 - precision: 0.8174 - recall: 0.8335 - auc: 0.8951Restoring model weights from the end of the best epoch.\n",
            "219/219 [==============================] - 0s 2ms/step - loss: 0.4104 - tp: 2930.0000 - fp: 661.0000 - tn: 2843.0000 - fn: 574.0000 - accuracy: 0.8238 - precision: 0.8159 - recall: 0.8362 - auc: 0.8953 - val_loss: 0.4132 - val_tp: 33.0000 - val_fp: 192.0000 - val_tn: 976.0000 - val_fn: 17.0000 - val_accuracy: 0.8284 - val_precision: 0.1467 - val_recall: 0.6600 - val_auc: 0.8164\n",
            "Epoch 00014: early stopping\n"
          ],
          "name": "stdout"
        }
      ]
    },
    {
      "cell_type": "code",
      "metadata": {
        "id": "bcaXNrUw12LC",
        "outputId": "8721d78f-b31d-4158-c1e7-6ae79be753bc",
        "colab": {
          "base_uri": "https://localhost:8080/",
          "height": 501
        }
      },
      "source": [
        "plot_history(history_batch_balanced)"
      ],
      "execution_count": 66,
      "outputs": [
        {
          "output_type": "display_data",
          "data": {
            "image/png": "[encoded data removed]",
            "text/plain": [
              "<Figure size 720x576 with 4 Axes>"
            ]
          },
          "metadata": {
            "tags": [],
            "needs_background": "light"
          }
        }
      ]
    },
    {
      "cell_type": "code",
      "metadata": {
        "id": "dEAvgU1e2ADh",
        "outputId": "c928b8e0-6682-4ba3-cf79-29e7eb84c088",
        "colab": {
          "base_uri": "https://localhost:8080/",
          "height": 170
        }
      },
      "source": [
        "y_hat_proba = model.predict(X_test)\n",
        "y_hat = np.where(y_hat_proba > 0.5, 1, 0)\n",
        "print(classification_report(y_test, y_hat))"
      ],
      "execution_count": 67,
      "outputs": [
        {
          "output_type": "stream",
          "text": [
            "              precision    recall  f1-score   support\n",
            "\n",
            "           0       0.98      0.84      0.91      1567\n",
            "           1       0.13      0.64      0.21        58\n",
            "\n",
            "    accuracy                           0.83      1625\n",
            "   macro avg       0.56      0.74      0.56      1625\n",
            "weighted avg       0.95      0.83      0.88      1625\n",
            "\n"
          ],
          "name": "stdout"
        }
      ]
    },
    {
      "cell_type": "code",
      "metadata": {
        "id": "wbjE1YguF_Vy",
        "outputId": "0bc6d32f-4a7b-41b9-ba05-fd37d9164442",
        "colab": {
          "base_uri": "https://localhost:8080/",
          "height": 297
        }
      },
      "source": [
        "cm, acc, maj, min, f1 = score_model(y_test, y_hat)\n",
        "results_df.loc['Balanced Batching'] = [*maj, *min, acc, f1]\n",
        "results_df"
      ],
      "execution_count": 68,
      "outputs": [
        {
          "output_type": "execute_result",
          "data": {
            "text/html": [
              "<div>\n",
              "<style scoped>\n",
              "    .dataframe tbody tr th:only-of-type {\n",
              "        vertical-align: middle;\n",
              "    }\n",
              "\n",
              "    .dataframe tbody tr th {\n",
              "        vertical-align: top;\n",
              "    }\n",
              "\n",
              "    .dataframe thead tr th {\n",
              "        text-align: left;\n",
              "    }\n",
              "</style>\n",
              "<table border=\"1\" class=\"dataframe\">\n",
              "  <thead>\n",
              "    <tr>\n",
              "      <th></th>\n",
              "      <th colspan=\"2\" halign=\"left\">Majority</th>\n",
              "      <th colspan=\"2\" halign=\"left\">Minority</th>\n",
              "      <th colspan=\"2\" halign=\"left\">Scoring</th>\n",
              "    </tr>\n",
              "    <tr>\n",
              "      <th></th>\n",
              "      <th>Precision</th>\n",
              "      <th>Recall</th>\n",
              "      <th>Precision</th>\n",
              "      <th>Recall</th>\n",
              "      <th>Accuracy</th>\n",
              "      <th>F1</th>\n",
              "    </tr>\n",
              "  </thead>\n",
              "  <tbody>\n",
              "    <tr>\n",
              "      <th>Baseline</th>\n",
              "      <td>0.964308</td>\n",
              "      <td>1.000000</td>\n",
              "      <td>NaN</td>\n",
              "      <td>0.000000</td>\n",
              "      <td>0.964308</td>\n",
              "      <td>0.000000</td>\n",
              "    </tr>\n",
              "    <tr>\n",
              "      <th>Random</th>\n",
              "      <td>0.948980</td>\n",
              "      <td>0.534142</td>\n",
              "      <td>0.017497</td>\n",
              "      <td>0.224138</td>\n",
              "      <td>0.523077</td>\n",
              "      <td>0.032459</td>\n",
              "    </tr>\n",
              "    <tr>\n",
              "      <th>Unbalanced</th>\n",
              "      <td>0.964308</td>\n",
              "      <td>1.000000</td>\n",
              "      <td>NaN</td>\n",
              "      <td>0.000000</td>\n",
              "      <td>0.964308</td>\n",
              "      <td>0.000000</td>\n",
              "    </tr>\n",
              "    <tr>\n",
              "      <th>Weighted</th>\n",
              "      <td>0.987685</td>\n",
              "      <td>0.767709</td>\n",
              "      <td>0.105651</td>\n",
              "      <td>0.741379</td>\n",
              "      <td>0.766769</td>\n",
              "      <td>0.184946</td>\n",
              "    </tr>\n",
              "    <tr>\n",
              "      <th>Over Sample</th>\n",
              "      <td>0.985004</td>\n",
              "      <td>0.796426</td>\n",
              "      <td>0.108939</td>\n",
              "      <td>0.672414</td>\n",
              "      <td>0.792000</td>\n",
              "      <td>0.187500</td>\n",
              "    </tr>\n",
              "    <tr>\n",
              "      <th>Under Sample</th>\n",
              "      <td>0.979631</td>\n",
              "      <td>0.644544</td>\n",
              "      <td>0.062290</td>\n",
              "      <td>0.637931</td>\n",
              "      <td>0.644308</td>\n",
              "      <td>0.113497</td>\n",
              "    </tr>\n",
              "    <tr>\n",
              "      <th>Balanced Batching</th>\n",
              "      <td>0.984270</td>\n",
              "      <td>0.838545</td>\n",
              "      <td>0.127586</td>\n",
              "      <td>0.637931</td>\n",
              "      <td>0.831385</td>\n",
              "      <td>0.212644</td>\n",
              "    </tr>\n",
              "  </tbody>\n",
              "</table>\n",
              "</div>"
            ],
            "text/plain": [
              "                   Majority            Minority             Scoring          \n",
              "                  Precision    Recall Precision    Recall  Accuracy        F1\n",
              "Baseline           0.964308  1.000000       NaN  0.000000  0.964308  0.000000\n",
              "Random             0.948980  0.534142  0.017497  0.224138  0.523077  0.032459\n",
              "Unbalanced         0.964308  1.000000       NaN  0.000000  0.964308  0.000000\n",
              "Weighted           0.987685  0.767709  0.105651  0.741379  0.766769  0.184946\n",
              "Over Sample        0.985004  0.796426  0.108939  0.672414  0.792000  0.187500\n",
              "Under Sample       0.979631  0.644544  0.062290  0.637931  0.644308  0.113497\n",
              "Balanced Batching  0.984270  0.838545  0.127586  0.637931  0.831385  0.212644"
            ]
          },
          "metadata": {
            "tags": []
          },
          "execution_count": 68
        }
      ]
    },
    {
      "cell_type": "markdown",
      "metadata": {
        "id": "6mZoA2s21Qbd"
      },
      "source": [
        "# Focal Loss"
      ]
    },
    {
      "cell_type": "code",
      "metadata": {
        "id": "9okmW-gi1htm"
      },
      "source": [
        "def focal_loss(y_true, y_pred):\n",
        "    gamma = 2.0\n",
        "    alpha = 0.25 \n",
        "    pt_1 = tf.where(tf.equal(y_true, 1), y_pred, tf.ones_like(y_pred))\n",
        "    pt_0 = tf.where(tf.equal(y_true, 0), y_pred, tf.zeros_like(y_pred))\n",
        "    return -K.sum(alpha * K.pow(1. - pt_1, gamma) * K.log(pt_1))-K.sum((1-alpha) * K.pow( pt_0, gamma) * K.log(1. - pt_0))"
      ],
      "execution_count": 69,
      "outputs": []
    },
    {
      "cell_type": "code",
      "metadata": {
        "id": "WL2SG6NZAdtd",
        "outputId": "b0d512ec-6c69-4bae-e86e-d7f8d6689718",
        "colab": {
          "base_uri": "https://localhost:8080/",
          "height": 255
        }
      },
      "source": [
        "model = construct_model(loss=focal_loss)\n",
        "model.summary()"
      ],
      "execution_count": 70,
      "outputs": [
        {
          "output_type": "stream",
          "text": [
            "Model: \"sequential_6\"\n",
            "_________________________________________________________________\n",
            "Layer (type)                 Output Shape              Param #   \n",
            "=================================================================\n",
            "dense_12 (Dense)             (None, 64)                768       \n",
            "_________________________________________________________________\n",
            "dropout_6 (Dropout)          (None, 64)                0         \n",
            "_________________________________________________________________\n",
            "dense_13 (Dense)             (None, 1)                 65        \n",
            "=================================================================\n",
            "Total params: 833\n",
            "Trainable params: 833\n",
            "Non-trainable params: 0\n",
            "_________________________________________________________________\n"
          ],
          "name": "stdout"
        }
      ]
    },
    {
      "cell_type": "code",
      "metadata": {
        "id": "vbbYHQzJA9bd",
        "outputId": "c1e477ea-13fe-46ac-8226-25b884ea4d83",
        "colab": {
          "base_uri": "https://localhost:8080/",
          "height": 1000
        }
      },
      "source": [
        "history_focal = model.fit(\n",
        "    X_train,\n",
        "    y_train,\n",
        "    batch_size=BATCH_SIZE,\n",
        "    epochs=EPOCHS,\n",
        "    callbacks = [early_stopping],\n",
        "    validation_data=(X_val, y_val))"
      ],
      "execution_count": 71,
      "outputs": [
        {
          "output_type": "stream",
          "text": [
            "Epoch 1/100\n",
            "15/15 [==============================] - 1s 51ms/step - loss: 31.8178 - tp: 78.0000 - fp: 1284.0000 - tn: 3400.0000 - fn: 110.0000 - accuracy: 0.7139 - precision: 0.0573 - recall: 0.4149 - auc: 0.6179 - val_loss: 18.8566 - val_tp: 7.0000 - val_fp: 172.0000 - val_tn: 996.0000 - val_fn: 43.0000 - val_accuracy: 0.8235 - val_precision: 0.0391 - val_recall: 0.1400 - val_auc: 0.5216\n",
            "Epoch 2/100\n",
            "15/15 [==============================] - 0s 4ms/step - loss: 16.0274 - tp: 9.0000 - fp: 323.0000 - tn: 3193.0000 - fn: 129.0000 - accuracy: 0.8763 - precision: 0.0271 - recall: 0.0652 - auc: 0.4745 - val_loss: 10.2230 - val_tp: 0.0000e+00 - val_fp: 4.0000 - val_tn: 1164.0000 - val_fn: 50.0000 - val_accuracy: 0.9557 - val_precision: 0.0000e+00 - val_recall: 0.0000e+00 - val_auc: 0.5022\n",
            "Epoch 3/100\n",
            "15/15 [==============================] - 0s 3ms/step - loss: 9.3989 - tp: 3.0000 - fp: 28.0000 - tn: 3488.0000 - fn: 135.0000 - accuracy: 0.9554 - precision: 0.0968 - recall: 0.0217 - auc: 0.4777 - val_loss: 7.1454 - val_tp: 0.0000e+00 - val_fp: 0.0000e+00 - val_tn: 1168.0000 - val_fn: 50.0000 - val_accuracy: 0.9589 - val_precision: 0.0000e+00 - val_recall: 0.0000e+00 - val_auc: 0.4954\n",
            "Epoch 4/100\n",
            "15/15 [==============================] - 0s 4ms/step - loss: 7.1799 - tp: 0.0000e+00 - fp: 4.0000 - tn: 3512.0000 - fn: 138.0000 - accuracy: 0.9611 - precision: 0.0000e+00 - recall: 0.0000e+00 - auc: 0.4533 - val_loss: 5.9044 - val_tp: 0.0000e+00 - val_fp: 0.0000e+00 - val_tn: 1168.0000 - val_fn: 50.0000 - val_accuracy: 0.9589 - val_precision: 0.0000e+00 - val_recall: 0.0000e+00 - val_auc: 0.5053\n",
            "Epoch 5/100\n",
            "15/15 [==============================] - 0s 4ms/step - loss: 6.1413 - tp: 0.0000e+00 - fp: 4.0000 - tn: 3512.0000 - fn: 138.0000 - accuracy: 0.9611 - precision: 0.0000e+00 - recall: 0.0000e+00 - auc: 0.4401 - val_loss: 5.3257 - val_tp: 0.0000e+00 - val_fp: 0.0000e+00 - val_tn: 1168.0000 - val_fn: 50.0000 - val_accuracy: 0.9589 - val_precision: 0.0000e+00 - val_recall: 0.0000e+00 - val_auc: 0.5265\n",
            "Epoch 6/100\n",
            "15/15 [==============================] - 0s 4ms/step - loss: 5.4271 - tp: 1.0000 - fp: 0.0000e+00 - tn: 3516.0000 - fn: 137.0000 - accuracy: 0.9625 - precision: 1.0000 - recall: 0.0072 - auc: 0.5105 - val_loss: 5.0184 - val_tp: 0.0000e+00 - val_fp: 0.0000e+00 - val_tn: 1168.0000 - val_fn: 50.0000 - val_accuracy: 0.9589 - val_precision: 0.0000e+00 - val_recall: 0.0000e+00 - val_auc: 0.5443\n",
            "Epoch 7/100\n",
            "15/15 [==============================] - 0s 4ms/step - loss: 5.2576 - tp: 0.0000e+00 - fp: 0.0000e+00 - tn: 3516.0000 - fn: 138.0000 - accuracy: 0.9622 - precision: 0.0000e+00 - recall: 0.0000e+00 - auc: 0.4566 - val_loss: 4.8237 - val_tp: 0.0000e+00 - val_fp: 0.0000e+00 - val_tn: 1168.0000 - val_fn: 50.0000 - val_accuracy: 0.9589 - val_precision: 0.0000e+00 - val_recall: 0.0000e+00 - val_auc: 0.5651\n",
            "Epoch 8/100\n",
            "15/15 [==============================] - 0s 4ms/step - loss: 4.9222 - tp: 0.0000e+00 - fp: 0.0000e+00 - tn: 3516.0000 - fn: 138.0000 - accuracy: 0.9622 - precision: 0.0000e+00 - recall: 0.0000e+00 - auc: 0.5019 - val_loss: 4.7009 - val_tp: 0.0000e+00 - val_fp: 0.0000e+00 - val_tn: 1168.0000 - val_fn: 50.0000 - val_accuracy: 0.9589 - val_precision: 0.0000e+00 - val_recall: 0.0000e+00 - val_auc: 0.5840\n",
            "Epoch 9/100\n",
            "15/15 [==============================] - 0s 4ms/step - loss: 4.5875 - tp: 0.0000e+00 - fp: 0.0000e+00 - tn: 3516.0000 - fn: 138.0000 - accuracy: 0.9622 - precision: 0.0000e+00 - recall: 0.0000e+00 - auc: 0.5627 - val_loss: 4.6119 - val_tp: 0.0000e+00 - val_fp: 0.0000e+00 - val_tn: 1168.0000 - val_fn: 50.0000 - val_accuracy: 0.9589 - val_precision: 0.0000e+00 - val_recall: 0.0000e+00 - val_auc: 0.6014\n",
            "Epoch 10/100\n",
            "15/15 [==============================] - 0s 4ms/step - loss: 4.6277 - tp: 0.0000e+00 - fp: 0.0000e+00 - tn: 3516.0000 - fn: 138.0000 - accuracy: 0.9622 - precision: 0.0000e+00 - recall: 0.0000e+00 - auc: 0.5464 - val_loss: 4.5474 - val_tp: 0.0000e+00 - val_fp: 0.0000e+00 - val_tn: 1168.0000 - val_fn: 50.0000 - val_accuracy: 0.9589 - val_precision: 0.0000e+00 - val_recall: 0.0000e+00 - val_auc: 0.6178\n",
            "Epoch 11/100\n",
            "15/15 [==============================] - 0s 4ms/step - loss: 4.5460 - tp: 0.0000e+00 - fp: 0.0000e+00 - tn: 3516.0000 - fn: 138.0000 - accuracy: 0.9622 - precision: 0.0000e+00 - recall: 0.0000e+00 - auc: 0.5546 - val_loss: 4.4876 - val_tp: 0.0000e+00 - val_fp: 0.0000e+00 - val_tn: 1168.0000 - val_fn: 50.0000 - val_accuracy: 0.9589 - val_precision: 0.0000e+00 - val_recall: 0.0000e+00 - val_auc: 0.6367\n",
            "Epoch 12/100\n",
            "15/15 [==============================] - 0s 4ms/step - loss: 4.2197 - tp: 0.0000e+00 - fp: 0.0000e+00 - tn: 3516.0000 - fn: 138.0000 - accuracy: 0.9622 - precision: 0.0000e+00 - recall: 0.0000e+00 - auc: 0.6281 - val_loss: 4.4385 - val_tp: 0.0000e+00 - val_fp: 0.0000e+00 - val_tn: 1168.0000 - val_fn: 50.0000 - val_accuracy: 0.9589 - val_precision: 0.0000e+00 - val_recall: 0.0000e+00 - val_auc: 0.6543\n",
            "Epoch 13/100\n",
            "15/15 [==============================] - 0s 4ms/step - loss: 4.4043 - tp: 0.0000e+00 - fp: 0.0000e+00 - tn: 3516.0000 - fn: 138.0000 - accuracy: 0.9622 - precision: 0.0000e+00 - recall: 0.0000e+00 - auc: 0.5730 - val_loss: 4.4051 - val_tp: 0.0000e+00 - val_fp: 0.0000e+00 - val_tn: 1168.0000 - val_fn: 50.0000 - val_accuracy: 0.9589 - val_precision: 0.0000e+00 - val_recall: 0.0000e+00 - val_auc: 0.6644\n",
            "Epoch 14/100\n",
            "15/15 [==============================] - 0s 4ms/step - loss: 4.2827 - tp: 0.0000e+00 - fp: 0.0000e+00 - tn: 3516.0000 - fn: 138.0000 - accuracy: 0.9622 - precision: 0.0000e+00 - recall: 0.0000e+00 - auc: 0.6029 - val_loss: 4.3739 - val_tp: 0.0000e+00 - val_fp: 0.0000e+00 - val_tn: 1168.0000 - val_fn: 50.0000 - val_accuracy: 0.9589 - val_precision: 0.0000e+00 - val_recall: 0.0000e+00 - val_auc: 0.6737\n",
            "Epoch 15/100\n",
            "15/15 [==============================] - 0s 4ms/step - loss: 4.1496 - tp: 0.0000e+00 - fp: 1.0000 - tn: 3515.0000 - fn: 138.0000 - accuracy: 0.9620 - precision: 0.0000e+00 - recall: 0.0000e+00 - auc: 0.6297 - val_loss: 4.3395 - val_tp: 0.0000e+00 - val_fp: 0.0000e+00 - val_tn: 1168.0000 - val_fn: 50.0000 - val_accuracy: 0.9589 - val_precision: 0.0000e+00 - val_recall: 0.0000e+00 - val_auc: 0.6885\n",
            "Epoch 16/100\n",
            "15/15 [==============================] - 0s 4ms/step - loss: 4.1605 - tp: 0.0000e+00 - fp: 0.0000e+00 - tn: 3516.0000 - fn: 138.0000 - accuracy: 0.9622 - precision: 0.0000e+00 - recall: 0.0000e+00 - auc: 0.6318 - val_loss: 4.3123 - val_tp: 0.0000e+00 - val_fp: 0.0000e+00 - val_tn: 1168.0000 - val_fn: 50.0000 - val_accuracy: 0.9589 - val_precision: 0.0000e+00 - val_recall: 0.0000e+00 - val_auc: 0.6981\n",
            "Epoch 17/100\n",
            "15/15 [==============================] - 0s 4ms/step - loss: 4.1904 - tp: 0.0000e+00 - fp: 0.0000e+00 - tn: 3516.0000 - fn: 138.0000 - accuracy: 0.9622 - precision: 0.0000e+00 - recall: 0.0000e+00 - auc: 0.6428 - val_loss: 4.2891 - val_tp: 0.0000e+00 - val_fp: 0.0000e+00 - val_tn: 1168.0000 - val_fn: 50.0000 - val_accuracy: 0.9589 - val_precision: 0.0000e+00 - val_recall: 0.0000e+00 - val_auc: 0.7048\n",
            "Epoch 18/100\n",
            "15/15 [==============================] - 0s 4ms/step - loss: 4.2538 - tp: 1.0000 - fp: 0.0000e+00 - tn: 3516.0000 - fn: 137.0000 - accuracy: 0.9625 - precision: 1.0000 - recall: 0.0072 - auc: 0.6258 - val_loss: 4.2741 - val_tp: 0.0000e+00 - val_fp: 0.0000e+00 - val_tn: 1168.0000 - val_fn: 50.0000 - val_accuracy: 0.9589 - val_precision: 0.0000e+00 - val_recall: 0.0000e+00 - val_auc: 0.7109\n",
            "Epoch 19/100\n",
            "15/15 [==============================] - 0s 4ms/step - loss: 3.9909 - tp: 0.0000e+00 - fp: 0.0000e+00 - tn: 3516.0000 - fn: 138.0000 - accuracy: 0.9622 - precision: 0.0000e+00 - recall: 0.0000e+00 - auc: 0.6745 - val_loss: 4.2464 - val_tp: 0.0000e+00 - val_fp: 0.0000e+00 - val_tn: 1168.0000 - val_fn: 50.0000 - val_accuracy: 0.9589 - val_precision: 0.0000e+00 - val_recall: 0.0000e+00 - val_auc: 0.7195\n",
            "Epoch 20/100\n",
            "15/15 [==============================] - 0s 4ms/step - loss: 3.9456 - tp: 0.0000e+00 - fp: 0.0000e+00 - tn: 3516.0000 - fn: 138.0000 - accuracy: 0.9622 - precision: 0.0000e+00 - recall: 0.0000e+00 - auc: 0.6857 - val_loss: 4.2320 - val_tp: 0.0000e+00 - val_fp: 0.0000e+00 - val_tn: 1168.0000 - val_fn: 50.0000 - val_accuracy: 0.9589 - val_precision: 0.0000e+00 - val_recall: 0.0000e+00 - val_auc: 0.7206\n",
            "Epoch 21/100\n",
            "15/15 [==============================] - 0s 4ms/step - loss: 3.9510 - tp: 0.0000e+00 - fp: 1.0000 - tn: 3515.0000 - fn: 138.0000 - accuracy: 0.9620 - precision: 0.0000e+00 - recall: 0.0000e+00 - auc: 0.6842 - val_loss: 4.2178 - val_tp: 0.0000e+00 - val_fp: 0.0000e+00 - val_tn: 1168.0000 - val_fn: 50.0000 - val_accuracy: 0.9589 - val_precision: 0.0000e+00 - val_recall: 0.0000e+00 - val_auc: 0.7257\n",
            "Epoch 22/100\n",
            "15/15 [==============================] - 0s 4ms/step - loss: 3.9758 - tp: 0.0000e+00 - fp: 1.0000 - tn: 3515.0000 - fn: 138.0000 - accuracy: 0.9620 - precision: 0.0000e+00 - recall: 0.0000e+00 - auc: 0.6760 - val_loss: 4.2103 - val_tp: 0.0000e+00 - val_fp: 0.0000e+00 - val_tn: 1168.0000 - val_fn: 50.0000 - val_accuracy: 0.9589 - val_precision: 0.0000e+00 - val_recall: 0.0000e+00 - val_auc: 0.7277\n",
            "Epoch 23/100\n",
            "15/15 [==============================] - 0s 4ms/step - loss: 4.0061 - tp: 0.0000e+00 - fp: 0.0000e+00 - tn: 3516.0000 - fn: 138.0000 - accuracy: 0.9622 - precision: 0.0000e+00 - recall: 0.0000e+00 - auc: 0.6806 - val_loss: 4.1892 - val_tp: 0.0000e+00 - val_fp: 0.0000e+00 - val_tn: 1168.0000 - val_fn: 50.0000 - val_accuracy: 0.9589 - val_precision: 0.0000e+00 - val_recall: 0.0000e+00 - val_auc: 0.7325\n",
            "Epoch 24/100\n",
            "15/15 [==============================] - 0s 4ms/step - loss: 3.9600 - tp: 1.0000 - fp: 1.0000 - tn: 3515.0000 - fn: 137.0000 - accuracy: 0.9622 - precision: 0.5000 - recall: 0.0072 - auc: 0.6914 - val_loss: 4.1801 - val_tp: 0.0000e+00 - val_fp: 0.0000e+00 - val_tn: 1168.0000 - val_fn: 50.0000 - val_accuracy: 0.9589 - val_precision: 0.0000e+00 - val_recall: 0.0000e+00 - val_auc: 0.7335\n",
            "Epoch 25/100\n",
            "15/15 [==============================] - 0s 4ms/step - loss: 3.9710 - tp: 1.0000 - fp: 1.0000 - tn: 3515.0000 - fn: 137.0000 - accuracy: 0.9622 - precision: 0.5000 - recall: 0.0072 - auc: 0.6879 - val_loss: 4.1630 - val_tp: 0.0000e+00 - val_fp: 0.0000e+00 - val_tn: 1168.0000 - val_fn: 50.0000 - val_accuracy: 0.9589 - val_precision: 0.0000e+00 - val_recall: 0.0000e+00 - val_auc: 0.7359\n",
            "Epoch 26/100\n",
            "15/15 [==============================] - 0s 4ms/step - loss: 4.0195 - tp: 0.0000e+00 - fp: 0.0000e+00 - tn: 3516.0000 - fn: 138.0000 - accuracy: 0.9622 - precision: 0.0000e+00 - recall: 0.0000e+00 - auc: 0.6814 - val_loss: 4.1446 - val_tp: 0.0000e+00 - val_fp: 0.0000e+00 - val_tn: 1168.0000 - val_fn: 50.0000 - val_accuracy: 0.9589 - val_precision: 0.0000e+00 - val_recall: 0.0000e+00 - val_auc: 0.7410\n",
            "Epoch 27/100\n",
            "15/15 [==============================] - 0s 4ms/step - loss: 3.7689 - tp: 0.0000e+00 - fp: 0.0000e+00 - tn: 3516.0000 - fn: 138.0000 - accuracy: 0.9622 - precision: 0.0000e+00 - recall: 0.0000e+00 - auc: 0.7132 - val_loss: 4.1239 - val_tp: 0.0000e+00 - val_fp: 0.0000e+00 - val_tn: 1168.0000 - val_fn: 50.0000 - val_accuracy: 0.9589 - val_precision: 0.0000e+00 - val_recall: 0.0000e+00 - val_auc: 0.7463\n",
            "Epoch 28/100\n",
            "15/15 [==============================] - 0s 4ms/step - loss: 3.8439 - tp: 1.0000 - fp: 0.0000e+00 - tn: 3516.0000 - fn: 137.0000 - accuracy: 0.9625 - precision: 1.0000 - recall: 0.0072 - auc: 0.7139 - val_loss: 4.1345 - val_tp: 0.0000e+00 - val_fp: 0.0000e+00 - val_tn: 1168.0000 - val_fn: 50.0000 - val_accuracy: 0.9589 - val_precision: 0.0000e+00 - val_recall: 0.0000e+00 - val_auc: 0.7424\n",
            "Epoch 29/100\n",
            "15/15 [==============================] - 0s 4ms/step - loss: 3.8710 - tp: 0.0000e+00 - fp: 0.0000e+00 - tn: 3516.0000 - fn: 138.0000 - accuracy: 0.9622 - precision: 0.0000e+00 - recall: 0.0000e+00 - auc: 0.7060 - val_loss: 4.1225 - val_tp: 0.0000e+00 - val_fp: 0.0000e+00 - val_tn: 1168.0000 - val_fn: 50.0000 - val_accuracy: 0.9589 - val_precision: 0.0000e+00 - val_recall: 0.0000e+00 - val_auc: 0.7451\n",
            "Epoch 30/100\n",
            "15/15 [==============================] - 0s 4ms/step - loss: 3.8729 - tp: 0.0000e+00 - fp: 0.0000e+00 - tn: 3516.0000 - fn: 138.0000 - accuracy: 0.9622 - precision: 0.0000e+00 - recall: 0.0000e+00 - auc: 0.7130 - val_loss: 4.1000 - val_tp: 0.0000e+00 - val_fp: 0.0000e+00 - val_tn: 1168.0000 - val_fn: 50.0000 - val_accuracy: 0.9589 - val_precision: 0.0000e+00 - val_recall: 0.0000e+00 - val_auc: 0.7482\n",
            "Epoch 31/100\n",
            "15/15 [==============================] - 0s 4ms/step - loss: 3.8921 - tp: 0.0000e+00 - fp: 0.0000e+00 - tn: 3516.0000 - fn: 138.0000 - accuracy: 0.9622 - precision: 0.0000e+00 - recall: 0.0000e+00 - auc: 0.7143 - val_loss: 4.0964 - val_tp: 0.0000e+00 - val_fp: 0.0000e+00 - val_tn: 1168.0000 - val_fn: 50.0000 - val_accuracy: 0.9589 - val_precision: 0.0000e+00 - val_recall: 0.0000e+00 - val_auc: 0.7502\n",
            "Epoch 32/100\n",
            "15/15 [==============================] - 0s 4ms/step - loss: 3.7709 - tp: 0.0000e+00 - fp: 0.0000e+00 - tn: 3516.0000 - fn: 138.0000 - accuracy: 0.9622 - precision: 0.0000e+00 - recall: 0.0000e+00 - auc: 0.7118 - val_loss: 4.0756 - val_tp: 0.0000e+00 - val_fp: 0.0000e+00 - val_tn: 1168.0000 - val_fn: 50.0000 - val_accuracy: 0.9589 - val_precision: 0.0000e+00 - val_recall: 0.0000e+00 - val_auc: 0.7522\n",
            "Epoch 33/100\n",
            "15/15 [==============================] - 0s 4ms/step - loss: 3.7102 - tp: 0.0000e+00 - fp: 1.0000 - tn: 3515.0000 - fn: 138.0000 - accuracy: 0.9620 - precision: 0.0000e+00 - recall: 0.0000e+00 - auc: 0.7400 - val_loss: 4.0607 - val_tp: 0.0000e+00 - val_fp: 0.0000e+00 - val_tn: 1168.0000 - val_fn: 50.0000 - val_accuracy: 0.9589 - val_precision: 0.0000e+00 - val_recall: 0.0000e+00 - val_auc: 0.7555\n",
            "Epoch 34/100\n",
            "15/15 [==============================] - 0s 4ms/step - loss: 3.7037 - tp: 0.0000e+00 - fp: 0.0000e+00 - tn: 3516.0000 - fn: 138.0000 - accuracy: 0.9622 - precision: 0.0000e+00 - recall: 0.0000e+00 - auc: 0.7385 - val_loss: 4.0524 - val_tp: 0.0000e+00 - val_fp: 0.0000e+00 - val_tn: 1168.0000 - val_fn: 50.0000 - val_accuracy: 0.9589 - val_precision: 0.0000e+00 - val_recall: 0.0000e+00 - val_auc: 0.7543\n",
            "Epoch 35/100\n",
            "15/15 [==============================] - 0s 4ms/step - loss: 3.6273 - tp: 0.0000e+00 - fp: 0.0000e+00 - tn: 3516.0000 - fn: 138.0000 - accuracy: 0.9622 - precision: 0.0000e+00 - recall: 0.0000e+00 - auc: 0.7503 - val_loss: 4.0404 - val_tp: 0.0000e+00 - val_fp: 0.0000e+00 - val_tn: 1168.0000 - val_fn: 50.0000 - val_accuracy: 0.9589 - val_precision: 0.0000e+00 - val_recall: 0.0000e+00 - val_auc: 0.7551\n",
            "Epoch 36/100\n",
            "15/15 [==============================] - 0s 4ms/step - loss: 3.6013 - tp: 0.0000e+00 - fp: 0.0000e+00 - tn: 3516.0000 - fn: 138.0000 - accuracy: 0.9622 - precision: 0.0000e+00 - recall: 0.0000e+00 - auc: 0.7432 - val_loss: 4.0309 - val_tp: 0.0000e+00 - val_fp: 0.0000e+00 - val_tn: 1168.0000 - val_fn: 50.0000 - val_accuracy: 0.9589 - val_precision: 0.0000e+00 - val_recall: 0.0000e+00 - val_auc: 0.7576\n",
            "Epoch 37/100\n",
            "15/15 [==============================] - 0s 4ms/step - loss: 3.7474 - tp: 1.0000 - fp: 3.0000 - tn: 3513.0000 - fn: 137.0000 - accuracy: 0.9617 - precision: 0.2500 - recall: 0.0072 - auc: 0.7395 - val_loss: 4.0148 - val_tp: 0.0000e+00 - val_fp: 0.0000e+00 - val_tn: 1168.0000 - val_fn: 50.0000 - val_accuracy: 0.9589 - val_precision: 0.0000e+00 - val_recall: 0.0000e+00 - val_auc: 0.7598\n",
            "Epoch 38/100\n",
            "15/15 [==============================] - 0s 4ms/step - loss: 3.6882 - tp: 0.0000e+00 - fp: 0.0000e+00 - tn: 3516.0000 - fn: 138.0000 - accuracy: 0.9622 - precision: 0.0000e+00 - recall: 0.0000e+00 - auc: 0.7386 - val_loss: 4.0039 - val_tp: 0.0000e+00 - val_fp: 0.0000e+00 - val_tn: 1168.0000 - val_fn: 50.0000 - val_accuracy: 0.9589 - val_precision: 0.0000e+00 - val_recall: 0.0000e+00 - val_auc: 0.7628\n",
            "Epoch 39/100\n",
            "15/15 [==============================] - 0s 4ms/step - loss: 3.7440 - tp: 0.0000e+00 - fp: 1.0000 - tn: 3515.0000 - fn: 138.0000 - accuracy: 0.9620 - precision: 0.0000e+00 - recall: 0.0000e+00 - auc: 0.7288 - val_loss: 4.0009 - val_tp: 0.0000e+00 - val_fp: 0.0000e+00 - val_tn: 1168.0000 - val_fn: 50.0000 - val_accuracy: 0.9589 - val_precision: 0.0000e+00 - val_recall: 0.0000e+00 - val_auc: 0.7607\n",
            "Epoch 40/100\n",
            "15/15 [==============================] - 0s 4ms/step - loss: 3.7886 - tp: 0.0000e+00 - fp: 0.0000e+00 - tn: 3516.0000 - fn: 138.0000 - accuracy: 0.9622 - precision: 0.0000e+00 - recall: 0.0000e+00 - auc: 0.7219 - val_loss: 3.9929 - val_tp: 0.0000e+00 - val_fp: 0.0000e+00 - val_tn: 1168.0000 - val_fn: 50.0000 - val_accuracy: 0.9589 - val_precision: 0.0000e+00 - val_recall: 0.0000e+00 - val_auc: 0.7622\n",
            "Epoch 41/100\n",
            "15/15 [==============================] - 0s 4ms/step - loss: 3.5756 - tp: 1.0000 - fp: 0.0000e+00 - tn: 3516.0000 - fn: 137.0000 - accuracy: 0.9625 - precision: 1.0000 - recall: 0.0072 - auc: 0.7590 - val_loss: 3.9708 - val_tp: 0.0000e+00 - val_fp: 0.0000e+00 - val_tn: 1168.0000 - val_fn: 50.0000 - val_accuracy: 0.9589 - val_precision: 0.0000e+00 - val_recall: 0.0000e+00 - val_auc: 0.7650\n",
            "Epoch 42/100\n",
            "15/15 [==============================] - 0s 4ms/step - loss: 3.7224 - tp: 0.0000e+00 - fp: 1.0000 - tn: 3515.0000 - fn: 138.0000 - accuracy: 0.9620 - precision: 0.0000e+00 - recall: 0.0000e+00 - auc: 0.7363 - val_loss: 3.9623 - val_tp: 0.0000e+00 - val_fp: 0.0000e+00 - val_tn: 1168.0000 - val_fn: 50.0000 - val_accuracy: 0.9589 - val_precision: 0.0000e+00 - val_recall: 0.0000e+00 - val_auc: 0.7662\n",
            "Epoch 43/100\n",
            "15/15 [==============================] - 0s 4ms/step - loss: 3.8201 - tp: 1.0000 - fp: 0.0000e+00 - tn: 3516.0000 - fn: 137.0000 - accuracy: 0.9625 - precision: 1.0000 - recall: 0.0072 - auc: 0.7171 - val_loss: 3.9592 - val_tp: 0.0000e+00 - val_fp: 0.0000e+00 - val_tn: 1168.0000 - val_fn: 50.0000 - val_accuracy: 0.9589 - val_precision: 0.0000e+00 - val_recall: 0.0000e+00 - val_auc: 0.7646\n",
            "Epoch 44/100\n",
            "15/15 [==============================] - 0s 5ms/step - loss: 3.5120 - tp: 1.0000 - fp: 1.0000 - tn: 3515.0000 - fn: 137.0000 - accuracy: 0.9622 - precision: 0.5000 - recall: 0.0072 - auc: 0.7716 - val_loss: 3.9493 - val_tp: 0.0000e+00 - val_fp: 0.0000e+00 - val_tn: 1168.0000 - val_fn: 50.0000 - val_accuracy: 0.9589 - val_precision: 0.0000e+00 - val_recall: 0.0000e+00 - val_auc: 0.7651\n",
            "Epoch 45/100\n",
            "15/15 [==============================] - 0s 4ms/step - loss: 3.3903 - tp: 0.0000e+00 - fp: 1.0000 - tn: 3515.0000 - fn: 138.0000 - accuracy: 0.9620 - precision: 0.0000e+00 - recall: 0.0000e+00 - auc: 0.7817 - val_loss: 3.9448 - val_tp: 0.0000e+00 - val_fp: 0.0000e+00 - val_tn: 1168.0000 - val_fn: 50.0000 - val_accuracy: 0.9589 - val_precision: 0.0000e+00 - val_recall: 0.0000e+00 - val_auc: 0.7657\n",
            "Epoch 46/100\n",
            "15/15 [==============================] - 0s 4ms/step - loss: 3.5361 - tp: 1.0000 - fp: 0.0000e+00 - tn: 3516.0000 - fn: 137.0000 - accuracy: 0.9625 - precision: 1.0000 - recall: 0.0072 - auc: 0.7665 - val_loss: 3.9382 - val_tp: 0.0000e+00 - val_fp: 0.0000e+00 - val_tn: 1168.0000 - val_fn: 50.0000 - val_accuracy: 0.9589 - val_precision: 0.0000e+00 - val_recall: 0.0000e+00 - val_auc: 0.7662\n",
            "Epoch 47/100\n",
            " 1/15 [=>............................] - ETA: 0s - loss: 3.5439 - tp: 0.0000e+00 - fp: 0.0000e+00 - tn: 246.0000 - fn: 10.0000 - accuracy: 0.9609 - precision: 0.0000e+00 - recall: 0.0000e+00 - auc: 0.8150Restoring model weights from the end of the best epoch.\n",
            "15/15 [==============================] - 0s 4ms/step - loss: 3.5778 - tp: 0.0000e+00 - fp: 0.0000e+00 - tn: 3516.0000 - fn: 138.0000 - accuracy: 0.9622 - precision: 0.0000e+00 - recall: 0.0000e+00 - auc: 0.7557 - val_loss: 3.9384 - val_tp: 0.0000e+00 - val_fp: 0.0000e+00 - val_tn: 1168.0000 - val_fn: 50.0000 - val_accuracy: 0.9589 - val_precision: 0.0000e+00 - val_recall: 0.0000e+00 - val_auc: 0.7644\n",
            "Epoch 00047: early stopping\n"
          ],
          "name": "stdout"
        }
      ]
    },
    {
      "cell_type": "code",
      "metadata": {
        "id": "KblLw-70BKOR",
        "outputId": "2cb129b6-98a8-4aff-f8e8-74f1d99ceeea",
        "colab": {
          "base_uri": "https://localhost:8080/",
          "height": 501
        }
      },
      "source": [
        "plot_history(history_focal)"
      ],
      "execution_count": 72,
      "outputs": [
        {
          "output_type": "display_data",
          "data": {
            "image/png": "[encoded data removed]",
            "text/plain": [
              "<Figure size 720x576 with 4 Axes>"
            ]
          },
          "metadata": {
            "tags": [],
            "needs_background": "light"
          }
        }
      ]
    },
    {
      "cell_type": "code",
      "metadata": {
        "id": "-QwHeXvZBNfN",
        "outputId": "827b1704-8c49-4834-fe9c-c8411b5afd22",
        "colab": {
          "base_uri": "https://localhost:8080/",
          "height": 224
        }
      },
      "source": [
        "y_hat_proba = model.predict(X_test)\n",
        "y_hat = np.where(y_hat_proba > 0.5, 1, 0)\n",
        "print(classification_report(y_test, y_hat))"
      ],
      "execution_count": 73,
      "outputs": [
        {
          "output_type": "stream",
          "text": [
            "              precision    recall  f1-score   support\n",
            "\n",
            "           0       0.96      1.00      0.98      1567\n",
            "           1       0.00      0.00      0.00        58\n",
            "\n",
            "    accuracy                           0.96      1625\n",
            "   macro avg       0.48      0.50      0.49      1625\n",
            "weighted avg       0.93      0.96      0.95      1625\n",
            "\n"
          ],
          "name": "stdout"
        },
        {
          "output_type": "stream",
          "text": [
            "/usr/local/lib/python3.6/dist-packages/sklearn/metrics/_classification.py:1272: UndefinedMetricWarning: Precision and F-score are ill-defined and being set to 0.0 in labels with no predicted samples. Use `zero_division` parameter to control this behavior.\n",
            "  _warn_prf(average, modifier, msg_start, len(result))\n"
          ],
          "name": "stderr"
        }
      ]
    },
    {
      "cell_type": "code",
      "metadata": {
        "id": "UrlVLH5MGCN7",
        "outputId": "0db2ca26-d851-4901-cd23-a9d5e1d4e8c2",
        "colab": {
          "base_uri": "https://localhost:8080/",
          "height": 382
        }
      },
      "source": [
        "cm, acc, maj, min, f1 = score_model(y_test, y_hat)\n",
        "results_df.loc['Focal Loss'] = [*maj, *min, acc, f1]\n",
        "results_df"
      ],
      "execution_count": 74,
      "outputs": [
        {
          "output_type": "stream",
          "text": [
            "/usr/local/lib/python3.6/dist-packages/ipykernel_launcher.py:5: RuntimeWarning: invalid value encountered in long_scalars\n",
            "  \"\"\"\n"
          ],
          "name": "stderr"
        },
        {
          "output_type": "execute_result",
          "data": {
            "text/html": [
              "<div>\n",
              "<style scoped>\n",
              "    .dataframe tbody tr th:only-of-type {\n",
              "        vertical-align: middle;\n",
              "    }\n",
              "\n",
              "    .dataframe tbody tr th {\n",
              "        vertical-align: top;\n",
              "    }\n",
              "\n",
              "    .dataframe thead tr th {\n",
              "        text-align: left;\n",
              "    }\n",
              "</style>\n",
              "<table border=\"1\" class=\"dataframe\">\n",
              "  <thead>\n",
              "    <tr>\n",
              "      <th></th>\n",
              "      <th colspan=\"2\" halign=\"left\">Majority</th>\n",
              "      <th colspan=\"2\" halign=\"left\">Minority</th>\n",
              "      <th colspan=\"2\" halign=\"left\">Scoring</th>\n",
              "    </tr>\n",
              "    <tr>\n",
              "      <th></th>\n",
              "      <th>Precision</th>\n",
              "      <th>Recall</th>\n",
              "      <th>Precision</th>\n",
              "      <th>Recall</th>\n",
              "      <th>Accuracy</th>\n",
              "      <th>F1</th>\n",
              "    </tr>\n",
              "  </thead>\n",
              "  <tbody>\n",
              "    <tr>\n",
              "      <th>Baseline</th>\n",
              "      <td>0.964308</td>\n",
              "      <td>1.000000</td>\n",
              "      <td>NaN</td>\n",
              "      <td>0.000000</td>\n",
              "      <td>0.964308</td>\n",
              "      <td>0.000000</td>\n",
              "    </tr>\n",
              "    <tr>\n",
              "      <th>Random</th>\n",
              "      <td>0.948980</td>\n",
              "      <td>0.534142</td>\n",
              "      <td>0.017497</td>\n",
              "      <td>0.224138</td>\n",
              "      <td>0.523077</td>\n",
              "      <td>0.032459</td>\n",
              "    </tr>\n",
              "    <tr>\n",
              "      <th>Unbalanced</th>\n",
              "      <td>0.964308</td>\n",
              "      <td>1.000000</td>\n",
              "      <td>NaN</td>\n",
              "      <td>0.000000</td>\n",
              "      <td>0.964308</td>\n",
              "      <td>0.000000</td>\n",
              "    </tr>\n",
              "    <tr>\n",
              "      <th>Weighted</th>\n",
              "      <td>0.987685</td>\n",
              "      <td>0.767709</td>\n",
              "      <td>0.105651</td>\n",
              "      <td>0.741379</td>\n",
              "      <td>0.766769</td>\n",
              "      <td>0.184946</td>\n",
              "    </tr>\n",
              "    <tr>\n",
              "      <th>Over Sample</th>\n",
              "      <td>0.985004</td>\n",
              "      <td>0.796426</td>\n",
              "      <td>0.108939</td>\n",
              "      <td>0.672414</td>\n",
              "      <td>0.792000</td>\n",
              "      <td>0.187500</td>\n",
              "    </tr>\n",
              "    <tr>\n",
              "      <th>Under Sample</th>\n",
              "      <td>0.979631</td>\n",
              "      <td>0.644544</td>\n",
              "      <td>0.062290</td>\n",
              "      <td>0.637931</td>\n",
              "      <td>0.644308</td>\n",
              "      <td>0.113497</td>\n",
              "    </tr>\n",
              "    <tr>\n",
              "      <th>Balanced Batching</th>\n",
              "      <td>0.984270</td>\n",
              "      <td>0.838545</td>\n",
              "      <td>0.127586</td>\n",
              "      <td>0.637931</td>\n",
              "      <td>0.831385</td>\n",
              "      <td>0.212644</td>\n",
              "    </tr>\n",
              "    <tr>\n",
              "      <th>Focal Loss</th>\n",
              "      <td>0.964308</td>\n",
              "      <td>1.000000</td>\n",
              "      <td>NaN</td>\n",
              "      <td>0.000000</td>\n",
              "      <td>0.964308</td>\n",
              "      <td>0.000000</td>\n",
              "    </tr>\n",
              "  </tbody>\n",
              "</table>\n",
              "</div>"
            ],
            "text/plain": [
              "                   Majority            Minority             Scoring          \n",
              "                  Precision    Recall Precision    Recall  Accuracy        F1\n",
              "Baseline           0.964308  1.000000       NaN  0.000000  0.964308  0.000000\n",
              "Random             0.948980  0.534142  0.017497  0.224138  0.523077  0.032459\n",
              "Unbalanced         0.964308  1.000000       NaN  0.000000  0.964308  0.000000\n",
              "Weighted           0.987685  0.767709  0.105651  0.741379  0.766769  0.184946\n",
              "Over Sample        0.985004  0.796426  0.108939  0.672414  0.792000  0.187500\n",
              "Under Sample       0.979631  0.644544  0.062290  0.637931  0.644308  0.113497\n",
              "Balanced Batching  0.984270  0.838545  0.127586  0.637931  0.831385  0.212644\n",
              "Focal Loss         0.964308  1.000000       NaN  0.000000  0.964308  0.000000"
            ]
          },
          "metadata": {
            "tags": []
          },
          "execution_count": 74
        }
      ]
    },
    {
      "cell_type": "markdown",
      "metadata": {
        "id": "SY1PEAS-BW03"
      },
      "source": [
        "# Focal Loss + Over Sample"
      ]
    },
    {
      "cell_type": "code",
      "metadata": {
        "id": "lMvW7PI9BkJl",
        "outputId": "9dcedbb3-240d-43a8-f91a-5630a3972bb7",
        "colab": {
          "base_uri": "https://localhost:8080/",
          "height": 255
        }
      },
      "source": [
        "model = construct_model(loss=focal_loss)\n",
        "model.summary()"
      ],
      "execution_count": 75,
      "outputs": [
        {
          "output_type": "stream",
          "text": [
            "Model: \"sequential_7\"\n",
            "_________________________________________________________________\n",
            "Layer (type)                 Output Shape              Param #   \n",
            "=================================================================\n",
            "dense_14 (Dense)             (None, 64)                768       \n",
            "_________________________________________________________________\n",
            "dropout_7 (Dropout)          (None, 64)                0         \n",
            "_________________________________________________________________\n",
            "dense_15 (Dense)             (None, 1)                 65        \n",
            "=================================================================\n",
            "Total params: 833\n",
            "Trainable params: 833\n",
            "Non-trainable params: 0\n",
            "_________________________________________________________________\n"
          ],
          "name": "stdout"
        }
      ]
    },
    {
      "cell_type": "code",
      "metadata": {
        "id": "PCqQXbofBkGx",
        "outputId": "c17e95bc-6585-46c9-cbde-41696ae07220",
        "colab": {
          "base_uri": "https://localhost:8080/",
          "height": 71
        }
      },
      "source": [
        "sampler = RandomOverSampler()\n",
        "X_over, y_over = sampler.fit_resample(X_train, y_train)"
      ],
      "execution_count": 76,
      "outputs": [
        {
          "output_type": "stream",
          "text": [
            "/usr/local/lib/python3.6/dist-packages/sklearn/utils/deprecation.py:87: FutureWarning: Function safe_indexing is deprecated; safe_indexing is deprecated in version 0.22 and will be removed in version 0.24.\n",
            "  warnings.warn(msg, category=FutureWarning)\n"
          ],
          "name": "stderr"
        }
      ]
    },
    {
      "cell_type": "code",
      "metadata": {
        "id": "qR-MA_dABkEf",
        "outputId": "868bee8a-dc48-478f-cc3c-2e0f285caf2e",
        "colab": {
          "base_uri": "https://localhost:8080/",
          "height": 1000
        }
      },
      "source": [
        "history_focal_over_sample = model.fit(\n",
        "    X_over,\n",
        "    y_over,\n",
        "    batch_size=BATCH_SIZE,\n",
        "    epochs=EPOCHS,\n",
        "    callbacks = [early_stopping],\n",
        "    validation_data=(X_val, y_val))"
      ],
      "execution_count": 77,
      "outputs": [
        {
          "output_type": "stream",
          "text": [
            "Epoch 1/100\n",
            "28/28 [==============================] - 1s 30ms/step - loss: 33.2692 - tp: 2812.0000 - fp: 2480.0000 - tn: 2204.0000 - fn: 754.0000 - accuracy: 0.6080 - precision: 0.5314 - recall: 0.7886 - auc: 0.6932 - val_loss: 27.6401 - val_tp: 25.0000 - val_fp: 337.0000 - val_tn: 831.0000 - val_fn: 25.0000 - val_accuracy: 0.7028 - val_precision: 0.0691 - val_recall: 0.5000 - val_auc: 0.5996\n",
            "Epoch 2/100\n",
            "28/28 [==============================] - 0s 3ms/step - loss: 20.2736 - tp: 1300.0000 - fp: 706.0000 - tn: 2810.0000 - fn: 2216.0000 - accuracy: 0.5845 - precision: 0.6481 - recall: 0.3697 - auc: 0.6025 - val_loss: 17.5475 - val_tp: 13.0000 - val_fp: 94.0000 - val_tn: 1074.0000 - val_fn: 37.0000 - val_accuracy: 0.8924 - val_precision: 0.1215 - val_recall: 0.2600 - val_auc: 0.6939\n",
            "Epoch 3/100\n",
            "28/28 [==============================] - 0s 3ms/step - loss: 18.3503 - tp: 1169.0000 - fp: 428.0000 - tn: 3088.0000 - fn: 2347.0000 - accuracy: 0.6054 - precision: 0.7320 - recall: 0.3325 - auc: 0.6624 - val_loss: 16.1162 - val_tp: 14.0000 - val_fp: 88.0000 - val_tn: 1080.0000 - val_fn: 36.0000 - val_accuracy: 0.8982 - val_precision: 0.1373 - val_recall: 0.2800 - val_auc: 0.7339\n",
            "Epoch 4/100\n",
            "28/28 [==============================] - 0s 3ms/step - loss: 17.3686 - tp: 1261.0000 - fp: 373.0000 - tn: 3143.0000 - fn: 2255.0000 - accuracy: 0.6263 - precision: 0.7717 - recall: 0.3586 - auc: 0.7050 - val_loss: 15.3871 - val_tp: 15.0000 - val_fp: 92.0000 - val_tn: 1076.0000 - val_fn: 35.0000 - val_accuracy: 0.8957 - val_precision: 0.1402 - val_recall: 0.3000 - val_auc: 0.7511\n",
            "Epoch 5/100\n",
            "28/28 [==============================] - 0s 3ms/step - loss: 16.5367 - tp: 1335.0000 - fp: 339.0000 - tn: 3177.0000 - fn: 2181.0000 - accuracy: 0.6416 - precision: 0.7975 - recall: 0.3797 - auc: 0.7390 - val_loss: 14.3707 - val_tp: 16.0000 - val_fp: 83.0000 - val_tn: 1085.0000 - val_fn: 34.0000 - val_accuracy: 0.9039 - val_precision: 0.1616 - val_recall: 0.3200 - val_auc: 0.7648\n",
            "Epoch 6/100\n",
            "28/28 [==============================] - 0s 3ms/step - loss: 15.7973 - tp: 1392.0000 - fp: 305.0000 - tn: 3211.0000 - fn: 2124.0000 - accuracy: 0.6546 - precision: 0.8203 - recall: 0.3959 - auc: 0.7645 - val_loss: 14.3420 - val_tp: 16.0000 - val_fp: 89.0000 - val_tn: 1079.0000 - val_fn: 34.0000 - val_accuracy: 0.8990 - val_precision: 0.1524 - val_recall: 0.3200 - val_auc: 0.7720\n",
            "Epoch 7/100\n",
            "28/28 [==============================] - 0s 3ms/step - loss: 15.5118 - tp: 1427.0000 - fp: 296.0000 - tn: 3220.0000 - fn: 2089.0000 - accuracy: 0.6608 - precision: 0.8282 - recall: 0.4059 - auc: 0.7753 - val_loss: 13.8031 - val_tp: 16.0000 - val_fp: 83.0000 - val_tn: 1085.0000 - val_fn: 34.0000 - val_accuracy: 0.9039 - val_precision: 0.1616 - val_recall: 0.3200 - val_auc: 0.7745\n",
            "Epoch 8/100\n",
            "28/28 [==============================] - 0s 3ms/step - loss: 15.2854 - tp: 1572.0000 - fp: 321.0000 - tn: 3195.0000 - fn: 1944.0000 - accuracy: 0.6779 - precision: 0.8304 - recall: 0.4471 - auc: 0.7848 - val_loss: 13.6847 - val_tp: 18.0000 - val_fp: 89.0000 - val_tn: 1079.0000 - val_fn: 32.0000 - val_accuracy: 0.9007 - val_precision: 0.1682 - val_recall: 0.3600 - val_auc: 0.7812\n",
            "Epoch 9/100\n",
            "28/28 [==============================] - 0s 3ms/step - loss: 14.8332 - tp: 1520.0000 - fp: 272.0000 - tn: 3244.0000 - fn: 1996.0000 - accuracy: 0.6775 - precision: 0.8482 - recall: 0.4323 - auc: 0.8007 - val_loss: 13.3613 - val_tp: 18.0000 - val_fp: 82.0000 - val_tn: 1086.0000 - val_fn: 32.0000 - val_accuracy: 0.9064 - val_precision: 0.1800 - val_recall: 0.3600 - val_auc: 0.7847\n",
            "Epoch 10/100\n",
            "28/28 [==============================] - 0s 3ms/step - loss: 14.6587 - tp: 1577.0000 - fp: 290.0000 - tn: 3226.0000 - fn: 1939.0000 - accuracy: 0.6830 - precision: 0.8447 - recall: 0.4485 - auc: 0.8062 - val_loss: 12.7349 - val_tp: 18.0000 - val_fp: 77.0000 - val_tn: 1091.0000 - val_fn: 32.0000 - val_accuracy: 0.9105 - val_precision: 0.1895 - val_recall: 0.3600 - val_auc: 0.7867\n",
            "Epoch 11/100\n",
            "28/28 [==============================] - 0s 4ms/step - loss: 14.3478 - tp: 1576.0000 - fp: 282.0000 - tn: 3234.0000 - fn: 1940.0000 - accuracy: 0.6840 - precision: 0.8482 - recall: 0.4482 - auc: 0.8154 - val_loss: 13.0419 - val_tp: 18.0000 - val_fp: 81.0000 - val_tn: 1087.0000 - val_fn: 32.0000 - val_accuracy: 0.9072 - val_precision: 0.1818 - val_recall: 0.3600 - val_auc: 0.7899\n",
            "Epoch 12/100\n",
            "28/28 [==============================] - 0s 3ms/step - loss: 14.3056 - tp: 1619.0000 - fp: 283.0000 - tn: 3233.0000 - fn: 1897.0000 - accuracy: 0.6900 - precision: 0.8512 - recall: 0.4605 - auc: 0.8194 - val_loss: 12.8334 - val_tp: 17.0000 - val_fp: 80.0000 - val_tn: 1088.0000 - val_fn: 33.0000 - val_accuracy: 0.9072 - val_precision: 0.1753 - val_recall: 0.3400 - val_auc: 0.7913\n",
            "Epoch 13/100\n",
            "28/28 [==============================] - 0s 3ms/step - loss: 14.1217 - tp: 1651.0000 - fp: 284.0000 - tn: 3232.0000 - fn: 1865.0000 - accuracy: 0.6944 - precision: 0.8532 - recall: 0.4696 - auc: 0.8213 - val_loss: 12.5723 - val_tp: 17.0000 - val_fp: 79.0000 - val_tn: 1089.0000 - val_fn: 33.0000 - val_accuracy: 0.9080 - val_precision: 0.1771 - val_recall: 0.3400 - val_auc: 0.7962\n",
            "Epoch 14/100\n",
            "28/28 [==============================] - 0s 3ms/step - loss: 13.7932 - tp: 1691.0000 - fp: 263.0000 - tn: 3253.0000 - fn: 1825.0000 - accuracy: 0.7031 - precision: 0.8654 - recall: 0.4809 - auc: 0.8315 - val_loss: 12.6130 - val_tp: 17.0000 - val_fp: 81.0000 - val_tn: 1087.0000 - val_fn: 33.0000 - val_accuracy: 0.9064 - val_precision: 0.1735 - val_recall: 0.3400 - val_auc: 0.7988\n",
            "Epoch 15/100\n",
            "28/28 [==============================] - 0s 3ms/step - loss: 13.8434 - tp: 1664.0000 - fp: 273.0000 - tn: 3243.0000 - fn: 1852.0000 - accuracy: 0.6978 - precision: 0.8591 - recall: 0.4733 - auc: 0.8326 - val_loss: 12.1771 - val_tp: 17.0000 - val_fp: 76.0000 - val_tn: 1092.0000 - val_fn: 33.0000 - val_accuracy: 0.9105 - val_precision: 0.1828 - val_recall: 0.3400 - val_auc: 0.7962\n",
            "Epoch 16/100\n",
            "28/28 [==============================] - 0s 3ms/step - loss: 13.5209 - tp: 1753.0000 - fp: 252.0000 - tn: 3264.0000 - fn: 1763.0000 - accuracy: 0.7135 - precision: 0.8743 - recall: 0.4986 - auc: 0.8402 - val_loss: 12.5210 - val_tp: 17.0000 - val_fp: 78.0000 - val_tn: 1090.0000 - val_fn: 33.0000 - val_accuracy: 0.9089 - val_precision: 0.1789 - val_recall: 0.3400 - val_auc: 0.8034\n",
            "Epoch 17/100\n",
            "28/28 [==============================] - 0s 3ms/step - loss: 13.5075 - tp: 1763.0000 - fp: 271.0000 - tn: 3245.0000 - fn: 1753.0000 - accuracy: 0.7122 - precision: 0.8668 - recall: 0.5014 - auc: 0.8420 - val_loss: 11.9050 - val_tp: 16.0000 - val_fp: 74.0000 - val_tn: 1094.0000 - val_fn: 34.0000 - val_accuracy: 0.9113 - val_precision: 0.1778 - val_recall: 0.3200 - val_auc: 0.8060\n",
            "Epoch 18/100\n",
            "28/28 [==============================] - 0s 3ms/step - loss: 13.3847 - tp: 1697.0000 - fp: 240.0000 - tn: 3276.0000 - fn: 1819.0000 - accuracy: 0.7072 - precision: 0.8761 - recall: 0.4827 - auc: 0.8446 - val_loss: 12.3263 - val_tp: 18.0000 - val_fp: 78.0000 - val_tn: 1090.0000 - val_fn: 32.0000 - val_accuracy: 0.9097 - val_precision: 0.1875 - val_recall: 0.3600 - val_auc: 0.8128\n",
            "Epoch 19/100\n",
            "28/28 [==============================] - 0s 3ms/step - loss: 13.3898 - tp: 1719.0000 - fp: 254.0000 - tn: 3262.0000 - fn: 1797.0000 - accuracy: 0.7083 - precision: 0.8713 - recall: 0.4889 - auc: 0.8452 - val_loss: 12.2120 - val_tp: 19.0000 - val_fp: 76.0000 - val_tn: 1092.0000 - val_fn: 31.0000 - val_accuracy: 0.9122 - val_precision: 0.2000 - val_recall: 0.3800 - val_auc: 0.8120\n",
            "Epoch 20/100\n",
            "28/28 [==============================] - 0s 3ms/step - loss: 13.1795 - tp: 1744.0000 - fp: 255.0000 - tn: 3261.0000 - fn: 1772.0000 - accuracy: 0.7117 - precision: 0.8724 - recall: 0.4960 - auc: 0.8507 - val_loss: 11.8707 - val_tp: 18.0000 - val_fp: 74.0000 - val_tn: 1094.0000 - val_fn: 32.0000 - val_accuracy: 0.9130 - val_precision: 0.1957 - val_recall: 0.3600 - val_auc: 0.8124\n",
            "Epoch 21/100\n",
            "28/28 [==============================] - 0s 3ms/step - loss: 13.1068 - tp: 1785.0000 - fp: 251.0000 - tn: 3265.0000 - fn: 1731.0000 - accuracy: 0.7181 - precision: 0.8767 - recall: 0.5077 - auc: 0.8539 - val_loss: 11.8538 - val_tp: 19.0000 - val_fp: 74.0000 - val_tn: 1094.0000 - val_fn: 31.0000 - val_accuracy: 0.9138 - val_precision: 0.2043 - val_recall: 0.3800 - val_auc: 0.8155\n",
            "Epoch 22/100\n",
            "28/28 [==============================] - 0s 3ms/step - loss: 12.9575 - tp: 1752.0000 - fp: 234.0000 - tn: 3282.0000 - fn: 1764.0000 - accuracy: 0.7159 - precision: 0.8822 - recall: 0.4983 - auc: 0.8580 - val_loss: 11.7637 - val_tp: 20.0000 - val_fp: 73.0000 - val_tn: 1095.0000 - val_fn: 30.0000 - val_accuracy: 0.9154 - val_precision: 0.2151 - val_recall: 0.4000 - val_auc: 0.8122\n",
            "Epoch 23/100\n",
            "28/28 [==============================] - 0s 3ms/step - loss: 12.9452 - tp: 1771.0000 - fp: 247.0000 - tn: 3269.0000 - fn: 1745.0000 - accuracy: 0.7167 - precision: 0.8776 - recall: 0.5037 - auc: 0.8587 - val_loss: 11.4900 - val_tp: 19.0000 - val_fp: 74.0000 - val_tn: 1094.0000 - val_fn: 31.0000 - val_accuracy: 0.9138 - val_precision: 0.2043 - val_recall: 0.3800 - val_auc: 0.8148\n",
            "Epoch 24/100\n",
            "28/28 [==============================] - 0s 3ms/step - loss: 12.8844 - tp: 1742.0000 - fp: 239.0000 - tn: 3277.0000 - fn: 1774.0000 - accuracy: 0.7137 - precision: 0.8794 - recall: 0.4954 - auc: 0.8594 - val_loss: 11.9147 - val_tp: 22.0000 - val_fp: 78.0000 - val_tn: 1090.0000 - val_fn: 28.0000 - val_accuracy: 0.9130 - val_precision: 0.2200 - val_recall: 0.4400 - val_auc: 0.8153\n",
            "Epoch 25/100\n",
            "28/28 [==============================] - 0s 3ms/step - loss: 12.7831 - tp: 1856.0000 - fp: 259.0000 - tn: 3257.0000 - fn: 1660.0000 - accuracy: 0.7271 - precision: 0.8775 - recall: 0.5279 - auc: 0.8635 - val_loss: 11.1553 - val_tp: 18.0000 - val_fp: 73.0000 - val_tn: 1095.0000 - val_fn: 32.0000 - val_accuracy: 0.9138 - val_precision: 0.1978 - val_recall: 0.3600 - val_auc: 0.8114\n",
            "Epoch 26/100\n",
            "28/28 [==============================] - 0s 3ms/step - loss: 12.7202 - tp: 1787.0000 - fp: 226.0000 - tn: 3290.0000 - fn: 1729.0000 - accuracy: 0.7220 - precision: 0.8877 - recall: 0.5082 - auc: 0.8620 - val_loss: 11.8363 - val_tp: 23.0000 - val_fp: 81.0000 - val_tn: 1087.0000 - val_fn: 27.0000 - val_accuracy: 0.9113 - val_precision: 0.2212 - val_recall: 0.4600 - val_auc: 0.8189\n",
            "Epoch 27/100\n",
            "28/28 [==============================] - 0s 3ms/step - loss: 12.5974 - tp: 1876.0000 - fp: 268.0000 - tn: 3248.0000 - fn: 1640.0000 - accuracy: 0.7287 - precision: 0.8750 - recall: 0.5336 - auc: 0.8673 - val_loss: 10.7762 - val_tp: 18.0000 - val_fp: 69.0000 - val_tn: 1099.0000 - val_fn: 32.0000 - val_accuracy: 0.9171 - val_precision: 0.2069 - val_recall: 0.3600 - val_auc: 0.8104\n",
            "Epoch 28/100\n",
            "28/28 [==============================] - 0s 3ms/step - loss: 12.6461 - tp: 1784.0000 - fp: 243.0000 - tn: 3273.0000 - fn: 1732.0000 - accuracy: 0.7191 - precision: 0.8801 - recall: 0.5074 - auc: 0.8658 - val_loss: 11.5887 - val_tp: 22.0000 - val_fp: 77.0000 - val_tn: 1091.0000 - val_fn: 28.0000 - val_accuracy: 0.9138 - val_precision: 0.2222 - val_recall: 0.4400 - val_auc: 0.8153\n",
            "Epoch 29/100\n",
            "28/28 [==============================] - 0s 3ms/step - loss: 12.5085 - tp: 1873.0000 - fp: 243.0000 - tn: 3273.0000 - fn: 1643.0000 - accuracy: 0.7318 - precision: 0.8852 - recall: 0.5327 - auc: 0.8699 - val_loss: 11.0752 - val_tp: 19.0000 - val_fp: 73.0000 - val_tn: 1095.0000 - val_fn: 31.0000 - val_accuracy: 0.9146 - val_precision: 0.2065 - val_recall: 0.3800 - val_auc: 0.8105\n",
            "Epoch 30/100\n",
            "28/28 [==============================] - 0s 3ms/step - loss: 12.4700 - tp: 1827.0000 - fp: 229.0000 - tn: 3287.0000 - fn: 1689.0000 - accuracy: 0.7272 - precision: 0.8886 - recall: 0.5196 - auc: 0.8724 - val_loss: 11.0463 - val_tp: 20.0000 - val_fp: 76.0000 - val_tn: 1092.0000 - val_fn: 30.0000 - val_accuracy: 0.9130 - val_precision: 0.2083 - val_recall: 0.4000 - val_auc: 0.8125\n",
            "Epoch 31/100\n",
            "24/28 [========================>.....] - ETA: 0s - loss: 12.5020 - tp: 1667.0000 - fp: 209.0000 - tn: 2859.0000 - fn: 1409.0000 - accuracy: 0.7367 - precision: 0.8886 - recall: 0.5419 - auc: 0.8734Restoring model weights from the end of the best epoch.\n",
            "28/28 [==============================] - 0s 3ms/step - loss: 12.3513 - tp: 1918.0000 - fp: 239.0000 - tn: 3277.0000 - fn: 1598.0000 - accuracy: 0.7388 - precision: 0.8892 - recall: 0.5455 - auc: 0.8738 - val_loss: 11.1520 - val_tp: 19.0000 - val_fp: 77.0000 - val_tn: 1091.0000 - val_fn: 31.0000 - val_accuracy: 0.9113 - val_precision: 0.1979 - val_recall: 0.3800 - val_auc: 0.8129\n",
            "Epoch 00031: early stopping\n"
          ],
          "name": "stdout"
        }
      ]
    },
    {
      "cell_type": "code",
      "metadata": {
        "id": "PZaPsLUPBkCC",
        "outputId": "bef9cf8d-a9b4-43d5-b38c-4a3db0dbb8db",
        "colab": {
          "base_uri": "https://localhost:8080/",
          "height": 501
        }
      },
      "source": [
        "plot_history(history_focal_over_sample)"
      ],
      "execution_count": 78,
      "outputs": [
        {
          "output_type": "display_data",
          "data": {
            "image/png": "[encoded data removed]",
            "text/plain": [
              "<Figure size 720x576 with 4 Axes>"
            ]
          },
          "metadata": {
            "tags": [],
            "needs_background": "light"
          }
        }
      ]
    },
    {
      "cell_type": "code",
      "metadata": {
        "id": "hsGGLX5cBy0n",
        "outputId": "27bb11e6-544a-4895-dd05-5bf49e36d247",
        "colab": {
          "base_uri": "https://localhost:8080/",
          "height": 170
        }
      },
      "source": [
        "y_hat_proba = model.predict(X_test)\n",
        "y_hat = np.where(y_hat_proba > 0.5, 1, 0)\n",
        "print(classification_report(y_test, y_hat))"
      ],
      "execution_count": 79,
      "outputs": [
        {
          "output_type": "stream",
          "text": [
            "              precision    recall  f1-score   support\n",
            "\n",
            "           0       0.98      0.93      0.96      1567\n",
            "           1       0.20      0.45      0.28        58\n",
            "\n",
            "    accuracy                           0.92      1625\n",
            "   macro avg       0.59      0.69      0.62      1625\n",
            "weighted avg       0.95      0.92      0.93      1625\n",
            "\n"
          ],
          "name": "stdout"
        }
      ]
    },
    {
      "cell_type": "code",
      "metadata": {
        "id": "yufEqvO_GFe2",
        "outputId": "bd84398e-df98-41e1-a12f-9212cf5a4c6a",
        "colab": {
          "base_uri": "https://localhost:8080/",
          "height": 359
        }
      },
      "source": [
        "cm, acc, maj, min, f1 = score_model(y_test, y_hat)\n",
        "results_df.loc['Focal Loss + Over Sample'] = [*maj, *min, acc, f1]\n",
        "results_df"
      ],
      "execution_count": 80,
      "outputs": [
        {
          "output_type": "execute_result",
          "data": {
            "text/html": [
              "<div>\n",
              "<style scoped>\n",
              "    .dataframe tbody tr th:only-of-type {\n",
              "        vertical-align: middle;\n",
              "    }\n",
              "\n",
              "    .dataframe tbody tr th {\n",
              "        vertical-align: top;\n",
              "    }\n",
              "\n",
              "    .dataframe thead tr th {\n",
              "        text-align: left;\n",
              "    }\n",
              "</style>\n",
              "<table border=\"1\" class=\"dataframe\">\n",
              "  <thead>\n",
              "    <tr>\n",
              "      <th></th>\n",
              "      <th colspan=\"2\" halign=\"left\">Majority</th>\n",
              "      <th colspan=\"2\" halign=\"left\">Minority</th>\n",
              "      <th colspan=\"2\" halign=\"left\">Scoring</th>\n",
              "    </tr>\n",
              "    <tr>\n",
              "      <th></th>\n",
              "      <th>Precision</th>\n",
              "      <th>Recall</th>\n",
              "      <th>Precision</th>\n",
              "      <th>Recall</th>\n",
              "      <th>Accuracy</th>\n",
              "      <th>F1</th>\n",
              "    </tr>\n",
              "  </thead>\n",
              "  <tbody>\n",
              "    <tr>\n",
              "      <th>Baseline</th>\n",
              "      <td>0.964308</td>\n",
              "      <td>1.000000</td>\n",
              "      <td>NaN</td>\n",
              "      <td>0.000000</td>\n",
              "      <td>0.964308</td>\n",
              "      <td>0.000000</td>\n",
              "    </tr>\n",
              "    <tr>\n",
              "      <th>Random</th>\n",
              "      <td>0.948980</td>\n",
              "      <td>0.534142</td>\n",
              "      <td>0.017497</td>\n",
              "      <td>0.224138</td>\n",
              "      <td>0.523077</td>\n",
              "      <td>0.032459</td>\n",
              "    </tr>\n",
              "    <tr>\n",
              "      <th>Unbalanced</th>\n",
              "      <td>0.964308</td>\n",
              "      <td>1.000000</td>\n",
              "      <td>NaN</td>\n",
              "      <td>0.000000</td>\n",
              "      <td>0.964308</td>\n",
              "      <td>0.000000</td>\n",
              "    </tr>\n",
              "    <tr>\n",
              "      <th>Weighted</th>\n",
              "      <td>0.987685</td>\n",
              "      <td>0.767709</td>\n",
              "      <td>0.105651</td>\n",
              "      <td>0.741379</td>\n",
              "      <td>0.766769</td>\n",
              "      <td>0.184946</td>\n",
              "    </tr>\n",
              "    <tr>\n",
              "      <th>Over Sample</th>\n",
              "      <td>0.985004</td>\n",
              "      <td>0.796426</td>\n",
              "      <td>0.108939</td>\n",
              "      <td>0.672414</td>\n",
              "      <td>0.792000</td>\n",
              "      <td>0.187500</td>\n",
              "    </tr>\n",
              "    <tr>\n",
              "      <th>Under Sample</th>\n",
              "      <td>0.979631</td>\n",
              "      <td>0.644544</td>\n",
              "      <td>0.062290</td>\n",
              "      <td>0.637931</td>\n",
              "      <td>0.644308</td>\n",
              "      <td>0.113497</td>\n",
              "    </tr>\n",
              "    <tr>\n",
              "      <th>Balanced Batching</th>\n",
              "      <td>0.984270</td>\n",
              "      <td>0.838545</td>\n",
              "      <td>0.127586</td>\n",
              "      <td>0.637931</td>\n",
              "      <td>0.831385</td>\n",
              "      <td>0.212644</td>\n",
              "    </tr>\n",
              "    <tr>\n",
              "      <th>Focal Loss</th>\n",
              "      <td>0.964308</td>\n",
              "      <td>1.000000</td>\n",
              "      <td>NaN</td>\n",
              "      <td>0.000000</td>\n",
              "      <td>0.964308</td>\n",
              "      <td>0.000000</td>\n",
              "    </tr>\n",
              "    <tr>\n",
              "      <th>Focal Loss + Over Sample</th>\n",
              "      <td>0.978610</td>\n",
              "      <td>0.934269</td>\n",
              "      <td>0.201550</td>\n",
              "      <td>0.448276</td>\n",
              "      <td>0.916923</td>\n",
              "      <td>0.278075</td>\n",
              "    </tr>\n",
              "  </tbody>\n",
              "</table>\n",
              "</div>"
            ],
            "text/plain": [
              "                          Majority            ...   Scoring          \n",
              "                         Precision    Recall  ...  Accuracy        F1\n",
              "Baseline                  0.964308  1.000000  ...  0.964308  0.000000\n",
              "Random                    0.948980  0.534142  ...  0.523077  0.032459\n",
              "Unbalanced                0.964308  1.000000  ...  0.964308  0.000000\n",
              "Weighted                  0.987685  0.767709  ...  0.766769  0.184946\n",
              "Over Sample               0.985004  0.796426  ...  0.792000  0.187500\n",
              "Under Sample              0.979631  0.644544  ...  0.644308  0.113497\n",
              "Balanced Batching         0.984270  0.838545  ...  0.831385  0.212644\n",
              "Focal Loss                0.964308  1.000000  ...  0.964308  0.000000\n",
              "Focal Loss + Over Sample  0.978610  0.934269  ...  0.916923  0.278075\n",
              "\n",
              "[9 rows x 6 columns]"
            ]
          },
          "metadata": {
            "tags": []
          },
          "execution_count": 80
        }
      ]
    },
    {
      "cell_type": "markdown",
      "metadata": {
        "id": "6l0c0GUm1Tv7"
      },
      "source": [
        "# Outcome"
      ]
    },
    {
      "cell_type": "markdown",
      "metadata": {
        "id": "Bs4TLq9jGols"
      },
      "source": [
        "## F1 Score\n",
        "* Highest F1 Score represents a balance between precision and recall"
      ]
    },
    {
      "cell_type": "code",
      "metadata": {
        "id": "cq6PS-ql1loS",
        "outputId": "b3736374-ad8c-4ff7-9ae1-135ec04659ee",
        "colab": {
          "base_uri": "https://localhost:8080/",
          "height": 359
        }
      },
      "source": [
        "results_df.sort_values(('Scoring', 'F1'), ascending=False)"
      ],
      "execution_count": 81,
      "outputs": [
        {
          "output_type": "execute_result",
          "data": {
            "text/html": [
              "<div>\n",
              "<style scoped>\n",
              "    .dataframe tbody tr th:only-of-type {\n",
              "        vertical-align: middle;\n",
              "    }\n",
              "\n",
              "    .dataframe tbody tr th {\n",
              "        vertical-align: top;\n",
              "    }\n",
              "\n",
              "    .dataframe thead tr th {\n",
              "        text-align: left;\n",
              "    }\n",
              "</style>\n",
              "<table border=\"1\" class=\"dataframe\">\n",
              "  <thead>\n",
              "    <tr>\n",
              "      <th></th>\n",
              "      <th colspan=\"2\" halign=\"left\">Majority</th>\n",
              "      <th colspan=\"2\" halign=\"left\">Minority</th>\n",
              "      <th colspan=\"2\" halign=\"left\">Scoring</th>\n",
              "    </tr>\n",
              "    <tr>\n",
              "      <th></th>\n",
              "      <th>Precision</th>\n",
              "      <th>Recall</th>\n",
              "      <th>Precision</th>\n",
              "      <th>Recall</th>\n",
              "      <th>Accuracy</th>\n",
              "      <th>F1</th>\n",
              "    </tr>\n",
              "  </thead>\n",
              "  <tbody>\n",
              "    <tr>\n",
              "      <th>Focal Loss + Over Sample</th>\n",
              "      <td>0.978610</td>\n",
              "      <td>0.934269</td>\n",
              "      <td>0.201550</td>\n",
              "      <td>0.448276</td>\n",
              "      <td>0.916923</td>\n",
              "      <td>0.278075</td>\n",
              "    </tr>\n",
              "    <tr>\n",
              "      <th>Balanced Batching</th>\n",
              "      <td>0.984270</td>\n",
              "      <td>0.838545</td>\n",
              "      <td>0.127586</td>\n",
              "      <td>0.637931</td>\n",
              "      <td>0.831385</td>\n",
              "      <td>0.212644</td>\n",
              "    </tr>\n",
              "    <tr>\n",
              "      <th>Over Sample</th>\n",
              "      <td>0.985004</td>\n",
              "      <td>0.796426</td>\n",
              "      <td>0.108939</td>\n",
              "      <td>0.672414</td>\n",
              "      <td>0.792000</td>\n",
              "      <td>0.187500</td>\n",
              "    </tr>\n",
              "    <tr>\n",
              "      <th>Weighted</th>\n",
              "      <td>0.987685</td>\n",
              "      <td>0.767709</td>\n",
              "      <td>0.105651</td>\n",
              "      <td>0.741379</td>\n",
              "      <td>0.766769</td>\n",
              "      <td>0.184946</td>\n",
              "    </tr>\n",
              "    <tr>\n",
              "      <th>Under Sample</th>\n",
              "      <td>0.979631</td>\n",
              "      <td>0.644544</td>\n",
              "      <td>0.062290</td>\n",
              "      <td>0.637931</td>\n",
              "      <td>0.644308</td>\n",
              "      <td>0.113497</td>\n",
              "    </tr>\n",
              "    <tr>\n",
              "      <th>Random</th>\n",
              "      <td>0.948980</td>\n",
              "      <td>0.534142</td>\n",
              "      <td>0.017497</td>\n",
              "      <td>0.224138</td>\n",
              "      <td>0.523077</td>\n",
              "      <td>0.032459</td>\n",
              "    </tr>\n",
              "    <tr>\n",
              "      <th>Baseline</th>\n",
              "      <td>0.964308</td>\n",
              "      <td>1.000000</td>\n",
              "      <td>NaN</td>\n",
              "      <td>0.000000</td>\n",
              "      <td>0.964308</td>\n",
              "      <td>0.000000</td>\n",
              "    </tr>\n",
              "    <tr>\n",
              "      <th>Unbalanced</th>\n",
              "      <td>0.964308</td>\n",
              "      <td>1.000000</td>\n",
              "      <td>NaN</td>\n",
              "      <td>0.000000</td>\n",
              "      <td>0.964308</td>\n",
              "      <td>0.000000</td>\n",
              "    </tr>\n",
              "    <tr>\n",
              "      <th>Focal Loss</th>\n",
              "      <td>0.964308</td>\n",
              "      <td>1.000000</td>\n",
              "      <td>NaN</td>\n",
              "      <td>0.000000</td>\n",
              "      <td>0.964308</td>\n",
              "      <td>0.000000</td>\n",
              "    </tr>\n",
              "  </tbody>\n",
              "</table>\n",
              "</div>"
            ],
            "text/plain": [
              "                          Majority            ...   Scoring          \n",
              "                         Precision    Recall  ...  Accuracy        F1\n",
              "Focal Loss + Over Sample  0.978610  0.934269  ...  0.916923  0.278075\n",
              "Balanced Batching         0.984270  0.838545  ...  0.831385  0.212644\n",
              "Over Sample               0.985004  0.796426  ...  0.792000  0.187500\n",
              "Weighted                  0.987685  0.767709  ...  0.766769  0.184946\n",
              "Under Sample              0.979631  0.644544  ...  0.644308  0.113497\n",
              "Random                    0.948980  0.534142  ...  0.523077  0.032459\n",
              "Baseline                  0.964308  1.000000  ...  0.964308  0.000000\n",
              "Unbalanced                0.964308  1.000000  ...  0.964308  0.000000\n",
              "Focal Loss                0.964308  1.000000  ...  0.964308  0.000000\n",
              "\n",
              "[9 rows x 6 columns]"
            ]
          },
          "metadata": {
            "tags": []
          },
          "execution_count": 81
        }
      ]
    },
    {
      "cell_type": "markdown",
      "metadata": {
        "id": "O78t7K_mGvHg"
      },
      "source": [
        "## Minority Recall\n",
        "* To get higher recall on the minority class we're sacrificing precision\n",
        "* If we care more about false positives vs false negatives use a different F-beta score (i.e. F2 or F0.5)"
      ]
    },
    {
      "cell_type": "code",
      "metadata": {
        "id": "ut-wnPzJG2N2",
        "outputId": "12c907d2-5020-4134-b024-684d9264605c",
        "colab": {
          "base_uri": "https://localhost:8080/",
          "height": 359
        }
      },
      "source": [
        "results_df.sort_values(('Minority', 'Recall'), ascending=False)"
      ],
      "execution_count": 82,
      "outputs": [
        {
          "output_type": "execute_result",
          "data": {
            "text/html": [
              "<div>\n",
              "<style scoped>\n",
              "    .dataframe tbody tr th:only-of-type {\n",
              "        vertical-align: middle;\n",
              "    }\n",
              "\n",
              "    .dataframe tbody tr th {\n",
              "        vertical-align: top;\n",
              "    }\n",
              "\n",
              "    .dataframe thead tr th {\n",
              "        text-align: left;\n",
              "    }\n",
              "</style>\n",
              "<table border=\"1\" class=\"dataframe\">\n",
              "  <thead>\n",
              "    <tr>\n",
              "      <th></th>\n",
              "      <th colspan=\"2\" halign=\"left\">Majority</th>\n",
              "      <th colspan=\"2\" halign=\"left\">Minority</th>\n",
              "      <th colspan=\"2\" halign=\"left\">Scoring</th>\n",
              "    </tr>\n",
              "    <tr>\n",
              "      <th></th>\n",
              "      <th>Precision</th>\n",
              "      <th>Recall</th>\n",
              "      <th>Precision</th>\n",
              "      <th>Recall</th>\n",
              "      <th>Accuracy</th>\n",
              "      <th>F1</th>\n",
              "    </tr>\n",
              "  </thead>\n",
              "  <tbody>\n",
              "    <tr>\n",
              "      <th>Weighted</th>\n",
              "      <td>0.987685</td>\n",
              "      <td>0.767709</td>\n",
              "      <td>0.105651</td>\n",
              "      <td>0.741379</td>\n",
              "      <td>0.766769</td>\n",
              "      <td>0.184946</td>\n",
              "    </tr>\n",
              "    <tr>\n",
              "      <th>Over Sample</th>\n",
              "      <td>0.985004</td>\n",
              "      <td>0.796426</td>\n",
              "      <td>0.108939</td>\n",
              "      <td>0.672414</td>\n",
              "      <td>0.792000</td>\n",
              "      <td>0.187500</td>\n",
              "    </tr>\n",
              "    <tr>\n",
              "      <th>Under Sample</th>\n",
              "      <td>0.979631</td>\n",
              "      <td>0.644544</td>\n",
              "      <td>0.062290</td>\n",
              "      <td>0.637931</td>\n",
              "      <td>0.644308</td>\n",
              "      <td>0.113497</td>\n",
              "    </tr>\n",
              "    <tr>\n",
              "      <th>Balanced Batching</th>\n",
              "      <td>0.984270</td>\n",
              "      <td>0.838545</td>\n",
              "      <td>0.127586</td>\n",
              "      <td>0.637931</td>\n",
              "      <td>0.831385</td>\n",
              "      <td>0.212644</td>\n",
              "    </tr>\n",
              "    <tr>\n",
              "      <th>Focal Loss + Over Sample</th>\n",
              "      <td>0.978610</td>\n",
              "      <td>0.934269</td>\n",
              "      <td>0.201550</td>\n",
              "      <td>0.448276</td>\n",
              "      <td>0.916923</td>\n",
              "      <td>0.278075</td>\n",
              "    </tr>\n",
              "    <tr>\n",
              "      <th>Random</th>\n",
              "      <td>0.948980</td>\n",
              "      <td>0.534142</td>\n",
              "      <td>0.017497</td>\n",
              "      <td>0.224138</td>\n",
              "      <td>0.523077</td>\n",
              "      <td>0.032459</td>\n",
              "    </tr>\n",
              "    <tr>\n",
              "      <th>Baseline</th>\n",
              "      <td>0.964308</td>\n",
              "      <td>1.000000</td>\n",
              "      <td>NaN</td>\n",
              "      <td>0.000000</td>\n",
              "      <td>0.964308</td>\n",
              "      <td>0.000000</td>\n",
              "    </tr>\n",
              "    <tr>\n",
              "      <th>Unbalanced</th>\n",
              "      <td>0.964308</td>\n",
              "      <td>1.000000</td>\n",
              "      <td>NaN</td>\n",
              "      <td>0.000000</td>\n",
              "      <td>0.964308</td>\n",
              "      <td>0.000000</td>\n",
              "    </tr>\n",
              "    <tr>\n",
              "      <th>Focal Loss</th>\n",
              "      <td>0.964308</td>\n",
              "      <td>1.000000</td>\n",
              "      <td>NaN</td>\n",
              "      <td>0.000000</td>\n",
              "      <td>0.964308</td>\n",
              "      <td>0.000000</td>\n",
              "    </tr>\n",
              "  </tbody>\n",
              "</table>\n",
              "</div>"
            ],
            "text/plain": [
              "                          Majority            ...   Scoring          \n",
              "                         Precision    Recall  ...  Accuracy        F1\n",
              "Weighted                  0.987685  0.767709  ...  0.766769  0.184946\n",
              "Over Sample               0.985004  0.796426  ...  0.792000  0.187500\n",
              "Under Sample              0.979631  0.644544  ...  0.644308  0.113497\n",
              "Balanced Batching         0.984270  0.838545  ...  0.831385  0.212644\n",
              "Focal Loss + Over Sample  0.978610  0.934269  ...  0.916923  0.278075\n",
              "Random                    0.948980  0.534142  ...  0.523077  0.032459\n",
              "Baseline                  0.964308  1.000000  ...  0.964308  0.000000\n",
              "Unbalanced                0.964308  1.000000  ...  0.964308  0.000000\n",
              "Focal Loss                0.964308  1.000000  ...  0.964308  0.000000\n",
              "\n",
              "[9 rows x 6 columns]"
            ]
          },
          "metadata": {
            "tags": []
          },
          "execution_count": 82
        }
      ]
    },
    {
      "cell_type": "code",
      "metadata": {
        "id": "ZU23T5ZZGNrb"
      },
      "source": [
        ""
      ],
      "execution_count": 82,
      "outputs": []
    }
  ]
}