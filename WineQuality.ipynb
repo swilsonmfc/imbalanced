{
  "nbformat": 4,
  "nbformat_minor": 0,
  "metadata": {
    "colab": {
      "name": "WineQuality.ipynb",
      "provenance": [],
      "collapsed_sections": [],
      "toc_visible": true,
      "authorship_tag": "ABX9TyPLArv6yTmq2Eu4Sdg6RJYY",
      "include_colab_link": true
    },
    "kernelspec": {
      "name": "python3",
      "display_name": "Python 3"
    }
  },
  "cells": [
    {
      "cell_type": "markdown",
      "metadata": {
        "id": "view-in-github",
        "colab_type": "text"
      },
      "source": [
        "<a href=\"https://colab.research.google.com/github/swilsonmfc/imbalanced/blob/main/WineQuality.ipynb\" target=\"_parent\"><img src=\"https://colab.research.google.com/assets/colab-badge.svg\" alt=\"Open In Colab\"/></a>"
      ]
    },
    {
      "cell_type": "markdown",
      "metadata": {
        "id": "-BowEGoCa1f5"
      },
      "source": [
        "# Wine Quality"
      ]
    },
    {
      "cell_type": "markdown",
      "metadata": {
        "id": "u8z_2cGIbMAx"
      },
      "source": [
        "# Install"
      ]
    },
    {
      "cell_type": "code",
      "metadata": {
        "id": "bpvjWYsDbTqR",
        "outputId": "3e4f76b8-a63d-47f2-c31b-4bc39558984f",
        "colab": {
          "base_uri": "https://localhost:8080/",
          "height": 139
        }
      },
      "source": [
        "!pip install imblearn"
      ],
      "execution_count": 1,
      "outputs": [
        {
          "output_type": "stream",
          "text": [
            "Requirement already satisfied: imblearn in /usr/local/lib/python3.6/dist-packages (0.0)\n",
            "Requirement already satisfied: imbalanced-learn in /usr/local/lib/python3.6/dist-packages (from imblearn) (0.4.3)\n",
            "Requirement already satisfied: scipy>=0.13.3 in /usr/local/lib/python3.6/dist-packages (from imbalanced-learn->imblearn) (1.4.1)\n",
            "Requirement already satisfied: numpy>=1.8.2 in /usr/local/lib/python3.6/dist-packages (from imbalanced-learn->imblearn) (1.18.5)\n",
            "Requirement already satisfied: scikit-learn>=0.20 in /usr/local/lib/python3.6/dist-packages (from imbalanced-learn->imblearn) (0.22.2.post1)\n",
            "Requirement already satisfied: joblib>=0.11 in /usr/local/lib/python3.6/dist-packages (from scikit-learn>=0.20->imbalanced-learn->imblearn) (0.16.0)\n"
          ],
          "name": "stdout"
        }
      ]
    },
    {
      "cell_type": "markdown",
      "metadata": {
        "id": "4eV2wd9HbMTK"
      },
      "source": [
        "# Setup"
      ]
    },
    {
      "cell_type": "code",
      "metadata": {
        "id": "gex3afsbbW34",
        "outputId": "7a3b5955-89f7-41ff-dbe3-1fbcf66c4554",
        "colab": {
          "base_uri": "https://localhost:8080/",
          "height": 173
        }
      },
      "source": [
        "import pandas as pd\n",
        "import numpy as np\n",
        "import matplotlib.pyplot as plt\n",
        "import seaborn as sns\n",
        "\n",
        "import tensorflow as tf\n",
        "import tensorflow.keras as keras\n",
        "from tensorflow.keras import backend as K\n",
        "\n",
        "from tensorflow.keras.models import Model\n",
        "from tensorflow.keras.models import Sequential\n",
        "from tensorflow.keras.layers import Input\n",
        "from tensorflow.keras.layers import Dense\n",
        "from tensorflow.keras.layers import Dropout\n",
        "\n",
        "from tensorflow.keras.optimizers import Adam\n",
        "from tensorflow.keras.callbacks import EarlyStopping\n",
        "from tensorflow.keras.losses import BinaryCrossentropy\n",
        "\n",
        "from tensorflow.keras.metrics import Recall\n",
        "from tensorflow.keras.metrics import Precision\n",
        "from tensorflow.keras.metrics import BinaryAccuracy\n",
        "from tensorflow.keras.metrics import TruePositives, FalsePositives\n",
        "from tensorflow.keras.metrics import TrueNegatives, FalseNegatives\n",
        "from tensorflow.keras.metrics import AUC\n",
        "\n",
        "from sklearn.model_selection import train_test_split\n",
        "from sklearn.preprocessing import StandardScaler\n",
        "from sklearn.metrics import classification_report\n",
        "from sklearn.metrics import confusion_matrix\n",
        "from sklearn.metrics import f1_score\n",
        "from sklearn.metrics import accuracy_score\n",
        "\n",
        "from imblearn.keras import BalancedBatchGenerator\n",
        "from imblearn.metrics import classification_report_imbalanced\n",
        "from imblearn.over_sampling import RandomOverSampler\n",
        "from imblearn.under_sampling import RandomUnderSampler"
      ],
      "execution_count": 2,
      "outputs": [
        {
          "output_type": "stream",
          "text": [
            "/usr/local/lib/python3.6/dist-packages/sklearn/externals/six.py:31: FutureWarning: The module is deprecated in version 0.21 and will be removed in version 0.23 since we've dropped support for Python 2.7. Please rely on the official version of six (https://pypi.org/project/six/).\n",
            "  \"(https://pypi.org/project/six/).\", FutureWarning)\n",
            "/usr/local/lib/python3.6/dist-packages/sklearn/utils/deprecation.py:144: FutureWarning: The sklearn.neighbors.base module is  deprecated in version 0.22 and will be removed in version 0.24. The corresponding classes / functions should instead be imported from sklearn.neighbors. Anything that cannot be imported from sklearn.neighbors is now part of the private API.\n",
            "  warnings.warn(message, FutureWarning)\n",
            "/usr/local/lib/python3.6/dist-packages/sklearn/utils/deprecation.py:144: FutureWarning: The sklearn.utils.testing module is  deprecated in version 0.22 and will be removed in version 0.24. The corresponding classes / functions should instead be imported from sklearn.utils. Anything that cannot be imported from sklearn.utils is now part of the private API.\n",
            "  warnings.warn(message, FutureWarning)\n",
            "/usr/local/lib/python3.6/dist-packages/sklearn/utils/deprecation.py:144: FutureWarning: The sklearn.metrics.classification module is  deprecated in version 0.22 and will be removed in version 0.24. The corresponding classes / functions should instead be imported from sklearn.metrics. Anything that cannot be imported from sklearn.metrics is now part of the private API.\n",
            "  warnings.warn(message, FutureWarning)\n"
          ],
          "name": "stderr"
        }
      ]
    },
    {
      "cell_type": "markdown",
      "metadata": {
        "id": "GoAmA1oqbMV5"
      },
      "source": [
        "# Data"
      ]
    },
    {
      "cell_type": "code",
      "metadata": {
        "id": "rutIPKyQbiLS",
        "outputId": "ae09b3f7-8f52-4d60-becd-513151b4cfa0",
        "colab": {
          "base_uri": "https://localhost:8080/",
          "height": 411
        }
      },
      "source": [
        "!wget -O wine-red.csv https://archive.ics.uci.edu/ml/machine-learning-databases/wine-quality/winequality-red.csv\n",
        "!wget -O wine-white.csv https://archive.ics.uci.edu/ml/machine-learning-databases/wine-quality/winequality-white.csv"
      ],
      "execution_count": 3,
      "outputs": [
        {
          "output_type": "stream",
          "text": [
            "--2020-10-23 12:16:27--  https://archive.ics.uci.edu/ml/machine-learning-databases/wine-quality/winequality-red.csv\n",
            "Resolving archive.ics.uci.edu (archive.ics.uci.edu)... 128.195.10.252\n",
            "Connecting to archive.ics.uci.edu (archive.ics.uci.edu)|128.195.10.252|:443... connected.\n",
            "HTTP request sent, awaiting response... 200 OK\n",
            "Length: 84199 (82K) [application/x-httpd-php]\n",
            "Saving to: ‘wine-red.csv’\n",
            "\n",
            "wine-red.csv        100%[===================>]  82.23K   314KB/s    in 0.3s    \n",
            "\n",
            "2020-10-23 12:16:28 (314 KB/s) - ‘wine-red.csv’ saved [84199/84199]\n",
            "\n",
            "--2020-10-23 12:16:28--  https://archive.ics.uci.edu/ml/machine-learning-databases/wine-quality/winequality-white.csv\n",
            "Resolving archive.ics.uci.edu (archive.ics.uci.edu)... 128.195.10.252\n",
            "Connecting to archive.ics.uci.edu (archive.ics.uci.edu)|128.195.10.252|:443... connected.\n",
            "HTTP request sent, awaiting response... 200 OK\n",
            "Length: 264426 (258K) [application/x-httpd-php]\n",
            "Saving to: ‘wine-white.csv’\n",
            "\n",
            "wine-white.csv      100%[===================>] 258.23K   496KB/s    in 0.5s    \n",
            "\n",
            "2020-10-23 12:16:29 (496 KB/s) - ‘wine-white.csv’ saved [264426/264426]\n",
            "\n"
          ],
          "name": "stdout"
        }
      ]
    },
    {
      "cell_type": "code",
      "metadata": {
        "id": "pSn-vGiabn2p",
        "outputId": "6fce9d96-4c1d-4db7-a77b-e24ac1e1302f",
        "colab": {
          "base_uri": "https://localhost:8080/",
          "height": 473
        }
      },
      "source": [
        "red_df   = pd.read_csv('wine-red.csv', sep=';')\n",
        "red_df['type'] = 'red'\n",
        "white_df = pd.read_csv('wine-white.csv', sep=';')\n",
        "white_df['type'] = 'white'\n",
        "\n",
        "df = pd.concat([red_df, white_df])\n",
        "df['target'] = np.where(df.quality <= 4, 1, 0) \n",
        "df"
      ],
      "execution_count": 4,
      "outputs": [
        {
          "output_type": "execute_result",
          "data": {
            "text/html": [
              "<div>\n",
              "<style scoped>\n",
              "    .dataframe tbody tr th:only-of-type {\n",
              "        vertical-align: middle;\n",
              "    }\n",
              "\n",
              "    .dataframe tbody tr th {\n",
              "        vertical-align: top;\n",
              "    }\n",
              "\n",
              "    .dataframe thead th {\n",
              "        text-align: right;\n",
              "    }\n",
              "</style>\n",
              "<table border=\"1\" class=\"dataframe\">\n",
              "  <thead>\n",
              "    <tr style=\"text-align: right;\">\n",
              "      <th></th>\n",
              "      <th>fixed acidity</th>\n",
              "      <th>volatile acidity</th>\n",
              "      <th>citric acid</th>\n",
              "      <th>residual sugar</th>\n",
              "      <th>chlorides</th>\n",
              "      <th>free sulfur dioxide</th>\n",
              "      <th>total sulfur dioxide</th>\n",
              "      <th>density</th>\n",
              "      <th>pH</th>\n",
              "      <th>sulphates</th>\n",
              "      <th>alcohol</th>\n",
              "      <th>quality</th>\n",
              "      <th>type</th>\n",
              "      <th>target</th>\n",
              "    </tr>\n",
              "  </thead>\n",
              "  <tbody>\n",
              "    <tr>\n",
              "      <th>0</th>\n",
              "      <td>7.4</td>\n",
              "      <td>0.70</td>\n",
              "      <td>0.00</td>\n",
              "      <td>1.9</td>\n",
              "      <td>0.076</td>\n",
              "      <td>11.0</td>\n",
              "      <td>34.0</td>\n",
              "      <td>0.99780</td>\n",
              "      <td>3.51</td>\n",
              "      <td>0.56</td>\n",
              "      <td>9.4</td>\n",
              "      <td>5</td>\n",
              "      <td>red</td>\n",
              "      <td>0</td>\n",
              "    </tr>\n",
              "    <tr>\n",
              "      <th>1</th>\n",
              "      <td>7.8</td>\n",
              "      <td>0.88</td>\n",
              "      <td>0.00</td>\n",
              "      <td>2.6</td>\n",
              "      <td>0.098</td>\n",
              "      <td>25.0</td>\n",
              "      <td>67.0</td>\n",
              "      <td>0.99680</td>\n",
              "      <td>3.20</td>\n",
              "      <td>0.68</td>\n",
              "      <td>9.8</td>\n",
              "      <td>5</td>\n",
              "      <td>red</td>\n",
              "      <td>0</td>\n",
              "    </tr>\n",
              "    <tr>\n",
              "      <th>2</th>\n",
              "      <td>7.8</td>\n",
              "      <td>0.76</td>\n",
              "      <td>0.04</td>\n",
              "      <td>2.3</td>\n",
              "      <td>0.092</td>\n",
              "      <td>15.0</td>\n",
              "      <td>54.0</td>\n",
              "      <td>0.99700</td>\n",
              "      <td>3.26</td>\n",
              "      <td>0.65</td>\n",
              "      <td>9.8</td>\n",
              "      <td>5</td>\n",
              "      <td>red</td>\n",
              "      <td>0</td>\n",
              "    </tr>\n",
              "    <tr>\n",
              "      <th>3</th>\n",
              "      <td>11.2</td>\n",
              "      <td>0.28</td>\n",
              "      <td>0.56</td>\n",
              "      <td>1.9</td>\n",
              "      <td>0.075</td>\n",
              "      <td>17.0</td>\n",
              "      <td>60.0</td>\n",
              "      <td>0.99800</td>\n",
              "      <td>3.16</td>\n",
              "      <td>0.58</td>\n",
              "      <td>9.8</td>\n",
              "      <td>6</td>\n",
              "      <td>red</td>\n",
              "      <td>0</td>\n",
              "    </tr>\n",
              "    <tr>\n",
              "      <th>4</th>\n",
              "      <td>7.4</td>\n",
              "      <td>0.70</td>\n",
              "      <td>0.00</td>\n",
              "      <td>1.9</td>\n",
              "      <td>0.076</td>\n",
              "      <td>11.0</td>\n",
              "      <td>34.0</td>\n",
              "      <td>0.99780</td>\n",
              "      <td>3.51</td>\n",
              "      <td>0.56</td>\n",
              "      <td>9.4</td>\n",
              "      <td>5</td>\n",
              "      <td>red</td>\n",
              "      <td>0</td>\n",
              "    </tr>\n",
              "    <tr>\n",
              "      <th>...</th>\n",
              "      <td>...</td>\n",
              "      <td>...</td>\n",
              "      <td>...</td>\n",
              "      <td>...</td>\n",
              "      <td>...</td>\n",
              "      <td>...</td>\n",
              "      <td>...</td>\n",
              "      <td>...</td>\n",
              "      <td>...</td>\n",
              "      <td>...</td>\n",
              "      <td>...</td>\n",
              "      <td>...</td>\n",
              "      <td>...</td>\n",
              "      <td>...</td>\n",
              "    </tr>\n",
              "    <tr>\n",
              "      <th>4893</th>\n",
              "      <td>6.2</td>\n",
              "      <td>0.21</td>\n",
              "      <td>0.29</td>\n",
              "      <td>1.6</td>\n",
              "      <td>0.039</td>\n",
              "      <td>24.0</td>\n",
              "      <td>92.0</td>\n",
              "      <td>0.99114</td>\n",
              "      <td>3.27</td>\n",
              "      <td>0.50</td>\n",
              "      <td>11.2</td>\n",
              "      <td>6</td>\n",
              "      <td>white</td>\n",
              "      <td>0</td>\n",
              "    </tr>\n",
              "    <tr>\n",
              "      <th>4894</th>\n",
              "      <td>6.6</td>\n",
              "      <td>0.32</td>\n",
              "      <td>0.36</td>\n",
              "      <td>8.0</td>\n",
              "      <td>0.047</td>\n",
              "      <td>57.0</td>\n",
              "      <td>168.0</td>\n",
              "      <td>0.99490</td>\n",
              "      <td>3.15</td>\n",
              "      <td>0.46</td>\n",
              "      <td>9.6</td>\n",
              "      <td>5</td>\n",
              "      <td>white</td>\n",
              "      <td>0</td>\n",
              "    </tr>\n",
              "    <tr>\n",
              "      <th>4895</th>\n",
              "      <td>6.5</td>\n",
              "      <td>0.24</td>\n",
              "      <td>0.19</td>\n",
              "      <td>1.2</td>\n",
              "      <td>0.041</td>\n",
              "      <td>30.0</td>\n",
              "      <td>111.0</td>\n",
              "      <td>0.99254</td>\n",
              "      <td>2.99</td>\n",
              "      <td>0.46</td>\n",
              "      <td>9.4</td>\n",
              "      <td>6</td>\n",
              "      <td>white</td>\n",
              "      <td>0</td>\n",
              "    </tr>\n",
              "    <tr>\n",
              "      <th>4896</th>\n",
              "      <td>5.5</td>\n",
              "      <td>0.29</td>\n",
              "      <td>0.30</td>\n",
              "      <td>1.1</td>\n",
              "      <td>0.022</td>\n",
              "      <td>20.0</td>\n",
              "      <td>110.0</td>\n",
              "      <td>0.98869</td>\n",
              "      <td>3.34</td>\n",
              "      <td>0.38</td>\n",
              "      <td>12.8</td>\n",
              "      <td>7</td>\n",
              "      <td>white</td>\n",
              "      <td>0</td>\n",
              "    </tr>\n",
              "    <tr>\n",
              "      <th>4897</th>\n",
              "      <td>6.0</td>\n",
              "      <td>0.21</td>\n",
              "      <td>0.38</td>\n",
              "      <td>0.8</td>\n",
              "      <td>0.020</td>\n",
              "      <td>22.0</td>\n",
              "      <td>98.0</td>\n",
              "      <td>0.98941</td>\n",
              "      <td>3.26</td>\n",
              "      <td>0.32</td>\n",
              "      <td>11.8</td>\n",
              "      <td>6</td>\n",
              "      <td>white</td>\n",
              "      <td>0</td>\n",
              "    </tr>\n",
              "  </tbody>\n",
              "</table>\n",
              "<p>6497 rows × 14 columns</p>\n",
              "</div>"
            ],
            "text/plain": [
              "      fixed acidity  volatile acidity  citric acid  ...  quality   type  target\n",
              "0               7.4              0.70         0.00  ...        5    red       0\n",
              "1               7.8              0.88         0.00  ...        5    red       0\n",
              "2               7.8              0.76         0.04  ...        5    red       0\n",
              "3              11.2              0.28         0.56  ...        6    red       0\n",
              "4               7.4              0.70         0.00  ...        5    red       0\n",
              "...             ...               ...          ...  ...      ...    ...     ...\n",
              "4893            6.2              0.21         0.29  ...        6  white       0\n",
              "4894            6.6              0.32         0.36  ...        5  white       0\n",
              "4895            6.5              0.24         0.19  ...        6  white       0\n",
              "4896            5.5              0.29         0.30  ...        7  white       0\n",
              "4897            6.0              0.21         0.38  ...        6  white       0\n",
              "\n",
              "[6497 rows x 14 columns]"
            ]
          },
          "metadata": {
            "tags": []
          },
          "execution_count": 4
        }
      ]
    },
    {
      "cell_type": "markdown",
      "metadata": {
        "id": "kK5eA-ATbMhW"
      },
      "source": [
        "# EDA"
      ]
    },
    {
      "cell_type": "code",
      "metadata": {
        "id": "m8ewe9YXdFcp"
      },
      "source": [
        "def plot_feature(df, feature, outcome='target'):\n",
        "  fig, (ax1, ax2) = plt.subplots(1, 2, figsize=(12,6))\n",
        "  df.hist(feature, ax=ax1)\n",
        "  ax1.set_xlabel(feature)\n",
        "  ax1.set_title(f'Histogram for {feature}')\n",
        "  df.boxplot(feature, by=outcome, ax=ax2)\n",
        "  ax2.set_ylabel(feature)\n",
        "  ax2.set_title(f'{feature} grouped by Target')\n",
        "  plt.show();\n",
        "\n",
        "def plot_class_density(df, feature, outcome='target'):\n",
        "  fig = plt.figure(figsize=(12, 6))\n",
        "  sns.kdeplot(df[feature], hue=df[outcome], palette='gist_rainbow')\n",
        "  plt.show();"
      ],
      "execution_count": 5,
      "outputs": []
    },
    {
      "cell_type": "markdown",
      "metadata": {
        "id": "Na1ED1mwcnA-"
      },
      "source": [
        "## Target Class\n",
        "* Imbalanced 25 to 1\n",
        "* A target of 1 means it is a low quality wine"
      ]
    },
    {
      "cell_type": "code",
      "metadata": {
        "id": "XpmN9tBmcRo2",
        "outputId": "c0a0185c-f46b-4cba-961b-4e0714f090bf",
        "colab": {
          "base_uri": "https://localhost:8080/",
          "height": 293
        }
      },
      "source": [
        "df.groupby('target').size().plot.bar()"
      ],
      "execution_count": 6,
      "outputs": [
        {
          "output_type": "execute_result",
          "data": {
            "text/plain": [
              "<matplotlib.axes._subplots.AxesSubplot at 0x7fc2fb587780>"
            ]
          },
          "metadata": {
            "tags": []
          },
          "execution_count": 6
        },
        {
          "output_type": "display_data",
          "data": {
            "image/png": "[encoded data removed]",
            "text/plain": [
              "<Figure size 432x288 with 1 Axes>"
            ]
          },
          "metadata": {
            "tags": [],
            "needs_background": "light"
          }
        }
      ]
    },
    {
      "cell_type": "code",
      "metadata": {
        "id": "ns3zYg_TcgnZ",
        "outputId": "63ea3ead-c2fd-4ace-ee7f-6210f6ec8848",
        "colab": {
          "base_uri": "https://localhost:8080/",
          "height": 85
        }
      },
      "source": [
        "grp = df.groupby('target').size()\n",
        "(grp / min(grp))"
      ],
      "execution_count": 7,
      "outputs": [
        {
          "output_type": "execute_result",
          "data": {
            "text/plain": [
              "target\n",
              "0    25.410569\n",
              "1     1.000000\n",
              "dtype: float64"
            ]
          },
          "metadata": {
            "tags": []
          },
          "execution_count": 7
        }
      ]
    },
    {
      "cell_type": "markdown",
      "metadata": {
        "id": "AKPn8R2BAs5O"
      },
      "source": [
        "## Missing\n",
        "* Nothing missing to impute"
      ]
    },
    {
      "cell_type": "code",
      "metadata": {
        "id": "Pak6OrOAAvfP",
        "outputId": "f80ddef9-794a-4d1e-e4e1-6866e828d55e",
        "colab": {
          "base_uri": "https://localhost:8080/",
          "height": 272
        }
      },
      "source": [
        "df.isna().sum()"
      ],
      "execution_count": 8,
      "outputs": [
        {
          "output_type": "execute_result",
          "data": {
            "text/plain": [
              "fixed acidity           0\n",
              "volatile acidity        0\n",
              "citric acid             0\n",
              "residual sugar          0\n",
              "chlorides               0\n",
              "free sulfur dioxide     0\n",
              "total sulfur dioxide    0\n",
              "density                 0\n",
              "pH                      0\n",
              "sulphates               0\n",
              "alcohol                 0\n",
              "quality                 0\n",
              "type                    0\n",
              "target                  0\n",
              "dtype: int64"
            ]
          },
          "metadata": {
            "tags": []
          },
          "execution_count": 8
        }
      ]
    },
    {
      "cell_type": "markdown",
      "metadata": {
        "id": "EX6YbcjFc-_6"
      },
      "source": [
        "## Wine Type\n",
        "* More whites than reds"
      ]
    },
    {
      "cell_type": "code",
      "metadata": {
        "id": "i35nXLbDdBbp",
        "outputId": "0d2cddd8-adfa-469e-ae2c-db9d0edf756d",
        "colab": {
          "base_uri": "https://localhost:8080/",
          "height": 314
        }
      },
      "source": [
        "df.groupby('type').size().plot.bar()"
      ],
      "execution_count": 9,
      "outputs": [
        {
          "output_type": "execute_result",
          "data": {
            "text/plain": [
              "<matplotlib.axes._subplots.AxesSubplot at 0x7fc2fb4d53c8>"
            ]
          },
          "metadata": {
            "tags": []
          },
          "execution_count": 9
        },
        {
          "output_type": "display_data",
          "data": {
            "image/png": "[encoded data removed]",
            "text/plain": [
              "<Figure size 432x288 with 1 Axes>"
            ]
          },
          "metadata": {
            "tags": [],
            "needs_background": "light"
          }
        }
      ]
    },
    {
      "cell_type": "markdown",
      "metadata": {
        "id": "HYrPQSuKd1Uj"
      },
      "source": [
        "## Acidity\n",
        "* More \"outliers\" for fixed acidity in normal / high quality wines\n",
        "* More variation for volatile acidity in low quality wines"
      ]
    },
    {
      "cell_type": "code",
      "metadata": {
        "id": "R3guaeyHd308",
        "outputId": "d9e9ee30-a4a8-4922-e0c7-8c441216745f",
        "colab": {
          "base_uri": "https://localhost:8080/",
          "height": 420
        }
      },
      "source": [
        "plot_feature(df, 'fixed acidity')"
      ],
      "execution_count": 10,
      "outputs": [
        {
          "output_type": "display_data",
          "data": {
            "image/png": "[encoded data removed]",
            "text/plain": [
              "<Figure size 864x432 with 2 Axes>"
            ]
          },
          "metadata": {
            "tags": [],
            "needs_background": "light"
          }
        }
      ]
    },
    {
      "cell_type": "code",
      "metadata": {
        "id": "eKo1Cqm-eMPV",
        "outputId": "42c3b5e2-a9a1-4096-8ffa-51a89cfafeb2",
        "colab": {
          "base_uri": "https://localhost:8080/",
          "height": 420
        }
      },
      "source": [
        "plot_feature(df, 'volatile acidity')"
      ],
      "execution_count": 11,
      "outputs": [
        {
          "output_type": "display_data",
          "data": {
            "image/png": "[encoded data removed]",
            "text/plain": [
              "<Figure size 864x432 with 2 Axes>"
            ]
          },
          "metadata": {
            "tags": [],
            "needs_background": "light"
          }
        }
      ]
    },
    {
      "cell_type": "markdown",
      "metadata": {
        "id": "GXvugbBEd1hY"
      },
      "source": [
        "## Citric Acid"
      ]
    },
    {
      "cell_type": "code",
      "metadata": {
        "id": "ltDAufyOenr2",
        "outputId": "50690ce3-1015-4ddb-b0d6-be6d32c3d562",
        "colab": {
          "base_uri": "https://localhost:8080/",
          "height": 420
        }
      },
      "source": [
        "plot_feature(df, 'citric acid')"
      ],
      "execution_count": 12,
      "outputs": [
        {
          "output_type": "display_data",
          "data": {
            "image/png": "[encoded data removed]",
            "text/plain": [
              "<Figure size 864x432 with 2 Axes>"
            ]
          },
          "metadata": {
            "tags": [],
            "needs_background": "light"
          }
        }
      ]
    },
    {
      "cell_type": "markdown",
      "metadata": {
        "id": "I3_OLdrAd1q8"
      },
      "source": [
        "## Residual Sugar"
      ]
    },
    {
      "cell_type": "code",
      "metadata": {
        "id": "BWw6yipne0af",
        "outputId": "011566e2-69d0-48f3-93e2-bf74bb6dbb61",
        "colab": {
          "base_uri": "https://localhost:8080/",
          "height": 420
        }
      },
      "source": [
        "plot_feature(df, 'residual sugar')"
      ],
      "execution_count": 13,
      "outputs": [
        {
          "output_type": "display_data",
          "data": {
            "image/png": "[encoded data removed]",
            "text/plain": [
              "<Figure size 864x432 with 2 Axes>"
            ]
          },
          "metadata": {
            "tags": [],
            "needs_background": "light"
          }
        }
      ]
    },
    {
      "cell_type": "markdown",
      "metadata": {
        "id": "aKsps07Hd1oY"
      },
      "source": [
        "## Chlorides"
      ]
    },
    {
      "cell_type": "code",
      "metadata": {
        "id": "tF7cynHye9iQ",
        "outputId": "f99cb076-96d4-418f-d6b9-69a04507ade6",
        "colab": {
          "base_uri": "https://localhost:8080/",
          "height": 420
        }
      },
      "source": [
        "plot_feature(df, 'chlorides')"
      ],
      "execution_count": 14,
      "outputs": [
        {
          "output_type": "display_data",
          "data": {
            "image/png": "[encoded data removed]",
            "text/plain": [
              "<Figure size 864x432 with 2 Axes>"
            ]
          },
          "metadata": {
            "tags": [],
            "needs_background": "light"
          }
        }
      ]
    },
    {
      "cell_type": "markdown",
      "metadata": {
        "id": "GUaFp2KvgqS_"
      },
      "source": [
        "## Sulphur"
      ]
    },
    {
      "cell_type": "code",
      "metadata": {
        "id": "F0Je6bnyhkyT",
        "outputId": "3cddaa99-8bbf-42c4-8e73-ebf13de9946e",
        "colab": {
          "base_uri": "https://localhost:8080/",
          "height": 420
        }
      },
      "source": [
        "plot_feature(df, 'free sulfur dioxide')"
      ],
      "execution_count": 15,
      "outputs": [
        {
          "output_type": "display_data",
          "data": {
            "image/png": "[encoded data removed]",
            "text/plain": [
              "<Figure size 864x432 with 2 Axes>"
            ]
          },
          "metadata": {
            "tags": [],
            "needs_background": "light"
          }
        }
      ]
    },
    {
      "cell_type": "code",
      "metadata": {
        "id": "zSvZ1vcthkvI",
        "outputId": "5c0099ca-7e7e-4c18-e4ea-0b463f8280a8",
        "colab": {
          "base_uri": "https://localhost:8080/",
          "height": 420
        }
      },
      "source": [
        "plot_feature(df, 'total sulfur dioxide')"
      ],
      "execution_count": 16,
      "outputs": [
        {
          "output_type": "display_data",
          "data": {
            "image/png": "[encoded data removed]",
            "text/plain": [
              "<Figure size 864x432 with 2 Axes>"
            ]
          },
          "metadata": {
            "tags": [],
            "needs_background": "light"
          }
        }
      ]
    },
    {
      "cell_type": "markdown",
      "metadata": {
        "id": "3xOBI6_cgqnz"
      },
      "source": [
        "## Density"
      ]
    },
    {
      "cell_type": "code",
      "metadata": {
        "id": "2bBInMWRhWac",
        "outputId": "2274d7ef-9543-4c2b-ab4f-ccb6e21b39f2",
        "colab": {
          "base_uri": "https://localhost:8080/",
          "height": 420
        }
      },
      "source": [
        "plot_feature(df, 'density')"
      ],
      "execution_count": 17,
      "outputs": [
        {
          "output_type": "display_data",
          "data": {
            "image/png": "[encoded data removed]",
            "text/plain": [
              "<Figure size 864x432 with 2 Axes>"
            ]
          },
          "metadata": {
            "tags": [],
            "needs_background": "light"
          }
        }
      ]
    },
    {
      "cell_type": "markdown",
      "metadata": {
        "id": "2UCH-NtHd1ls"
      },
      "source": [
        "## pH"
      ]
    },
    {
      "cell_type": "code",
      "metadata": {
        "id": "IU2bCJSJhZMx",
        "outputId": "38babe52-656d-474a-dfc2-8d085ed8b514",
        "colab": {
          "base_uri": "https://localhost:8080/",
          "height": 420
        }
      },
      "source": [
        "plot_feature(df, 'pH')"
      ],
      "execution_count": 18,
      "outputs": [
        {
          "output_type": "display_data",
          "data": {
            "image/png": "[encoded data removed]",
            "text/plain": [
              "<Figure size 864x432 with 2 Axes>"
            ]
          },
          "metadata": {
            "tags": [],
            "needs_background": "light"
          }
        }
      ]
    },
    {
      "cell_type": "markdown",
      "metadata": {
        "id": "6Qpk1psyhLLM"
      },
      "source": [
        "## Sulphates"
      ]
    },
    {
      "cell_type": "code",
      "metadata": {
        "id": "iAEjyhKQhbIH",
        "outputId": "1b73e030-8397-4c9a-f635-93f0a1bf61f1",
        "colab": {
          "base_uri": "https://localhost:8080/",
          "height": 420
        }
      },
      "source": [
        "plot_feature(df, 'sulphates')"
      ],
      "execution_count": 19,
      "outputs": [
        {
          "output_type": "display_data",
          "data": {
            "image/png": "[encoded data removed]",
            "text/plain": [
              "<Figure size 864x432 with 2 Axes>"
            ]
          },
          "metadata": {
            "tags": [],
            "needs_background": "light"
          }
        }
      ]
    },
    {
      "cell_type": "markdown",
      "metadata": {
        "id": "J8VwXjhshLGr"
      },
      "source": [
        "## Alcohol"
      ]
    },
    {
      "cell_type": "code",
      "metadata": {
        "id": "hBCFC388hdcs",
        "outputId": "a633c5ef-1eb6-496a-9850-39e0987f4263",
        "colab": {
          "base_uri": "https://localhost:8080/",
          "height": 420
        }
      },
      "source": [
        "plot_feature(df, 'alcohol')"
      ],
      "execution_count": 20,
      "outputs": [
        {
          "output_type": "display_data",
          "data": {
            "image/png": "[encoded data removed]",
            "text/plain": [
              "<Figure size 864x432 with 2 Axes>"
            ]
          },
          "metadata": {
            "tags": [],
            "needs_background": "light"
          }
        }
      ]
    },
    {
      "cell_type": "markdown",
      "metadata": {
        "id": "UFY7fgmChtFn"
      },
      "source": [
        "## Correlations"
      ]
    },
    {
      "cell_type": "code",
      "metadata": {
        "id": "wEDHcwbMh1ND",
        "outputId": "dbae1ce4-5cc1-4598-c99e-ec8456593a9a",
        "colab": {
          "base_uri": "https://localhost:8080/",
          "height": 679
        }
      },
      "source": [
        "columns = ['fixed acidity',\n",
        "           'volatile acidity',\n",
        "           'citric acid',\n",
        "           'residual sugar',\n",
        "           'chlorides',\n",
        "           'free sulfur dioxide',\n",
        "           'total sulfur dioxide', \n",
        "           'density', \n",
        "           'pH',\t\n",
        "           'sulphates',\n",
        "           'alcohol']\n",
        "plt.figure(figsize=(10, 10))\n",
        "sns.heatmap(df[columns].corr(), cmap='Blues');"
      ],
      "execution_count": 21,
      "outputs": [
        {
          "output_type": "display_data",
          "data": {
            "image/png": "[encoded data removed]",
            "text/plain": [
              "<Figure size 720x720 with 2 Axes>"
            ]
          },
          "metadata": {
            "tags": [],
            "needs_background": "light"
          }
        }
      ]
    },
    {
      "cell_type": "markdown",
      "metadata": {
        "id": "6PrLYIs6YdsM"
      },
      "source": [
        "# Random"
      ]
    },
    {
      "cell_type": "code",
      "metadata": {
        "id": "BMw6dN-qYhsc"
      },
      "source": [
        "from numpy.random import seed\n",
        "seed(1999)\n",
        "\n",
        "from tensorflow.random import set_seed\n",
        "set_seed(1999)"
      ],
      "execution_count": 22,
      "outputs": []
    },
    {
      "cell_type": "markdown",
      "metadata": {
        "id": "po1TWZpNApEU"
      },
      "source": [
        "# Training Data"
      ]
    },
    {
      "cell_type": "code",
      "metadata": {
        "id": "2ry-gWaYUkMj"
      },
      "source": [
        "X = df.copy()\n",
        "X = X.drop(columns=['quality', 'type',\t'target'])\n",
        "y = df['target']"
      ],
      "execution_count": 23,
      "outputs": []
    },
    {
      "cell_type": "code",
      "metadata": {
        "id": "QG6CMJWBU6Bb"
      },
      "source": [
        "X_train, X_test, y_train, y_test = train_test_split(X, y)\n",
        "X_train, X_val, y_train, y_val   = train_test_split(X_train, y_train)"
      ],
      "execution_count": 24,
      "outputs": []
    },
    {
      "cell_type": "markdown",
      "metadata": {
        "id": "Bh5guYomVFkF"
      },
      "source": [
        "## Scale\n",
        "* Apply standard scaler - no need to apply clipping"
      ]
    },
    {
      "cell_type": "code",
      "metadata": {
        "id": "i-zassSMVHE7"
      },
      "source": [
        "scaler = StandardScaler()\n",
        "X_train = scaler.fit_transform(X_train)\n",
        "X_test  = scaler.transform(X_test)\n",
        "X_val   = scaler.transform(X_val)"
      ],
      "execution_count": 25,
      "outputs": []
    },
    {
      "cell_type": "code",
      "metadata": {
        "id": "aJ90WlQhVmFh",
        "outputId": "0de3f47d-b0ed-41a0-a93c-77a043c50432",
        "colab": {
          "base_uri": "https://localhost:8080/",
          "height": 390
        }
      },
      "source": [
        "pd.DataFrame([i for i in zip(X.columns, X_train.min(axis=1), X_train.max(axis=1))],\n",
        "             columns=['Feature', 'Min', 'Max'])"
      ],
      "execution_count": 26,
      "outputs": [
        {
          "output_type": "execute_result",
          "data": {
            "text/html": [
              "<div>\n",
              "<style scoped>\n",
              "    .dataframe tbody tr th:only-of-type {\n",
              "        vertical-align: middle;\n",
              "    }\n",
              "\n",
              "    .dataframe tbody tr th {\n",
              "        vertical-align: top;\n",
              "    }\n",
              "\n",
              "    .dataframe thead th {\n",
              "        text-align: right;\n",
              "    }\n",
              "</style>\n",
              "<table border=\"1\" class=\"dataframe\">\n",
              "  <thead>\n",
              "    <tr style=\"text-align: right;\">\n",
              "      <th></th>\n",
              "      <th>Feature</th>\n",
              "      <th>Min</th>\n",
              "      <th>Max</th>\n",
              "    </tr>\n",
              "  </thead>\n",
              "  <tbody>\n",
              "    <tr>\n",
              "      <th>0</th>\n",
              "      <td>fixed acidity</td>\n",
              "      <td>-1.549490</td>\n",
              "      <td>1.938060</td>\n",
              "    </tr>\n",
              "    <tr>\n",
              "      <th>1</th>\n",
              "      <td>volatile acidity</td>\n",
              "      <td>-1.697028</td>\n",
              "      <td>1.433650</td>\n",
              "    </tr>\n",
              "    <tr>\n",
              "      <th>2</th>\n",
              "      <td>citric acid</td>\n",
              "      <td>-0.869265</td>\n",
              "      <td>1.167839</td>\n",
              "    </tr>\n",
              "    <tr>\n",
              "      <th>3</th>\n",
              "      <td>residual sugar</td>\n",
              "      <td>-1.182905</td>\n",
              "      <td>1.043798</td>\n",
              "    </tr>\n",
              "    <tr>\n",
              "      <th>4</th>\n",
              "      <td>chlorides</td>\n",
              "      <td>-1.028000</td>\n",
              "      <td>0.839567</td>\n",
              "    </tr>\n",
              "    <tr>\n",
              "      <th>5</th>\n",
              "      <td>free sulfur dioxide</td>\n",
              "      <td>-1.637697</td>\n",
              "      <td>1.617441</td>\n",
              "    </tr>\n",
              "    <tr>\n",
              "      <th>6</th>\n",
              "      <td>total sulfur dioxide</td>\n",
              "      <td>-0.752126</td>\n",
              "      <td>1.287556</td>\n",
              "    </tr>\n",
              "    <tr>\n",
              "      <th>7</th>\n",
              "      <td>density</td>\n",
              "      <td>-1.366862</td>\n",
              "      <td>1.135109</td>\n",
              "    </tr>\n",
              "    <tr>\n",
              "      <th>8</th>\n",
              "      <td>pH</td>\n",
              "      <td>-1.028000</td>\n",
              "      <td>1.202652</td>\n",
              "    </tr>\n",
              "    <tr>\n",
              "      <th>9</th>\n",
              "      <td>sulphates</td>\n",
              "      <td>-1.823701</td>\n",
              "      <td>3.170335</td>\n",
              "    </tr>\n",
              "    <tr>\n",
              "      <th>10</th>\n",
              "      <td>alcohol</td>\n",
              "      <td>-0.865333</td>\n",
              "      <td>2.633807</td>\n",
              "    </tr>\n",
              "  </tbody>\n",
              "</table>\n",
              "</div>"
            ],
            "text/plain": [
              "                 Feature       Min       Max\n",
              "0          fixed acidity -1.549490  1.938060\n",
              "1       volatile acidity -1.697028  1.433650\n",
              "2            citric acid -0.869265  1.167839\n",
              "3         residual sugar -1.182905  1.043798\n",
              "4              chlorides -1.028000  0.839567\n",
              "5    free sulfur dioxide -1.637697  1.617441\n",
              "6   total sulfur dioxide -0.752126  1.287556\n",
              "7                density -1.366862  1.135109\n",
              "8                     pH -1.028000  1.202652\n",
              "9              sulphates -1.823701  3.170335\n",
              "10               alcohol -0.865333  2.633807"
            ]
          },
          "metadata": {
            "tags": []
          },
          "execution_count": 26
        }
      ]
    },
    {
      "cell_type": "code",
      "metadata": {
        "id": "TEVDWVXqWjvV",
        "outputId": "f2a38824-790e-4f84-bf1b-ca5eb3c19f28",
        "colab": {
          "base_uri": "https://localhost:8080/",
          "height": 390
        }
      },
      "source": [
        "pd.DataFrame([i for i in zip(X.columns, X_test.min(axis=1), X_test.max(axis=1))],\n",
        "             columns=['Feature', 'Min', 'Max'])"
      ],
      "execution_count": 27,
      "outputs": [
        {
          "output_type": "execute_result",
          "data": {
            "text/html": [
              "<div>\n",
              "<style scoped>\n",
              "    .dataframe tbody tr th:only-of-type {\n",
              "        vertical-align: middle;\n",
              "    }\n",
              "\n",
              "    .dataframe tbody tr th {\n",
              "        vertical-align: top;\n",
              "    }\n",
              "\n",
              "    .dataframe thead th {\n",
              "        text-align: right;\n",
              "    }\n",
              "</style>\n",
              "<table border=\"1\" class=\"dataframe\">\n",
              "  <thead>\n",
              "    <tr style=\"text-align: right;\">\n",
              "      <th></th>\n",
              "      <th>Feature</th>\n",
              "      <th>Min</th>\n",
              "      <th>Max</th>\n",
              "    </tr>\n",
              "  </thead>\n",
              "  <tbody>\n",
              "    <tr>\n",
              "      <th>0</th>\n",
              "      <td>fixed acidity</td>\n",
              "      <td>-0.745615</td>\n",
              "      <td>1.433650</td>\n",
              "    </tr>\n",
              "    <tr>\n",
              "      <th>1</th>\n",
              "      <td>volatile acidity</td>\n",
              "      <td>-1.256536</td>\n",
              "      <td>2.225773</td>\n",
              "    </tr>\n",
              "    <tr>\n",
              "      <th>2</th>\n",
              "      <td>citric acid</td>\n",
              "      <td>-1.087794</td>\n",
              "      <td>1.685855</td>\n",
              "    </tr>\n",
              "    <tr>\n",
              "      <th>3</th>\n",
              "      <td>residual sugar</td>\n",
              "      <td>-1.260692</td>\n",
              "      <td>1.537707</td>\n",
              "    </tr>\n",
              "    <tr>\n",
              "      <th>4</th>\n",
              "      <td>chlorides</td>\n",
              "      <td>-1.508741</td>\n",
              "      <td>4.611053</td>\n",
              "    </tr>\n",
              "    <tr>\n",
              "      <th>5</th>\n",
              "      <td>free sulfur dioxide</td>\n",
              "      <td>-0.796879</td>\n",
              "      <td>1.555399</td>\n",
              "    </tr>\n",
              "    <tr>\n",
              "      <th>6</th>\n",
              "      <td>total sulfur dioxide</td>\n",
              "      <td>-1.663917</td>\n",
              "      <td>1.433650</td>\n",
              "    </tr>\n",
              "    <tr>\n",
              "      <th>7</th>\n",
              "      <td>density</td>\n",
              "      <td>-1.892156</td>\n",
              "      <td>0.100197</td>\n",
              "    </tr>\n",
              "    <tr>\n",
              "      <th>8</th>\n",
              "      <td>pH</td>\n",
              "      <td>-2.165975</td>\n",
              "      <td>0.934798</td>\n",
              "    </tr>\n",
              "    <tr>\n",
              "      <th>9</th>\n",
              "      <td>sulphates</td>\n",
              "      <td>-1.431529</td>\n",
              "      <td>0.917355</td>\n",
              "    </tr>\n",
              "    <tr>\n",
              "      <th>10</th>\n",
              "      <td>alcohol</td>\n",
              "      <td>-1.602414</td>\n",
              "      <td>4.417786</td>\n",
              "    </tr>\n",
              "  </tbody>\n",
              "</table>\n",
              "</div>"
            ],
            "text/plain": [
              "                 Feature       Min       Max\n",
              "0          fixed acidity -0.745615  1.433650\n",
              "1       volatile acidity -1.256536  2.225773\n",
              "2            citric acid -1.087794  1.685855\n",
              "3         residual sugar -1.260692  1.537707\n",
              "4              chlorides -1.508741  4.611053\n",
              "5    free sulfur dioxide -0.796879  1.555399\n",
              "6   total sulfur dioxide -1.663917  1.433650\n",
              "7                density -1.892156  0.100197\n",
              "8                     pH -2.165975  0.934798\n",
              "9              sulphates -1.431529  0.917355\n",
              "10               alcohol -1.602414  4.417786"
            ]
          },
          "metadata": {
            "tags": []
          },
          "execution_count": 27
        }
      ]
    },
    {
      "cell_type": "markdown",
      "metadata": {
        "id": "uFAP8tY0bMle"
      },
      "source": [
        "# Metrics"
      ]
    },
    {
      "cell_type": "code",
      "metadata": {
        "id": "ZItm7N7YW2mO"
      },
      "source": [
        "METRICS = [\n",
        "      TruePositives(name='tp'),\n",
        "      FalsePositives(name='fp'),\n",
        "      TrueNegatives(name='tn'),\n",
        "      FalseNegatives(name='fn'), \n",
        "      BinaryAccuracy(name='accuracy'),\n",
        "      Precision(name='precision'),\n",
        "      Recall(name='recall'),\n",
        "      AUC(name='auc')\n",
        "]"
      ],
      "execution_count": 28,
      "outputs": []
    },
    {
      "cell_type": "code",
      "metadata": {
        "id": "NzWc-JcQCBL4"
      },
      "source": [
        "def score_model(y, y_hat):\n",
        "  cm = confusion_matrix(y, y_hat)\n",
        "  maj_precision = cm[0][0] / (cm[0][0] + cm[1][0])\n",
        "  maj_recall    = cm[0][0] / (cm[0][0] + cm[0][1])\n",
        "  min_precision = cm[1][1] / (cm[1][1] + cm[0][1])\n",
        "  min_recall    = cm[1][1] / (cm[1][1] + cm[1][0])\n",
        "  acc = accuracy_score(y, y_hat)\n",
        "  f1  = f1_score(y, y_hat)\n",
        "  return cm, acc, (maj_precision, maj_recall), (min_precision, min_recall), f1"
      ],
      "execution_count": 29,
      "outputs": []
    },
    {
      "cell_type": "markdown",
      "metadata": {
        "id": "9olbm4_gEPxX"
      },
      "source": [
        "# Tracking"
      ]
    },
    {
      "cell_type": "code",
      "metadata": {
        "id": "awe1ZHN-ERBB"
      },
      "source": [
        "cols = pd.MultiIndex.from_tuples(zip(['Majority', 'Majority', 'Minority', 'Minority', 'Scoring', 'Scoring'],\n",
        "                                     ['Precision', 'Recall', 'Precision', 'Recall', 'Accuracy', 'F1']))\n",
        "\n",
        "results_df = pd.DataFrame(columns=cols)"
      ],
      "execution_count": 30,
      "outputs": []
    },
    {
      "cell_type": "markdown",
      "metadata": {
        "id": "9Goia0GJbMdp"
      },
      "source": [
        "# Model"
      ]
    },
    {
      "cell_type": "code",
      "metadata": {
        "id": "kd_INRstXeue"
      },
      "source": [
        "def construct_model(layers=[64], loss=BinaryCrossentropy(), dropout=0.2):\n",
        "  model = Sequential()\n",
        "  model.add(Dense(layers[0], activation='relu', input_shape=(X_train.shape[-1],)))\n",
        "  \n",
        "  for layer in layers[1:]:\n",
        "    model.add(Dense(layer, activation='relu'))\n",
        "  \n",
        "  model.add(Dropout(dropout))\n",
        "  model.add(Dense(1, activation='sigmoid'))\n",
        "\n",
        "  model.compile(\n",
        "      optimizer=keras.optimizers.Adam(lr=1e-3),\n",
        "      loss=loss,\n",
        "      metrics=METRICS)\n",
        "\n",
        "  return model"
      ],
      "execution_count": 31,
      "outputs": []
    },
    {
      "cell_type": "code",
      "metadata": {
        "id": "C8p6nW4VsonB"
      },
      "source": [
        "def plot_history(history):\n",
        "  plt.figure(figsize=(10,8))\n",
        "  \n",
        "  metrics =  ['loss', 'auc', 'precision', 'recall']\n",
        "  for n, metric in enumerate(metrics):\n",
        "    name = metric.replace(\"_\",\" \").capitalize()\n",
        "    plt.subplot(2,2,n+1)\n",
        "    \n",
        "    plt.plot(history.epoch, \n",
        "             history.history[metric], \n",
        "             color='blue', \n",
        "             label='Train')\n",
        "    plt.plot(history.epoch, \n",
        "             history.history['val_' + metric],\n",
        "             color='blue', \n",
        "             linestyle=\"--\", \n",
        "             label='Val')\n",
        "    \n",
        "    plt.xlabel('Epoch')\n",
        "    plt.ylabel(name)\n",
        "    \n",
        "    if metric == 'loss':\n",
        "      plt.ylim([0, plt.ylim()[1]])\n",
        "    elif metric == 'auc':\n",
        "      plt.ylim([0.2,1])\n",
        "    else:\n",
        "      plt.ylim([0,1])\n",
        "    plt.legend()"
      ],
      "execution_count": 32,
      "outputs": []
    },
    {
      "cell_type": "markdown",
      "metadata": {
        "id": "3g5JcRz8-_Ds"
      },
      "source": [
        "# Baseline"
      ]
    },
    {
      "cell_type": "code",
      "metadata": {
        "id": "BJFdSl5V--PJ",
        "outputId": "7d93c4c7-24fc-48e0-e65b-dc053f0fa773",
        "colab": {
          "base_uri": "https://localhost:8080/",
          "height": 224
        }
      },
      "source": [
        "y_hat_proba = np.repeat(0, len(X_test))\n",
        "y_hat = np.where(y_hat_proba > 0.5, 1, 0)\n",
        "print(classification_report(y_test, y_hat))"
      ],
      "execution_count": 33,
      "outputs": [
        {
          "output_type": "stream",
          "text": [
            "              precision    recall  f1-score   support\n",
            "\n",
            "           0       0.97      1.00      0.98      1572\n",
            "           1       0.00      0.00      0.00        53\n",
            "\n",
            "    accuracy                           0.97      1625\n",
            "   macro avg       0.48      0.50      0.49      1625\n",
            "weighted avg       0.94      0.97      0.95      1625\n",
            "\n"
          ],
          "name": "stdout"
        },
        {
          "output_type": "stream",
          "text": [
            "/usr/local/lib/python3.6/dist-packages/sklearn/metrics/_classification.py:1272: UndefinedMetricWarning: Precision and F-score are ill-defined and being set to 0.0 in labels with no predicted samples. Use `zero_division` parameter to control this behavior.\n",
            "  _warn_prf(average, modifier, msg_start, len(result))\n"
          ],
          "name": "stderr"
        }
      ]
    },
    {
      "cell_type": "code",
      "metadata": {
        "id": "_oSwHXBJEDoY",
        "outputId": "df4e02d4-61e4-418f-eba8-2e8477dbde8b",
        "colab": {
          "base_uri": "https://localhost:8080/",
          "height": 165
        }
      },
      "source": [
        "cm, acc, maj, min, f1 = score_model(y_test, y_hat)\n",
        "results_df.loc['Baseline'] = [*maj, *min, acc, f1]\n",
        "results_df"
      ],
      "execution_count": 34,
      "outputs": [
        {
          "output_type": "stream",
          "text": [
            "/usr/local/lib/python3.6/dist-packages/ipykernel_launcher.py:5: RuntimeWarning: invalid value encountered in long_scalars\n",
            "  \"\"\"\n"
          ],
          "name": "stderr"
        },
        {
          "output_type": "execute_result",
          "data": {
            "text/html": [
              "<div>\n",
              "<style scoped>\n",
              "    .dataframe tbody tr th:only-of-type {\n",
              "        vertical-align: middle;\n",
              "    }\n",
              "\n",
              "    .dataframe tbody tr th {\n",
              "        vertical-align: top;\n",
              "    }\n",
              "\n",
              "    .dataframe thead tr th {\n",
              "        text-align: left;\n",
              "    }\n",
              "</style>\n",
              "<table border=\"1\" class=\"dataframe\">\n",
              "  <thead>\n",
              "    <tr>\n",
              "      <th></th>\n",
              "      <th colspan=\"2\" halign=\"left\">Majority</th>\n",
              "      <th colspan=\"2\" halign=\"left\">Minority</th>\n",
              "      <th colspan=\"2\" halign=\"left\">Scoring</th>\n",
              "    </tr>\n",
              "    <tr>\n",
              "      <th></th>\n",
              "      <th>Precision</th>\n",
              "      <th>Recall</th>\n",
              "      <th>Precision</th>\n",
              "      <th>Recall</th>\n",
              "      <th>Accuracy</th>\n",
              "      <th>F1</th>\n",
              "    </tr>\n",
              "  </thead>\n",
              "  <tbody>\n",
              "    <tr>\n",
              "      <th>Baseline</th>\n",
              "      <td>0.967385</td>\n",
              "      <td>1.0</td>\n",
              "      <td>NaN</td>\n",
              "      <td>0.0</td>\n",
              "      <td>0.967385</td>\n",
              "      <td>0.0</td>\n",
              "    </tr>\n",
              "  </tbody>\n",
              "</table>\n",
              "</div>"
            ],
            "text/plain": [
              "          Majority         Minority          Scoring     \n",
              "         Precision Recall Precision Recall  Accuracy   F1\n",
              "Baseline  0.967385    1.0       NaN    0.0  0.967385  0.0"
            ]
          },
          "metadata": {
            "tags": []
          },
          "execution_count": 34
        }
      ]
    },
    {
      "cell_type": "markdown",
      "metadata": {
        "id": "ietbonm5bMay"
      },
      "source": [
        "# Random\n",
        "* Simplest baseline, use random weights and "
      ]
    },
    {
      "cell_type": "code",
      "metadata": {
        "id": "Fk5uegJVYMjU"
      },
      "source": [
        "EPOCHS = 100\n",
        "BATCH_SIZE = 256\n",
        "\n",
        "early_stopping = EarlyStopping(\n",
        "    monitor='val_auc', \n",
        "    verbose=1,\n",
        "    patience=5,\n",
        "    mode='max',\n",
        "    restore_best_weights=True)"
      ],
      "execution_count": 35,
      "outputs": []
    },
    {
      "cell_type": "code",
      "metadata": {
        "id": "e7I5NrkXYZoR",
        "outputId": "e700a7c3-9bce-4a55-d535-4e752605bd22",
        "colab": {
          "base_uri": "https://localhost:8080/",
          "height": 255
        }
      },
      "source": [
        "model = construct_model()\n",
        "model.summary()"
      ],
      "execution_count": 36,
      "outputs": [
        {
          "output_type": "stream",
          "text": [
            "Model: \"sequential\"\n",
            "_________________________________________________________________\n",
            "Layer (type)                 Output Shape              Param #   \n",
            "=================================================================\n",
            "dense (Dense)                (None, 64)                768       \n",
            "_________________________________________________________________\n",
            "dropout (Dropout)            (None, 64)                0         \n",
            "_________________________________________________________________\n",
            "dense_1 (Dense)              (None, 1)                 65        \n",
            "=================================================================\n",
            "Total params: 833\n",
            "Trainable params: 833\n",
            "Non-trainable params: 0\n",
            "_________________________________________________________________\n"
          ],
          "name": "stdout"
        }
      ]
    },
    {
      "cell_type": "code",
      "metadata": {
        "id": "cTWjesqkY0Ot",
        "outputId": "caeff7ae-220e-4d20-c99c-7adf3d45dd2f",
        "colab": {
          "base_uri": "https://localhost:8080/",
          "height": 187
        }
      },
      "source": [
        "model.predict(X_train[:10])"
      ],
      "execution_count": 37,
      "outputs": [
        {
          "output_type": "execute_result",
          "data": {
            "text/plain": [
              "array([[0.6821841 ],\n",
              "       [0.40821758],\n",
              "       [0.46350798],\n",
              "       [0.6550738 ],\n",
              "       [0.50704575],\n",
              "       [0.74690413],\n",
              "       [0.54997444],\n",
              "       [0.6202575 ],\n",
              "       [0.7230866 ],\n",
              "       [0.8332217 ]], dtype=float32)"
            ]
          },
          "metadata": {
            "tags": []
          },
          "execution_count": 37
        }
      ]
    },
    {
      "cell_type": "code",
      "metadata": {
        "id": "SfdfhemrY1bW",
        "outputId": "031ea4d8-a079-4dd4-fb9d-56087a2b8f17",
        "colab": {
          "base_uri": "https://localhost:8080/",
          "height": 34
        }
      },
      "source": [
        "results = model.evaluate(X_train, y_train, batch_size=BATCH_SIZE, verbose=0)\n",
        "print(\"Loss: {:0.4f}\".format(results[0]))"
      ],
      "execution_count": 38,
      "outputs": [
        {
          "output_type": "stream",
          "text": [
            "Loss: 0.9366\n"
          ],
          "name": "stdout"
        }
      ]
    },
    {
      "cell_type": "code",
      "metadata": {
        "id": "URKMvAdS-0tT",
        "outputId": "18ea6e77-fd28-45f2-95f3-6ac5df7ae718",
        "colab": {
          "base_uri": "https://localhost:8080/",
          "height": 170
        }
      },
      "source": [
        "y_hat_proba = model.predict(X_test)\n",
        "y_hat = np.where(y_hat_proba > 0.5, 1, 0)\n",
        "print(classification_report(y_test, y_hat))"
      ],
      "execution_count": 39,
      "outputs": [
        {
          "output_type": "stream",
          "text": [
            "              precision    recall  f1-score   support\n",
            "\n",
            "           0       0.98      0.32      0.48      1572\n",
            "           1       0.04      0.81      0.07        53\n",
            "\n",
            "    accuracy                           0.34      1625\n",
            "   macro avg       0.51      0.57      0.28      1625\n",
            "weighted avg       0.95      0.34      0.47      1625\n",
            "\n"
          ],
          "name": "stdout"
        }
      ]
    },
    {
      "cell_type": "code",
      "metadata": {
        "id": "zsqhgKhjFzLX",
        "outputId": "5c142858-5d96-4af0-a2c2-c6a5334cecd3",
        "colab": {
          "base_uri": "https://localhost:8080/",
          "height": 142
        }
      },
      "source": [
        "cm, acc, maj, min, f1 = score_model(y_test, y_hat)\n",
        "results_df.loc['Random'] = [*maj, *min, acc, f1]\n",
        "results_df"
      ],
      "execution_count": 40,
      "outputs": [
        {
          "output_type": "execute_result",
          "data": {
            "text/html": [
              "<div>\n",
              "<style scoped>\n",
              "    .dataframe tbody tr th:only-of-type {\n",
              "        vertical-align: middle;\n",
              "    }\n",
              "\n",
              "    .dataframe tbody tr th {\n",
              "        vertical-align: top;\n",
              "    }\n",
              "\n",
              "    .dataframe thead tr th {\n",
              "        text-align: left;\n",
              "    }\n",
              "</style>\n",
              "<table border=\"1\" class=\"dataframe\">\n",
              "  <thead>\n",
              "    <tr>\n",
              "      <th></th>\n",
              "      <th colspan=\"2\" halign=\"left\">Majority</th>\n",
              "      <th colspan=\"2\" halign=\"left\">Minority</th>\n",
              "      <th colspan=\"2\" halign=\"left\">Scoring</th>\n",
              "    </tr>\n",
              "    <tr>\n",
              "      <th></th>\n",
              "      <th>Precision</th>\n",
              "      <th>Recall</th>\n",
              "      <th>Precision</th>\n",
              "      <th>Recall</th>\n",
              "      <th>Accuracy</th>\n",
              "      <th>F1</th>\n",
              "    </tr>\n",
              "  </thead>\n",
              "  <tbody>\n",
              "    <tr>\n",
              "      <th>Baseline</th>\n",
              "      <td>0.967385</td>\n",
              "      <td>1.000000</td>\n",
              "      <td>NaN</td>\n",
              "      <td>0.000000</td>\n",
              "      <td>0.967385</td>\n",
              "      <td>0.00000</td>\n",
              "    </tr>\n",
              "    <tr>\n",
              "      <th>Random</th>\n",
              "      <td>0.980507</td>\n",
              "      <td>0.319975</td>\n",
              "      <td>0.038669</td>\n",
              "      <td>0.811321</td>\n",
              "      <td>0.336000</td>\n",
              "      <td>0.07382</td>\n",
              "    </tr>\n",
              "  </tbody>\n",
              "</table>\n",
              "</div>"
            ],
            "text/plain": [
              "          Majority            Minority             Scoring         \n",
              "         Precision    Recall Precision    Recall  Accuracy       F1\n",
              "Baseline  0.967385  1.000000       NaN  0.000000  0.967385  0.00000\n",
              "Random    0.980507  0.319975  0.038669  0.811321  0.336000  0.07382"
            ]
          },
          "metadata": {
            "tags": []
          },
          "execution_count": 40
        }
      ]
    },
    {
      "cell_type": "markdown",
      "metadata": {
        "id": "Pd-K4NMvrRzv"
      },
      "source": [
        "# Unbalanced"
      ]
    },
    {
      "cell_type": "code",
      "metadata": {
        "id": "XUmaw-bMsTFc",
        "outputId": "2775806f-2fe2-43a7-edac-b52e9c4599cd",
        "colab": {
          "base_uri": "https://localhost:8080/",
          "height": 255
        }
      },
      "source": [
        "model = construct_model()\n",
        "model.summary()"
      ],
      "execution_count": 41,
      "outputs": [
        {
          "output_type": "stream",
          "text": [
            "Model: \"sequential_1\"\n",
            "_________________________________________________________________\n",
            "Layer (type)                 Output Shape              Param #   \n",
            "=================================================================\n",
            "dense_2 (Dense)              (None, 64)                768       \n",
            "_________________________________________________________________\n",
            "dropout_1 (Dropout)          (None, 64)                0         \n",
            "_________________________________________________________________\n",
            "dense_3 (Dense)              (None, 1)                 65        \n",
            "=================================================================\n",
            "Total params: 833\n",
            "Trainable params: 833\n",
            "Non-trainable params: 0\n",
            "_________________________________________________________________\n"
          ],
          "name": "stdout"
        }
      ]
    },
    {
      "cell_type": "code",
      "metadata": {
        "id": "8CDbckKDrhe2",
        "outputId": "47a4119f-b70b-4836-e86c-98e9bef84fea",
        "colab": {
          "base_uri": "https://localhost:8080/",
          "height": 275
        }
      },
      "source": [
        "history_unbalanced = model.fit(\n",
        "    X_train,\n",
        "    y_train,\n",
        "    batch_size=BATCH_SIZE,\n",
        "    epochs=EPOCHS,\n",
        "    callbacks = [early_stopping],\n",
        "    validation_data=(X_val, y_val))"
      ],
      "execution_count": 42,
      "outputs": [
        {
          "output_type": "stream",
          "text": [
            "Epoch 1/100\n",
            "15/15 [==============================] - 1s 47ms/step - loss: 0.7498 - tp: 239.0000 - fp: 4325.0000 - tn: 2689.0000 - fn: 55.0000 - accuracy: 0.4007 - precision: 0.0524 - recall: 0.8129 - auc: 0.6330 - val_loss: 0.6172 - val_tp: 15.0000 - val_fp: 271.0000 - val_tn: 901.0000 - val_fn: 31.0000 - val_accuracy: 0.7521 - val_precision: 0.0524 - val_recall: 0.3261 - val_auc: 0.6041\n",
            "Epoch 2/100\n",
            "15/15 [==============================] - 0s 3ms/step - loss: 0.5542 - tp: 35.0000 - fp: 623.0000 - tn: 2884.0000 - fn: 112.0000 - accuracy: 0.7989 - precision: 0.0532 - recall: 0.2381 - auc: 0.5808 - val_loss: 0.4595 - val_tp: 4.0000 - val_fp: 30.0000 - val_tn: 1142.0000 - val_fn: 42.0000 - val_accuracy: 0.9409 - val_precision: 0.1176 - val_recall: 0.0870 - val_auc: 0.5951\n",
            "Epoch 3/100\n",
            "15/15 [==============================] - 0s 4ms/step - loss: 0.4217 - tp: 7.0000 - fp: 113.0000 - tn: 3394.0000 - fn: 140.0000 - accuracy: 0.9308 - precision: 0.0583 - recall: 0.0476 - auc: 0.5449 - val_loss: 0.3596 - val_tp: 0.0000e+00 - val_fp: 1.0000 - val_tn: 1171.0000 - val_fn: 46.0000 - val_accuracy: 0.9614 - val_precision: 0.0000e+00 - val_recall: 0.0000e+00 - val_auc: 0.5868\n",
            "Epoch 4/100\n",
            "15/15 [==============================] - 0s 4ms/step - loss: 0.3420 - tp: 0.0000e+00 - fp: 13.0000 - tn: 3494.0000 - fn: 147.0000 - accuracy: 0.9562 - precision: 0.0000e+00 - recall: 0.0000e+00 - auc: 0.5725 - val_loss: 0.2968 - val_tp: 0.0000e+00 - val_fp: 0.0000e+00 - val_tn: 1172.0000 - val_fn: 46.0000 - val_accuracy: 0.9622 - val_precision: 0.0000e+00 - val_recall: 0.0000e+00 - val_auc: 0.5922\n",
            "Epoch 5/100\n",
            "15/15 [==============================] - 0s 4ms/step - loss: 0.2862 - tp: 1.0000 - fp: 1.0000 - tn: 3506.0000 - fn: 146.0000 - accuracy: 0.9598 - precision: 0.5000 - recall: 0.0068 - auc: 0.5818 - val_loss: 0.2561 - val_tp: 0.0000e+00 - val_fp: 0.0000e+00 - val_tn: 1172.0000 - val_fn: 46.0000 - val_accuracy: 0.9622 - val_precision: 0.0000e+00 - val_recall: 0.0000e+00 - val_auc: 0.5982\n",
            "Epoch 6/100\n",
            " 1/15 [=>............................] - ETA: 0s - loss: 0.2519 - tp: 0.0000e+00 - fp: 0.0000e+00 - tn: 247.0000 - fn: 9.0000 - accuracy: 0.9648 - precision: 0.0000e+00 - recall: 0.0000e+00 - auc: 0.6239Restoring model weights from the end of the best epoch.\n",
            "15/15 [==============================] - 0s 4ms/step - loss: 0.2515 - tp: 1.0000 - fp: 2.0000 - tn: 3505.0000 - fn: 146.0000 - accuracy: 0.9595 - precision: 0.3333 - recall: 0.0068 - auc: 0.5848 - val_loss: 0.2291 - val_tp: 0.0000e+00 - val_fp: 0.0000e+00 - val_tn: 1172.0000 - val_fn: 46.0000 - val_accuracy: 0.9622 - val_precision: 0.0000e+00 - val_recall: 0.0000e+00 - val_auc: 0.6000\n",
            "Epoch 00006: early stopping\n"
          ],
          "name": "stdout"
        }
      ]
    },
    {
      "cell_type": "code",
      "metadata": {
        "id": "BqnnNO3ort5D",
        "outputId": "837a5e52-fd1a-43ce-901d-895f0d14cfda",
        "colab": {
          "base_uri": "https://localhost:8080/",
          "height": 501
        }
      },
      "source": [
        "plot_history(history_unbalanced)"
      ],
      "execution_count": 43,
      "outputs": [
        {
          "output_type": "display_data",
          "data": {
            "image/png": "[encoded data removed]",
            "text/plain": [
              "<Figure size 720x576 with 4 Axes>"
            ]
          },
          "metadata": {
            "tags": [],
            "needs_background": "light"
          }
        }
      ]
    },
    {
      "cell_type": "code",
      "metadata": {
        "id": "9q1JvEuxtnQ7",
        "outputId": "727efcdc-326c-434c-f915-c391ac4e10c9",
        "colab": {
          "base_uri": "https://localhost:8080/",
          "height": 170
        }
      },
      "source": [
        "y_hat_proba = model.predict(X_test)\n",
        "y_hat = np.where(y_hat_proba > 0.5, 1, 0)\n",
        "print(classification_report(y_test, y_hat))"
      ],
      "execution_count": 44,
      "outputs": [
        {
          "output_type": "stream",
          "text": [
            "              precision    recall  f1-score   support\n",
            "\n",
            "           0       0.97      0.74      0.84      1572\n",
            "           1       0.03      0.25      0.06        53\n",
            "\n",
            "    accuracy                           0.73      1625\n",
            "   macro avg       0.50      0.50      0.45      1625\n",
            "weighted avg       0.94      0.73      0.82      1625\n",
            "\n"
          ],
          "name": "stdout"
        }
      ]
    },
    {
      "cell_type": "code",
      "metadata": {
        "id": "IPUze0d-F10h",
        "outputId": "d4a7d41a-e4ae-4d73-a6bd-b2f5ef0ba5e7",
        "colab": {
          "base_uri": "https://localhost:8080/",
          "height": 173
        }
      },
      "source": [
        "cm, acc, maj, min, f1 = score_model(y_test, y_hat)\n",
        "results_df.loc['Unbalanced'] = [*maj, *min, acc, f1]\n",
        "results_df"
      ],
      "execution_count": 45,
      "outputs": [
        {
          "output_type": "execute_result",
          "data": {
            "text/html": [
              "<div>\n",
              "<style scoped>\n",
              "    .dataframe tbody tr th:only-of-type {\n",
              "        vertical-align: middle;\n",
              "    }\n",
              "\n",
              "    .dataframe tbody tr th {\n",
              "        vertical-align: top;\n",
              "    }\n",
              "\n",
              "    .dataframe thead tr th {\n",
              "        text-align: left;\n",
              "    }\n",
              "</style>\n",
              "<table border=\"1\" class=\"dataframe\">\n",
              "  <thead>\n",
              "    <tr>\n",
              "      <th></th>\n",
              "      <th colspan=\"2\" halign=\"left\">Majority</th>\n",
              "      <th colspan=\"2\" halign=\"left\">Minority</th>\n",
              "      <th colspan=\"2\" halign=\"left\">Scoring</th>\n",
              "    </tr>\n",
              "    <tr>\n",
              "      <th></th>\n",
              "      <th>Precision</th>\n",
              "      <th>Recall</th>\n",
              "      <th>Precision</th>\n",
              "      <th>Recall</th>\n",
              "      <th>Accuracy</th>\n",
              "      <th>F1</th>\n",
              "    </tr>\n",
              "  </thead>\n",
              "  <tbody>\n",
              "    <tr>\n",
              "      <th>Baseline</th>\n",
              "      <td>0.967385</td>\n",
              "      <td>1.000000</td>\n",
              "      <td>NaN</td>\n",
              "      <td>0.000000</td>\n",
              "      <td>0.967385</td>\n",
              "      <td>0.000000</td>\n",
              "    </tr>\n",
              "    <tr>\n",
              "      <th>Random</th>\n",
              "      <td>0.980507</td>\n",
              "      <td>0.319975</td>\n",
              "      <td>0.038669</td>\n",
              "      <td>0.811321</td>\n",
              "      <td>0.336000</td>\n",
              "      <td>0.073820</td>\n",
              "    </tr>\n",
              "    <tr>\n",
              "      <th>Unbalanced</th>\n",
              "      <td>0.966969</td>\n",
              "      <td>0.744911</td>\n",
              "      <td>0.031401</td>\n",
              "      <td>0.245283</td>\n",
              "      <td>0.728615</td>\n",
              "      <td>0.055675</td>\n",
              "    </tr>\n",
              "  </tbody>\n",
              "</table>\n",
              "</div>"
            ],
            "text/plain": [
              "            Majority            Minority             Scoring          \n",
              "           Precision    Recall Precision    Recall  Accuracy        F1\n",
              "Baseline    0.967385  1.000000       NaN  0.000000  0.967385  0.000000\n",
              "Random      0.980507  0.319975  0.038669  0.811321  0.336000  0.073820\n",
              "Unbalanced  0.966969  0.744911  0.031401  0.245283  0.728615  0.055675"
            ]
          },
          "metadata": {
            "tags": []
          },
          "execution_count": 45
        }
      ]
    },
    {
      "cell_type": "markdown",
      "metadata": {
        "id": "hUJx-xYryQ9B"
      },
      "source": [
        "# Weighted Model"
      ]
    },
    {
      "cell_type": "code",
      "metadata": {
        "id": "pcTGRAY5ytmn",
        "outputId": "0f84a4f0-b519-4129-81a9-fc09b2b915a9",
        "colab": {
          "base_uri": "https://localhost:8080/",
          "height": 51
        }
      },
      "source": [
        "# Scaling by total/2 helps keep the loss to a similar magnitude.\n",
        "# The sum of the weights of all examples stays the same.\n",
        "pos = y_train.sum()\n",
        "neg = len(y_train) - pos\n",
        "tot = len(y_train)\n",
        "\n",
        "weight_neg = (1 / neg) * (tot) / 2.0 \n",
        "weight_pos = (1 / pos) * (tot) / 2.0\n",
        "\n",
        "class_weight = {0: weight_neg, 1: weight_pos}\n",
        "\n",
        "print('Weight Negative: {:.2f}'.format(weight_neg))\n",
        "print('Weight Positive: {:.2f}'.format(weight_pos))"
      ],
      "execution_count": 46,
      "outputs": [
        {
          "output_type": "stream",
          "text": [
            "Weight Negative: 0.52\n",
            "Weight Positive: 12.43\n"
          ],
          "name": "stdout"
        }
      ]
    },
    {
      "cell_type": "code",
      "metadata": {
        "id": "SDqX70CS-IE6",
        "outputId": "47bc869c-8ce0-4778-e1e6-add9a40c71fd",
        "colab": {
          "base_uri": "https://localhost:8080/",
          "height": 255
        }
      },
      "source": [
        "model = construct_model()\n",
        "model.summary()"
      ],
      "execution_count": 47,
      "outputs": [
        {
          "output_type": "stream",
          "text": [
            "Model: \"sequential_2\"\n",
            "_________________________________________________________________\n",
            "Layer (type)                 Output Shape              Param #   \n",
            "=================================================================\n",
            "dense_4 (Dense)              (None, 64)                768       \n",
            "_________________________________________________________________\n",
            "dropout_2 (Dropout)          (None, 64)                0         \n",
            "_________________________________________________________________\n",
            "dense_5 (Dense)              (None, 1)                 65        \n",
            "=================================================================\n",
            "Total params: 833\n",
            "Trainable params: 833\n",
            "Non-trainable params: 0\n",
            "_________________________________________________________________\n"
          ],
          "name": "stdout"
        }
      ]
    },
    {
      "cell_type": "code",
      "metadata": {
        "id": "H7A99zZE-ITh",
        "outputId": "a64f03b3-ce30-4df4-ea39-2d35a6f71512",
        "colab": {
          "base_uri": "https://localhost:8080/",
          "height": 887
        }
      },
      "source": [
        "history_weighted = model.fit(\n",
        "    X_train,\n",
        "    y_train,\n",
        "    batch_size=BATCH_SIZE,\n",
        "    epochs=EPOCHS,\n",
        "    callbacks = [early_stopping],\n",
        "    class_weight=class_weight,\n",
        "    validation_data=(X_val, y_val))"
      ],
      "execution_count": 48,
      "outputs": [
        {
          "output_type": "stream",
          "text": [
            "Epoch 1/100\n",
            "15/15 [==============================] - 1s 49ms/step - loss: 0.7426 - tp: 41.0000 - fp: 841.0000 - tn: 3838.0000 - fn: 152.0000 - accuracy: 0.7962 - precision: 0.0465 - recall: 0.2124 - auc: 0.5058 - val_loss: 0.5950 - val_tp: 15.0000 - val_fp: 241.0000 - val_tn: 931.0000 - val_fn: 31.0000 - val_accuracy: 0.7767 - val_precision: 0.0586 - val_recall: 0.3261 - val_auc: 0.5182\n",
            "Epoch 2/100\n",
            "15/15 [==============================] - 0s 4ms/step - loss: 0.6836 - tp: 66.0000 - fp: 1023.0000 - tn: 2484.0000 - fn: 81.0000 - accuracy: 0.6979 - precision: 0.0606 - recall: 0.4490 - auc: 0.5913 - val_loss: 0.6175 - val_tp: 23.0000 - val_fp: 320.0000 - val_tn: 852.0000 - val_fn: 23.0000 - val_accuracy: 0.7184 - val_precision: 0.0671 - val_recall: 0.5000 - val_auc: 0.6265\n",
            "Epoch 3/100\n",
            "15/15 [==============================] - 0s 4ms/step - loss: 0.6429 - tp: 95.0000 - fp: 1210.0000 - tn: 2297.0000 - fn: 52.0000 - accuracy: 0.6546 - precision: 0.0728 - recall: 0.6463 - auc: 0.6987 - val_loss: 0.6210 - val_tp: 27.0000 - val_fp: 341.0000 - val_tn: 831.0000 - val_fn: 19.0000 - val_accuracy: 0.7044 - val_precision: 0.0734 - val_recall: 0.5870 - val_auc: 0.6723\n",
            "Epoch 4/100\n",
            "15/15 [==============================] - 0s 4ms/step - loss: 0.6111 - tp: 110.0000 - fp: 1256.0000 - tn: 2251.0000 - fn: 37.0000 - accuracy: 0.6461 - precision: 0.0805 - recall: 0.7483 - auc: 0.7654 - val_loss: 0.6240 - val_tp: 28.0000 - val_fp: 359.0000 - val_tn: 813.0000 - val_fn: 18.0000 - val_accuracy: 0.6905 - val_precision: 0.0724 - val_recall: 0.6087 - val_auc: 0.6988\n",
            "Epoch 5/100\n",
            "15/15 [==============================] - 0s 4ms/step - loss: 0.6014 - tp: 114.0000 - fp: 1253.0000 - tn: 2254.0000 - fn: 33.0000 - accuracy: 0.6481 - precision: 0.0834 - recall: 0.7755 - auc: 0.7709 - val_loss: 0.6164 - val_tp: 28.0000 - val_fp: 367.0000 - val_tn: 805.0000 - val_fn: 18.0000 - val_accuracy: 0.6839 - val_precision: 0.0709 - val_recall: 0.6087 - val_auc: 0.7145\n",
            "Epoch 6/100\n",
            "15/15 [==============================] - 0s 4ms/step - loss: 0.5901 - tp: 114.0000 - fp: 1234.0000 - tn: 2273.0000 - fn: 33.0000 - accuracy: 0.6533 - precision: 0.0846 - recall: 0.7755 - auc: 0.7802 - val_loss: 0.6056 - val_tp: 28.0000 - val_fp: 360.0000 - val_tn: 812.0000 - val_fn: 18.0000 - val_accuracy: 0.6897 - val_precision: 0.0722 - val_recall: 0.6087 - val_auc: 0.7267\n",
            "Epoch 7/100\n",
            "15/15 [==============================] - 0s 4ms/step - loss: 0.5792 - tp: 111.0000 - fp: 1122.0000 - tn: 2385.0000 - fn: 36.0000 - accuracy: 0.6831 - precision: 0.0900 - recall: 0.7551 - auc: 0.7890 - val_loss: 0.5822 - val_tp: 27.0000 - val_fp: 328.0000 - val_tn: 844.0000 - val_fn: 19.0000 - val_accuracy: 0.7151 - val_precision: 0.0761 - val_recall: 0.5870 - val_auc: 0.7299\n",
            "Epoch 8/100\n",
            "15/15 [==============================] - 0s 3ms/step - loss: 0.5683 - tp: 112.0000 - fp: 1091.0000 - tn: 2416.0000 - fn: 35.0000 - accuracy: 0.6918 - precision: 0.0931 - recall: 0.7619 - auc: 0.7975 - val_loss: 0.5786 - val_tp: 29.0000 - val_fp: 332.0000 - val_tn: 840.0000 - val_fn: 17.0000 - val_accuracy: 0.7135 - val_precision: 0.0803 - val_recall: 0.6304 - val_auc: 0.7386\n",
            "Epoch 9/100\n",
            "15/15 [==============================] - 0s 4ms/step - loss: 0.5664 - tp: 109.0000 - fp: 1063.0000 - tn: 2444.0000 - fn: 38.0000 - accuracy: 0.6987 - precision: 0.0930 - recall: 0.7415 - auc: 0.7945 - val_loss: 0.5663 - val_tp: 28.0000 - val_fp: 319.0000 - val_tn: 853.0000 - val_fn: 18.0000 - val_accuracy: 0.7233 - val_precision: 0.0807 - val_recall: 0.6087 - val_auc: 0.7458\n",
            "Epoch 10/100\n",
            "15/15 [==============================] - 0s 4ms/step - loss: 0.5593 - tp: 111.0000 - fp: 1037.0000 - tn: 2470.0000 - fn: 36.0000 - accuracy: 0.7063 - precision: 0.0967 - recall: 0.7551 - auc: 0.7991 - val_loss: 0.5575 - val_tp: 28.0000 - val_fp: 316.0000 - val_tn: 856.0000 - val_fn: 18.0000 - val_accuracy: 0.7258 - val_precision: 0.0814 - val_recall: 0.6087 - val_auc: 0.7510\n",
            "Epoch 11/100\n",
            "15/15 [==============================] - 0s 3ms/step - loss: 0.5488 - tp: 110.0000 - fp: 1009.0000 - tn: 2498.0000 - fn: 37.0000 - accuracy: 0.7137 - precision: 0.0983 - recall: 0.7483 - auc: 0.8086 - val_loss: 0.5565 - val_tp: 28.0000 - val_fp: 326.0000 - val_tn: 846.0000 - val_fn: 18.0000 - val_accuracy: 0.7176 - val_precision: 0.0791 - val_recall: 0.6087 - val_auc: 0.7567\n",
            "Epoch 12/100\n",
            "15/15 [==============================] - 0s 4ms/step - loss: 0.5469 - tp: 112.0000 - fp: 1038.0000 - tn: 2469.0000 - fn: 35.0000 - accuracy: 0.7063 - precision: 0.0974 - recall: 0.7619 - auc: 0.8082 - val_loss: 0.5517 - val_tp: 28.0000 - val_fp: 322.0000 - val_tn: 850.0000 - val_fn: 18.0000 - val_accuracy: 0.7209 - val_precision: 0.0800 - val_recall: 0.6087 - val_auc: 0.7598\n",
            "Epoch 13/100\n",
            "15/15 [==============================] - 0s 4ms/step - loss: 0.5378 - tp: 112.0000 - fp: 1041.0000 - tn: 2466.0000 - fn: 35.0000 - accuracy: 0.7055 - precision: 0.0971 - recall: 0.7619 - auc: 0.8161 - val_loss: 0.5365 - val_tp: 28.0000 - val_fp: 308.0000 - val_tn: 864.0000 - val_fn: 18.0000 - val_accuracy: 0.7323 - val_precision: 0.0833 - val_recall: 0.6087 - val_auc: 0.7604\n",
            "Epoch 14/100\n",
            "15/15 [==============================] - 0s 4ms/step - loss: 0.5372 - tp: 111.0000 - fp: 994.0000 - tn: 2513.0000 - fn: 36.0000 - accuracy: 0.7181 - precision: 0.1005 - recall: 0.7551 - auc: 0.8150 - val_loss: 0.5384 - val_tp: 27.0000 - val_fp: 315.0000 - val_tn: 857.0000 - val_fn: 19.0000 - val_accuracy: 0.7258 - val_precision: 0.0789 - val_recall: 0.5870 - val_auc: 0.7634\n",
            "Epoch 15/100\n",
            "15/15 [==============================] - 0s 3ms/step - loss: 0.5327 - tp: 112.0000 - fp: 998.0000 - tn: 2509.0000 - fn: 35.0000 - accuracy: 0.7173 - precision: 0.1009 - recall: 0.7619 - auc: 0.8167 - val_loss: 0.5270 - val_tp: 27.0000 - val_fp: 306.0000 - val_tn: 866.0000 - val_fn: 19.0000 - val_accuracy: 0.7332 - val_precision: 0.0811 - val_recall: 0.5870 - val_auc: 0.7646\n",
            "Epoch 16/100\n",
            "15/15 [==============================] - 0s 4ms/step - loss: 0.5207 - tp: 114.0000 - fp: 943.0000 - tn: 2564.0000 - fn: 33.0000 - accuracy: 0.7329 - precision: 0.1079 - recall: 0.7755 - auc: 0.8307 - val_loss: 0.5125 - val_tp: 27.0000 - val_fp: 294.0000 - val_tn: 878.0000 - val_fn: 19.0000 - val_accuracy: 0.7430 - val_precision: 0.0841 - val_recall: 0.5870 - val_auc: 0.7661\n",
            "Epoch 17/100\n",
            "15/15 [==============================] - 0s 4ms/step - loss: 0.5221 - tp: 115.0000 - fp: 925.0000 - tn: 2582.0000 - fn: 32.0000 - accuracy: 0.7381 - precision: 0.1106 - recall: 0.7823 - auc: 0.8290 - val_loss: 0.5135 - val_tp: 27.0000 - val_fp: 298.0000 - val_tn: 874.0000 - val_fn: 19.0000 - val_accuracy: 0.7397 - val_precision: 0.0831 - val_recall: 0.5870 - val_auc: 0.7689\n",
            "Epoch 18/100\n",
            "15/15 [==============================] - 0s 3ms/step - loss: 0.5092 - tp: 120.0000 - fp: 962.0000 - tn: 2545.0000 - fn: 27.0000 - accuracy: 0.7293 - precision: 0.1109 - recall: 0.8163 - auc: 0.8370 - val_loss: 0.5218 - val_tp: 28.0000 - val_fp: 312.0000 - val_tn: 860.0000 - val_fn: 18.0000 - val_accuracy: 0.7291 - val_precision: 0.0824 - val_recall: 0.6087 - val_auc: 0.7710\n",
            "Epoch 19/100\n",
            "15/15 [==============================] - 0s 4ms/step - loss: 0.5167 - tp: 118.0000 - fp: 1005.0000 - tn: 2502.0000 - fn: 29.0000 - accuracy: 0.7170 - precision: 0.1051 - recall: 0.8027 - auc: 0.8301 - val_loss: 0.5369 - val_tp: 31.0000 - val_fp: 322.0000 - val_tn: 850.0000 - val_fn: 15.0000 - val_accuracy: 0.7233 - val_precision: 0.0878 - val_recall: 0.6739 - val_auc: 0.7746\n",
            "Epoch 20/100\n",
            "15/15 [==============================] - 0s 4ms/step - loss: 0.5165 - tp: 116.0000 - fp: 1012.0000 - tn: 2495.0000 - fn: 31.0000 - accuracy: 0.7146 - precision: 0.1028 - recall: 0.7891 - auc: 0.8303 - val_loss: 0.5292 - val_tp: 29.0000 - val_fp: 313.0000 - val_tn: 859.0000 - val_fn: 17.0000 - val_accuracy: 0.7291 - val_precision: 0.0848 - val_recall: 0.6304 - val_auc: 0.7744\n",
            "Epoch 21/100\n",
            "15/15 [==============================] - 0s 4ms/step - loss: 0.5141 - tp: 119.0000 - fp: 993.0000 - tn: 2514.0000 - fn: 28.0000 - accuracy: 0.7206 - precision: 0.1070 - recall: 0.8095 - auc: 0.8305 - val_loss: 0.5227 - val_tp: 30.0000 - val_fp: 311.0000 - val_tn: 861.0000 - val_fn: 16.0000 - val_accuracy: 0.7315 - val_precision: 0.0880 - val_recall: 0.6522 - val_auc: 0.7744\n",
            "Epoch 22/100\n",
            "15/15 [==============================] - 0s 3ms/step - loss: 0.5088 - tp: 119.0000 - fp: 992.0000 - tn: 2515.0000 - fn: 28.0000 - accuracy: 0.7209 - precision: 0.1071 - recall: 0.8095 - auc: 0.8383 - val_loss: 0.5193 - val_tp: 30.0000 - val_fp: 310.0000 - val_tn: 862.0000 - val_fn: 16.0000 - val_accuracy: 0.7323 - val_precision: 0.0882 - val_recall: 0.6522 - val_auc: 0.7726\n",
            "Epoch 23/100\n",
            "15/15 [==============================] - 0s 3ms/step - loss: 0.4993 - tp: 117.0000 - fp: 947.0000 - tn: 2560.0000 - fn: 30.0000 - accuracy: 0.7326 - precision: 0.1100 - recall: 0.7959 - auc: 0.8455 - val_loss: 0.5155 - val_tp: 30.0000 - val_fp: 304.0000 - val_tn: 868.0000 - val_fn: 16.0000 - val_accuracy: 0.7373 - val_precision: 0.0898 - val_recall: 0.6522 - val_auc: 0.7732\n",
            "Epoch 24/100\n",
            " 1/15 [=>............................] - ETA: 0s - loss: 0.5693 - tp: 9.0000 - fp: 79.0000 - tn: 165.0000 - fn: 3.0000 - accuracy: 0.6797 - precision: 0.1023 - recall: 0.7500 - auc: 0.8147Restoring model weights from the end of the best epoch.\n",
            "15/15 [==============================] - 0s 4ms/step - loss: 0.5085 - tp: 117.0000 - fp: 957.0000 - tn: 2550.0000 - fn: 30.0000 - accuracy: 0.7299 - precision: 0.1089 - recall: 0.7959 - auc: 0.8350 - val_loss: 0.5110 - val_tp: 30.0000 - val_fp: 300.0000 - val_tn: 872.0000 - val_fn: 16.0000 - val_accuracy: 0.7406 - val_precision: 0.0909 - val_recall: 0.6522 - val_auc: 0.7727\n",
            "Epoch 00024: early stopping\n"
          ],
          "name": "stdout"
        }
      ]
    },
    {
      "cell_type": "code",
      "metadata": {
        "id": "lhX1JLPn-IRL",
        "outputId": "8dd0742c-0c5d-43cc-fc88-77fc67ec1f01",
        "colab": {
          "base_uri": "https://localhost:8080/",
          "height": 501
        }
      },
      "source": [
        "plot_history(history_weighted)"
      ],
      "execution_count": 49,
      "outputs": [
        {
          "output_type": "display_data",
          "data": {
            "image/png": "[encoded data removed]",
            "text/plain": [
              "<Figure size 720x576 with 4 Axes>"
            ]
          },
          "metadata": {
            "tags": [],
            "needs_background": "light"
          }
        }
      ]
    },
    {
      "cell_type": "code",
      "metadata": {
        "id": "5RHfllwc-IO8",
        "outputId": "dd148299-bb5e-430a-ef17-c8349fbc6359",
        "colab": {
          "base_uri": "https://localhost:8080/",
          "height": 170
        }
      },
      "source": [
        "y_hat_proba = model.predict(X_test)\n",
        "y_hat = np.where(y_hat_proba > 0.5, 1, 0)\n",
        "print(classification_report(y_test, y_hat))"
      ],
      "execution_count": 50,
      "outputs": [
        {
          "output_type": "stream",
          "text": [
            "              precision    recall  f1-score   support\n",
            "\n",
            "           0       0.98      0.73      0.84      1572\n",
            "           1       0.07      0.60      0.13        53\n",
            "\n",
            "    accuracy                           0.73      1625\n",
            "   macro avg       0.53      0.67      0.48      1625\n",
            "weighted avg       0.95      0.73      0.82      1625\n",
            "\n"
          ],
          "name": "stdout"
        }
      ]
    },
    {
      "cell_type": "code",
      "metadata": {
        "id": "rQblmomhF4KH",
        "outputId": "4b76b346-c720-47a9-f1ff-1d9f88dd1061",
        "colab": {
          "base_uri": "https://localhost:8080/",
          "height": 204
        }
      },
      "source": [
        "cm, acc, maj, min, f1 = score_model(y_test, y_hat)\n",
        "results_df.loc['Weighted'] = [*maj, *min, acc, f1]\n",
        "results_df"
      ],
      "execution_count": 51,
      "outputs": [
        {
          "output_type": "execute_result",
          "data": {
            "text/html": [
              "<div>\n",
              "<style scoped>\n",
              "    .dataframe tbody tr th:only-of-type {\n",
              "        vertical-align: middle;\n",
              "    }\n",
              "\n",
              "    .dataframe tbody tr th {\n",
              "        vertical-align: top;\n",
              "    }\n",
              "\n",
              "    .dataframe thead tr th {\n",
              "        text-align: left;\n",
              "    }\n",
              "</style>\n",
              "<table border=\"1\" class=\"dataframe\">\n",
              "  <thead>\n",
              "    <tr>\n",
              "      <th></th>\n",
              "      <th colspan=\"2\" halign=\"left\">Majority</th>\n",
              "      <th colspan=\"2\" halign=\"left\">Minority</th>\n",
              "      <th colspan=\"2\" halign=\"left\">Scoring</th>\n",
              "    </tr>\n",
              "    <tr>\n",
              "      <th></th>\n",
              "      <th>Precision</th>\n",
              "      <th>Recall</th>\n",
              "      <th>Precision</th>\n",
              "      <th>Recall</th>\n",
              "      <th>Accuracy</th>\n",
              "      <th>F1</th>\n",
              "    </tr>\n",
              "  </thead>\n",
              "  <tbody>\n",
              "    <tr>\n",
              "      <th>Baseline</th>\n",
              "      <td>0.967385</td>\n",
              "      <td>1.000000</td>\n",
              "      <td>NaN</td>\n",
              "      <td>0.000000</td>\n",
              "      <td>0.967385</td>\n",
              "      <td>0.000000</td>\n",
              "    </tr>\n",
              "    <tr>\n",
              "      <th>Random</th>\n",
              "      <td>0.980507</td>\n",
              "      <td>0.319975</td>\n",
              "      <td>0.038669</td>\n",
              "      <td>0.811321</td>\n",
              "      <td>0.336000</td>\n",
              "      <td>0.073820</td>\n",
              "    </tr>\n",
              "    <tr>\n",
              "      <th>Unbalanced</th>\n",
              "      <td>0.966969</td>\n",
              "      <td>0.744911</td>\n",
              "      <td>0.031401</td>\n",
              "      <td>0.245283</td>\n",
              "      <td>0.728615</td>\n",
              "      <td>0.055675</td>\n",
              "    </tr>\n",
              "    <tr>\n",
              "      <th>Weighted</th>\n",
              "      <td>0.982112</td>\n",
              "      <td>0.733461</td>\n",
              "      <td>0.070953</td>\n",
              "      <td>0.603774</td>\n",
              "      <td>0.729231</td>\n",
              "      <td>0.126984</td>\n",
              "    </tr>\n",
              "  </tbody>\n",
              "</table>\n",
              "</div>"
            ],
            "text/plain": [
              "            Majority            Minority             Scoring          \n",
              "           Precision    Recall Precision    Recall  Accuracy        F1\n",
              "Baseline    0.967385  1.000000       NaN  0.000000  0.967385  0.000000\n",
              "Random      0.980507  0.319975  0.038669  0.811321  0.336000  0.073820\n",
              "Unbalanced  0.966969  0.744911  0.031401  0.245283  0.728615  0.055675\n",
              "Weighted    0.982112  0.733461  0.070953  0.603774  0.729231  0.126984"
            ]
          },
          "metadata": {
            "tags": []
          },
          "execution_count": 51
        }
      ]
    },
    {
      "cell_type": "markdown",
      "metadata": {
        "id": "6K3-0N_uzAyO"
      },
      "source": [
        "# Over Sample"
      ]
    },
    {
      "cell_type": "code",
      "metadata": {
        "id": "AyTxTxfQz2Sq",
        "outputId": "34c6c427-8131-4e03-f048-7098e7e59e1d",
        "colab": {
          "base_uri": "https://localhost:8080/",
          "height": 255
        }
      },
      "source": [
        "model = construct_model()\n",
        "model.summary()"
      ],
      "execution_count": 52,
      "outputs": [
        {
          "output_type": "stream",
          "text": [
            "Model: \"sequential_3\"\n",
            "_________________________________________________________________\n",
            "Layer (type)                 Output Shape              Param #   \n",
            "=================================================================\n",
            "dense_6 (Dense)              (None, 64)                768       \n",
            "_________________________________________________________________\n",
            "dropout_3 (Dropout)          (None, 64)                0         \n",
            "_________________________________________________________________\n",
            "dense_7 (Dense)              (None, 1)                 65        \n",
            "=================================================================\n",
            "Total params: 833\n",
            "Trainable params: 833\n",
            "Non-trainable params: 0\n",
            "_________________________________________________________________\n"
          ],
          "name": "stdout"
        }
      ]
    },
    {
      "cell_type": "code",
      "metadata": {
        "id": "VRl6iNpf8B0v",
        "outputId": "dc74c7cc-91d0-47b5-9630-ea4d30897613",
        "colab": {
          "base_uri": "https://localhost:8080/",
          "height": 71
        }
      },
      "source": [
        "sampler = RandomOverSampler()\n",
        "X_over, y_over = sampler.fit_resample(X_train, y_train)"
      ],
      "execution_count": 53,
      "outputs": [
        {
          "output_type": "stream",
          "text": [
            "/usr/local/lib/python3.6/dist-packages/sklearn/utils/deprecation.py:87: FutureWarning: Function safe_indexing is deprecated; safe_indexing is deprecated in version 0.22 and will be removed in version 0.24.\n",
            "  warnings.warn(msg, category=FutureWarning)\n"
          ],
          "name": "stderr"
        }
      ]
    },
    {
      "cell_type": "code",
      "metadata": {
        "id": "lwA9LZJp8MMG",
        "outputId": "9ec473bb-09fa-4aea-f65a-0017cf301658",
        "colab": {
          "base_uri": "https://localhost:8080/",
          "height": 1000
        }
      },
      "source": [
        "history_over_sample = model.fit(\n",
        "    X_over,\n",
        "    y_over,\n",
        "    batch_size=BATCH_SIZE,\n",
        "    epochs=EPOCHS,\n",
        "    callbacks = [early_stopping],\n",
        "    validation_data=(X_val, y_val))"
      ],
      "execution_count": 54,
      "outputs": [
        {
          "output_type": "stream",
          "text": [
            "Epoch 1/100\n",
            "28/28 [==============================] - 1s 27ms/step - loss: 0.6859 - tp: 1966.0000 - fp: 1768.0000 - tn: 2911.0000 - fn: 1587.0000 - accuracy: 0.5924 - precision: 0.5265 - recall: 0.5533 - auc: 0.6264 - val_loss: 0.6561 - val_tp: 28.0000 - val_fp: 422.0000 - val_tn: 750.0000 - val_fn: 18.0000 - val_accuracy: 0.6388 - val_precision: 0.0622 - val_recall: 0.6087 - val_auc: 0.6820\n",
            "Epoch 2/100\n",
            "28/28 [==============================] - 0s 3ms/step - loss: 0.6208 - tp: 2560.0000 - fp: 1318.0000 - tn: 2189.0000 - fn: 947.0000 - accuracy: 0.6771 - precision: 0.6601 - recall: 0.7300 - auc: 0.7238 - val_loss: 0.6134 - val_tp: 31.0000 - val_fp: 342.0000 - val_tn: 830.0000 - val_fn: 15.0000 - val_accuracy: 0.7069 - val_precision: 0.0831 - val_recall: 0.6739 - val_auc: 0.7309\n",
            "Epoch 3/100\n",
            "28/28 [==============================] - 0s 3ms/step - loss: 0.5835 - tp: 2656.0000 - fp: 1188.0000 - tn: 2319.0000 - fn: 851.0000 - accuracy: 0.7093 - precision: 0.6909 - recall: 0.7573 - auc: 0.7730 - val_loss: 0.5745 - val_tp: 29.0000 - val_fp: 331.0000 - val_tn: 841.0000 - val_fn: 17.0000 - val_accuracy: 0.7143 - val_precision: 0.0806 - val_recall: 0.6304 - val_auc: 0.7568\n",
            "Epoch 4/100\n",
            "28/28 [==============================] - 0s 3ms/step - loss: 0.5547 - tp: 2730.0000 - fp: 1072.0000 - tn: 2435.0000 - fn: 777.0000 - accuracy: 0.7364 - precision: 0.7180 - recall: 0.7784 - auc: 0.8019 - val_loss: 0.5524 - val_tp: 30.0000 - val_fp: 317.0000 - val_tn: 855.0000 - val_fn: 16.0000 - val_accuracy: 0.7266 - val_precision: 0.0865 - val_recall: 0.6522 - val_auc: 0.7714\n",
            "Epoch 5/100\n",
            "28/28 [==============================] - 0s 3ms/step - loss: 0.5323 - tp: 2764.0000 - fp: 998.0000 - tn: 2509.0000 - fn: 743.0000 - accuracy: 0.7518 - precision: 0.7347 - recall: 0.7881 - auc: 0.8215 - val_loss: 0.5265 - val_tp: 31.0000 - val_fp: 293.0000 - val_tn: 879.0000 - val_fn: 15.0000 - val_accuracy: 0.7471 - val_precision: 0.0957 - val_recall: 0.6739 - val_auc: 0.7807\n",
            "Epoch 6/100\n",
            "28/28 [==============================] - 0s 3ms/step - loss: 0.5159 - tp: 2815.0000 - fp: 974.0000 - tn: 2533.0000 - fn: 692.0000 - accuracy: 0.7625 - precision: 0.7429 - recall: 0.8027 - auc: 0.8347 - val_loss: 0.5154 - val_tp: 32.0000 - val_fp: 291.0000 - val_tn: 881.0000 - val_fn: 14.0000 - val_accuracy: 0.7496 - val_precision: 0.0991 - val_recall: 0.6957 - val_auc: 0.7881\n",
            "Epoch 7/100\n",
            "28/28 [==============================] - 0s 3ms/step - loss: 0.5013 - tp: 2840.0000 - fp: 936.0000 - tn: 2571.0000 - fn: 667.0000 - accuracy: 0.7715 - precision: 0.7521 - recall: 0.8098 - auc: 0.8446 - val_loss: 0.4933 - val_tp: 29.0000 - val_fp: 280.0000 - val_tn: 892.0000 - val_fn: 17.0000 - val_accuracy: 0.7562 - val_precision: 0.0939 - val_recall: 0.6304 - val_auc: 0.7919\n",
            "Epoch 8/100\n",
            "28/28 [==============================] - 0s 3ms/step - loss: 0.4886 - tp: 2814.0000 - fp: 870.0000 - tn: 2637.0000 - fn: 693.0000 - accuracy: 0.7772 - precision: 0.7638 - recall: 0.8024 - auc: 0.8533 - val_loss: 0.4885 - val_tp: 30.0000 - val_fp: 278.0000 - val_tn: 894.0000 - val_fn: 16.0000 - val_accuracy: 0.7586 - val_precision: 0.0974 - val_recall: 0.6522 - val_auc: 0.7946\n",
            "Epoch 9/100\n",
            "28/28 [==============================] - 0s 3ms/step - loss: 0.4806 - tp: 2848.0000 - fp: 843.0000 - tn: 2664.0000 - fn: 659.0000 - accuracy: 0.7859 - precision: 0.7716 - recall: 0.8121 - auc: 0.8576 - val_loss: 0.4924 - val_tp: 30.0000 - val_fp: 281.0000 - val_tn: 891.0000 - val_fn: 16.0000 - val_accuracy: 0.7562 - val_precision: 0.0965 - val_recall: 0.6522 - val_auc: 0.7964\n",
            "Epoch 10/100\n",
            "28/28 [==============================] - 0s 3ms/step - loss: 0.4757 - tp: 2865.0000 - fp: 842.0000 - tn: 2665.0000 - fn: 642.0000 - accuracy: 0.7884 - precision: 0.7729 - recall: 0.8169 - auc: 0.8598 - val_loss: 0.4726 - val_tp: 29.0000 - val_fp: 273.0000 - val_tn: 899.0000 - val_fn: 17.0000 - val_accuracy: 0.7619 - val_precision: 0.0960 - val_recall: 0.6304 - val_auc: 0.7999\n",
            "Epoch 11/100\n",
            "28/28 [==============================] - 0s 3ms/step - loss: 0.4697 - tp: 2895.0000 - fp: 862.0000 - tn: 2645.0000 - fn: 612.0000 - accuracy: 0.7898 - precision: 0.7706 - recall: 0.8255 - auc: 0.8644 - val_loss: 0.4730 - val_tp: 29.0000 - val_fp: 268.0000 - val_tn: 904.0000 - val_fn: 17.0000 - val_accuracy: 0.7660 - val_precision: 0.0976 - val_recall: 0.6304 - val_auc: 0.8003\n",
            "Epoch 12/100\n",
            "28/28 [==============================] - 0s 3ms/step - loss: 0.4662 - tp: 2887.0000 - fp: 817.0000 - tn: 2690.0000 - fn: 620.0000 - accuracy: 0.7951 - precision: 0.7794 - recall: 0.8232 - auc: 0.8655 - val_loss: 0.4517 - val_tp: 29.0000 - val_fp: 246.0000 - val_tn: 926.0000 - val_fn: 17.0000 - val_accuracy: 0.7841 - val_precision: 0.1055 - val_recall: 0.6304 - val_auc: 0.8019\n",
            "Epoch 13/100\n",
            "28/28 [==============================] - 0s 3ms/step - loss: 0.4598 - tp: 2890.0000 - fp: 778.0000 - tn: 2729.0000 - fn: 617.0000 - accuracy: 0.8011 - precision: 0.7879 - recall: 0.8241 - auc: 0.8714 - val_loss: 0.4634 - val_tp: 30.0000 - val_fp: 257.0000 - val_tn: 915.0000 - val_fn: 16.0000 - val_accuracy: 0.7759 - val_precision: 0.1045 - val_recall: 0.6522 - val_auc: 0.8035\n",
            "Epoch 14/100\n",
            "28/28 [==============================] - 0s 3ms/step - loss: 0.4531 - tp: 2899.0000 - fp: 779.0000 - tn: 2728.0000 - fn: 608.0000 - accuracy: 0.8023 - precision: 0.7882 - recall: 0.8266 - auc: 0.8741 - val_loss: 0.4483 - val_tp: 29.0000 - val_fp: 246.0000 - val_tn: 926.0000 - val_fn: 17.0000 - val_accuracy: 0.7841 - val_precision: 0.1055 - val_recall: 0.6304 - val_auc: 0.8031\n",
            "Epoch 15/100\n",
            "28/28 [==============================] - 0s 3ms/step - loss: 0.4514 - tp: 2897.0000 - fp: 743.0000 - tn: 2764.0000 - fn: 610.0000 - accuracy: 0.8071 - precision: 0.7959 - recall: 0.8261 - auc: 0.8756 - val_loss: 0.4558 - val_tp: 29.0000 - val_fp: 250.0000 - val_tn: 922.0000 - val_fn: 17.0000 - val_accuracy: 0.7808 - val_precision: 0.1039 - val_recall: 0.6304 - val_auc: 0.8038\n",
            "Epoch 16/100\n",
            "28/28 [==============================] - 0s 3ms/step - loss: 0.4475 - tp: 2906.0000 - fp: 752.0000 - tn: 2755.0000 - fn: 601.0000 - accuracy: 0.8071 - precision: 0.7944 - recall: 0.8286 - auc: 0.8765 - val_loss: 0.4547 - val_tp: 29.0000 - val_fp: 248.0000 - val_tn: 924.0000 - val_fn: 17.0000 - val_accuracy: 0.7824 - val_precision: 0.1047 - val_recall: 0.6304 - val_auc: 0.8037\n",
            "Epoch 17/100\n",
            "28/28 [==============================] - 0s 3ms/step - loss: 0.4455 - tp: 2910.0000 - fp: 766.0000 - tn: 2741.0000 - fn: 597.0000 - accuracy: 0.8057 - precision: 0.7916 - recall: 0.8298 - auc: 0.8780 - val_loss: 0.4509 - val_tp: 29.0000 - val_fp: 246.0000 - val_tn: 926.0000 - val_fn: 17.0000 - val_accuracy: 0.7841 - val_precision: 0.1055 - val_recall: 0.6304 - val_auc: 0.8048\n",
            "Epoch 18/100\n",
            "28/28 [==============================] - 0s 3ms/step - loss: 0.4445 - tp: 2900.0000 - fp: 739.0000 - tn: 2768.0000 - fn: 607.0000 - accuracy: 0.8081 - precision: 0.7969 - recall: 0.8269 - auc: 0.8786 - val_loss: 0.4460 - val_tp: 29.0000 - val_fp: 247.0000 - val_tn: 925.0000 - val_fn: 17.0000 - val_accuracy: 0.7833 - val_precision: 0.1051 - val_recall: 0.6304 - val_auc: 0.8051\n",
            "Epoch 19/100\n",
            "28/28 [==============================] - 0s 3ms/step - loss: 0.4423 - tp: 2917.0000 - fp: 727.0000 - tn: 2780.0000 - fn: 590.0000 - accuracy: 0.8122 - precision: 0.8005 - recall: 0.8318 - auc: 0.8794 - val_loss: 0.4424 - val_tp: 29.0000 - val_fp: 244.0000 - val_tn: 928.0000 - val_fn: 17.0000 - val_accuracy: 0.7857 - val_precision: 0.1062 - val_recall: 0.6304 - val_auc: 0.8040\n",
            "Epoch 20/100\n",
            "28/28 [==============================] - 0s 3ms/step - loss: 0.4349 - tp: 2976.0000 - fp: 722.0000 - tn: 2785.0000 - fn: 531.0000 - accuracy: 0.8214 - precision: 0.8048 - recall: 0.8486 - auc: 0.8842 - val_loss: 0.4367 - val_tp: 29.0000 - val_fp: 240.0000 - val_tn: 932.0000 - val_fn: 17.0000 - val_accuracy: 0.7890 - val_precision: 0.1078 - val_recall: 0.6304 - val_auc: 0.8063\n",
            "Epoch 21/100\n",
            "28/28 [==============================] - 0s 3ms/step - loss: 0.4326 - tp: 2908.0000 - fp: 743.0000 - tn: 2764.0000 - fn: 599.0000 - accuracy: 0.8087 - precision: 0.7965 - recall: 0.8292 - auc: 0.8847 - val_loss: 0.4389 - val_tp: 29.0000 - val_fp: 240.0000 - val_tn: 932.0000 - val_fn: 17.0000 - val_accuracy: 0.7890 - val_precision: 0.1078 - val_recall: 0.6304 - val_auc: 0.8073\n",
            "Epoch 22/100\n",
            "28/28 [==============================] - 0s 3ms/step - loss: 0.4331 - tp: 2932.0000 - fp: 714.0000 - tn: 2793.0000 - fn: 575.0000 - accuracy: 0.8162 - precision: 0.8042 - recall: 0.8360 - auc: 0.8845 - val_loss: 0.4287 - val_tp: 29.0000 - val_fp: 233.0000 - val_tn: 939.0000 - val_fn: 17.0000 - val_accuracy: 0.7947 - val_precision: 0.1107 - val_recall: 0.6304 - val_auc: 0.8067\n",
            "Epoch 23/100\n",
            "28/28 [==============================] - 0s 3ms/step - loss: 0.4312 - tp: 2936.0000 - fp: 703.0000 - tn: 2804.0000 - fn: 571.0000 - accuracy: 0.8184 - precision: 0.8068 - recall: 0.8372 - auc: 0.8859 - val_loss: 0.4427 - val_tp: 29.0000 - val_fp: 240.0000 - val_tn: 932.0000 - val_fn: 17.0000 - val_accuracy: 0.7890 - val_precision: 0.1078 - val_recall: 0.6304 - val_auc: 0.8085\n",
            "Epoch 24/100\n",
            "28/28 [==============================] - 0s 3ms/step - loss: 0.4259 - tp: 2973.0000 - fp: 717.0000 - tn: 2790.0000 - fn: 534.0000 - accuracy: 0.8216 - precision: 0.8057 - recall: 0.8477 - auc: 0.8885 - val_loss: 0.4139 - val_tp: 29.0000 - val_fp: 221.0000 - val_tn: 951.0000 - val_fn: 17.0000 - val_accuracy: 0.8046 - val_precision: 0.1160 - val_recall: 0.6304 - val_auc: 0.8068\n",
            "Epoch 25/100\n",
            "28/28 [==============================] - 0s 3ms/step - loss: 0.4253 - tp: 2960.0000 - fp: 695.0000 - tn: 2812.0000 - fn: 547.0000 - accuracy: 0.8229 - precision: 0.8098 - recall: 0.8440 - auc: 0.8892 - val_loss: 0.4369 - val_tp: 29.0000 - val_fp: 239.0000 - val_tn: 933.0000 - val_fn: 17.0000 - val_accuracy: 0.7898 - val_precision: 0.1082 - val_recall: 0.6304 - val_auc: 0.8105\n",
            "Epoch 26/100\n",
            "28/28 [==============================] - 0s 3ms/step - loss: 0.4206 - tp: 2944.0000 - fp: 671.0000 - tn: 2836.0000 - fn: 563.0000 - accuracy: 0.8241 - precision: 0.8144 - recall: 0.8395 - auc: 0.8908 - val_loss: 0.4254 - val_tp: 29.0000 - val_fp: 231.0000 - val_tn: 941.0000 - val_fn: 17.0000 - val_accuracy: 0.7964 - val_precision: 0.1115 - val_recall: 0.6304 - val_auc: 0.8080\n",
            "Epoch 27/100\n",
            "28/28 [==============================] - 0s 3ms/step - loss: 0.4241 - tp: 2973.0000 - fp: 717.0000 - tn: 2790.0000 - fn: 534.0000 - accuracy: 0.8216 - precision: 0.8057 - recall: 0.8477 - auc: 0.8889 - val_loss: 0.4213 - val_tp: 28.0000 - val_fp: 230.0000 - val_tn: 942.0000 - val_fn: 18.0000 - val_accuracy: 0.7964 - val_precision: 0.1085 - val_recall: 0.6087 - val_auc: 0.8091\n",
            "Epoch 28/100\n",
            "28/28 [==============================] - 0s 3ms/step - loss: 0.4175 - tp: 2947.0000 - fp: 679.0000 - tn: 2828.0000 - fn: 560.0000 - accuracy: 0.8234 - precision: 0.8127 - recall: 0.8403 - auc: 0.8927 - val_loss: 0.4225 - val_tp: 28.0000 - val_fp: 231.0000 - val_tn: 941.0000 - val_fn: 18.0000 - val_accuracy: 0.7956 - val_precision: 0.1081 - val_recall: 0.6087 - val_auc: 0.8100\n",
            "Epoch 29/100\n",
            "28/28 [==============================] - 0s 3ms/step - loss: 0.4172 - tp: 2967.0000 - fp: 701.0000 - tn: 2806.0000 - fn: 540.0000 - accuracy: 0.8231 - precision: 0.8089 - recall: 0.8460 - auc: 0.8928 - val_loss: 0.4264 - val_tp: 28.0000 - val_fp: 233.0000 - val_tn: 939.0000 - val_fn: 18.0000 - val_accuracy: 0.7939 - val_precision: 0.1073 - val_recall: 0.6087 - val_auc: 0.8087\n",
            "Epoch 30/100\n",
            "27/28 [===========================>..] - ETA: 0s - loss: 0.4178 - tp: 2924.0000 - fp: 698.0000 - tn: 2755.0000 - fn: 535.0000 - accuracy: 0.8216 - precision: 0.8073 - recall: 0.8453 - auc: 0.8916Restoring model weights from the end of the best epoch.\n",
            "28/28 [==============================] - 0s 3ms/step - loss: 0.4186 - tp: 2964.0000 - fp: 713.0000 - tn: 2794.0000 - fn: 543.0000 - accuracy: 0.8209 - precision: 0.8061 - recall: 0.8452 - auc: 0.8909 - val_loss: 0.4176 - val_tp: 28.0000 - val_fp: 227.0000 - val_tn: 945.0000 - val_fn: 18.0000 - val_accuracy: 0.7989 - val_precision: 0.1098 - val_recall: 0.6087 - val_auc: 0.8098\n",
            "Epoch 00030: early stopping\n"
          ],
          "name": "stdout"
        }
      ]
    },
    {
      "cell_type": "code",
      "metadata": {
        "id": "GkIVnVNh8SLa",
        "outputId": "47a2fb12-d0e7-48c0-9611-c3b979c7d076",
        "colab": {
          "base_uri": "https://localhost:8080/",
          "height": 501
        }
      },
      "source": [
        "plot_history(history_over_sample)"
      ],
      "execution_count": 55,
      "outputs": [
        {
          "output_type": "display_data",
          "data": {
            "image/png": "[encoded data removed]",
            "text/plain": [
              "<Figure size 720x576 with 4 Axes>"
            ]
          },
          "metadata": {
            "tags": [],
            "needs_background": "light"
          }
        }
      ]
    },
    {
      "cell_type": "code",
      "metadata": {
        "id": "kjRf8YY18SJO",
        "outputId": "fa4a96de-8747-4822-ded8-c5460c2bffc1",
        "colab": {
          "base_uri": "https://localhost:8080/",
          "height": 170
        }
      },
      "source": [
        "y_hat_proba = model.predict(X_test)\n",
        "y_hat = np.where(y_hat_proba > 0.5, 1, 0)\n",
        "print(classification_report(y_test, y_hat))"
      ],
      "execution_count": 56,
      "outputs": [
        {
          "output_type": "stream",
          "text": [
            "              precision    recall  f1-score   support\n",
            "\n",
            "           0       0.98      0.80      0.88      1572\n",
            "           1       0.09      0.60      0.16        53\n",
            "\n",
            "    accuracy                           0.80      1625\n",
            "   macro avg       0.54      0.70      0.52      1625\n",
            "weighted avg       0.95      0.80      0.86      1625\n",
            "\n"
          ],
          "name": "stdout"
        }
      ]
    },
    {
      "cell_type": "code",
      "metadata": {
        "id": "Jz-M9sqCF6s_",
        "outputId": "4f126fce-29f3-4dd8-d8c0-c8178537a039",
        "colab": {
          "base_uri": "https://localhost:8080/",
          "height": 235
        }
      },
      "source": [
        "cm, acc, maj, min, f1 = score_model(y_test, y_hat)\n",
        "results_df.loc['Over Sample'] = [*maj, *min, acc, f1]\n",
        "results_df"
      ],
      "execution_count": 57,
      "outputs": [
        {
          "output_type": "execute_result",
          "data": {
            "text/html": [
              "<div>\n",
              "<style scoped>\n",
              "    .dataframe tbody tr th:only-of-type {\n",
              "        vertical-align: middle;\n",
              "    }\n",
              "\n",
              "    .dataframe tbody tr th {\n",
              "        vertical-align: top;\n",
              "    }\n",
              "\n",
              "    .dataframe thead tr th {\n",
              "        text-align: left;\n",
              "    }\n",
              "</style>\n",
              "<table border=\"1\" class=\"dataframe\">\n",
              "  <thead>\n",
              "    <tr>\n",
              "      <th></th>\n",
              "      <th colspan=\"2\" halign=\"left\">Majority</th>\n",
              "      <th colspan=\"2\" halign=\"left\">Minority</th>\n",
              "      <th colspan=\"2\" halign=\"left\">Scoring</th>\n",
              "    </tr>\n",
              "    <tr>\n",
              "      <th></th>\n",
              "      <th>Precision</th>\n",
              "      <th>Recall</th>\n",
              "      <th>Precision</th>\n",
              "      <th>Recall</th>\n",
              "      <th>Accuracy</th>\n",
              "      <th>F1</th>\n",
              "    </tr>\n",
              "  </thead>\n",
              "  <tbody>\n",
              "    <tr>\n",
              "      <th>Baseline</th>\n",
              "      <td>0.967385</td>\n",
              "      <td>1.000000</td>\n",
              "      <td>NaN</td>\n",
              "      <td>0.000000</td>\n",
              "      <td>0.967385</td>\n",
              "      <td>0.000000</td>\n",
              "    </tr>\n",
              "    <tr>\n",
              "      <th>Random</th>\n",
              "      <td>0.980507</td>\n",
              "      <td>0.319975</td>\n",
              "      <td>0.038669</td>\n",
              "      <td>0.811321</td>\n",
              "      <td>0.336000</td>\n",
              "      <td>0.073820</td>\n",
              "    </tr>\n",
              "    <tr>\n",
              "      <th>Unbalanced</th>\n",
              "      <td>0.966969</td>\n",
              "      <td>0.744911</td>\n",
              "      <td>0.031401</td>\n",
              "      <td>0.245283</td>\n",
              "      <td>0.728615</td>\n",
              "      <td>0.055675</td>\n",
              "    </tr>\n",
              "    <tr>\n",
              "      <th>Weighted</th>\n",
              "      <td>0.982112</td>\n",
              "      <td>0.733461</td>\n",
              "      <td>0.070953</td>\n",
              "      <td>0.603774</td>\n",
              "      <td>0.729231</td>\n",
              "      <td>0.126984</td>\n",
              "    </tr>\n",
              "    <tr>\n",
              "      <th>Over Sample</th>\n",
              "      <td>0.983619</td>\n",
              "      <td>0.802163</td>\n",
              "      <td>0.093294</td>\n",
              "      <td>0.603774</td>\n",
              "      <td>0.795692</td>\n",
              "      <td>0.161616</td>\n",
              "    </tr>\n",
              "  </tbody>\n",
              "</table>\n",
              "</div>"
            ],
            "text/plain": [
              "             Majority            Minority             Scoring          \n",
              "            Precision    Recall Precision    Recall  Accuracy        F1\n",
              "Baseline     0.967385  1.000000       NaN  0.000000  0.967385  0.000000\n",
              "Random       0.980507  0.319975  0.038669  0.811321  0.336000  0.073820\n",
              "Unbalanced   0.966969  0.744911  0.031401  0.245283  0.728615  0.055675\n",
              "Weighted     0.982112  0.733461  0.070953  0.603774  0.729231  0.126984\n",
              "Over Sample  0.983619  0.802163  0.093294  0.603774  0.795692  0.161616"
            ]
          },
          "metadata": {
            "tags": []
          },
          "execution_count": 57
        }
      ]
    },
    {
      "cell_type": "markdown",
      "metadata": {
        "id": "LJOeAY1vzBe9"
      },
      "source": [
        "# Under Sample"
      ]
    },
    {
      "cell_type": "code",
      "metadata": {
        "id": "8sGUWhSLz3DC",
        "outputId": "03e92682-3405-459d-9231-512f2e53e879",
        "colab": {
          "base_uri": "https://localhost:8080/",
          "height": 255
        }
      },
      "source": [
        "model = construct_model()\n",
        "model.summary()"
      ],
      "execution_count": 58,
      "outputs": [
        {
          "output_type": "stream",
          "text": [
            "Model: \"sequential_4\"\n",
            "_________________________________________________________________\n",
            "Layer (type)                 Output Shape              Param #   \n",
            "=================================================================\n",
            "dense_8 (Dense)              (None, 64)                768       \n",
            "_________________________________________________________________\n",
            "dropout_4 (Dropout)          (None, 64)                0         \n",
            "_________________________________________________________________\n",
            "dense_9 (Dense)              (None, 1)                 65        \n",
            "=================================================================\n",
            "Total params: 833\n",
            "Trainable params: 833\n",
            "Non-trainable params: 0\n",
            "_________________________________________________________________\n"
          ],
          "name": "stdout"
        }
      ]
    },
    {
      "cell_type": "code",
      "metadata": {
        "id": "dH3rx-Go8j0H",
        "outputId": "57d82af2-dc37-476d-a82a-39634bd4c5aa",
        "colab": {
          "base_uri": "https://localhost:8080/",
          "height": 71
        }
      },
      "source": [
        "sampler = RandomUnderSampler()\n",
        "X_under, y_under = sampler.fit_resample(X_train, y_train)"
      ],
      "execution_count": 59,
      "outputs": [
        {
          "output_type": "stream",
          "text": [
            "/usr/local/lib/python3.6/dist-packages/sklearn/utils/deprecation.py:87: FutureWarning: Function safe_indexing is deprecated; safe_indexing is deprecated in version 0.22 and will be removed in version 0.24.\n",
            "  warnings.warn(msg, category=FutureWarning)\n"
          ],
          "name": "stderr"
        }
      ]
    },
    {
      "cell_type": "code",
      "metadata": {
        "id": "HbCgkbLn8j86",
        "outputId": "2e5ead05-6889-4b81-faf8-de2db4a8cca4",
        "colab": {
          "base_uri": "https://localhost:8080/",
          "height": 1000
        }
      },
      "source": [
        "history_under_sample = model.fit(\n",
        "    X_under,\n",
        "    y_under,\n",
        "    batch_size=BATCH_SIZE,\n",
        "    epochs=EPOCHS,\n",
        "    callbacks = [early_stopping],\n",
        "    validation_data=(X_val, y_val))"
      ],
      "execution_count": 60,
      "outputs": [
        {
          "output_type": "stream",
          "text": [
            "Epoch 1/100\n",
            "2/2 [==============================] - 1s 355ms/step - loss: 0.8847 - tp: 73.0000 - fp: 299.0000 - tn: 1020.0000 - fn: 120.0000 - accuracy: 0.7229 - precision: 0.1962 - recall: 0.3782 - auc: 0.6974 - val_loss: 0.7431 - val_tp: 19.0000 - val_fp: 577.0000 - val_tn: 595.0000 - val_fn: 27.0000 - val_accuracy: 0.5041 - val_precision: 0.0319 - val_recall: 0.4130 - val_auc: 0.4157\n",
            "Epoch 2/100\n",
            "2/2 [==============================] - 0s 14ms/step - loss: 0.8608 - tp: 51.0000 - fp: 72.0000 - tn: 75.0000 - fn: 96.0000 - accuracy: 0.4286 - precision: 0.4146 - recall: 0.3469 - auc: 0.3898 - val_loss: 0.7293 - val_tp: 19.0000 - val_fp: 572.0000 - val_tn: 600.0000 - val_fn: 27.0000 - val_accuracy: 0.5082 - val_precision: 0.0321 - val_recall: 0.4130 - val_auc: 0.4191\n",
            "Epoch 3/100\n",
            "2/2 [==============================] - 0s 14ms/step - loss: 0.8499 - tp: 55.0000 - fp: 75.0000 - tn: 72.0000 - fn: 92.0000 - accuracy: 0.4320 - precision: 0.4231 - recall: 0.3741 - auc: 0.3892 - val_loss: 0.7187 - val_tp: 19.0000 - val_fp: 569.0000 - val_tn: 603.0000 - val_fn: 27.0000 - val_accuracy: 0.5107 - val_precision: 0.0323 - val_recall: 0.4130 - val_auc: 0.4247\n",
            "Epoch 4/100\n",
            "2/2 [==============================] - 0s 13ms/step - loss: 0.8223 - tp: 55.0000 - fp: 69.0000 - tn: 78.0000 - fn: 92.0000 - accuracy: 0.4524 - precision: 0.4435 - recall: 0.3741 - auc: 0.4126 - val_loss: 0.7105 - val_tp: 19.0000 - val_fp: 563.0000 - val_tn: 609.0000 - val_fn: 27.0000 - val_accuracy: 0.5156 - val_precision: 0.0326 - val_recall: 0.4130 - val_auc: 0.4318\n",
            "Epoch 5/100\n",
            "2/2 [==============================] - 0s 13ms/step - loss: 0.8131 - tp: 50.0000 - fp: 74.0000 - tn: 73.0000 - fn: 97.0000 - accuracy: 0.4184 - precision: 0.4032 - recall: 0.3401 - auc: 0.3850 - val_loss: 0.7040 - val_tp: 18.0000 - val_fp: 554.0000 - val_tn: 618.0000 - val_fn: 28.0000 - val_accuracy: 0.5222 - val_precision: 0.0315 - val_recall: 0.3913 - val_auc: 0.4387\n",
            "Epoch 6/100\n",
            "2/2 [==============================] - 0s 13ms/step - loss: 0.8233 - tp: 55.0000 - fp: 79.0000 - tn: 68.0000 - fn: 92.0000 - accuracy: 0.4184 - precision: 0.4104 - recall: 0.3741 - auc: 0.3876 - val_loss: 0.6982 - val_tp: 18.0000 - val_fp: 548.0000 - val_tn: 624.0000 - val_fn: 28.0000 - val_accuracy: 0.5271 - val_precision: 0.0318 - val_recall: 0.3913 - val_auc: 0.4447\n",
            "Epoch 7/100\n",
            "2/2 [==============================] - 0s 13ms/step - loss: 0.7665 - tp: 57.0000 - fp: 65.0000 - tn: 82.0000 - fn: 90.0000 - accuracy: 0.4728 - precision: 0.4672 - recall: 0.3878 - auc: 0.4453 - val_loss: 0.6934 - val_tp: 18.0000 - val_fp: 540.0000 - val_tn: 632.0000 - val_fn: 28.0000 - val_accuracy: 0.5337 - val_precision: 0.0323 - val_recall: 0.3913 - val_auc: 0.4525\n",
            "Epoch 8/100\n",
            "2/2 [==============================] - 0s 13ms/step - loss: 0.7650 - tp: 59.0000 - fp: 69.0000 - tn: 78.0000 - fn: 88.0000 - accuracy: 0.4660 - precision: 0.4609 - recall: 0.4014 - auc: 0.4384 - val_loss: 0.6902 - val_tp: 18.0000 - val_fp: 545.0000 - val_tn: 627.0000 - val_fn: 28.0000 - val_accuracy: 0.5296 - val_precision: 0.0320 - val_recall: 0.3913 - val_auc: 0.4612\n",
            "Epoch 9/100\n",
            "2/2 [==============================] - 0s 14ms/step - loss: 0.7639 - tp: 66.0000 - fp: 73.0000 - tn: 74.0000 - fn: 81.0000 - accuracy: 0.4762 - precision: 0.4748 - recall: 0.4490 - auc: 0.4188 - val_loss: 0.6872 - val_tp: 17.0000 - val_fp: 544.0000 - val_tn: 628.0000 - val_fn: 29.0000 - val_accuracy: 0.5296 - val_precision: 0.0303 - val_recall: 0.3696 - val_auc: 0.4699\n",
            "Epoch 10/100\n",
            "2/2 [==============================] - 0s 15ms/step - loss: 0.7388 - tp: 65.0000 - fp: 66.0000 - tn: 81.0000 - fn: 82.0000 - accuracy: 0.4966 - precision: 0.4962 - recall: 0.4422 - auc: 0.4844 - val_loss: 0.6842 - val_tp: 18.0000 - val_fp: 530.0000 - val_tn: 642.0000 - val_fn: 28.0000 - val_accuracy: 0.5419 - val_precision: 0.0328 - val_recall: 0.3913 - val_auc: 0.4822\n",
            "Epoch 11/100\n",
            "2/2 [==============================] - 0s 13ms/step - loss: 0.7293 - tp: 60.0000 - fp: 64.0000 - tn: 83.0000 - fn: 87.0000 - accuracy: 0.4864 - precision: 0.4839 - recall: 0.4082 - auc: 0.4883 - val_loss: 0.6805 - val_tp: 21.0000 - val_fp: 521.0000 - val_tn: 651.0000 - val_fn: 25.0000 - val_accuracy: 0.5517 - val_precision: 0.0387 - val_recall: 0.4565 - val_auc: 0.4979\n",
            "Epoch 12/100\n",
            "2/2 [==============================] - 0s 13ms/step - loss: 0.7092 - tp: 66.0000 - fp: 63.0000 - tn: 84.0000 - fn: 81.0000 - accuracy: 0.5102 - precision: 0.5116 - recall: 0.4490 - auc: 0.5121 - val_loss: 0.6763 - val_tp: 21.0000 - val_fp: 516.0000 - val_tn: 656.0000 - val_fn: 25.0000 - val_accuracy: 0.5558 - val_precision: 0.0391 - val_recall: 0.4565 - val_auc: 0.5227\n",
            "Epoch 13/100\n",
            "2/2 [==============================] - 0s 13ms/step - loss: 0.7219 - tp: 66.0000 - fp: 68.0000 - tn: 79.0000 - fn: 81.0000 - accuracy: 0.4932 - precision: 0.4925 - recall: 0.4490 - auc: 0.4817 - val_loss: 0.6724 - val_tp: 22.0000 - val_fp: 494.0000 - val_tn: 678.0000 - val_fn: 24.0000 - val_accuracy: 0.5747 - val_precision: 0.0426 - val_recall: 0.4783 - val_auc: 0.5506\n",
            "Epoch 14/100\n",
            "2/2 [==============================] - 0s 14ms/step - loss: 0.6874 - tp: 78.0000 - fp: 63.0000 - tn: 84.0000 - fn: 69.0000 - accuracy: 0.5510 - precision: 0.5532 - recall: 0.5306 - auc: 0.5728 - val_loss: 0.6687 - val_tp: 22.0000 - val_fp: 463.0000 - val_tn: 709.0000 - val_fn: 24.0000 - val_accuracy: 0.6002 - val_precision: 0.0454 - val_recall: 0.4783 - val_auc: 0.5837\n",
            "Epoch 15/100\n",
            "2/2 [==============================] - 0s 13ms/step - loss: 0.6924 - tp: 79.0000 - fp: 59.0000 - tn: 88.0000 - fn: 68.0000 - accuracy: 0.5680 - precision: 0.5725 - recall: 0.5374 - auc: 0.5723 - val_loss: 0.6650 - val_tp: 24.0000 - val_fp: 438.0000 - val_tn: 734.0000 - val_fn: 22.0000 - val_accuracy: 0.6223 - val_precision: 0.0519 - val_recall: 0.5217 - val_auc: 0.6115\n",
            "Epoch 16/100\n",
            "2/2 [==============================] - 0s 15ms/step - loss: 0.6846 - tp: 80.0000 - fp: 59.0000 - tn: 88.0000 - fn: 67.0000 - accuracy: 0.5714 - precision: 0.5755 - recall: 0.5442 - auc: 0.5956 - val_loss: 0.6621 - val_tp: 27.0000 - val_fp: 440.0000 - val_tn: 732.0000 - val_fn: 19.0000 - val_accuracy: 0.6232 - val_precision: 0.0578 - val_recall: 0.5870 - val_auc: 0.6422\n",
            "Epoch 17/100\n",
            "2/2 [==============================] - 0s 13ms/step - loss: 0.6749 - tp: 85.0000 - fp: 55.0000 - tn: 92.0000 - fn: 62.0000 - accuracy: 0.6020 - precision: 0.6071 - recall: 0.5782 - auc: 0.6258 - val_loss: 0.6599 - val_tp: 29.0000 - val_fp: 439.0000 - val_tn: 733.0000 - val_fn: 17.0000 - val_accuracy: 0.6256 - val_precision: 0.0620 - val_recall: 0.6304 - val_auc: 0.6640\n",
            "Epoch 18/100\n",
            "2/2 [==============================] - 0s 15ms/step - loss: 0.6717 - tp: 94.0000 - fp: 57.0000 - tn: 90.0000 - fn: 53.0000 - accuracy: 0.6259 - precision: 0.6225 - recall: 0.6395 - auc: 0.6489 - val_loss: 0.6584 - val_tp: 33.0000 - val_fp: 450.0000 - val_tn: 722.0000 - val_fn: 13.0000 - val_accuracy: 0.6199 - val_precision: 0.0683 - val_recall: 0.7174 - val_auc: 0.6779\n",
            "Epoch 19/100\n",
            "2/2 [==============================] - 0s 15ms/step - loss: 0.6519 - tp: 90.0000 - fp: 57.0000 - tn: 90.0000 - fn: 57.0000 - accuracy: 0.6122 - precision: 0.6122 - recall: 0.6122 - auc: 0.6692 - val_loss: 0.6571 - val_tp: 32.0000 - val_fp: 444.0000 - val_tn: 728.0000 - val_fn: 14.0000 - val_accuracy: 0.6240 - val_precision: 0.0672 - val_recall: 0.6957 - val_auc: 0.6921\n",
            "Epoch 20/100\n",
            "2/2 [==============================] - 0s 13ms/step - loss: 0.6499 - tp: 92.0000 - fp: 55.0000 - tn: 92.0000 - fn: 55.0000 - accuracy: 0.6259 - precision: 0.6259 - recall: 0.6259 - auc: 0.6939 - val_loss: 0.6561 - val_tp: 33.0000 - val_fp: 442.0000 - val_tn: 730.0000 - val_fn: 13.0000 - val_accuracy: 0.6264 - val_precision: 0.0695 - val_recall: 0.7174 - val_auc: 0.6985\n",
            "Epoch 21/100\n",
            "2/2 [==============================] - 0s 14ms/step - loss: 0.6475 - tp: 101.0000 - fp: 55.0000 - tn: 92.0000 - fn: 46.0000 - accuracy: 0.6565 - precision: 0.6474 - recall: 0.6871 - auc: 0.6987 - val_loss: 0.6555 - val_tp: 32.0000 - val_fp: 442.0000 - val_tn: 730.0000 - val_fn: 14.0000 - val_accuracy: 0.6256 - val_precision: 0.0675 - val_recall: 0.6957 - val_auc: 0.7042\n",
            "Epoch 22/100\n",
            "2/2 [==============================] - 0s 15ms/step - loss: 0.6563 - tp: 98.0000 - fp: 69.0000 - tn: 78.0000 - fn: 49.0000 - accuracy: 0.5986 - precision: 0.5868 - recall: 0.6667 - auc: 0.6673 - val_loss: 0.6552 - val_tp: 32.0000 - val_fp: 439.0000 - val_tn: 733.0000 - val_fn: 14.0000 - val_accuracy: 0.6281 - val_precision: 0.0679 - val_recall: 0.6957 - val_auc: 0.7071\n",
            "Epoch 23/100\n",
            "2/2 [==============================] - 0s 15ms/step - loss: 0.6432 - tp: 106.0000 - fp: 60.0000 - tn: 87.0000 - fn: 41.0000 - accuracy: 0.6565 - precision: 0.6386 - recall: 0.7211 - auc: 0.7146 - val_loss: 0.6547 - val_tp: 32.0000 - val_fp: 443.0000 - val_tn: 729.0000 - val_fn: 14.0000 - val_accuracy: 0.6248 - val_precision: 0.0674 - val_recall: 0.6957 - val_auc: 0.7073\n",
            "Epoch 24/100\n",
            "2/2 [==============================] - 0s 14ms/step - loss: 0.6351 - tp: 104.0000 - fp: 57.0000 - tn: 90.0000 - fn: 43.0000 - accuracy: 0.6599 - precision: 0.6460 - recall: 0.7075 - auc: 0.7216 - val_loss: 0.6549 - val_tp: 32.0000 - val_fp: 444.0000 - val_tn: 728.0000 - val_fn: 14.0000 - val_accuracy: 0.6240 - val_precision: 0.0672 - val_recall: 0.6957 - val_auc: 0.7082\n",
            "Epoch 25/100\n",
            "2/2 [==============================] - 0s 16ms/step - loss: 0.6163 - tp: 111.0000 - fp: 53.0000 - tn: 94.0000 - fn: 36.0000 - accuracy: 0.6973 - precision: 0.6768 - recall: 0.7551 - auc: 0.7625 - val_loss: 0.6558 - val_tp: 32.0000 - val_fp: 442.0000 - val_tn: 730.0000 - val_fn: 14.0000 - val_accuracy: 0.6256 - val_precision: 0.0675 - val_recall: 0.6957 - val_auc: 0.7100\n",
            "Epoch 26/100\n",
            "2/2 [==============================] - 0s 13ms/step - loss: 0.6113 - tp: 113.0000 - fp: 44.0000 - tn: 103.0000 - fn: 34.0000 - accuracy: 0.7347 - precision: 0.7197 - recall: 0.7687 - auc: 0.7800 - val_loss: 0.6572 - val_tp: 32.0000 - val_fp: 445.0000 - val_tn: 727.0000 - val_fn: 14.0000 - val_accuracy: 0.6232 - val_precision: 0.0671 - val_recall: 0.6957 - val_auc: 0.7106\n",
            "Epoch 27/100\n",
            "2/2 [==============================] - 0s 13ms/step - loss: 0.6274 - tp: 107.0000 - fp: 51.0000 - tn: 96.0000 - fn: 40.0000 - accuracy: 0.6905 - precision: 0.6772 - recall: 0.7279 - auc: 0.7249 - val_loss: 0.6584 - val_tp: 32.0000 - val_fp: 445.0000 - val_tn: 727.0000 - val_fn: 14.0000 - val_accuracy: 0.6232 - val_precision: 0.0671 - val_recall: 0.6957 - val_auc: 0.7115\n",
            "Epoch 28/100\n",
            "2/2 [==============================] - 0s 13ms/step - loss: 0.6138 - tp: 121.0000 - fp: 56.0000 - tn: 91.0000 - fn: 26.0000 - accuracy: 0.7211 - precision: 0.6836 - recall: 0.8231 - auc: 0.7579 - val_loss: 0.6587 - val_tp: 33.0000 - val_fp: 443.0000 - val_tn: 729.0000 - val_fn: 13.0000 - val_accuracy: 0.6256 - val_precision: 0.0693 - val_recall: 0.7174 - val_auc: 0.7128\n",
            "Epoch 29/100\n",
            "2/2 [==============================] - 0s 13ms/step - loss: 0.6153 - tp: 111.0000 - fp: 53.0000 - tn: 94.0000 - fn: 36.0000 - accuracy: 0.6973 - precision: 0.6768 - recall: 0.7551 - auc: 0.7523 - val_loss: 0.6581 - val_tp: 33.0000 - val_fp: 444.0000 - val_tn: 728.0000 - val_fn: 13.0000 - val_accuracy: 0.6248 - val_precision: 0.0692 - val_recall: 0.7174 - val_auc: 0.7136\n",
            "Epoch 30/100\n",
            "2/2 [==============================] - 0s 15ms/step - loss: 0.6068 - tp: 113.0000 - fp: 49.0000 - tn: 98.0000 - fn: 34.0000 - accuracy: 0.7177 - precision: 0.6975 - recall: 0.7687 - auc: 0.7685 - val_loss: 0.6569 - val_tp: 33.0000 - val_fp: 443.0000 - val_tn: 729.0000 - val_fn: 13.0000 - val_accuracy: 0.6256 - val_precision: 0.0693 - val_recall: 0.7174 - val_auc: 0.7141\n",
            "Epoch 31/100\n",
            "2/2 [==============================] - 0s 13ms/step - loss: 0.5967 - tp: 111.0000 - fp: 54.0000 - tn: 93.0000 - fn: 36.0000 - accuracy: 0.6939 - precision: 0.6727 - recall: 0.7551 - auc: 0.7822 - val_loss: 0.6553 - val_tp: 33.0000 - val_fp: 435.0000 - val_tn: 737.0000 - val_fn: 13.0000 - val_accuracy: 0.6322 - val_precision: 0.0705 - val_recall: 0.7174 - val_auc: 0.7151\n",
            "Epoch 32/100\n",
            "2/2 [==============================] - 0s 14ms/step - loss: 0.6126 - tp: 113.0000 - fp: 53.0000 - tn: 94.0000 - fn: 34.0000 - accuracy: 0.7041 - precision: 0.6807 - recall: 0.7687 - auc: 0.7570 - val_loss: 0.6536 - val_tp: 32.0000 - val_fp: 431.0000 - val_tn: 741.0000 - val_fn: 14.0000 - val_accuracy: 0.6346 - val_precision: 0.0691 - val_recall: 0.6957 - val_auc: 0.7159\n",
            "Epoch 33/100\n",
            "2/2 [==============================] - 0s 15ms/step - loss: 0.6059 - tp: 108.0000 - fp: 54.0000 - tn: 93.0000 - fn: 39.0000 - accuracy: 0.6837 - precision: 0.6667 - recall: 0.7347 - auc: 0.7560 - val_loss: 0.6509 - val_tp: 32.0000 - val_fp: 427.0000 - val_tn: 745.0000 - val_fn: 14.0000 - val_accuracy: 0.6379 - val_precision: 0.0697 - val_recall: 0.6957 - val_auc: 0.7164\n",
            "Epoch 34/100\n",
            "2/2 [==============================] - 0s 15ms/step - loss: 0.5970 - tp: 118.0000 - fp: 45.0000 - tn: 102.0000 - fn: 29.0000 - accuracy: 0.7483 - precision: 0.7239 - recall: 0.8027 - auc: 0.7878 - val_loss: 0.6474 - val_tp: 31.0000 - val_fp: 421.0000 - val_tn: 751.0000 - val_fn: 15.0000 - val_accuracy: 0.6420 - val_precision: 0.0686 - val_recall: 0.6739 - val_auc: 0.7179\n",
            "Epoch 35/100\n",
            "2/2 [==============================] - 0s 14ms/step - loss: 0.6024 - tp: 113.0000 - fp: 49.0000 - tn: 98.0000 - fn: 34.0000 - accuracy: 0.7177 - precision: 0.6975 - recall: 0.7687 - auc: 0.7660 - val_loss: 0.6437 - val_tp: 31.0000 - val_fp: 414.0000 - val_tn: 758.0000 - val_fn: 15.0000 - val_accuracy: 0.6478 - val_precision: 0.0697 - val_recall: 0.6739 - val_auc: 0.7185\n",
            "Epoch 36/100\n",
            "2/2 [==============================] - 0s 14ms/step - loss: 0.5890 - tp: 119.0000 - fp: 49.0000 - tn: 98.0000 - fn: 28.0000 - accuracy: 0.7381 - precision: 0.7083 - recall: 0.8095 - auc: 0.7862 - val_loss: 0.6398 - val_tp: 29.0000 - val_fp: 411.0000 - val_tn: 761.0000 - val_fn: 17.0000 - val_accuracy: 0.6486 - val_precision: 0.0659 - val_recall: 0.6304 - val_auc: 0.7179\n",
            "Epoch 37/100\n",
            "2/2 [==============================] - 0s 13ms/step - loss: 0.5802 - tp: 119.0000 - fp: 52.0000 - tn: 95.0000 - fn: 28.0000 - accuracy: 0.7279 - precision: 0.6959 - recall: 0.8095 - auc: 0.7961 - val_loss: 0.6354 - val_tp: 29.0000 - val_fp: 403.0000 - val_tn: 769.0000 - val_fn: 17.0000 - val_accuracy: 0.6552 - val_precision: 0.0671 - val_recall: 0.6304 - val_auc: 0.7182\n",
            "Epoch 38/100\n",
            "2/2 [==============================] - 0s 14ms/step - loss: 0.5975 - tp: 118.0000 - fp: 50.0000 - tn: 97.0000 - fn: 29.0000 - accuracy: 0.7313 - precision: 0.7024 - recall: 0.8027 - auc: 0.7683 - val_loss: 0.6311 - val_tp: 29.0000 - val_fp: 390.0000 - val_tn: 782.0000 - val_fn: 17.0000 - val_accuracy: 0.6658 - val_precision: 0.0692 - val_recall: 0.6304 - val_auc: 0.7182\n",
            "Epoch 39/100\n",
            "2/2 [==============================] - 0s 13ms/step - loss: 0.5820 - tp: 117.0000 - fp: 45.0000 - tn: 102.0000 - fn: 30.0000 - accuracy: 0.7449 - precision: 0.7222 - recall: 0.7959 - auc: 0.7930 - val_loss: 0.6272 - val_tp: 29.0000 - val_fp: 386.0000 - val_tn: 786.0000 - val_fn: 17.0000 - val_accuracy: 0.6691 - val_precision: 0.0699 - val_recall: 0.6304 - val_auc: 0.7172\n",
            "Epoch 40/100\n",
            "1/2 [==============>...............] - ETA: 0s - loss: 0.6124 - tp: 97.0000 - fp: 41.0000 - tn: 83.0000 - fn: 35.0000 - accuracy: 0.7031 - precision: 0.7029 - recall: 0.7348 - auc: 0.7442Restoring model weights from the end of the best epoch.\n",
            "2/2 [==============================] - 0s 14ms/step - loss: 0.6027 - tp: 110.0000 - fp: 47.0000 - tn: 100.0000 - fn: 37.0000 - accuracy: 0.7143 - precision: 0.7006 - recall: 0.7483 - auc: 0.7611 - val_loss: 0.6229 - val_tp: 29.0000 - val_fp: 383.0000 - val_tn: 789.0000 - val_fn: 17.0000 - val_accuracy: 0.6716 - val_precision: 0.0704 - val_recall: 0.6304 - val_auc: 0.7177\n",
            "Epoch 00040: early stopping\n"
          ],
          "name": "stdout"
        }
      ]
    },
    {
      "cell_type": "code",
      "metadata": {
        "id": "gRrjh94D8kBu",
        "outputId": "8a3d5f72-e30d-498c-fa0c-71a071a17cbf",
        "colab": {
          "base_uri": "https://localhost:8080/",
          "height": 501
        }
      },
      "source": [
        "plot_history(history_under_sample)"
      ],
      "execution_count": 61,
      "outputs": [
        {
          "output_type": "display_data",
          "data": {
            "image/png": "[encoded data removed]",
            "text/plain": [
              "<Figure size 720x576 with 4 Axes>"
            ]
          },
          "metadata": {
            "tags": [],
            "needs_background": "light"
          }
        }
      ]
    },
    {
      "cell_type": "code",
      "metadata": {
        "id": "4M1hnSNV8kH4",
        "outputId": "0ea0df52-d9c8-4481-c3a3-74de5c03bc22",
        "colab": {
          "base_uri": "https://localhost:8080/",
          "height": 170
        }
      },
      "source": [
        "y_hat_proba = model.predict(X_test)\n",
        "y_hat = np.where(y_hat_proba > 0.5, 1, 0)\n",
        "print(classification_report(y_test, y_hat))"
      ],
      "execution_count": 62,
      "outputs": [
        {
          "output_type": "stream",
          "text": [
            "              precision    recall  f1-score   support\n",
            "\n",
            "           0       0.99      0.66      0.79      1572\n",
            "           1       0.07      0.74      0.12        53\n",
            "\n",
            "    accuracy                           0.66      1625\n",
            "   macro avg       0.53      0.70      0.46      1625\n",
            "weighted avg       0.96      0.66      0.77      1625\n",
            "\n"
          ],
          "name": "stdout"
        }
      ]
    },
    {
      "cell_type": "code",
      "metadata": {
        "id": "0IbKiBxcF9NM",
        "outputId": "fefa44a5-c529-47d8-d2d3-f64746ef8849",
        "colab": {
          "base_uri": "https://localhost:8080/",
          "height": 266
        }
      },
      "source": [
        "cm, acc, maj, min, f1 = score_model(y_test, y_hat)\n",
        "results_df.loc['Under Sample'] = [*maj, *min, acc, f1]\n",
        "results_df"
      ],
      "execution_count": 63,
      "outputs": [
        {
          "output_type": "execute_result",
          "data": {
            "text/html": [
              "<div>\n",
              "<style scoped>\n",
              "    .dataframe tbody tr th:only-of-type {\n",
              "        vertical-align: middle;\n",
              "    }\n",
              "\n",
              "    .dataframe tbody tr th {\n",
              "        vertical-align: top;\n",
              "    }\n",
              "\n",
              "    .dataframe thead tr th {\n",
              "        text-align: left;\n",
              "    }\n",
              "</style>\n",
              "<table border=\"1\" class=\"dataframe\">\n",
              "  <thead>\n",
              "    <tr>\n",
              "      <th></th>\n",
              "      <th colspan=\"2\" halign=\"left\">Majority</th>\n",
              "      <th colspan=\"2\" halign=\"left\">Minority</th>\n",
              "      <th colspan=\"2\" halign=\"left\">Scoring</th>\n",
              "    </tr>\n",
              "    <tr>\n",
              "      <th></th>\n",
              "      <th>Precision</th>\n",
              "      <th>Recall</th>\n",
              "      <th>Precision</th>\n",
              "      <th>Recall</th>\n",
              "      <th>Accuracy</th>\n",
              "      <th>F1</th>\n",
              "    </tr>\n",
              "  </thead>\n",
              "  <tbody>\n",
              "    <tr>\n",
              "      <th>Baseline</th>\n",
              "      <td>0.967385</td>\n",
              "      <td>1.000000</td>\n",
              "      <td>NaN</td>\n",
              "      <td>0.000000</td>\n",
              "      <td>0.967385</td>\n",
              "      <td>0.000000</td>\n",
              "    </tr>\n",
              "    <tr>\n",
              "      <th>Random</th>\n",
              "      <td>0.980507</td>\n",
              "      <td>0.319975</td>\n",
              "      <td>0.038669</td>\n",
              "      <td>0.811321</td>\n",
              "      <td>0.336000</td>\n",
              "      <td>0.073820</td>\n",
              "    </tr>\n",
              "    <tr>\n",
              "      <th>Unbalanced</th>\n",
              "      <td>0.966969</td>\n",
              "      <td>0.744911</td>\n",
              "      <td>0.031401</td>\n",
              "      <td>0.245283</td>\n",
              "      <td>0.728615</td>\n",
              "      <td>0.055675</td>\n",
              "    </tr>\n",
              "    <tr>\n",
              "      <th>Weighted</th>\n",
              "      <td>0.982112</td>\n",
              "      <td>0.733461</td>\n",
              "      <td>0.070953</td>\n",
              "      <td>0.603774</td>\n",
              "      <td>0.729231</td>\n",
              "      <td>0.126984</td>\n",
              "    </tr>\n",
              "    <tr>\n",
              "      <th>Over Sample</th>\n",
              "      <td>0.983619</td>\n",
              "      <td>0.802163</td>\n",
              "      <td>0.093294</td>\n",
              "      <td>0.603774</td>\n",
              "      <td>0.795692</td>\n",
              "      <td>0.161616</td>\n",
              "    </tr>\n",
              "    <tr>\n",
              "      <th>Under Sample</th>\n",
              "      <td>0.986667</td>\n",
              "      <td>0.659033</td>\n",
              "      <td>0.067826</td>\n",
              "      <td>0.735849</td>\n",
              "      <td>0.661538</td>\n",
              "      <td>0.124204</td>\n",
              "    </tr>\n",
              "  </tbody>\n",
              "</table>\n",
              "</div>"
            ],
            "text/plain": [
              "              Majority            Minority             Scoring          \n",
              "             Precision    Recall Precision    Recall  Accuracy        F1\n",
              "Baseline      0.967385  1.000000       NaN  0.000000  0.967385  0.000000\n",
              "Random        0.980507  0.319975  0.038669  0.811321  0.336000  0.073820\n",
              "Unbalanced    0.966969  0.744911  0.031401  0.245283  0.728615  0.055675\n",
              "Weighted      0.982112  0.733461  0.070953  0.603774  0.729231  0.126984\n",
              "Over Sample   0.983619  0.802163  0.093294  0.603774  0.795692  0.161616\n",
              "Under Sample  0.986667  0.659033  0.067826  0.735849  0.661538  0.124204"
            ]
          },
          "metadata": {
            "tags": []
          },
          "execution_count": 63
        }
      ]
    },
    {
      "cell_type": "markdown",
      "metadata": {
        "id": "yJXDh4hazAnU"
      },
      "source": [
        "# Batch Balancing"
      ]
    },
    {
      "cell_type": "code",
      "metadata": {
        "id": "RtzaAB7L1hTP",
        "outputId": "4f561ce6-943d-44ee-f97f-9985cb978be9",
        "colab": {
          "base_uri": "https://localhost:8080/",
          "height": 255
        }
      },
      "source": [
        "model = construct_model()\n",
        "model.summary()"
      ],
      "execution_count": 64,
      "outputs": [
        {
          "output_type": "stream",
          "text": [
            "Model: \"sequential_5\"\n",
            "_________________________________________________________________\n",
            "Layer (type)                 Output Shape              Param #   \n",
            "=================================================================\n",
            "dense_10 (Dense)             (None, 64)                768       \n",
            "_________________________________________________________________\n",
            "dropout_5 (Dropout)          (None, 64)                0         \n",
            "_________________________________________________________________\n",
            "dense_11 (Dense)             (None, 1)                 65        \n",
            "=================================================================\n",
            "Total params: 833\n",
            "Trainable params: 833\n",
            "Non-trainable params: 0\n",
            "_________________________________________________________________\n"
          ],
          "name": "stdout"
        }
      ]
    },
    {
      "cell_type": "code",
      "metadata": {
        "id": "Apdw4uNv3Apc",
        "outputId": "861239cd-8367-4acd-f63a-6a7e61c84799",
        "colab": {
          "base_uri": "https://localhost:8080/",
          "height": 71
        }
      },
      "source": [
        "training_generator = BalancedBatchGenerator(\n",
        "    X_train, \n",
        "    y_train.to_numpy(), \n",
        "    sampler=RandomOverSampler(), \n",
        "    batch_size=32, \n",
        "    random_state=42)"
      ],
      "execution_count": 65,
      "outputs": [
        {
          "output_type": "stream",
          "text": [
            "/usr/local/lib/python3.6/dist-packages/sklearn/utils/deprecation.py:87: FutureWarning: Function safe_indexing is deprecated; safe_indexing is deprecated in version 0.22 and will be removed in version 0.24.\n",
            "  warnings.warn(msg, category=FutureWarning)\n"
          ],
          "name": "stderr"
        }
      ]
    },
    {
      "cell_type": "code",
      "metadata": {
        "id": "qgGv7naQ12NY",
        "outputId": "7afcdb9b-214e-4095-a564-aa389b6ef822",
        "colab": {
          "base_uri": "https://localhost:8080/",
          "height": 887
        }
      },
      "source": [
        "history_batch_balanced = model.fit(\n",
        "    training_generator,\n",
        "    validation_data=(X_val, y_val),\n",
        "    epochs=EPOCHS,\n",
        "    callbacks = [early_stopping])"
      ],
      "execution_count": 66,
      "outputs": [
        {
          "output_type": "stream",
          "text": [
            "Epoch 1/100\n"
          ],
          "name": "stdout"
        },
        {
          "output_type": "stream",
          "text": [
            "/usr/local/lib/python3.6/dist-packages/sklearn/utils/deprecation.py:87: FutureWarning: Function safe_indexing is deprecated; safe_indexing is deprecated in version 0.22 and will be removed in version 0.24.\n",
            "  warnings.warn(msg, category=FutureWarning)\n"
          ],
          "name": "stderr"
        },
        {
          "output_type": "stream",
          "text": [
            "219/219 [==============================] - 1s 5ms/step - loss: 0.5979 - tp: 2653.0000 - fp: 1748.0000 - tn: 2928.0000 - fn: 897.0000 - accuracy: 0.6785 - precision: 0.6028 - recall: 0.7473 - auc: 0.7591 - val_loss: 0.5490 - val_tp: 26.0000 - val_fp: 297.0000 - val_tn: 875.0000 - val_fn: 20.0000 - val_accuracy: 0.7397 - val_precision: 0.0805 - val_recall: 0.5652 - val_auc: 0.7446\n",
            "Epoch 2/100\n",
            "219/219 [==============================] - 0s 2ms/step - loss: 0.5132 - tp: 2714.0000 - fp: 919.0000 - tn: 2585.0000 - fn: 790.0000 - accuracy: 0.7561 - precision: 0.7470 - recall: 0.7745 - auc: 0.8318 - val_loss: 0.4926 - val_tp: 26.0000 - val_fp: 273.0000 - val_tn: 899.0000 - val_fn: 20.0000 - val_accuracy: 0.7594 - val_precision: 0.0870 - val_recall: 0.5652 - val_auc: 0.7674\n",
            "Epoch 3/100\n",
            "219/219 [==============================] - 0s 2ms/step - loss: 0.4821 - tp: 2813.0000 - fp: 863.0000 - tn: 2641.0000 - fn: 691.0000 - accuracy: 0.7783 - precision: 0.7652 - recall: 0.8028 - auc: 0.8531 - val_loss: 0.4627 - val_tp: 29.0000 - val_fp: 250.0000 - val_tn: 922.0000 - val_fn: 17.0000 - val_accuracy: 0.7808 - val_precision: 0.1039 - val_recall: 0.6304 - val_auc: 0.7835\n",
            "Epoch 4/100\n",
            "219/219 [==============================] - 0s 2ms/step - loss: 0.4645 - tp: 2856.0000 - fp: 802.0000 - tn: 2702.0000 - fn: 648.0000 - accuracy: 0.7931 - precision: 0.7808 - recall: 0.8151 - auc: 0.8651 - val_loss: 0.4589 - val_tp: 27.0000 - val_fp: 249.0000 - val_tn: 923.0000 - val_fn: 19.0000 - val_accuracy: 0.7800 - val_precision: 0.0978 - val_recall: 0.5870 - val_auc: 0.7882\n",
            "Epoch 5/100\n",
            "219/219 [==============================] - 0s 2ms/step - loss: 0.4510 - tp: 2891.0000 - fp: 748.0000 - tn: 2756.0000 - fn: 613.0000 - accuracy: 0.8058 - precision: 0.7944 - recall: 0.8251 - auc: 0.8733 - val_loss: 0.4543 - val_tp: 28.0000 - val_fp: 249.0000 - val_tn: 923.0000 - val_fn: 18.0000 - val_accuracy: 0.7808 - val_precision: 0.1011 - val_recall: 0.6087 - val_auc: 0.7893\n",
            "Epoch 6/100\n",
            "219/219 [==============================] - 0s 2ms/step - loss: 0.4403 - tp: 2920.0000 - fp: 761.0000 - tn: 2743.0000 - fn: 584.0000 - accuracy: 0.8081 - precision: 0.7933 - recall: 0.8333 - auc: 0.8798 - val_loss: 0.4172 - val_tp: 25.0000 - val_fp: 205.0000 - val_tn: 967.0000 - val_fn: 21.0000 - val_accuracy: 0.8144 - val_precision: 0.1087 - val_recall: 0.5435 - val_auc: 0.7900\n",
            "Epoch 7/100\n",
            "219/219 [==============================] - 0s 2ms/step - loss: 0.4337 - tp: 2902.0000 - fp: 725.0000 - tn: 2779.0000 - fn: 602.0000 - accuracy: 0.8106 - precision: 0.8001 - recall: 0.8282 - auc: 0.8837 - val_loss: 0.4286 - val_tp: 27.0000 - val_fp: 223.0000 - val_tn: 949.0000 - val_fn: 19.0000 - val_accuracy: 0.8013 - val_precision: 0.1080 - val_recall: 0.5870 - val_auc: 0.7901\n",
            "Epoch 8/100\n",
            "219/219 [==============================] - 0s 2ms/step - loss: 0.4239 - tp: 2963.0000 - fp: 698.0000 - tn: 2806.0000 - fn: 541.0000 - accuracy: 0.8232 - precision: 0.8093 - recall: 0.8456 - auc: 0.8888 - val_loss: 0.4083 - val_tp: 25.0000 - val_fp: 203.0000 - val_tn: 969.0000 - val_fn: 21.0000 - val_accuracy: 0.8161 - val_precision: 0.1096 - val_recall: 0.5435 - val_auc: 0.7969\n",
            "Epoch 9/100\n",
            "219/219 [==============================] - 0s 2ms/step - loss: 0.4281 - tp: 2922.0000 - fp: 710.0000 - tn: 2794.0000 - fn: 582.0000 - accuracy: 0.8156 - precision: 0.8045 - recall: 0.8339 - auc: 0.8864 - val_loss: 0.4114 - val_tp: 27.0000 - val_fp: 210.0000 - val_tn: 962.0000 - val_fn: 19.0000 - val_accuracy: 0.8120 - val_precision: 0.1139 - val_recall: 0.5870 - val_auc: 0.7984\n",
            "Epoch 10/100\n",
            "219/219 [==============================] - 0s 2ms/step - loss: 0.4145 - tp: 2944.0000 - fp: 701.0000 - tn: 2803.0000 - fn: 560.0000 - accuracy: 0.8201 - precision: 0.8077 - recall: 0.8402 - auc: 0.8943 - val_loss: 0.4288 - val_tp: 28.0000 - val_fp: 224.0000 - val_tn: 948.0000 - val_fn: 18.0000 - val_accuracy: 0.8013 - val_precision: 0.1111 - val_recall: 0.6087 - val_auc: 0.7988\n",
            "Epoch 11/100\n",
            "219/219 [==============================] - 0s 2ms/step - loss: 0.4131 - tp: 2961.0000 - fp: 696.0000 - tn: 2808.0000 - fn: 543.0000 - accuracy: 0.8232 - precision: 0.8097 - recall: 0.8450 - auc: 0.8944 - val_loss: 0.4147 - val_tp: 26.0000 - val_fp: 208.0000 - val_tn: 964.0000 - val_fn: 20.0000 - val_accuracy: 0.8128 - val_precision: 0.1111 - val_recall: 0.5652 - val_auc: 0.7966\n",
            "Epoch 12/100\n",
            "219/219 [==============================] - 0s 2ms/step - loss: 0.4103 - tp: 2951.0000 - fp: 680.0000 - tn: 2824.0000 - fn: 553.0000 - accuracy: 0.8241 - precision: 0.8127 - recall: 0.8422 - auc: 0.8953 - val_loss: 0.4196 - val_tp: 27.0000 - val_fp: 213.0000 - val_tn: 959.0000 - val_fn: 19.0000 - val_accuracy: 0.8095 - val_precision: 0.1125 - val_recall: 0.5870 - val_auc: 0.8035\n",
            "Epoch 13/100\n",
            "219/219 [==============================] - 0s 2ms/step - loss: 0.4069 - tp: 2984.0000 - fp: 686.0000 - tn: 2818.0000 - fn: 520.0000 - accuracy: 0.8279 - precision: 0.8131 - recall: 0.8516 - auc: 0.8967 - val_loss: 0.4038 - val_tp: 25.0000 - val_fp: 198.0000 - val_tn: 974.0000 - val_fn: 21.0000 - val_accuracy: 0.8202 - val_precision: 0.1121 - val_recall: 0.5435 - val_auc: 0.8018\n",
            "Epoch 14/100\n",
            "219/219 [==============================] - 0s 2ms/step - loss: 0.4006 - tp: 2956.0000 - fp: 664.0000 - tn: 2840.0000 - fn: 548.0000 - accuracy: 0.8271 - precision: 0.8166 - recall: 0.8436 - auc: 0.9005 - val_loss: 0.4048 - val_tp: 25.0000 - val_fp: 199.0000 - val_tn: 973.0000 - val_fn: 21.0000 - val_accuracy: 0.8194 - val_precision: 0.1116 - val_recall: 0.5435 - val_auc: 0.8016\n",
            "Epoch 15/100\n",
            "219/219 [==============================] - 0s 2ms/step - loss: 0.4022 - tp: 2962.0000 - fp: 667.0000 - tn: 2837.0000 - fn: 542.0000 - accuracy: 0.8275 - precision: 0.8162 - recall: 0.8453 - auc: 0.8996 - val_loss: 0.3962 - val_tp: 25.0000 - val_fp: 188.0000 - val_tn: 984.0000 - val_fn: 21.0000 - val_accuracy: 0.8284 - val_precision: 0.1174 - val_recall: 0.5435 - val_auc: 0.7984\n",
            "Epoch 16/100\n",
            "219/219 [==============================] - 0s 2ms/step - loss: 0.3955 - tp: 2981.0000 - fp: 661.0000 - tn: 2843.0000 - fn: 523.0000 - accuracy: 0.8311 - precision: 0.8185 - recall: 0.8507 - auc: 0.9033 - val_loss: 0.4000 - val_tp: 25.0000 - val_fp: 195.0000 - val_tn: 977.0000 - val_fn: 21.0000 - val_accuracy: 0.8227 - val_precision: 0.1136 - val_recall: 0.5435 - val_auc: 0.8006\n",
            "Epoch 17/100\n",
            "219/219 [==============================] - 0s 2ms/step - loss: 0.3949 - tp: 2996.0000 - fp: 650.0000 - tn: 2854.0000 - fn: 508.0000 - accuracy: 0.8348 - precision: 0.8217 - recall: 0.8550 - auc: 0.9029 - val_loss: 0.4005 - val_tp: 25.0000 - val_fp: 199.0000 - val_tn: 973.0000 - val_fn: 21.0000 - val_accuracy: 0.8194 - val_precision: 0.1116 - val_recall: 0.5435 - val_auc: 0.8042\n",
            "Epoch 18/100\n",
            "219/219 [==============================] - 0s 2ms/step - loss: 0.3937 - tp: 2981.0000 - fp: 659.0000 - tn: 2845.0000 - fn: 523.0000 - accuracy: 0.8313 - precision: 0.8190 - recall: 0.8507 - auc: 0.9030 - val_loss: 0.3948 - val_tp: 26.0000 - val_fp: 191.0000 - val_tn: 981.0000 - val_fn: 20.0000 - val_accuracy: 0.8268 - val_precision: 0.1198 - val_recall: 0.5652 - val_auc: 0.8078\n",
            "Epoch 19/100\n",
            "219/219 [==============================] - 0s 2ms/step - loss: 0.3887 - tp: 2998.0000 - fp: 644.0000 - tn: 2860.0000 - fn: 506.0000 - accuracy: 0.8359 - precision: 0.8232 - recall: 0.8556 - auc: 0.9066 - val_loss: 0.4152 - val_tp: 25.0000 - val_fp: 204.0000 - val_tn: 968.0000 - val_fn: 21.0000 - val_accuracy: 0.8153 - val_precision: 0.1092 - val_recall: 0.5435 - val_auc: 0.8048\n",
            "Epoch 20/100\n",
            "219/219 [==============================] - 0s 2ms/step - loss: 0.3860 - tp: 2975.0000 - fp: 648.0000 - tn: 2856.0000 - fn: 529.0000 - accuracy: 0.8320 - precision: 0.8211 - recall: 0.8490 - auc: 0.9077 - val_loss: 0.4142 - val_tp: 25.0000 - val_fp: 208.0000 - val_tn: 964.0000 - val_fn: 21.0000 - val_accuracy: 0.8120 - val_precision: 0.1073 - val_recall: 0.5435 - val_auc: 0.7995\n",
            "Epoch 21/100\n",
            "219/219 [==============================] - 0s 2ms/step - loss: 0.3845 - tp: 3011.0000 - fp: 621.0000 - tn: 2883.0000 - fn: 493.0000 - accuracy: 0.8410 - precision: 0.8290 - recall: 0.8593 - auc: 0.9079 - val_loss: 0.4086 - val_tp: 25.0000 - val_fp: 205.0000 - val_tn: 967.0000 - val_fn: 21.0000 - val_accuracy: 0.8144 - val_precision: 0.1087 - val_recall: 0.5435 - val_auc: 0.8050\n",
            "Epoch 22/100\n",
            "219/219 [==============================] - 0s 2ms/step - loss: 0.3879 - tp: 3002.0000 - fp: 649.0000 - tn: 2855.0000 - fn: 502.0000 - accuracy: 0.8358 - precision: 0.8222 - recall: 0.8567 - auc: 0.9068 - val_loss: 0.3808 - val_tp: 24.0000 - val_fp: 186.0000 - val_tn: 986.0000 - val_fn: 22.0000 - val_accuracy: 0.8292 - val_precision: 0.1143 - val_recall: 0.5217 - val_auc: 0.8045\n",
            "Epoch 23/100\n",
            "213/219 [============================>.] - ETA: 0s - loss: 0.3806 - tp: 2898.0000 - fp: 621.0000 - tn: 2795.0000 - fn: 502.0000 - accuracy: 0.8352 - precision: 0.8235 - recall: 0.8524 - auc: 0.9104Restoring model weights from the end of the best epoch.\n",
            "219/219 [==============================] - 0s 2ms/step - loss: 0.3808 - tp: 2991.0000 - fp: 641.0000 - tn: 2863.0000 - fn: 513.0000 - accuracy: 0.8353 - precision: 0.8235 - recall: 0.8536 - auc: 0.9101 - val_loss: 0.3984 - val_tp: 26.0000 - val_fp: 196.0000 - val_tn: 976.0000 - val_fn: 20.0000 - val_accuracy: 0.8227 - val_precision: 0.1171 - val_recall: 0.5652 - val_auc: 0.7949\n",
            "Epoch 00023: early stopping\n"
          ],
          "name": "stdout"
        }
      ]
    },
    {
      "cell_type": "code",
      "metadata": {
        "id": "bcaXNrUw12LC",
        "outputId": "65a2b4f4-4210-4455-bc30-dd4dcefb6323",
        "colab": {
          "base_uri": "https://localhost:8080/",
          "height": 501
        }
      },
      "source": [
        "plot_history(history_batch_balanced)"
      ],
      "execution_count": 67,
      "outputs": [
        {
          "output_type": "display_data",
          "data": {
            "image/png": "[encoded data removed]",
            "text/plain": [
              "<Figure size 720x576 with 4 Axes>"
            ]
          },
          "metadata": {
            "tags": [],
            "needs_background": "light"
          }
        }
      ]
    },
    {
      "cell_type": "code",
      "metadata": {
        "id": "dEAvgU1e2ADh",
        "outputId": "6b522fb5-9ac0-4023-f7bd-cae7a61d6c50",
        "colab": {
          "base_uri": "https://localhost:8080/",
          "height": 170
        }
      },
      "source": [
        "y_hat_proba = model.predict(X_test)\n",
        "y_hat = np.where(y_hat_proba > 0.5, 1, 0)\n",
        "print(classification_report(y_test, y_hat))"
      ],
      "execution_count": 68,
      "outputs": [
        {
          "output_type": "stream",
          "text": [
            "              precision    recall  f1-score   support\n",
            "\n",
            "           0       0.98      0.82      0.90      1572\n",
            "           1       0.11      0.62      0.18        53\n",
            "\n",
            "    accuracy                           0.81      1625\n",
            "   macro avg       0.54      0.72      0.54      1625\n",
            "weighted avg       0.96      0.81      0.87      1625\n",
            "\n"
          ],
          "name": "stdout"
        }
      ]
    },
    {
      "cell_type": "code",
      "metadata": {
        "id": "wbjE1YguF_Vy",
        "outputId": "a9a56c11-bd02-4f89-c32d-546ef1078a38",
        "colab": {
          "base_uri": "https://localhost:8080/",
          "height": 297
        }
      },
      "source": [
        "cm, acc, maj, min, f1 = score_model(y_test, y_hat)\n",
        "results_df.loc['Balanced Batching'] = [*maj, *min, acc, f1]\n",
        "results_df"
      ],
      "execution_count": 69,
      "outputs": [
        {
          "output_type": "execute_result",
          "data": {
            "text/html": [
              "<div>\n",
              "<style scoped>\n",
              "    .dataframe tbody tr th:only-of-type {\n",
              "        vertical-align: middle;\n",
              "    }\n",
              "\n",
              "    .dataframe tbody tr th {\n",
              "        vertical-align: top;\n",
              "    }\n",
              "\n",
              "    .dataframe thead tr th {\n",
              "        text-align: left;\n",
              "    }\n",
              "</style>\n",
              "<table border=\"1\" class=\"dataframe\">\n",
              "  <thead>\n",
              "    <tr>\n",
              "      <th></th>\n",
              "      <th colspan=\"2\" halign=\"left\">Majority</th>\n",
              "      <th colspan=\"2\" halign=\"left\">Minority</th>\n",
              "      <th colspan=\"2\" halign=\"left\">Scoring</th>\n",
              "    </tr>\n",
              "    <tr>\n",
              "      <th></th>\n",
              "      <th>Precision</th>\n",
              "      <th>Recall</th>\n",
              "      <th>Precision</th>\n",
              "      <th>Recall</th>\n",
              "      <th>Accuracy</th>\n",
              "      <th>F1</th>\n",
              "    </tr>\n",
              "  </thead>\n",
              "  <tbody>\n",
              "    <tr>\n",
              "      <th>Baseline</th>\n",
              "      <td>0.967385</td>\n",
              "      <td>1.000000</td>\n",
              "      <td>NaN</td>\n",
              "      <td>0.000000</td>\n",
              "      <td>0.967385</td>\n",
              "      <td>0.000000</td>\n",
              "    </tr>\n",
              "    <tr>\n",
              "      <th>Random</th>\n",
              "      <td>0.980507</td>\n",
              "      <td>0.319975</td>\n",
              "      <td>0.038669</td>\n",
              "      <td>0.811321</td>\n",
              "      <td>0.336000</td>\n",
              "      <td>0.073820</td>\n",
              "    </tr>\n",
              "    <tr>\n",
              "      <th>Unbalanced</th>\n",
              "      <td>0.966969</td>\n",
              "      <td>0.744911</td>\n",
              "      <td>0.031401</td>\n",
              "      <td>0.245283</td>\n",
              "      <td>0.728615</td>\n",
              "      <td>0.055675</td>\n",
              "    </tr>\n",
              "    <tr>\n",
              "      <th>Weighted</th>\n",
              "      <td>0.982112</td>\n",
              "      <td>0.733461</td>\n",
              "      <td>0.070953</td>\n",
              "      <td>0.603774</td>\n",
              "      <td>0.729231</td>\n",
              "      <td>0.126984</td>\n",
              "    </tr>\n",
              "    <tr>\n",
              "      <th>Over Sample</th>\n",
              "      <td>0.983619</td>\n",
              "      <td>0.802163</td>\n",
              "      <td>0.093294</td>\n",
              "      <td>0.603774</td>\n",
              "      <td>0.795692</td>\n",
              "      <td>0.161616</td>\n",
              "    </tr>\n",
              "    <tr>\n",
              "      <th>Under Sample</th>\n",
              "      <td>0.986667</td>\n",
              "      <td>0.659033</td>\n",
              "      <td>0.067826</td>\n",
              "      <td>0.735849</td>\n",
              "      <td>0.661538</td>\n",
              "      <td>0.124204</td>\n",
              "    </tr>\n",
              "    <tr>\n",
              "      <th>Balanced Batching</th>\n",
              "      <td>0.984744</td>\n",
              "      <td>0.821247</td>\n",
              "      <td>0.105096</td>\n",
              "      <td>0.622642</td>\n",
              "      <td>0.814769</td>\n",
              "      <td>0.179837</td>\n",
              "    </tr>\n",
              "  </tbody>\n",
              "</table>\n",
              "</div>"
            ],
            "text/plain": [
              "                   Majority            Minority             Scoring          \n",
              "                  Precision    Recall Precision    Recall  Accuracy        F1\n",
              "Baseline           0.967385  1.000000       NaN  0.000000  0.967385  0.000000\n",
              "Random             0.980507  0.319975  0.038669  0.811321  0.336000  0.073820\n",
              "Unbalanced         0.966969  0.744911  0.031401  0.245283  0.728615  0.055675\n",
              "Weighted           0.982112  0.733461  0.070953  0.603774  0.729231  0.126984\n",
              "Over Sample        0.983619  0.802163  0.093294  0.603774  0.795692  0.161616\n",
              "Under Sample       0.986667  0.659033  0.067826  0.735849  0.661538  0.124204\n",
              "Balanced Batching  0.984744  0.821247  0.105096  0.622642  0.814769  0.179837"
            ]
          },
          "metadata": {
            "tags": []
          },
          "execution_count": 69
        }
      ]
    },
    {
      "cell_type": "markdown",
      "metadata": {
        "id": "6mZoA2s21Qbd"
      },
      "source": [
        "# Focal Loss"
      ]
    },
    {
      "cell_type": "code",
      "metadata": {
        "id": "9okmW-gi1htm"
      },
      "source": [
        "def focal_loss(y_true, y_pred):\n",
        "    gamma = 2.0\n",
        "    alpha = 0.25 \n",
        "    pt_1 = tf.where(tf.equal(y_true, 1), y_pred, tf.ones_like(y_pred))\n",
        "    pt_0 = tf.where(tf.equal(y_true, 0), y_pred, tf.zeros_like(y_pred))\n",
        "    return -K.sum(alpha * K.pow(1. - pt_1, gamma) * K.log(pt_1))-K.sum((1-alpha) * K.pow( pt_0, gamma) * K.log(1. - pt_0))"
      ],
      "execution_count": 70,
      "outputs": []
    },
    {
      "cell_type": "code",
      "metadata": {
        "id": "WL2SG6NZAdtd",
        "outputId": "3700bcfb-874d-4a98-fe5a-8d2a0e013bd1",
        "colab": {
          "base_uri": "https://localhost:8080/",
          "height": 255
        }
      },
      "source": [
        "model = construct_model(loss=focal_loss)\n",
        "model.summary()"
      ],
      "execution_count": 71,
      "outputs": [
        {
          "output_type": "stream",
          "text": [
            "Model: \"sequential_6\"\n",
            "_________________________________________________________________\n",
            "Layer (type)                 Output Shape              Param #   \n",
            "=================================================================\n",
            "dense_12 (Dense)             (None, 64)                768       \n",
            "_________________________________________________________________\n",
            "dropout_6 (Dropout)          (None, 64)                0         \n",
            "_________________________________________________________________\n",
            "dense_13 (Dense)             (None, 1)                 65        \n",
            "=================================================================\n",
            "Total params: 833\n",
            "Trainable params: 833\n",
            "Non-trainable params: 0\n",
            "_________________________________________________________________\n"
          ],
          "name": "stdout"
        }
      ]
    },
    {
      "cell_type": "code",
      "metadata": {
        "id": "vbbYHQzJA9bd",
        "outputId": "cecb81ed-fa01-4faa-aeb7-de52c9d1bf40",
        "colab": {
          "base_uri": "https://localhost:8080/",
          "height": 1000
        }
      },
      "source": [
        "history_focal = model.fit(\n",
        "    X_train,\n",
        "    y_train,\n",
        "    batch_size=BATCH_SIZE,\n",
        "    epochs=EPOCHS,\n",
        "    callbacks = [early_stopping],\n",
        "    validation_data=(X_val, y_val))"
      ],
      "execution_count": 72,
      "outputs": [
        {
          "output_type": "stream",
          "text": [
            "Epoch 1/100\n",
            "15/15 [==============================] - 1s 49ms/step - loss: 50.3231 - tp: 122.0000 - fp: 2597.0000 - tn: 2082.0000 - fn: 71.0000 - accuracy: 0.4524 - precision: 0.0449 - recall: 0.6321 - auc: 0.5981 - val_loss: 29.7916 - val_tp: 19.0000 - val_fp: 500.0000 - val_tn: 672.0000 - val_fn: 27.0000 - val_accuracy: 0.5673 - val_precision: 0.0366 - val_recall: 0.4130 - val_auc: 0.5309\n",
            "Epoch 2/100\n",
            "15/15 [==============================] - 0s 3ms/step - loss: 25.3848 - tp: 54.0000 - fp: 897.0000 - tn: 2610.0000 - fn: 93.0000 - accuracy: 0.7291 - precision: 0.0568 - recall: 0.3673 - auc: 0.5419 - val_loss: 15.6440 - val_tp: 6.0000 - val_fp: 36.0000 - val_tn: 1136.0000 - val_fn: 40.0000 - val_accuracy: 0.9376 - val_precision: 0.1429 - val_recall: 0.1304 - val_auc: 0.5427\n",
            "Epoch 3/100\n",
            "15/15 [==============================] - 0s 3ms/step - loss: 14.8423 - tp: 15.0000 - fp: 214.0000 - tn: 3293.0000 - fn: 132.0000 - accuracy: 0.9053 - precision: 0.0655 - recall: 0.1020 - auc: 0.4806 - val_loss: 9.8325 - val_tp: 0.0000e+00 - val_fp: 1.0000 - val_tn: 1171.0000 - val_fn: 46.0000 - val_accuracy: 0.9614 - val_precision: 0.0000e+00 - val_recall: 0.0000e+00 - val_auc: 0.5386\n",
            "Epoch 4/100\n",
            "15/15 [==============================] - 0s 3ms/step - loss: 9.9984 - tp: 5.0000 - fp: 50.0000 - tn: 3457.0000 - fn: 142.0000 - accuracy: 0.9475 - precision: 0.0909 - recall: 0.0340 - auc: 0.5612 - val_loss: 7.2696 - val_tp: 0.0000e+00 - val_fp: 0.0000e+00 - val_tn: 1172.0000 - val_fn: 46.0000 - val_accuracy: 0.9622 - val_precision: 0.0000e+00 - val_recall: 0.0000e+00 - val_auc: 0.5475\n",
            "Epoch 5/100\n",
            "15/15 [==============================] - 0s 4ms/step - loss: 8.1663 - tp: 4.0000 - fp: 23.0000 - tn: 3484.0000 - fn: 143.0000 - accuracy: 0.9546 - precision: 0.1481 - recall: 0.0272 - auc: 0.5157 - val_loss: 5.9862 - val_tp: 0.0000e+00 - val_fp: 0.0000e+00 - val_tn: 1172.0000 - val_fn: 46.0000 - val_accuracy: 0.9622 - val_precision: 0.0000e+00 - val_recall: 0.0000e+00 - val_auc: 0.5613\n",
            "Epoch 6/100\n",
            "15/15 [==============================] - 0s 4ms/step - loss: 6.7978 - tp: 1.0000 - fp: 12.0000 - tn: 3495.0000 - fn: 146.0000 - accuracy: 0.9568 - precision: 0.0769 - recall: 0.0068 - auc: 0.5508 - val_loss: 5.2840 - val_tp: 0.0000e+00 - val_fp: 0.0000e+00 - val_tn: 1172.0000 - val_fn: 46.0000 - val_accuracy: 0.9622 - val_precision: 0.0000e+00 - val_recall: 0.0000e+00 - val_auc: 0.5684\n",
            "Epoch 7/100\n",
            "15/15 [==============================] - 0s 3ms/step - loss: 6.2138 - tp: 1.0000 - fp: 9.0000 - tn: 3498.0000 - fn: 146.0000 - accuracy: 0.9576 - precision: 0.1000 - recall: 0.0068 - auc: 0.5247 - val_loss: 4.8444 - val_tp: 0.0000e+00 - val_fp: 0.0000e+00 - val_tn: 1172.0000 - val_fn: 46.0000 - val_accuracy: 0.9622 - val_precision: 0.0000e+00 - val_recall: 0.0000e+00 - val_auc: 0.5816\n",
            "Epoch 8/100\n",
            "15/15 [==============================] - 0s 4ms/step - loss: 5.6519 - tp: 2.0000 - fp: 6.0000 - tn: 3501.0000 - fn: 145.0000 - accuracy: 0.9587 - precision: 0.2500 - recall: 0.0136 - auc: 0.5633 - val_loss: 4.5708 - val_tp: 0.0000e+00 - val_fp: 0.0000e+00 - val_tn: 1172.0000 - val_fn: 46.0000 - val_accuracy: 0.9622 - val_precision: 0.0000e+00 - val_recall: 0.0000e+00 - val_auc: 0.5907\n",
            "Epoch 9/100\n",
            "15/15 [==============================] - 0s 3ms/step - loss: 5.4150 - tp: 0.0000e+00 - fp: 6.0000 - tn: 3501.0000 - fn: 147.0000 - accuracy: 0.9581 - precision: 0.0000e+00 - recall: 0.0000e+00 - auc: 0.5666 - val_loss: 4.3804 - val_tp: 0.0000e+00 - val_fp: 0.0000e+00 - val_tn: 1172.0000 - val_fn: 46.0000 - val_accuracy: 0.9622 - val_precision: 0.0000e+00 - val_recall: 0.0000e+00 - val_auc: 0.5997\n",
            "Epoch 10/100\n",
            "15/15 [==============================] - 0s 3ms/step - loss: 5.2926 - tp: 2.0000 - fp: 4.0000 - tn: 3503.0000 - fn: 145.0000 - accuracy: 0.9592 - precision: 0.3333 - recall: 0.0136 - auc: 0.5491 - val_loss: 4.2493 - val_tp: 0.0000e+00 - val_fp: 0.0000e+00 - val_tn: 1172.0000 - val_fn: 46.0000 - val_accuracy: 0.9622 - val_precision: 0.0000e+00 - val_recall: 0.0000e+00 - val_auc: 0.6095\n",
            "Epoch 11/100\n",
            "15/15 [==============================] - 0s 3ms/step - loss: 5.0782 - tp: 0.0000e+00 - fp: 4.0000 - tn: 3503.0000 - fn: 147.0000 - accuracy: 0.9587 - precision: 0.0000e+00 - recall: 0.0000e+00 - auc: 0.5752 - val_loss: 4.1555 - val_tp: 0.0000e+00 - val_fp: 0.0000e+00 - val_tn: 1172.0000 - val_fn: 46.0000 - val_accuracy: 0.9622 - val_precision: 0.0000e+00 - val_recall: 0.0000e+00 - val_auc: 0.6197\n",
            "Epoch 12/100\n",
            "15/15 [==============================] - 0s 3ms/step - loss: 4.8942 - tp: 1.0000 - fp: 2.0000 - tn: 3505.0000 - fn: 146.0000 - accuracy: 0.9595 - precision: 0.3333 - recall: 0.0068 - auc: 0.5936 - val_loss: 4.0883 - val_tp: 0.0000e+00 - val_fp: 0.0000e+00 - val_tn: 1172.0000 - val_fn: 46.0000 - val_accuracy: 0.9622 - val_precision: 0.0000e+00 - val_recall: 0.0000e+00 - val_auc: 0.6278\n",
            "Epoch 13/100\n",
            "15/15 [==============================] - 0s 3ms/step - loss: 4.7192 - tp: 0.0000e+00 - fp: 0.0000e+00 - tn: 3507.0000 - fn: 147.0000 - accuracy: 0.9598 - precision: 0.0000e+00 - recall: 0.0000e+00 - auc: 0.6045 - val_loss: 4.0331 - val_tp: 0.0000e+00 - val_fp: 0.0000e+00 - val_tn: 1172.0000 - val_fn: 46.0000 - val_accuracy: 0.9622 - val_precision: 0.0000e+00 - val_recall: 0.0000e+00 - val_auc: 0.6358\n",
            "Epoch 14/100\n",
            "15/15 [==============================] - 0s 4ms/step - loss: 4.5994 - tp: 0.0000e+00 - fp: 6.0000 - tn: 3501.0000 - fn: 147.0000 - accuracy: 0.9581 - precision: 0.0000e+00 - recall: 0.0000e+00 - auc: 0.6584 - val_loss: 3.9955 - val_tp: 0.0000e+00 - val_fp: 0.0000e+00 - val_tn: 1172.0000 - val_fn: 46.0000 - val_accuracy: 0.9622 - val_precision: 0.0000e+00 - val_recall: 0.0000e+00 - val_auc: 0.6385\n",
            "Epoch 15/100\n",
            "15/15 [==============================] - 0s 4ms/step - loss: 4.6835 - tp: 2.0000 - fp: 6.0000 - tn: 3501.0000 - fn: 145.0000 - accuracy: 0.9587 - precision: 0.2500 - recall: 0.0136 - auc: 0.6160 - val_loss: 3.9641 - val_tp: 0.0000e+00 - val_fp: 0.0000e+00 - val_tn: 1172.0000 - val_fn: 46.0000 - val_accuracy: 0.9622 - val_precision: 0.0000e+00 - val_recall: 0.0000e+00 - val_auc: 0.6441\n",
            "Epoch 16/100\n",
            "15/15 [==============================] - 0s 4ms/step - loss: 4.5690 - tp: 1.0000 - fp: 6.0000 - tn: 3501.0000 - fn: 146.0000 - accuracy: 0.9584 - precision: 0.1429 - recall: 0.0068 - auc: 0.6370 - val_loss: 3.9373 - val_tp: 0.0000e+00 - val_fp: 0.0000e+00 - val_tn: 1172.0000 - val_fn: 46.0000 - val_accuracy: 0.9622 - val_precision: 0.0000e+00 - val_recall: 0.0000e+00 - val_auc: 0.6497\n",
            "Epoch 17/100\n",
            "15/15 [==============================] - 0s 4ms/step - loss: 4.4432 - tp: 1.0000 - fp: 3.0000 - tn: 3504.0000 - fn: 146.0000 - accuracy: 0.9592 - precision: 0.2500 - recall: 0.0068 - auc: 0.6312 - val_loss: 3.9106 - val_tp: 0.0000e+00 - val_fp: 0.0000e+00 - val_tn: 1172.0000 - val_fn: 46.0000 - val_accuracy: 0.9622 - val_precision: 0.0000e+00 - val_recall: 0.0000e+00 - val_auc: 0.6542\n",
            "Epoch 18/100\n",
            "15/15 [==============================] - 0s 4ms/step - loss: 4.3868 - tp: 1.0000 - fp: 3.0000 - tn: 3504.0000 - fn: 146.0000 - accuracy: 0.9592 - precision: 0.2500 - recall: 0.0068 - auc: 0.6620 - val_loss: 3.8862 - val_tp: 0.0000e+00 - val_fp: 0.0000e+00 - val_tn: 1172.0000 - val_fn: 46.0000 - val_accuracy: 0.9622 - val_precision: 0.0000e+00 - val_recall: 0.0000e+00 - val_auc: 0.6626\n",
            "Epoch 19/100\n",
            "15/15 [==============================] - 0s 4ms/step - loss: 4.4280 - tp: 1.0000 - fp: 1.0000 - tn: 3506.0000 - fn: 146.0000 - accuracy: 0.9598 - precision: 0.5000 - recall: 0.0068 - auc: 0.6523 - val_loss: 3.8691 - val_tp: 0.0000e+00 - val_fp: 0.0000e+00 - val_tn: 1172.0000 - val_fn: 46.0000 - val_accuracy: 0.9622 - val_precision: 0.0000e+00 - val_recall: 0.0000e+00 - val_auc: 0.6655\n",
            "Epoch 20/100\n",
            "15/15 [==============================] - 0s 3ms/step - loss: 4.3482 - tp: 0.0000e+00 - fp: 1.0000 - tn: 3506.0000 - fn: 147.0000 - accuracy: 0.9595 - precision: 0.0000e+00 - recall: 0.0000e+00 - auc: 0.6576 - val_loss: 3.8488 - val_tp: 0.0000e+00 - val_fp: 0.0000e+00 - val_tn: 1172.0000 - val_fn: 46.0000 - val_accuracy: 0.9622 - val_precision: 0.0000e+00 - val_recall: 0.0000e+00 - val_auc: 0.6688\n",
            "Epoch 21/100\n",
            "15/15 [==============================] - 0s 4ms/step - loss: 4.3002 - tp: 0.0000e+00 - fp: 0.0000e+00 - tn: 3507.0000 - fn: 147.0000 - accuracy: 0.9598 - precision: 0.0000e+00 - recall: 0.0000e+00 - auc: 0.6675 - val_loss: 3.8363 - val_tp: 0.0000e+00 - val_fp: 0.0000e+00 - val_tn: 1172.0000 - val_fn: 46.0000 - val_accuracy: 0.9622 - val_precision: 0.0000e+00 - val_recall: 0.0000e+00 - val_auc: 0.6766\n",
            "Epoch 22/100\n",
            "15/15 [==============================] - 0s 4ms/step - loss: 4.3449 - tp: 2.0000 - fp: 5.0000 - tn: 3502.0000 - fn: 145.0000 - accuracy: 0.9589 - precision: 0.2857 - recall: 0.0136 - auc: 0.6814 - val_loss: 3.8230 - val_tp: 0.0000e+00 - val_fp: 0.0000e+00 - val_tn: 1172.0000 - val_fn: 46.0000 - val_accuracy: 0.9622 - val_precision: 0.0000e+00 - val_recall: 0.0000e+00 - val_auc: 0.6802\n",
            "Epoch 23/100\n",
            "15/15 [==============================] - 0s 4ms/step - loss: 4.3907 - tp: 1.0000 - fp: 2.0000 - tn: 3505.0000 - fn: 146.0000 - accuracy: 0.9595 - precision: 0.3333 - recall: 0.0068 - auc: 0.6697 - val_loss: 3.8092 - val_tp: 0.0000e+00 - val_fp: 0.0000e+00 - val_tn: 1172.0000 - val_fn: 46.0000 - val_accuracy: 0.9622 - val_precision: 0.0000e+00 - val_recall: 0.0000e+00 - val_auc: 0.6843\n",
            "Epoch 24/100\n",
            "15/15 [==============================] - 0s 4ms/step - loss: 4.2326 - tp: 1.0000 - fp: 1.0000 - tn: 3506.0000 - fn: 146.0000 - accuracy: 0.9598 - precision: 0.5000 - recall: 0.0068 - auc: 0.6858 - val_loss: 3.8067 - val_tp: 0.0000e+00 - val_fp: 0.0000e+00 - val_tn: 1172.0000 - val_fn: 46.0000 - val_accuracy: 0.9622 - val_precision: 0.0000e+00 - val_recall: 0.0000e+00 - val_auc: 0.6838\n",
            "Epoch 25/100\n",
            "15/15 [==============================] - 0s 4ms/step - loss: 4.3662 - tp: 0.0000e+00 - fp: 3.0000 - tn: 3504.0000 - fn: 147.0000 - accuracy: 0.9589 - precision: 0.0000e+00 - recall: 0.0000e+00 - auc: 0.6675 - val_loss: 3.7924 - val_tp: 0.0000e+00 - val_fp: 0.0000e+00 - val_tn: 1172.0000 - val_fn: 46.0000 - val_accuracy: 0.9622 - val_precision: 0.0000e+00 - val_recall: 0.0000e+00 - val_auc: 0.6869\n",
            "Epoch 26/100\n",
            "15/15 [==============================] - 0s 3ms/step - loss: 4.2587 - tp: 1.0000 - fp: 2.0000 - tn: 3505.0000 - fn: 146.0000 - accuracy: 0.9595 - precision: 0.3333 - recall: 0.0068 - auc: 0.6903 - val_loss: 3.7826 - val_tp: 0.0000e+00 - val_fp: 0.0000e+00 - val_tn: 1172.0000 - val_fn: 46.0000 - val_accuracy: 0.9622 - val_precision: 0.0000e+00 - val_recall: 0.0000e+00 - val_auc: 0.6907\n",
            "Epoch 27/100\n",
            "15/15 [==============================] - 0s 3ms/step - loss: 4.3165 - tp: 1.0000 - fp: 3.0000 - tn: 3504.0000 - fn: 146.0000 - accuracy: 0.9592 - precision: 0.2500 - recall: 0.0068 - auc: 0.6788 - val_loss: 3.7696 - val_tp: 0.0000e+00 - val_fp: 0.0000e+00 - val_tn: 1172.0000 - val_fn: 46.0000 - val_accuracy: 0.9622 - val_precision: 0.0000e+00 - val_recall: 0.0000e+00 - val_auc: 0.6922\n",
            "Epoch 28/100\n",
            "15/15 [==============================] - 0s 3ms/step - loss: 4.0855 - tp: 2.0000 - fp: 3.0000 - tn: 3504.0000 - fn: 145.0000 - accuracy: 0.9595 - precision: 0.4000 - recall: 0.0136 - auc: 0.7100 - val_loss: 3.7654 - val_tp: 0.0000e+00 - val_fp: 0.0000e+00 - val_tn: 1172.0000 - val_fn: 46.0000 - val_accuracy: 0.9622 - val_precision: 0.0000e+00 - val_recall: 0.0000e+00 - val_auc: 0.6900\n",
            "Epoch 29/100\n",
            "15/15 [==============================] - 0s 4ms/step - loss: 4.1854 - tp: 2.0000 - fp: 1.0000 - tn: 3506.0000 - fn: 145.0000 - accuracy: 0.9600 - precision: 0.6667 - recall: 0.0136 - auc: 0.6905 - val_loss: 3.7532 - val_tp: 0.0000e+00 - val_fp: 0.0000e+00 - val_tn: 1172.0000 - val_fn: 46.0000 - val_accuracy: 0.9622 - val_precision: 0.0000e+00 - val_recall: 0.0000e+00 - val_auc: 0.6920\n",
            "Epoch 30/100\n",
            "15/15 [==============================] - 0s 4ms/step - loss: 4.1926 - tp: 0.0000e+00 - fp: 2.0000 - tn: 3505.0000 - fn: 147.0000 - accuracy: 0.9592 - precision: 0.0000e+00 - recall: 0.0000e+00 - auc: 0.6962 - val_loss: 3.7344 - val_tp: 0.0000e+00 - val_fp: 0.0000e+00 - val_tn: 1172.0000 - val_fn: 46.0000 - val_accuracy: 0.9622 - val_precision: 0.0000e+00 - val_recall: 0.0000e+00 - val_auc: 0.6991\n",
            "Epoch 31/100\n",
            "15/15 [==============================] - 0s 4ms/step - loss: 4.1081 - tp: 0.0000e+00 - fp: 0.0000e+00 - tn: 3507.0000 - fn: 147.0000 - accuracy: 0.9598 - precision: 0.0000e+00 - recall: 0.0000e+00 - auc: 0.7127 - val_loss: 3.7252 - val_tp: 0.0000e+00 - val_fp: 0.0000e+00 - val_tn: 1172.0000 - val_fn: 46.0000 - val_accuracy: 0.9622 - val_precision: 0.0000e+00 - val_recall: 0.0000e+00 - val_auc: 0.7026\n",
            "Epoch 32/100\n",
            "15/15 [==============================] - 0s 4ms/step - loss: 4.2350 - tp: 0.0000e+00 - fp: 3.0000 - tn: 3504.0000 - fn: 147.0000 - accuracy: 0.9589 - precision: 0.0000e+00 - recall: 0.0000e+00 - auc: 0.6940 - val_loss: 3.7140 - val_tp: 0.0000e+00 - val_fp: 0.0000e+00 - val_tn: 1172.0000 - val_fn: 46.0000 - val_accuracy: 0.9622 - val_precision: 0.0000e+00 - val_recall: 0.0000e+00 - val_auc: 0.7023\n",
            "Epoch 33/100\n",
            "15/15 [==============================] - 0s 4ms/step - loss: 4.2287 - tp: 0.0000e+00 - fp: 2.0000 - tn: 3505.0000 - fn: 147.0000 - accuracy: 0.9592 - precision: 0.0000e+00 - recall: 0.0000e+00 - auc: 0.7029 - val_loss: 3.7156 - val_tp: 0.0000e+00 - val_fp: 0.0000e+00 - val_tn: 1172.0000 - val_fn: 46.0000 - val_accuracy: 0.9622 - val_precision: 0.0000e+00 - val_recall: 0.0000e+00 - val_auc: 0.7021\n",
            "Epoch 34/100\n",
            "15/15 [==============================] - 0s 4ms/step - loss: 4.1588 - tp: 3.0000 - fp: 0.0000e+00 - tn: 3507.0000 - fn: 144.0000 - accuracy: 0.9606 - precision: 1.0000 - recall: 0.0204 - auc: 0.6992 - val_loss: 3.7098 - val_tp: 0.0000e+00 - val_fp: 0.0000e+00 - val_tn: 1172.0000 - val_fn: 46.0000 - val_accuracy: 0.9622 - val_precision: 0.0000e+00 - val_recall: 0.0000e+00 - val_auc: 0.7045\n",
            "Epoch 35/100\n",
            "15/15 [==============================] - 0s 4ms/step - loss: 3.9699 - tp: 5.0000 - fp: 5.0000 - tn: 3502.0000 - fn: 142.0000 - accuracy: 0.9598 - precision: 0.5000 - recall: 0.0340 - auc: 0.7293 - val_loss: 3.6981 - val_tp: 0.0000e+00 - val_fp: 0.0000e+00 - val_tn: 1172.0000 - val_fn: 46.0000 - val_accuracy: 0.9622 - val_precision: 0.0000e+00 - val_recall: 0.0000e+00 - val_auc: 0.7038\n",
            "Epoch 36/100\n",
            "15/15 [==============================] - 0s 4ms/step - loss: 3.9417 - tp: 3.0000 - fp: 0.0000e+00 - tn: 3507.0000 - fn: 144.0000 - accuracy: 0.9606 - precision: 1.0000 - recall: 0.0204 - auc: 0.7398 - val_loss: 3.6927 - val_tp: 0.0000e+00 - val_fp: 0.0000e+00 - val_tn: 1172.0000 - val_fn: 46.0000 - val_accuracy: 0.9622 - val_precision: 0.0000e+00 - val_recall: 0.0000e+00 - val_auc: 0.7028\n",
            "Epoch 37/100\n",
            "15/15 [==============================] - 0s 3ms/step - loss: 4.1776 - tp: 0.0000e+00 - fp: 3.0000 - tn: 3504.0000 - fn: 147.0000 - accuracy: 0.9589 - precision: 0.0000e+00 - recall: 0.0000e+00 - auc: 0.7056 - val_loss: 3.6857 - val_tp: 0.0000e+00 - val_fp: 0.0000e+00 - val_tn: 1172.0000 - val_fn: 46.0000 - val_accuracy: 0.9622 - val_precision: 0.0000e+00 - val_recall: 0.0000e+00 - val_auc: 0.7056\n",
            "Epoch 38/100\n",
            "15/15 [==============================] - 0s 4ms/step - loss: 3.9726 - tp: 0.0000e+00 - fp: 0.0000e+00 - tn: 3507.0000 - fn: 147.0000 - accuracy: 0.9598 - precision: 0.0000e+00 - recall: 0.0000e+00 - auc: 0.7054 - val_loss: 3.6786 - val_tp: 0.0000e+00 - val_fp: 0.0000e+00 - val_tn: 1172.0000 - val_fn: 46.0000 - val_accuracy: 0.9622 - val_precision: 0.0000e+00 - val_recall: 0.0000e+00 - val_auc: 0.7086\n",
            "Epoch 39/100\n",
            "15/15 [==============================] - 0s 3ms/step - loss: 3.8561 - tp: 3.0000 - fp: 0.0000e+00 - tn: 3507.0000 - fn: 144.0000 - accuracy: 0.9606 - precision: 1.0000 - recall: 0.0204 - auc: 0.7446 - val_loss: 3.6680 - val_tp: 0.0000e+00 - val_fp: 0.0000e+00 - val_tn: 1172.0000 - val_fn: 46.0000 - val_accuracy: 0.9622 - val_precision: 0.0000e+00 - val_recall: 0.0000e+00 - val_auc: 0.7101\n",
            "Epoch 40/100\n",
            "15/15 [==============================] - 0s 3ms/step - loss: 4.0992 - tp: 0.0000e+00 - fp: 3.0000 - tn: 3504.0000 - fn: 147.0000 - accuracy: 0.9589 - precision: 0.0000e+00 - recall: 0.0000e+00 - auc: 0.7170 - val_loss: 3.6655 - val_tp: 0.0000e+00 - val_fp: 0.0000e+00 - val_tn: 1172.0000 - val_fn: 46.0000 - val_accuracy: 0.9622 - val_precision: 0.0000e+00 - val_recall: 0.0000e+00 - val_auc: 0.7096\n",
            "Epoch 41/100\n",
            "15/15 [==============================] - 0s 4ms/step - loss: 3.9657 - tp: 1.0000 - fp: 1.0000 - tn: 3506.0000 - fn: 146.0000 - accuracy: 0.9598 - precision: 0.5000 - recall: 0.0068 - auc: 0.7363 - val_loss: 3.6591 - val_tp: 0.0000e+00 - val_fp: 0.0000e+00 - val_tn: 1172.0000 - val_fn: 46.0000 - val_accuracy: 0.9622 - val_precision: 0.0000e+00 - val_recall: 0.0000e+00 - val_auc: 0.7112\n",
            "Epoch 42/100\n",
            "15/15 [==============================] - 0s 3ms/step - loss: 3.9197 - tp: 0.0000e+00 - fp: 1.0000 - tn: 3506.0000 - fn: 147.0000 - accuracy: 0.9595 - precision: 0.0000e+00 - recall: 0.0000e+00 - auc: 0.7451 - val_loss: 3.6480 - val_tp: 0.0000e+00 - val_fp: 0.0000e+00 - val_tn: 1172.0000 - val_fn: 46.0000 - val_accuracy: 0.9622 - val_precision: 0.0000e+00 - val_recall: 0.0000e+00 - val_auc: 0.7088\n",
            "Epoch 43/100\n",
            "15/15 [==============================] - 0s 3ms/step - loss: 3.9100 - tp: 0.0000e+00 - fp: 2.0000 - tn: 3505.0000 - fn: 147.0000 - accuracy: 0.9592 - precision: 0.0000e+00 - recall: 0.0000e+00 - auc: 0.7514 - val_loss: 3.6380 - val_tp: 0.0000e+00 - val_fp: 0.0000e+00 - val_tn: 1172.0000 - val_fn: 46.0000 - val_accuracy: 0.9622 - val_precision: 0.0000e+00 - val_recall: 0.0000e+00 - val_auc: 0.7113\n",
            "Epoch 44/100\n",
            "15/15 [==============================] - 0s 4ms/step - loss: 3.6939 - tp: 1.0000 - fp: 6.0000 - tn: 3501.0000 - fn: 146.0000 - accuracy: 0.9584 - precision: 0.1429 - recall: 0.0068 - auc: 0.7797 - val_loss: 3.6301 - val_tp: 0.0000e+00 - val_fp: 0.0000e+00 - val_tn: 1172.0000 - val_fn: 46.0000 - val_accuracy: 0.9622 - val_precision: 0.0000e+00 - val_recall: 0.0000e+00 - val_auc: 0.7119\n",
            "Epoch 45/100\n",
            "15/15 [==============================] - 0s 4ms/step - loss: 3.7199 - tp: 2.0000 - fp: 1.0000 - tn: 3506.0000 - fn: 145.0000 - accuracy: 0.9600 - precision: 0.6667 - recall: 0.0136 - auc: 0.7788 - val_loss: 3.6274 - val_tp: 0.0000e+00 - val_fp: 0.0000e+00 - val_tn: 1172.0000 - val_fn: 46.0000 - val_accuracy: 0.9622 - val_precision: 0.0000e+00 - val_recall: 0.0000e+00 - val_auc: 0.7132\n",
            "Epoch 46/100\n",
            "15/15 [==============================] - 0s 4ms/step - loss: 3.7943 - tp: 2.0000 - fp: 1.0000 - tn: 3506.0000 - fn: 145.0000 - accuracy: 0.9600 - precision: 0.6667 - recall: 0.0136 - auc: 0.7594 - val_loss: 3.6210 - val_tp: 0.0000e+00 - val_fp: 0.0000e+00 - val_tn: 1172.0000 - val_fn: 46.0000 - val_accuracy: 0.9622 - val_precision: 0.0000e+00 - val_recall: 0.0000e+00 - val_auc: 0.7149\n",
            "Epoch 47/100\n",
            "15/15 [==============================] - 0s 4ms/step - loss: 3.7865 - tp: 1.0000 - fp: 2.0000 - tn: 3505.0000 - fn: 146.0000 - accuracy: 0.9595 - precision: 0.3333 - recall: 0.0068 - auc: 0.7630 - val_loss: 3.6182 - val_tp: 0.0000e+00 - val_fp: 0.0000e+00 - val_tn: 1172.0000 - val_fn: 46.0000 - val_accuracy: 0.9622 - val_precision: 0.0000e+00 - val_recall: 0.0000e+00 - val_auc: 0.7156\n",
            "Epoch 48/100\n",
            "15/15 [==============================] - 0s 4ms/step - loss: 3.7232 - tp: 0.0000e+00 - fp: 3.0000 - tn: 3504.0000 - fn: 147.0000 - accuracy: 0.9589 - precision: 0.0000e+00 - recall: 0.0000e+00 - auc: 0.7679 - val_loss: 3.6010 - val_tp: 0.0000e+00 - val_fp: 0.0000e+00 - val_tn: 1172.0000 - val_fn: 46.0000 - val_accuracy: 0.9622 - val_precision: 0.0000e+00 - val_recall: 0.0000e+00 - val_auc: 0.7170\n",
            "Epoch 49/100\n",
            "15/15 [==============================] - 0s 3ms/step - loss: 3.7864 - tp: 2.0000 - fp: 0.0000e+00 - tn: 3507.0000 - fn: 145.0000 - accuracy: 0.9603 - precision: 1.0000 - recall: 0.0136 - auc: 0.7523 - val_loss: 3.5962 - val_tp: 0.0000e+00 - val_fp: 0.0000e+00 - val_tn: 1172.0000 - val_fn: 46.0000 - val_accuracy: 0.9622 - val_precision: 0.0000e+00 - val_recall: 0.0000e+00 - val_auc: 0.7187\n",
            "Epoch 50/100\n",
            "15/15 [==============================] - 0s 3ms/step - loss: 4.0436 - tp: 0.0000e+00 - fp: 1.0000 - tn: 3506.0000 - fn: 147.0000 - accuracy: 0.9595 - precision: 0.0000e+00 - recall: 0.0000e+00 - auc: 0.7290 - val_loss: 3.5833 - val_tp: 0.0000e+00 - val_fp: 0.0000e+00 - val_tn: 1172.0000 - val_fn: 46.0000 - val_accuracy: 0.9622 - val_precision: 0.0000e+00 - val_recall: 0.0000e+00 - val_auc: 0.7211\n",
            "Epoch 51/100\n",
            "15/15 [==============================] - 0s 4ms/step - loss: 3.7538 - tp: 1.0000 - fp: 1.0000 - tn: 3506.0000 - fn: 146.0000 - accuracy: 0.9598 - precision: 0.5000 - recall: 0.0068 - auc: 0.7706 - val_loss: 3.5796 - val_tp: 0.0000e+00 - val_fp: 0.0000e+00 - val_tn: 1172.0000 - val_fn: 46.0000 - val_accuracy: 0.9622 - val_precision: 0.0000e+00 - val_recall: 0.0000e+00 - val_auc: 0.7205\n",
            "Epoch 52/100\n",
            "15/15 [==============================] - 0s 4ms/step - loss: 3.8656 - tp: 1.0000 - fp: 2.0000 - tn: 3505.0000 - fn: 146.0000 - accuracy: 0.9595 - precision: 0.3333 - recall: 0.0068 - auc: 0.7520 - val_loss: 3.5624 - val_tp: 0.0000e+00 - val_fp: 0.0000e+00 - val_tn: 1172.0000 - val_fn: 46.0000 - val_accuracy: 0.9622 - val_precision: 0.0000e+00 - val_recall: 0.0000e+00 - val_auc: 0.7229\n",
            "Epoch 53/100\n",
            "15/15 [==============================] - 0s 4ms/step - loss: 3.7510 - tp: 1.0000 - fp: 2.0000 - tn: 3505.0000 - fn: 146.0000 - accuracy: 0.9595 - precision: 0.3333 - recall: 0.0068 - auc: 0.7706 - val_loss: 3.5596 - val_tp: 0.0000e+00 - val_fp: 0.0000e+00 - val_tn: 1172.0000 - val_fn: 46.0000 - val_accuracy: 0.9622 - val_precision: 0.0000e+00 - val_recall: 0.0000e+00 - val_auc: 0.7259\n",
            "Epoch 54/100\n",
            "15/15 [==============================] - 0s 4ms/step - loss: 3.7249 - tp: 4.0000 - fp: 4.0000 - tn: 3503.0000 - fn: 143.0000 - accuracy: 0.9598 - precision: 0.5000 - recall: 0.0272 - auc: 0.7686 - val_loss: 3.5578 - val_tp: 0.0000e+00 - val_fp: 0.0000e+00 - val_tn: 1172.0000 - val_fn: 46.0000 - val_accuracy: 0.9622 - val_precision: 0.0000e+00 - val_recall: 0.0000e+00 - val_auc: 0.7253\n",
            "Epoch 55/100\n",
            "15/15 [==============================] - 0s 4ms/step - loss: 3.7907 - tp: 0.0000e+00 - fp: 0.0000e+00 - tn: 3507.0000 - fn: 147.0000 - accuracy: 0.9598 - precision: 0.0000e+00 - recall: 0.0000e+00 - auc: 0.7575 - val_loss: 3.5541 - val_tp: 0.0000e+00 - val_fp: 0.0000e+00 - val_tn: 1172.0000 - val_fn: 46.0000 - val_accuracy: 0.9622 - val_precision: 0.0000e+00 - val_recall: 0.0000e+00 - val_auc: 0.7273\n",
            "Epoch 56/100\n",
            "15/15 [==============================] - 0s 4ms/step - loss: 3.6048 - tp: 2.0000 - fp: 0.0000e+00 - tn: 3507.0000 - fn: 145.0000 - accuracy: 0.9603 - precision: 1.0000 - recall: 0.0136 - auc: 0.7832 - val_loss: 3.5514 - val_tp: 0.0000e+00 - val_fp: 0.0000e+00 - val_tn: 1172.0000 - val_fn: 46.0000 - val_accuracy: 0.9622 - val_precision: 0.0000e+00 - val_recall: 0.0000e+00 - val_auc: 0.7276\n",
            "Epoch 57/100\n",
            "15/15 [==============================] - 0s 4ms/step - loss: 3.7835 - tp: 0.0000e+00 - fp: 1.0000 - tn: 3506.0000 - fn: 147.0000 - accuracy: 0.9595 - precision: 0.0000e+00 - recall: 0.0000e+00 - auc: 0.7583 - val_loss: 3.5448 - val_tp: 0.0000e+00 - val_fp: 0.0000e+00 - val_tn: 1172.0000 - val_fn: 46.0000 - val_accuracy: 0.9622 - val_precision: 0.0000e+00 - val_recall: 0.0000e+00 - val_auc: 0.7321\n",
            "Epoch 58/100\n",
            "15/15 [==============================] - 0s 4ms/step - loss: 3.8139 - tp: 2.0000 - fp: 1.0000 - tn: 3506.0000 - fn: 145.0000 - accuracy: 0.9600 - precision: 0.6667 - recall: 0.0136 - auc: 0.7686 - val_loss: 3.5388 - val_tp: 0.0000e+00 - val_fp: 0.0000e+00 - val_tn: 1172.0000 - val_fn: 46.0000 - val_accuracy: 0.9622 - val_precision: 0.0000e+00 - val_recall: 0.0000e+00 - val_auc: 0.7311\n",
            "Epoch 59/100\n",
            "15/15 [==============================] - 0s 4ms/step - loss: 3.6142 - tp: 2.0000 - fp: 3.0000 - tn: 3504.0000 - fn: 145.0000 - accuracy: 0.9595 - precision: 0.4000 - recall: 0.0136 - auc: 0.7935 - val_loss: 3.5362 - val_tp: 0.0000e+00 - val_fp: 0.0000e+00 - val_tn: 1172.0000 - val_fn: 46.0000 - val_accuracy: 0.9622 - val_precision: 0.0000e+00 - val_recall: 0.0000e+00 - val_auc: 0.7328\n",
            "Epoch 60/100\n",
            "15/15 [==============================] - 0s 4ms/step - loss: 3.7801 - tp: 2.0000 - fp: 1.0000 - tn: 3506.0000 - fn: 145.0000 - accuracy: 0.9600 - precision: 0.6667 - recall: 0.0136 - auc: 0.7777 - val_loss: 3.5265 - val_tp: 0.0000e+00 - val_fp: 0.0000e+00 - val_tn: 1172.0000 - val_fn: 46.0000 - val_accuracy: 0.9622 - val_precision: 0.0000e+00 - val_recall: 0.0000e+00 - val_auc: 0.7347\n",
            "Epoch 61/100\n",
            "15/15 [==============================] - 0s 4ms/step - loss: 3.7153 - tp: 2.0000 - fp: 0.0000e+00 - tn: 3507.0000 - fn: 145.0000 - accuracy: 0.9603 - precision: 1.0000 - recall: 0.0136 - auc: 0.7816 - val_loss: 3.5238 - val_tp: 0.0000e+00 - val_fp: 0.0000e+00 - val_tn: 1172.0000 - val_fn: 46.0000 - val_accuracy: 0.9622 - val_precision: 0.0000e+00 - val_recall: 0.0000e+00 - val_auc: 0.7341\n",
            "Epoch 62/100\n",
            "15/15 [==============================] - 0s 4ms/step - loss: 3.7419 - tp: 1.0000 - fp: 0.0000e+00 - tn: 3507.0000 - fn: 146.0000 - accuracy: 0.9600 - precision: 1.0000 - recall: 0.0068 - auc: 0.7609 - val_loss: 3.5095 - val_tp: 0.0000e+00 - val_fp: 0.0000e+00 - val_tn: 1172.0000 - val_fn: 46.0000 - val_accuracy: 0.9622 - val_precision: 0.0000e+00 - val_recall: 0.0000e+00 - val_auc: 0.7382\n",
            "Epoch 63/100\n",
            "15/15 [==============================] - 0s 4ms/step - loss: 3.7566 - tp: 2.0000 - fp: 0.0000e+00 - tn: 3507.0000 - fn: 145.0000 - accuracy: 0.9603 - precision: 1.0000 - recall: 0.0136 - auc: 0.7589 - val_loss: 3.5075 - val_tp: 0.0000e+00 - val_fp: 0.0000e+00 - val_tn: 1172.0000 - val_fn: 46.0000 - val_accuracy: 0.9622 - val_precision: 0.0000e+00 - val_recall: 0.0000e+00 - val_auc: 0.7392\n",
            "Epoch 64/100\n",
            "15/15 [==============================] - 0s 4ms/step - loss: 3.6727 - tp: 0.0000e+00 - fp: 1.0000 - tn: 3506.0000 - fn: 147.0000 - accuracy: 0.9595 - precision: 0.0000e+00 - recall: 0.0000e+00 - auc: 0.7851 - val_loss: 3.4940 - val_tp: 0.0000e+00 - val_fp: 0.0000e+00 - val_tn: 1172.0000 - val_fn: 46.0000 - val_accuracy: 0.9622 - val_precision: 0.0000e+00 - val_recall: 0.0000e+00 - val_auc: 0.7437\n",
            "Epoch 65/100\n",
            "15/15 [==============================] - 0s 4ms/step - loss: 3.6548 - tp: 0.0000e+00 - fp: 1.0000 - tn: 3506.0000 - fn: 147.0000 - accuracy: 0.9595 - precision: 0.0000e+00 - recall: 0.0000e+00 - auc: 0.7900 - val_loss: 3.4859 - val_tp: 0.0000e+00 - val_fp: 0.0000e+00 - val_tn: 1172.0000 - val_fn: 46.0000 - val_accuracy: 0.9622 - val_precision: 0.0000e+00 - val_recall: 0.0000e+00 - val_auc: 0.7475\n",
            "Epoch 66/100\n",
            "15/15 [==============================] - 0s 4ms/step - loss: 3.6253 - tp: 1.0000 - fp: 1.0000 - tn: 3506.0000 - fn: 146.0000 - accuracy: 0.9598 - precision: 0.5000 - recall: 0.0068 - auc: 0.7893 - val_loss: 3.4838 - val_tp: 0.0000e+00 - val_fp: 0.0000e+00 - val_tn: 1172.0000 - val_fn: 46.0000 - val_accuracy: 0.9622 - val_precision: 0.0000e+00 - val_recall: 0.0000e+00 - val_auc: 0.7462\n",
            "Epoch 67/100\n",
            "15/15 [==============================] - 0s 4ms/step - loss: 3.6357 - tp: 2.0000 - fp: 0.0000e+00 - tn: 3507.0000 - fn: 145.0000 - accuracy: 0.9603 - precision: 1.0000 - recall: 0.0136 - auc: 0.7882 - val_loss: 3.4835 - val_tp: 0.0000e+00 - val_fp: 0.0000e+00 - val_tn: 1172.0000 - val_fn: 46.0000 - val_accuracy: 0.9622 - val_precision: 0.0000e+00 - val_recall: 0.0000e+00 - val_auc: 0.7463\n",
            "Epoch 68/100\n",
            "15/15 [==============================] - 0s 4ms/step - loss: 3.5923 - tp: 2.0000 - fp: 1.0000 - tn: 3506.0000 - fn: 145.0000 - accuracy: 0.9600 - precision: 0.6667 - recall: 0.0136 - auc: 0.8012 - val_loss: 3.4863 - val_tp: 0.0000e+00 - val_fp: 0.0000e+00 - val_tn: 1172.0000 - val_fn: 46.0000 - val_accuracy: 0.9622 - val_precision: 0.0000e+00 - val_recall: 0.0000e+00 - val_auc: 0.7475\n",
            "Epoch 69/100\n",
            "15/15 [==============================] - 0s 4ms/step - loss: 3.6173 - tp: 0.0000e+00 - fp: 1.0000 - tn: 3506.0000 - fn: 147.0000 - accuracy: 0.9595 - precision: 0.0000e+00 - recall: 0.0000e+00 - auc: 0.7920 - val_loss: 3.4840 - val_tp: 0.0000e+00 - val_fp: 0.0000e+00 - val_tn: 1172.0000 - val_fn: 46.0000 - val_accuracy: 0.9622 - val_precision: 0.0000e+00 - val_recall: 0.0000e+00 - val_auc: 0.7473\n",
            "Epoch 70/100\n",
            "15/15 [==============================] - 0s 4ms/step - loss: 3.5711 - tp: 0.0000e+00 - fp: 3.0000 - tn: 3504.0000 - fn: 147.0000 - accuracy: 0.9589 - precision: 0.0000e+00 - recall: 0.0000e+00 - auc: 0.8021 - val_loss: 3.4782 - val_tp: 0.0000e+00 - val_fp: 0.0000e+00 - val_tn: 1172.0000 - val_fn: 46.0000 - val_accuracy: 0.9622 - val_precision: 0.0000e+00 - val_recall: 0.0000e+00 - val_auc: 0.7475\n",
            "Epoch 71/100\n",
            "15/15 [==============================] - 0s 4ms/step - loss: 3.6214 - tp: 0.0000e+00 - fp: 1.0000 - tn: 3506.0000 - fn: 147.0000 - accuracy: 0.9595 - precision: 0.0000e+00 - recall: 0.0000e+00 - auc: 0.7893 - val_loss: 3.4696 - val_tp: 0.0000e+00 - val_fp: 0.0000e+00 - val_tn: 1172.0000 - val_fn: 46.0000 - val_accuracy: 0.9622 - val_precision: 0.0000e+00 - val_recall: 0.0000e+00 - val_auc: 0.7508\n",
            "Epoch 72/100\n",
            "15/15 [==============================] - 0s 4ms/step - loss: 3.6188 - tp: 0.0000e+00 - fp: 2.0000 - tn: 3505.0000 - fn: 147.0000 - accuracy: 0.9592 - precision: 0.0000e+00 - recall: 0.0000e+00 - auc: 0.7983 - val_loss: 3.4595 - val_tp: 0.0000e+00 - val_fp: 0.0000e+00 - val_tn: 1172.0000 - val_fn: 46.0000 - val_accuracy: 0.9622 - val_precision: 0.0000e+00 - val_recall: 0.0000e+00 - val_auc: 0.7512\n",
            "Epoch 73/100\n",
            "15/15 [==============================] - 0s 4ms/step - loss: 3.6599 - tp: 1.0000 - fp: 3.0000 - tn: 3504.0000 - fn: 146.0000 - accuracy: 0.9592 - precision: 0.2500 - recall: 0.0068 - auc: 0.7856 - val_loss: 3.4506 - val_tp: 0.0000e+00 - val_fp: 0.0000e+00 - val_tn: 1172.0000 - val_fn: 46.0000 - val_accuracy: 0.9622 - val_precision: 0.0000e+00 - val_recall: 0.0000e+00 - val_auc: 0.7530\n",
            "Epoch 74/100\n",
            "15/15 [==============================] - 0s 4ms/step - loss: 3.5129 - tp: 3.0000 - fp: 1.0000 - tn: 3506.0000 - fn: 144.0000 - accuracy: 0.9603 - precision: 0.7500 - recall: 0.0204 - auc: 0.8121 - val_loss: 3.4536 - val_tp: 0.0000e+00 - val_fp: 0.0000e+00 - val_tn: 1172.0000 - val_fn: 46.0000 - val_accuracy: 0.9622 - val_precision: 0.0000e+00 - val_recall: 0.0000e+00 - val_auc: 0.7518\n",
            "Epoch 75/100\n",
            "15/15 [==============================] - 0s 4ms/step - loss: 3.5723 - tp: 0.0000e+00 - fp: 1.0000 - tn: 3506.0000 - fn: 147.0000 - accuracy: 0.9595 - precision: 0.0000e+00 - recall: 0.0000e+00 - auc: 0.7957 - val_loss: 3.4490 - val_tp: 0.0000e+00 - val_fp: 0.0000e+00 - val_tn: 1172.0000 - val_fn: 46.0000 - val_accuracy: 0.9622 - val_precision: 0.0000e+00 - val_recall: 0.0000e+00 - val_auc: 0.7544\n",
            "Epoch 76/100\n",
            "15/15 [==============================] - 0s 5ms/step - loss: 3.4775 - tp: 0.0000e+00 - fp: 1.0000 - tn: 3506.0000 - fn: 147.0000 - accuracy: 0.9595 - precision: 0.0000e+00 - recall: 0.0000e+00 - auc: 0.8125 - val_loss: 3.4425 - val_tp: 0.0000e+00 - val_fp: 0.0000e+00 - val_tn: 1172.0000 - val_fn: 46.0000 - val_accuracy: 0.9622 - val_precision: 0.0000e+00 - val_recall: 0.0000e+00 - val_auc: 0.7541\n",
            "Epoch 77/100\n",
            "15/15 [==============================] - 0s 4ms/step - loss: 3.5036 - tp: 0.0000e+00 - fp: 1.0000 - tn: 3506.0000 - fn: 147.0000 - accuracy: 0.9595 - precision: 0.0000e+00 - recall: 0.0000e+00 - auc: 0.8127 - val_loss: 3.4472 - val_tp: 0.0000e+00 - val_fp: 0.0000e+00 - val_tn: 1172.0000 - val_fn: 46.0000 - val_accuracy: 0.9622 - val_precision: 0.0000e+00 - val_recall: 0.0000e+00 - val_auc: 0.7548\n",
            "Epoch 78/100\n",
            "15/15 [==============================] - 0s 4ms/step - loss: 3.5825 - tp: 1.0000 - fp: 0.0000e+00 - tn: 3507.0000 - fn: 146.0000 - accuracy: 0.9600 - precision: 1.0000 - recall: 0.0068 - auc: 0.8022 - val_loss: 3.4374 - val_tp: 0.0000e+00 - val_fp: 0.0000e+00 - val_tn: 1172.0000 - val_fn: 46.0000 - val_accuracy: 0.9622 - val_precision: 0.0000e+00 - val_recall: 0.0000e+00 - val_auc: 0.7551\n",
            "Epoch 79/100\n",
            "15/15 [==============================] - 0s 4ms/step - loss: 3.5549 - tp: 1.0000 - fp: 3.0000 - tn: 3504.0000 - fn: 146.0000 - accuracy: 0.9592 - precision: 0.2500 - recall: 0.0068 - auc: 0.7984 - val_loss: 3.4301 - val_tp: 0.0000e+00 - val_fp: 0.0000e+00 - val_tn: 1172.0000 - val_fn: 46.0000 - val_accuracy: 0.9622 - val_precision: 0.0000e+00 - val_recall: 0.0000e+00 - val_auc: 0.7557\n",
            "Epoch 80/100\n",
            "15/15 [==============================] - 0s 5ms/step - loss: 3.5712 - tp: 1.0000 - fp: 2.0000 - tn: 3505.0000 - fn: 146.0000 - accuracy: 0.9595 - precision: 0.3333 - recall: 0.0068 - auc: 0.7978 - val_loss: 3.4335 - val_tp: 0.0000e+00 - val_fp: 0.0000e+00 - val_tn: 1172.0000 - val_fn: 46.0000 - val_accuracy: 0.9622 - val_precision: 0.0000e+00 - val_recall: 0.0000e+00 - val_auc: 0.7567\n",
            "Epoch 81/100\n",
            "15/15 [==============================] - 0s 4ms/step - loss: 3.6170 - tp: 0.0000e+00 - fp: 2.0000 - tn: 3505.0000 - fn: 147.0000 - accuracy: 0.9592 - precision: 0.0000e+00 - recall: 0.0000e+00 - auc: 0.7973 - val_loss: 3.4387 - val_tp: 0.0000e+00 - val_fp: 0.0000e+00 - val_tn: 1172.0000 - val_fn: 46.0000 - val_accuracy: 0.9622 - val_precision: 0.0000e+00 - val_recall: 0.0000e+00 - val_auc: 0.7564\n",
            "Epoch 82/100\n",
            "15/15 [==============================] - 0s 4ms/step - loss: 3.4870 - tp: 0.0000e+00 - fp: 4.0000 - tn: 3503.0000 - fn: 147.0000 - accuracy: 0.9587 - precision: 0.0000e+00 - recall: 0.0000e+00 - auc: 0.8105 - val_loss: 3.4390 - val_tp: 0.0000e+00 - val_fp: 0.0000e+00 - val_tn: 1172.0000 - val_fn: 46.0000 - val_accuracy: 0.9622 - val_precision: 0.0000e+00 - val_recall: 0.0000e+00 - val_auc: 0.7583\n",
            "Epoch 83/100\n",
            "15/15 [==============================] - 0s 4ms/step - loss: 3.4547 - tp: 0.0000e+00 - fp: 0.0000e+00 - tn: 3507.0000 - fn: 147.0000 - accuracy: 0.9598 - precision: 0.0000e+00 - recall: 0.0000e+00 - auc: 0.8209 - val_loss: 3.4316 - val_tp: 0.0000e+00 - val_fp: 0.0000e+00 - val_tn: 1172.0000 - val_fn: 46.0000 - val_accuracy: 0.9622 - val_precision: 0.0000e+00 - val_recall: 0.0000e+00 - val_auc: 0.7607\n",
            "Epoch 84/100\n",
            "15/15 [==============================] - 0s 5ms/step - loss: 3.4568 - tp: 3.0000 - fp: 1.0000 - tn: 3506.0000 - fn: 144.0000 - accuracy: 0.9603 - precision: 0.7500 - recall: 0.0204 - auc: 0.8128 - val_loss: 3.4231 - val_tp: 0.0000e+00 - val_fp: 0.0000e+00 - val_tn: 1172.0000 - val_fn: 46.0000 - val_accuracy: 0.9622 - val_precision: 0.0000e+00 - val_recall: 0.0000e+00 - val_auc: 0.7589\n",
            "Epoch 85/100\n",
            "15/15 [==============================] - 0s 4ms/step - loss: 3.4022 - tp: 1.0000 - fp: 1.0000 - tn: 3506.0000 - fn: 146.0000 - accuracy: 0.9598 - precision: 0.5000 - recall: 0.0068 - auc: 0.8233 - val_loss: 3.4274 - val_tp: 0.0000e+00 - val_fp: 0.0000e+00 - val_tn: 1172.0000 - val_fn: 46.0000 - val_accuracy: 0.9622 - val_precision: 0.0000e+00 - val_recall: 0.0000e+00 - val_auc: 0.7612\n",
            "Epoch 86/100\n",
            "15/15 [==============================] - 0s 4ms/step - loss: 3.3663 - tp: 3.0000 - fp: 1.0000 - tn: 3506.0000 - fn: 144.0000 - accuracy: 0.9603 - precision: 0.7500 - recall: 0.0204 - auc: 0.8291 - val_loss: 3.4324 - val_tp: 0.0000e+00 - val_fp: 0.0000e+00 - val_tn: 1172.0000 - val_fn: 46.0000 - val_accuracy: 0.9622 - val_precision: 0.0000e+00 - val_recall: 0.0000e+00 - val_auc: 0.7610\n",
            "Epoch 87/100\n",
            "15/15 [==============================] - 0s 5ms/step - loss: 3.4636 - tp: 0.0000e+00 - fp: 2.0000 - tn: 3505.0000 - fn: 147.0000 - accuracy: 0.9592 - precision: 0.0000e+00 - recall: 0.0000e+00 - auc: 0.8104 - val_loss: 3.4300 - val_tp: 0.0000e+00 - val_fp: 0.0000e+00 - val_tn: 1172.0000 - val_fn: 46.0000 - val_accuracy: 0.9622 - val_precision: 0.0000e+00 - val_recall: 0.0000e+00 - val_auc: 0.7583\n",
            "Epoch 88/100\n",
            "15/15 [==============================] - 0s 4ms/step - loss: 3.4233 - tp: 0.0000e+00 - fp: 0.0000e+00 - tn: 3507.0000 - fn: 147.0000 - accuracy: 0.9598 - precision: 0.0000e+00 - recall: 0.0000e+00 - auc: 0.8161 - val_loss: 3.4367 - val_tp: 0.0000e+00 - val_fp: 0.0000e+00 - val_tn: 1172.0000 - val_fn: 46.0000 - val_accuracy: 0.9622 - val_precision: 0.0000e+00 - val_recall: 0.0000e+00 - val_auc: 0.7597\n",
            "Epoch 89/100\n",
            "15/15 [==============================] - 0s 4ms/step - loss: 3.4869 - tp: 1.0000 - fp: 0.0000e+00 - tn: 3507.0000 - fn: 146.0000 - accuracy: 0.9600 - precision: 1.0000 - recall: 0.0068 - auc: 0.8077 - val_loss: 3.4260 - val_tp: 0.0000e+00 - val_fp: 0.0000e+00 - val_tn: 1172.0000 - val_fn: 46.0000 - val_accuracy: 0.9622 - val_precision: 0.0000e+00 - val_recall: 0.0000e+00 - val_auc: 0.7595\n",
            "Epoch 90/100\n",
            "15/15 [==============================] - 0s 4ms/step - loss: 3.3975 - tp: 1.0000 - fp: 1.0000 - tn: 3506.0000 - fn: 146.0000 - accuracy: 0.9598 - precision: 0.5000 - recall: 0.0068 - auc: 0.8084 - val_loss: 3.4209 - val_tp: 0.0000e+00 - val_fp: 0.0000e+00 - val_tn: 1172.0000 - val_fn: 46.0000 - val_accuracy: 0.9622 - val_precision: 0.0000e+00 - val_recall: 0.0000e+00 - val_auc: 0.7622\n",
            "Epoch 91/100\n",
            "15/15 [==============================] - 0s 4ms/step - loss: 3.4322 - tp: 0.0000e+00 - fp: 1.0000 - tn: 3506.0000 - fn: 147.0000 - accuracy: 0.9595 - precision: 0.0000e+00 - recall: 0.0000e+00 - auc: 0.8255 - val_loss: 3.4131 - val_tp: 0.0000e+00 - val_fp: 0.0000e+00 - val_tn: 1172.0000 - val_fn: 46.0000 - val_accuracy: 0.9622 - val_precision: 0.0000e+00 - val_recall: 0.0000e+00 - val_auc: 0.7650\n",
            "Epoch 92/100\n",
            "15/15 [==============================] - 0s 4ms/step - loss: 3.5143 - tp: 2.0000 - fp: 0.0000e+00 - tn: 3507.0000 - fn: 145.0000 - accuracy: 0.9603 - precision: 1.0000 - recall: 0.0136 - auc: 0.8138 - val_loss: 3.4160 - val_tp: 0.0000e+00 - val_fp: 0.0000e+00 - val_tn: 1172.0000 - val_fn: 46.0000 - val_accuracy: 0.9622 - val_precision: 0.0000e+00 - val_recall: 0.0000e+00 - val_auc: 0.7631\n",
            "Epoch 93/100\n",
            "15/15 [==============================] - 0s 4ms/step - loss: 3.4746 - tp: 3.0000 - fp: 1.0000 - tn: 3506.0000 - fn: 144.0000 - accuracy: 0.9603 - precision: 0.7500 - recall: 0.0204 - auc: 0.8191 - val_loss: 3.4098 - val_tp: 0.0000e+00 - val_fp: 0.0000e+00 - val_tn: 1172.0000 - val_fn: 46.0000 - val_accuracy: 0.9622 - val_precision: 0.0000e+00 - val_recall: 0.0000e+00 - val_auc: 0.7626\n",
            "Epoch 94/100\n",
            "15/15 [==============================] - 0s 4ms/step - loss: 3.4789 - tp: 0.0000e+00 - fp: 0.0000e+00 - tn: 3507.0000 - fn: 147.0000 - accuracy: 0.9598 - precision: 0.0000e+00 - recall: 0.0000e+00 - auc: 0.8148 - val_loss: 3.4037 - val_tp: 0.0000e+00 - val_fp: 0.0000e+00 - val_tn: 1172.0000 - val_fn: 46.0000 - val_accuracy: 0.9622 - val_precision: 0.0000e+00 - val_recall: 0.0000e+00 - val_auc: 0.7637\n",
            "Epoch 95/100\n",
            "15/15 [==============================] - 0s 4ms/step - loss: 3.3417 - tp: 2.0000 - fp: 0.0000e+00 - tn: 3507.0000 - fn: 145.0000 - accuracy: 0.9603 - precision: 1.0000 - recall: 0.0136 - auc: 0.8263 - val_loss: 3.4030 - val_tp: 0.0000e+00 - val_fp: 0.0000e+00 - val_tn: 1172.0000 - val_fn: 46.0000 - val_accuracy: 0.9622 - val_precision: 0.0000e+00 - val_recall: 0.0000e+00 - val_auc: 0.7612\n",
            "Epoch 96/100\n",
            " 1/15 [=>............................] - ETA: 0s - loss: 4.7927 - tp: 0.0000e+00 - fp: 0.0000e+00 - tn: 244.0000 - fn: 12.0000 - accuracy: 0.9531 - precision: 0.0000e+00 - recall: 0.0000e+00 - auc: 0.6861Restoring model weights from the end of the best epoch.\n",
            "15/15 [==============================] - 0s 4ms/step - loss: 3.4049 - tp: 1.0000 - fp: 0.0000e+00 - tn: 3507.0000 - fn: 146.0000 - accuracy: 0.9600 - precision: 1.0000 - recall: 0.0068 - auc: 0.8153 - val_loss: 3.4006 - val_tp: 0.0000e+00 - val_fp: 0.0000e+00 - val_tn: 1172.0000 - val_fn: 46.0000 - val_accuracy: 0.9622 - val_precision: 0.0000e+00 - val_recall: 0.0000e+00 - val_auc: 0.7640\n",
            "Epoch 00096: early stopping\n"
          ],
          "name": "stdout"
        }
      ]
    },
    {
      "cell_type": "code",
      "metadata": {
        "id": "KblLw-70BKOR",
        "outputId": "cda6e71e-ff08-4abc-f6c1-aea9811f9c9d",
        "colab": {
          "base_uri": "https://localhost:8080/",
          "height": 501
        }
      },
      "source": [
        "plot_history(history_focal)"
      ],
      "execution_count": 73,
      "outputs": [
        {
          "output_type": "display_data",
          "data": {
            "image/png": "[encoded data removed]",
            "text/plain": [
              "<Figure size 720x576 with 4 Axes>"
            ]
          },
          "metadata": {
            "tags": [],
            "needs_background": "light"
          }
        }
      ]
    },
    {
      "cell_type": "code",
      "metadata": {
        "id": "-QwHeXvZBNfN",
        "outputId": "f092d94a-e85c-4ea2-f979-2143240c07ca",
        "colab": {
          "base_uri": "https://localhost:8080/",
          "height": 224
        }
      },
      "source": [
        "y_hat_proba = model.predict(X_test)\n",
        "y_hat = np.where(y_hat_proba > 0.5, 1, 0)\n",
        "print(classification_report(y_test, y_hat))"
      ],
      "execution_count": 74,
      "outputs": [
        {
          "output_type": "stream",
          "text": [
            "              precision    recall  f1-score   support\n",
            "\n",
            "           0       0.97      1.00      0.98      1572\n",
            "           1       0.00      0.00      0.00        53\n",
            "\n",
            "    accuracy                           0.97      1625\n",
            "   macro avg       0.48      0.50      0.49      1625\n",
            "weighted avg       0.94      0.97      0.95      1625\n",
            "\n"
          ],
          "name": "stdout"
        },
        {
          "output_type": "stream",
          "text": [
            "/usr/local/lib/python3.6/dist-packages/sklearn/metrics/_classification.py:1272: UndefinedMetricWarning: Precision and F-score are ill-defined and being set to 0.0 in labels with no predicted samples. Use `zero_division` parameter to control this behavior.\n",
            "  _warn_prf(average, modifier, msg_start, len(result))\n"
          ],
          "name": "stderr"
        }
      ]
    },
    {
      "cell_type": "code",
      "metadata": {
        "id": "UrlVLH5MGCN7",
        "outputId": "8a4ddc80-2a65-4ebe-f549-03a45295044c",
        "colab": {
          "base_uri": "https://localhost:8080/",
          "height": 382
        }
      },
      "source": [
        "cm, acc, maj, min, f1 = score_model(y_test, y_hat)\n",
        "results_df.loc['Focal Loss'] = [*maj, *min, acc, f1]\n",
        "results_df"
      ],
      "execution_count": 75,
      "outputs": [
        {
          "output_type": "stream",
          "text": [
            "/usr/local/lib/python3.6/dist-packages/ipykernel_launcher.py:5: RuntimeWarning: invalid value encountered in long_scalars\n",
            "  \"\"\"\n"
          ],
          "name": "stderr"
        },
        {
          "output_type": "execute_result",
          "data": {
            "text/html": [
              "<div>\n",
              "<style scoped>\n",
              "    .dataframe tbody tr th:only-of-type {\n",
              "        vertical-align: middle;\n",
              "    }\n",
              "\n",
              "    .dataframe tbody tr th {\n",
              "        vertical-align: top;\n",
              "    }\n",
              "\n",
              "    .dataframe thead tr th {\n",
              "        text-align: left;\n",
              "    }\n",
              "</style>\n",
              "<table border=\"1\" class=\"dataframe\">\n",
              "  <thead>\n",
              "    <tr>\n",
              "      <th></th>\n",
              "      <th colspan=\"2\" halign=\"left\">Majority</th>\n",
              "      <th colspan=\"2\" halign=\"left\">Minority</th>\n",
              "      <th colspan=\"2\" halign=\"left\">Scoring</th>\n",
              "    </tr>\n",
              "    <tr>\n",
              "      <th></th>\n",
              "      <th>Precision</th>\n",
              "      <th>Recall</th>\n",
              "      <th>Precision</th>\n",
              "      <th>Recall</th>\n",
              "      <th>Accuracy</th>\n",
              "      <th>F1</th>\n",
              "    </tr>\n",
              "  </thead>\n",
              "  <tbody>\n",
              "    <tr>\n",
              "      <th>Baseline</th>\n",
              "      <td>0.967385</td>\n",
              "      <td>1.000000</td>\n",
              "      <td>NaN</td>\n",
              "      <td>0.000000</td>\n",
              "      <td>0.967385</td>\n",
              "      <td>0.000000</td>\n",
              "    </tr>\n",
              "    <tr>\n",
              "      <th>Random</th>\n",
              "      <td>0.980507</td>\n",
              "      <td>0.319975</td>\n",
              "      <td>0.038669</td>\n",
              "      <td>0.811321</td>\n",
              "      <td>0.336000</td>\n",
              "      <td>0.073820</td>\n",
              "    </tr>\n",
              "    <tr>\n",
              "      <th>Unbalanced</th>\n",
              "      <td>0.966969</td>\n",
              "      <td>0.744911</td>\n",
              "      <td>0.031401</td>\n",
              "      <td>0.245283</td>\n",
              "      <td>0.728615</td>\n",
              "      <td>0.055675</td>\n",
              "    </tr>\n",
              "    <tr>\n",
              "      <th>Weighted</th>\n",
              "      <td>0.982112</td>\n",
              "      <td>0.733461</td>\n",
              "      <td>0.070953</td>\n",
              "      <td>0.603774</td>\n",
              "      <td>0.729231</td>\n",
              "      <td>0.126984</td>\n",
              "    </tr>\n",
              "    <tr>\n",
              "      <th>Over Sample</th>\n",
              "      <td>0.983619</td>\n",
              "      <td>0.802163</td>\n",
              "      <td>0.093294</td>\n",
              "      <td>0.603774</td>\n",
              "      <td>0.795692</td>\n",
              "      <td>0.161616</td>\n",
              "    </tr>\n",
              "    <tr>\n",
              "      <th>Under Sample</th>\n",
              "      <td>0.986667</td>\n",
              "      <td>0.659033</td>\n",
              "      <td>0.067826</td>\n",
              "      <td>0.735849</td>\n",
              "      <td>0.661538</td>\n",
              "      <td>0.124204</td>\n",
              "    </tr>\n",
              "    <tr>\n",
              "      <th>Balanced Batching</th>\n",
              "      <td>0.984744</td>\n",
              "      <td>0.821247</td>\n",
              "      <td>0.105096</td>\n",
              "      <td>0.622642</td>\n",
              "      <td>0.814769</td>\n",
              "      <td>0.179837</td>\n",
              "    </tr>\n",
              "    <tr>\n",
              "      <th>Focal Loss</th>\n",
              "      <td>0.967385</td>\n",
              "      <td>1.000000</td>\n",
              "      <td>NaN</td>\n",
              "      <td>0.000000</td>\n",
              "      <td>0.967385</td>\n",
              "      <td>0.000000</td>\n",
              "    </tr>\n",
              "  </tbody>\n",
              "</table>\n",
              "</div>"
            ],
            "text/plain": [
              "                   Majority            Minority             Scoring          \n",
              "                  Precision    Recall Precision    Recall  Accuracy        F1\n",
              "Baseline           0.967385  1.000000       NaN  0.000000  0.967385  0.000000\n",
              "Random             0.980507  0.319975  0.038669  0.811321  0.336000  0.073820\n",
              "Unbalanced         0.966969  0.744911  0.031401  0.245283  0.728615  0.055675\n",
              "Weighted           0.982112  0.733461  0.070953  0.603774  0.729231  0.126984\n",
              "Over Sample        0.983619  0.802163  0.093294  0.603774  0.795692  0.161616\n",
              "Under Sample       0.986667  0.659033  0.067826  0.735849  0.661538  0.124204\n",
              "Balanced Batching  0.984744  0.821247  0.105096  0.622642  0.814769  0.179837\n",
              "Focal Loss         0.967385  1.000000       NaN  0.000000  0.967385  0.000000"
            ]
          },
          "metadata": {
            "tags": []
          },
          "execution_count": 75
        }
      ]
    },
    {
      "cell_type": "markdown",
      "metadata": {
        "id": "SY1PEAS-BW03"
      },
      "source": [
        "# Focal Loss + Over Sample"
      ]
    },
    {
      "cell_type": "code",
      "metadata": {
        "id": "lMvW7PI9BkJl",
        "outputId": "9b15f497-b8ff-4848-b9f7-6e1a182c0280",
        "colab": {
          "base_uri": "https://localhost:8080/",
          "height": 255
        }
      },
      "source": [
        "model = construct_model(loss=focal_loss)\n",
        "model.summary()"
      ],
      "execution_count": 76,
      "outputs": [
        {
          "output_type": "stream",
          "text": [
            "Model: \"sequential_7\"\n",
            "_________________________________________________________________\n",
            "Layer (type)                 Output Shape              Param #   \n",
            "=================================================================\n",
            "dense_14 (Dense)             (None, 64)                768       \n",
            "_________________________________________________________________\n",
            "dropout_7 (Dropout)          (None, 64)                0         \n",
            "_________________________________________________________________\n",
            "dense_15 (Dense)             (None, 1)                 65        \n",
            "=================================================================\n",
            "Total params: 833\n",
            "Trainable params: 833\n",
            "Non-trainable params: 0\n",
            "_________________________________________________________________\n"
          ],
          "name": "stdout"
        }
      ]
    },
    {
      "cell_type": "code",
      "metadata": {
        "id": "PCqQXbofBkGx",
        "outputId": "c2a488d2-8f2e-465f-c2f9-659fafcb41ad",
        "colab": {
          "base_uri": "https://localhost:8080/",
          "height": 71
        }
      },
      "source": [
        "sampler = RandomOverSampler()\n",
        "X_over, y_over = sampler.fit_resample(X_train, y_train)"
      ],
      "execution_count": 77,
      "outputs": [
        {
          "output_type": "stream",
          "text": [
            "/usr/local/lib/python3.6/dist-packages/sklearn/utils/deprecation.py:87: FutureWarning: Function safe_indexing is deprecated; safe_indexing is deprecated in version 0.22 and will be removed in version 0.24.\n",
            "  warnings.warn(msg, category=FutureWarning)\n"
          ],
          "name": "stderr"
        }
      ]
    },
    {
      "cell_type": "code",
      "metadata": {
        "id": "qR-MA_dABkEf",
        "outputId": "c9651c34-5fd7-4c2e-f13b-de62dc9dc3a4",
        "colab": {
          "base_uri": "https://localhost:8080/",
          "height": 717
        }
      },
      "source": [
        "history_focal_over_sample = model.fit(\n",
        "    X_over,\n",
        "    y_over,\n",
        "    batch_size=BATCH_SIZE,\n",
        "    epochs=EPOCHS,\n",
        "    callbacks = [early_stopping],\n",
        "    validation_data=(X_val, y_val))"
      ],
      "execution_count": 78,
      "outputs": [
        {
          "output_type": "stream",
          "text": [
            "Epoch 1/100\n",
            "28/28 [==============================] - 1s 27ms/step - loss: 19.1819 - tp: 1062.0000 - fp: 437.0000 - tn: 4242.0000 - fn: 2491.0000 - accuracy: 0.6443 - precision: 0.7085 - recall: 0.2989 - auc: 0.7249 - val_loss: 14.5495 - val_tp: 11.0000 - val_fp: 72.0000 - val_tn: 1100.0000 - val_fn: 35.0000 - val_accuracy: 0.9122 - val_precision: 0.1325 - val_recall: 0.2391 - val_auc: 0.6722\n",
            "Epoch 2/100\n",
            "28/28 [==============================] - 0s 3ms/step - loss: 16.9378 - tp: 1212.0000 - fp: 375.0000 - tn: 3132.0000 - fn: 2295.0000 - accuracy: 0.6193 - precision: 0.7637 - recall: 0.3456 - auc: 0.7215 - val_loss: 13.1790 - val_tp: 13.0000 - val_fp: 67.0000 - val_tn: 1105.0000 - val_fn: 33.0000 - val_accuracy: 0.9179 - val_precision: 0.1625 - val_recall: 0.2826 - val_auc: 0.7256\n",
            "Epoch 3/100\n",
            "28/28 [==============================] - 0s 3ms/step - loss: 15.7251 - tp: 1355.0000 - fp: 337.0000 - tn: 3170.0000 - fn: 2152.0000 - accuracy: 0.6451 - precision: 0.8008 - recall: 0.3864 - auc: 0.7688 - val_loss: 12.1419 - val_tp: 15.0000 - val_fp: 61.0000 - val_tn: 1111.0000 - val_fn: 31.0000 - val_accuracy: 0.9245 - val_precision: 0.1974 - val_recall: 0.3261 - val_auc: 0.7582\n",
            "Epoch 4/100\n",
            "28/28 [==============================] - 0s 3ms/step - loss: 14.8533 - tp: 1453.0000 - fp: 319.0000 - tn: 3188.0000 - fn: 2054.0000 - accuracy: 0.6617 - precision: 0.8200 - recall: 0.4143 - auc: 0.7976 - val_loss: 12.0501 - val_tp: 18.0000 - val_fp: 72.0000 - val_tn: 1100.0000 - val_fn: 28.0000 - val_accuracy: 0.9179 - val_precision: 0.2000 - val_recall: 0.3913 - val_auc: 0.7772\n",
            "Epoch 5/100\n",
            "28/28 [==============================] - 0s 3ms/step - loss: 14.3616 - tp: 1492.0000 - fp: 272.0000 - tn: 3235.0000 - fn: 2015.0000 - accuracy: 0.6739 - precision: 0.8458 - recall: 0.4254 - auc: 0.8158 - val_loss: 11.7570 - val_tp: 18.0000 - val_fp: 70.0000 - val_tn: 1102.0000 - val_fn: 28.0000 - val_accuracy: 0.9195 - val_precision: 0.2045 - val_recall: 0.3913 - val_auc: 0.7849\n",
            "Epoch 6/100\n",
            "28/28 [==============================] - 0s 3ms/step - loss: 14.1020 - tp: 1572.0000 - fp: 283.0000 - tn: 3224.0000 - fn: 1935.0000 - accuracy: 0.6838 - precision: 0.8474 - recall: 0.4482 - auc: 0.8250 - val_loss: 11.2671 - val_tp: 17.0000 - val_fp: 64.0000 - val_tn: 1108.0000 - val_fn: 29.0000 - val_accuracy: 0.9236 - val_precision: 0.2099 - val_recall: 0.3696 - val_auc: 0.7879\n",
            "Epoch 7/100\n",
            "28/28 [==============================] - 0s 3ms/step - loss: 13.6857 - tp: 1694.0000 - fp: 289.0000 - tn: 3218.0000 - fn: 1813.0000 - accuracy: 0.7003 - precision: 0.8543 - recall: 0.4830 - auc: 0.8365 - val_loss: 11.0085 - val_tp: 17.0000 - val_fp: 66.0000 - val_tn: 1106.0000 - val_fn: 29.0000 - val_accuracy: 0.9220 - val_precision: 0.2048 - val_recall: 0.3696 - val_auc: 0.7933\n",
            "Epoch 8/100\n",
            "28/28 [==============================] - 0s 3ms/step - loss: 13.4107 - tp: 1664.0000 - fp: 244.0000 - tn: 3263.0000 - fn: 1843.0000 - accuracy: 0.7025 - precision: 0.8721 - recall: 0.4745 - auc: 0.8445 - val_loss: 11.3649 - val_tp: 17.0000 - val_fp: 72.0000 - val_tn: 1100.0000 - val_fn: 29.0000 - val_accuracy: 0.9171 - val_precision: 0.1910 - val_recall: 0.3696 - val_auc: 0.7938\n",
            "Epoch 9/100\n",
            "28/28 [==============================] - 0s 3ms/step - loss: 13.1650 - tp: 1761.0000 - fp: 263.0000 - tn: 3244.0000 - fn: 1746.0000 - accuracy: 0.7136 - precision: 0.8701 - recall: 0.5021 - auc: 0.8524 - val_loss: 11.2202 - val_tp: 17.0000 - val_fp: 69.0000 - val_tn: 1103.0000 - val_fn: 29.0000 - val_accuracy: 0.9195 - val_precision: 0.1977 - val_recall: 0.3696 - val_auc: 0.7977\n",
            "Epoch 10/100\n",
            "28/28 [==============================] - 0s 3ms/step - loss: 13.1514 - tp: 1735.0000 - fp: 268.0000 - tn: 3239.0000 - fn: 1772.0000 - accuracy: 0.7092 - precision: 0.8662 - recall: 0.4947 - auc: 0.8516 - val_loss: 10.7285 - val_tp: 17.0000 - val_fp: 68.0000 - val_tn: 1104.0000 - val_fn: 29.0000 - val_accuracy: 0.9204 - val_precision: 0.2000 - val_recall: 0.3696 - val_auc: 0.8012\n",
            "Epoch 11/100\n",
            "28/28 [==============================] - 0s 3ms/step - loss: 12.9458 - tp: 1784.0000 - fp: 261.0000 - tn: 3246.0000 - fn: 1723.0000 - accuracy: 0.7171 - precision: 0.8724 - recall: 0.5087 - auc: 0.8584 - val_loss: 10.7703 - val_tp: 17.0000 - val_fp: 68.0000 - val_tn: 1104.0000 - val_fn: 29.0000 - val_accuracy: 0.9204 - val_precision: 0.2000 - val_recall: 0.3696 - val_auc: 0.8026\n",
            "Epoch 12/100\n",
            "28/28 [==============================] - 0s 3ms/step - loss: 12.8081 - tp: 1801.0000 - fp: 257.0000 - tn: 3250.0000 - fn: 1706.0000 - accuracy: 0.7201 - precision: 0.8751 - recall: 0.5135 - auc: 0.8619 - val_loss: 10.1212 - val_tp: 16.0000 - val_fp: 56.0000 - val_tn: 1116.0000 - val_fn: 30.0000 - val_accuracy: 0.9294 - val_precision: 0.2222 - val_recall: 0.3478 - val_auc: 0.7973\n",
            "Epoch 13/100\n",
            "28/28 [==============================] - 0s 3ms/step - loss: 12.7549 - tp: 1783.0000 - fp: 251.0000 - tn: 3256.0000 - fn: 1724.0000 - accuracy: 0.7184 - precision: 0.8766 - recall: 0.5084 - auc: 0.8637 - val_loss: 10.6004 - val_tp: 19.0000 - val_fp: 68.0000 - val_tn: 1104.0000 - val_fn: 27.0000 - val_accuracy: 0.9220 - val_precision: 0.2184 - val_recall: 0.4130 - val_auc: 0.8000\n",
            "Epoch 14/100\n",
            "28/28 [==============================] - 0s 3ms/step - loss: 12.5031 - tp: 1900.0000 - fp: 264.0000 - tn: 3243.0000 - fn: 1607.0000 - accuracy: 0.7332 - precision: 0.8780 - recall: 0.5418 - auc: 0.8692 - val_loss: 9.8957 - val_tp: 16.0000 - val_fp: 55.0000 - val_tn: 1117.0000 - val_fn: 30.0000 - val_accuracy: 0.9302 - val_precision: 0.2254 - val_recall: 0.3478 - val_auc: 0.8029\n",
            "Epoch 15/100\n",
            "28/28 [==============================] - 0s 3ms/step - loss: 12.4880 - tp: 1809.0000 - fp: 227.0000 - tn: 3280.0000 - fn: 1698.0000 - accuracy: 0.7255 - precision: 0.8885 - recall: 0.5158 - auc: 0.8709 - val_loss: 10.6801 - val_tp: 19.0000 - val_fp: 72.0000 - val_tn: 1100.0000 - val_fn: 27.0000 - val_accuracy: 0.9187 - val_precision: 0.2088 - val_recall: 0.4130 - val_auc: 0.8020\n",
            "Epoch 16/100\n",
            "28/28 [==============================] - 0s 3ms/step - loss: 12.3608 - tp: 1919.0000 - fp: 246.0000 - tn: 3261.0000 - fn: 1588.0000 - accuracy: 0.7385 - precision: 0.8864 - recall: 0.5472 - auc: 0.8744 - val_loss: 10.1971 - val_tp: 18.0000 - val_fp: 61.0000 - val_tn: 1111.0000 - val_fn: 28.0000 - val_accuracy: 0.9269 - val_precision: 0.2278 - val_recall: 0.3913 - val_auc: 0.7989\n",
            "Epoch 17/100\n",
            "28/28 [==============================] - 0s 3ms/step - loss: 12.2686 - tp: 1852.0000 - fp: 223.0000 - tn: 3284.0000 - fn: 1655.0000 - accuracy: 0.7322 - precision: 0.8925 - recall: 0.5281 - auc: 0.8768 - val_loss: 10.8823 - val_tp: 19.0000 - val_fp: 76.0000 - val_tn: 1096.0000 - val_fn: 27.0000 - val_accuracy: 0.9154 - val_precision: 0.2000 - val_recall: 0.4130 - val_auc: 0.8016\n",
            "Epoch 18/100\n",
            "28/28 [==============================] - 0s 3ms/step - loss: 12.2250 - tp: 1890.0000 - fp: 222.0000 - tn: 3285.0000 - fn: 1617.0000 - accuracy: 0.7378 - precision: 0.8949 - recall: 0.5389 - auc: 0.8773 - val_loss: 10.7897 - val_tp: 19.0000 - val_fp: 74.0000 - val_tn: 1098.0000 - val_fn: 27.0000 - val_accuracy: 0.9171 - val_precision: 0.2043 - val_recall: 0.4130 - val_auc: 0.8012\n",
            "Epoch 19/100\n",
            "27/28 [===========================>..] - ETA: 0s - loss: 12.2120 - tp: 1850.0000 - fp: 223.0000 - tn: 3235.0000 - fn: 1604.0000 - accuracy: 0.7357 - precision: 0.8924 - recall: 0.5356 - auc: 0.8810Restoring model weights from the end of the best epoch.\n",
            "28/28 [==============================] - 0s 3ms/step - loss: 12.1083 - tp: 1875.0000 - fp: 229.0000 - tn: 3278.0000 - fn: 1632.0000 - accuracy: 0.7347 - precision: 0.8912 - recall: 0.5346 - auc: 0.8807 - val_loss: 10.4904 - val_tp: 19.0000 - val_fp: 69.0000 - val_tn: 1103.0000 - val_fn: 27.0000 - val_accuracy: 0.9212 - val_precision: 0.2159 - val_recall: 0.4130 - val_auc: 0.7961\n",
            "Epoch 00019: early stopping\n"
          ],
          "name": "stdout"
        }
      ]
    },
    {
      "cell_type": "code",
      "metadata": {
        "id": "PZaPsLUPBkCC",
        "outputId": "9828fa9e-1d4d-4e78-bfa4-f4aa1f954591",
        "colab": {
          "base_uri": "https://localhost:8080/",
          "height": 501
        }
      },
      "source": [
        "plot_history(history_focal_over_sample)"
      ],
      "execution_count": 79,
      "outputs": [
        {
          "output_type": "display_data",
          "data": {
            "image/png": "[encoded data removed]",
            "text/plain": [
              "<Figure size 720x576 with 4 Axes>"
            ]
          },
          "metadata": {
            "tags": [],
            "needs_background": "light"
          }
        }
      ]
    },
    {
      "cell_type": "code",
      "metadata": {
        "id": "hsGGLX5cBy0n",
        "outputId": "71186c4a-e0cf-4f32-cdc6-fa05a00ccc86",
        "colab": {
          "base_uri": "https://localhost:8080/",
          "height": 170
        }
      },
      "source": [
        "y_hat_proba = model.predict(X_test)\n",
        "y_hat = np.where(y_hat_proba > 0.5, 1, 0)\n",
        "print(classification_report(y_test, y_hat))"
      ],
      "execution_count": 80,
      "outputs": [
        {
          "output_type": "stream",
          "text": [
            "              precision    recall  f1-score   support\n",
            "\n",
            "           0       0.98      0.95      0.96      1572\n",
            "           1       0.18      0.36      0.24        53\n",
            "\n",
            "    accuracy                           0.93      1625\n",
            "   macro avg       0.58      0.65      0.60      1625\n",
            "weighted avg       0.95      0.93      0.94      1625\n",
            "\n"
          ],
          "name": "stdout"
        }
      ]
    },
    {
      "cell_type": "code",
      "metadata": {
        "id": "yufEqvO_GFe2",
        "outputId": "13efbb12-ce84-4fb5-95eb-e5f8a3e01547",
        "colab": {
          "base_uri": "https://localhost:8080/",
          "height": 359
        }
      },
      "source": [
        "cm, acc, maj, min, f1 = score_model(y_test, y_hat)\n",
        "results_df.loc['Focal Loss + Over Sample'] = [*maj, *min, acc, f1]\n",
        "results_df"
      ],
      "execution_count": 81,
      "outputs": [
        {
          "output_type": "execute_result",
          "data": {
            "text/html": [
              "<div>\n",
              "<style scoped>\n",
              "    .dataframe tbody tr th:only-of-type {\n",
              "        vertical-align: middle;\n",
              "    }\n",
              "\n",
              "    .dataframe tbody tr th {\n",
              "        vertical-align: top;\n",
              "    }\n",
              "\n",
              "    .dataframe thead tr th {\n",
              "        text-align: left;\n",
              "    }\n",
              "</style>\n",
              "<table border=\"1\" class=\"dataframe\">\n",
              "  <thead>\n",
              "    <tr>\n",
              "      <th></th>\n",
              "      <th colspan=\"2\" halign=\"left\">Majority</th>\n",
              "      <th colspan=\"2\" halign=\"left\">Minority</th>\n",
              "      <th colspan=\"2\" halign=\"left\">Scoring</th>\n",
              "    </tr>\n",
              "    <tr>\n",
              "      <th></th>\n",
              "      <th>Precision</th>\n",
              "      <th>Recall</th>\n",
              "      <th>Precision</th>\n",
              "      <th>Recall</th>\n",
              "      <th>Accuracy</th>\n",
              "      <th>F1</th>\n",
              "    </tr>\n",
              "  </thead>\n",
              "  <tbody>\n",
              "    <tr>\n",
              "      <th>Baseline</th>\n",
              "      <td>0.967385</td>\n",
              "      <td>1.000000</td>\n",
              "      <td>NaN</td>\n",
              "      <td>0.000000</td>\n",
              "      <td>0.967385</td>\n",
              "      <td>0.000000</td>\n",
              "    </tr>\n",
              "    <tr>\n",
              "      <th>Random</th>\n",
              "      <td>0.980507</td>\n",
              "      <td>0.319975</td>\n",
              "      <td>0.038669</td>\n",
              "      <td>0.811321</td>\n",
              "      <td>0.336000</td>\n",
              "      <td>0.073820</td>\n",
              "    </tr>\n",
              "    <tr>\n",
              "      <th>Unbalanced</th>\n",
              "      <td>0.966969</td>\n",
              "      <td>0.744911</td>\n",
              "      <td>0.031401</td>\n",
              "      <td>0.245283</td>\n",
              "      <td>0.728615</td>\n",
              "      <td>0.055675</td>\n",
              "    </tr>\n",
              "    <tr>\n",
              "      <th>Weighted</th>\n",
              "      <td>0.982112</td>\n",
              "      <td>0.733461</td>\n",
              "      <td>0.070953</td>\n",
              "      <td>0.603774</td>\n",
              "      <td>0.729231</td>\n",
              "      <td>0.126984</td>\n",
              "    </tr>\n",
              "    <tr>\n",
              "      <th>Over Sample</th>\n",
              "      <td>0.983619</td>\n",
              "      <td>0.802163</td>\n",
              "      <td>0.093294</td>\n",
              "      <td>0.603774</td>\n",
              "      <td>0.795692</td>\n",
              "      <td>0.161616</td>\n",
              "    </tr>\n",
              "    <tr>\n",
              "      <th>Under Sample</th>\n",
              "      <td>0.986667</td>\n",
              "      <td>0.659033</td>\n",
              "      <td>0.067826</td>\n",
              "      <td>0.735849</td>\n",
              "      <td>0.661538</td>\n",
              "      <td>0.124204</td>\n",
              "    </tr>\n",
              "    <tr>\n",
              "      <th>Balanced Batching</th>\n",
              "      <td>0.984744</td>\n",
              "      <td>0.821247</td>\n",
              "      <td>0.105096</td>\n",
              "      <td>0.622642</td>\n",
              "      <td>0.814769</td>\n",
              "      <td>0.179837</td>\n",
              "    </tr>\n",
              "    <tr>\n",
              "      <th>Focal Loss</th>\n",
              "      <td>0.967385</td>\n",
              "      <td>1.000000</td>\n",
              "      <td>NaN</td>\n",
              "      <td>0.000000</td>\n",
              "      <td>0.967385</td>\n",
              "      <td>0.000000</td>\n",
              "    </tr>\n",
              "    <tr>\n",
              "      <th>Focal Loss + Over Sample</th>\n",
              "      <td>0.977661</td>\n",
              "      <td>0.946565</td>\n",
              "      <td>0.184466</td>\n",
              "      <td>0.358491</td>\n",
              "      <td>0.927385</td>\n",
              "      <td>0.243590</td>\n",
              "    </tr>\n",
              "  </tbody>\n",
              "</table>\n",
              "</div>"
            ],
            "text/plain": [
              "                          Majority            ...   Scoring          \n",
              "                         Precision    Recall  ...  Accuracy        F1\n",
              "Baseline                  0.967385  1.000000  ...  0.967385  0.000000\n",
              "Random                    0.980507  0.319975  ...  0.336000  0.073820\n",
              "Unbalanced                0.966969  0.744911  ...  0.728615  0.055675\n",
              "Weighted                  0.982112  0.733461  ...  0.729231  0.126984\n",
              "Over Sample               0.983619  0.802163  ...  0.795692  0.161616\n",
              "Under Sample              0.986667  0.659033  ...  0.661538  0.124204\n",
              "Balanced Batching         0.984744  0.821247  ...  0.814769  0.179837\n",
              "Focal Loss                0.967385  1.000000  ...  0.967385  0.000000\n",
              "Focal Loss + Over Sample  0.977661  0.946565  ...  0.927385  0.243590\n",
              "\n",
              "[9 rows x 6 columns]"
            ]
          },
          "metadata": {
            "tags": []
          },
          "execution_count": 81
        }
      ]
    },
    {
      "cell_type": "markdown",
      "metadata": {
        "id": "sZp7OMYzWraA"
      },
      "source": [
        "# Focal Loss + Batch Balancing"
      ]
    },
    {
      "cell_type": "code",
      "metadata": {
        "id": "Oe5c1LL7Wwvr",
        "outputId": "eb9f6ae6-4e58-4552-94e2-2ceab542c67d",
        "colab": {
          "base_uri": "https://localhost:8080/",
          "height": 255
        }
      },
      "source": [
        "model = construct_model()\n",
        "model.summary()"
      ],
      "execution_count": 82,
      "outputs": [
        {
          "output_type": "stream",
          "text": [
            "Model: \"sequential_8\"\n",
            "_________________________________________________________________\n",
            "Layer (type)                 Output Shape              Param #   \n",
            "=================================================================\n",
            "dense_16 (Dense)             (None, 64)                768       \n",
            "_________________________________________________________________\n",
            "dropout_8 (Dropout)          (None, 64)                0         \n",
            "_________________________________________________________________\n",
            "dense_17 (Dense)             (None, 1)                 65        \n",
            "=================================================================\n",
            "Total params: 833\n",
            "Trainable params: 833\n",
            "Non-trainable params: 0\n",
            "_________________________________________________________________\n"
          ],
          "name": "stdout"
        }
      ]
    },
    {
      "cell_type": "code",
      "metadata": {
        "id": "Qk5Im_lpWxDK",
        "outputId": "03f56b2e-e3b6-48f7-ea4d-1267da77c82e",
        "colab": {
          "base_uri": "https://localhost:8080/",
          "height": 71
        }
      },
      "source": [
        "training_generator = BalancedBatchGenerator(\n",
        "    X_train, \n",
        "    y_train.to_numpy(), \n",
        "    sampler=RandomOverSampler(), \n",
        "    batch_size=32, \n",
        "    random_state=42)"
      ],
      "execution_count": 83,
      "outputs": [
        {
          "output_type": "stream",
          "text": [
            "/usr/local/lib/python3.6/dist-packages/sklearn/utils/deprecation.py:87: FutureWarning: Function safe_indexing is deprecated; safe_indexing is deprecated in version 0.22 and will be removed in version 0.24.\n",
            "  warnings.warn(msg, category=FutureWarning)\n"
          ],
          "name": "stderr"
        }
      ]
    },
    {
      "cell_type": "code",
      "metadata": {
        "id": "KmMzjjA-WxAU",
        "outputId": "0678e1fa-ecbd-42a0-827d-0d0ab8b1a2f0",
        "colab": {
          "base_uri": "https://localhost:8080/",
          "height": 581
        }
      },
      "source": [
        "history_focal_batch_balanced = model.fit(\n",
        "    training_generator,\n",
        "    validation_data=(X_val, y_val),\n",
        "    epochs=EPOCHS,\n",
        "    callbacks = [early_stopping])"
      ],
      "execution_count": 84,
      "outputs": [
        {
          "output_type": "stream",
          "text": [
            "Epoch 1/100\n"
          ],
          "name": "stdout"
        },
        {
          "output_type": "stream",
          "text": [
            "/usr/local/lib/python3.6/dist-packages/sklearn/utils/deprecation.py:87: FutureWarning: Function safe_indexing is deprecated; safe_indexing is deprecated in version 0.22 and will be removed in version 0.24.\n",
            "  warnings.warn(msg, category=FutureWarning)\n"
          ],
          "name": "stderr"
        },
        {
          "output_type": "stream",
          "text": [
            "219/219 [==============================] - 1s 6ms/step - loss: 0.6078 - tp: 2668.0000 - fp: 1515.0000 - tn: 3161.0000 - fn: 882.0000 - accuracy: 0.7086 - precision: 0.6378 - recall: 0.7515 - auc: 0.7836 - val_loss: 0.5594 - val_tp: 31.0000 - val_fp: 320.0000 - val_tn: 852.0000 - val_fn: 15.0000 - val_accuracy: 0.7250 - val_precision: 0.0883 - val_recall: 0.6739 - val_auc: 0.7720\n",
            "Epoch 2/100\n",
            "219/219 [==============================] - 0s 2ms/step - loss: 0.5047 - tp: 2789.0000 - fp: 944.0000 - tn: 2560.0000 - fn: 715.0000 - accuracy: 0.7633 - precision: 0.7471 - recall: 0.7959 - auc: 0.8414 - val_loss: 0.5149 - val_tp: 29.0000 - val_fp: 296.0000 - val_tn: 876.0000 - val_fn: 17.0000 - val_accuracy: 0.7430 - val_precision: 0.0892 - val_recall: 0.6304 - val_auc: 0.7849\n",
            "Epoch 3/100\n",
            "219/219 [==============================] - 0s 2ms/step - loss: 0.4785 - tp: 2817.0000 - fp: 890.0000 - tn: 2614.0000 - fn: 687.0000 - accuracy: 0.7750 - precision: 0.7599 - recall: 0.8039 - auc: 0.8559 - val_loss: 0.4702 - val_tp: 27.0000 - val_fp: 259.0000 - val_tn: 913.0000 - val_fn: 19.0000 - val_accuracy: 0.7718 - val_precision: 0.0944 - val_recall: 0.5870 - val_auc: 0.7874\n",
            "Epoch 4/100\n",
            "219/219 [==============================] - 0s 2ms/step - loss: 0.4578 - tp: 2872.0000 - fp: 798.0000 - tn: 2706.0000 - fn: 632.0000 - accuracy: 0.7959 - precision: 0.7826 - recall: 0.8196 - auc: 0.8708 - val_loss: 0.4568 - val_tp: 28.0000 - val_fp: 248.0000 - val_tn: 924.0000 - val_fn: 18.0000 - val_accuracy: 0.7816 - val_precision: 0.1014 - val_recall: 0.6087 - val_auc: 0.7940\n",
            "Epoch 5/100\n",
            "219/219 [==============================] - 0s 2ms/step - loss: 0.4505 - tp: 2894.0000 - fp: 778.0000 - tn: 2726.0000 - fn: 610.0000 - accuracy: 0.8019 - precision: 0.7881 - recall: 0.8259 - auc: 0.8750 - val_loss: 0.4712 - val_tp: 29.0000 - val_fp: 264.0000 - val_tn: 908.0000 - val_fn: 17.0000 - val_accuracy: 0.7693 - val_precision: 0.0990 - val_recall: 0.6304 - val_auc: 0.7975\n",
            "Epoch 6/100\n",
            "219/219 [==============================] - 0s 2ms/step - loss: 0.4376 - tp: 2909.0000 - fp: 779.0000 - tn: 2725.0000 - fn: 595.0000 - accuracy: 0.8039 - precision: 0.7888 - recall: 0.8302 - auc: 0.8816 - val_loss: 0.4290 - val_tp: 29.0000 - val_fp: 223.0000 - val_tn: 949.0000 - val_fn: 17.0000 - val_accuracy: 0.8030 - val_precision: 0.1151 - val_recall: 0.6304 - val_auc: 0.8023\n",
            "Epoch 7/100\n",
            "219/219 [==============================] - 0s 2ms/step - loss: 0.4287 - tp: 2913.0000 - fp: 737.0000 - tn: 2767.0000 - fn: 591.0000 - accuracy: 0.8105 - precision: 0.7981 - recall: 0.8313 - auc: 0.8863 - val_loss: 0.4051 - val_tp: 27.0000 - val_fp: 198.0000 - val_tn: 974.0000 - val_fn: 19.0000 - val_accuracy: 0.8218 - val_precision: 0.1200 - val_recall: 0.5870 - val_auc: 0.8018\n",
            "Epoch 8/100\n",
            "219/219 [==============================] - 0s 2ms/step - loss: 0.4237 - tp: 2915.0000 - fp: 715.0000 - tn: 2789.0000 - fn: 589.0000 - accuracy: 0.8139 - precision: 0.8030 - recall: 0.8319 - auc: 0.8894 - val_loss: 0.4302 - val_tp: 29.0000 - val_fp: 223.0000 - val_tn: 949.0000 - val_fn: 17.0000 - val_accuracy: 0.8030 - val_precision: 0.1151 - val_recall: 0.6304 - val_auc: 0.8005\n",
            "Epoch 9/100\n",
            "219/219 [==============================] - 0s 2ms/step - loss: 0.4178 - tp: 2953.0000 - fp: 688.0000 - tn: 2816.0000 - fn: 551.0000 - accuracy: 0.8232 - precision: 0.8110 - recall: 0.8428 - auc: 0.8926 - val_loss: 0.4285 - val_tp: 29.0000 - val_fp: 222.0000 - val_tn: 950.0000 - val_fn: 17.0000 - val_accuracy: 0.8038 - val_precision: 0.1155 - val_recall: 0.6304 - val_auc: 0.8065\n",
            "Epoch 10/100\n",
            "219/219 [==============================] - 0s 2ms/step - loss: 0.4086 - tp: 2941.0000 - fp: 676.0000 - tn: 2828.0000 - fn: 563.0000 - accuracy: 0.8232 - precision: 0.8131 - recall: 0.8393 - auc: 0.8985 - val_loss: 0.4400 - val_tp: 27.0000 - val_fp: 237.0000 - val_tn: 935.0000 - val_fn: 19.0000 - val_accuracy: 0.7898 - val_precision: 0.1023 - val_recall: 0.5870 - val_auc: 0.7984\n",
            "Epoch 11/100\n",
            "219/219 [==============================] - 0s 2ms/step - loss: 0.4037 - tp: 3004.0000 - fp: 671.0000 - tn: 2833.0000 - fn: 500.0000 - accuracy: 0.8329 - precision: 0.8174 - recall: 0.8573 - auc: 0.8998 - val_loss: 0.4069 - val_tp: 28.0000 - val_fp: 204.0000 - val_tn: 968.0000 - val_fn: 18.0000 - val_accuracy: 0.8177 - val_precision: 0.1207 - val_recall: 0.6087 - val_auc: 0.8025\n",
            "Epoch 12/100\n",
            "219/219 [==============================] - 0s 2ms/step - loss: 0.3986 - tp: 3003.0000 - fp: 664.0000 - tn: 2840.0000 - fn: 501.0000 - accuracy: 0.8338 - precision: 0.8189 - recall: 0.8570 - auc: 0.9021 - val_loss: 0.4040 - val_tp: 26.0000 - val_fp: 199.0000 - val_tn: 973.0000 - val_fn: 20.0000 - val_accuracy: 0.8202 - val_precision: 0.1156 - val_recall: 0.5652 - val_auc: 0.8032\n",
            "Epoch 13/100\n",
            "219/219 [==============================] - 0s 2ms/step - loss: 0.4001 - tp: 2974.0000 - fp: 654.0000 - tn: 2850.0000 - fn: 530.0000 - accuracy: 0.8311 - precision: 0.8197 - recall: 0.8487 - auc: 0.9006 - val_loss: 0.4574 - val_tp: 29.0000 - val_fp: 241.0000 - val_tn: 931.0000 - val_fn: 17.0000 - val_accuracy: 0.7882 - val_precision: 0.1074 - val_recall: 0.6304 - val_auc: 0.8042\n",
            "Epoch 14/100\n",
            "186/219 [========================>.....] - ETA: 0s - loss: 0.3928 - tp: 2558.0000 - fp: 565.0000 - tn: 2410.0000 - fn: 419.0000 - accuracy: 0.8347 - precision: 0.8191 - recall: 0.8593 - auc: 0.9048Restoring model weights from the end of the best epoch.\n",
            "219/219 [==============================] - 0s 2ms/step - loss: 0.3914 - tp: 3006.0000 - fp: 650.0000 - tn: 2854.0000 - fn: 498.0000 - accuracy: 0.8362 - precision: 0.8222 - recall: 0.8579 - auc: 0.9057 - val_loss: 0.4196 - val_tp: 26.0000 - val_fp: 207.0000 - val_tn: 965.0000 - val_fn: 20.0000 - val_accuracy: 0.8136 - val_precision: 0.1116 - val_recall: 0.5652 - val_auc: 0.8062\n",
            "Epoch 00014: early stopping\n"
          ],
          "name": "stdout"
        }
      ]
    },
    {
      "cell_type": "code",
      "metadata": {
        "id": "Yct5inQBWw8J",
        "outputId": "f9d8c61d-4f8f-48b6-ee81-d61edd59522d",
        "colab": {
          "base_uri": "https://localhost:8080/",
          "height": 501
        }
      },
      "source": [
        "plot_history(history_focal_batch_balanced)"
      ],
      "execution_count": 85,
      "outputs": [
        {
          "output_type": "display_data",
          "data": {
            "image/png": "[encoded data removed]",
            "text/plain": [
              "<Figure size 720x576 with 4 Axes>"
            ]
          },
          "metadata": {
            "tags": [],
            "needs_background": "light"
          }
        }
      ]
    },
    {
      "cell_type": "code",
      "metadata": {
        "id": "duhyaiXIXFNL",
        "outputId": "92508f38-b96f-4c96-88ea-09f98f3f1946",
        "colab": {
          "base_uri": "https://localhost:8080/",
          "height": 170
        }
      },
      "source": [
        "y_hat_proba = model.predict(X_test)\n",
        "y_hat = np.where(y_hat_proba > 0.5, 1, 0)\n",
        "print(classification_report(y_test, y_hat))"
      ],
      "execution_count": 86,
      "outputs": [
        {
          "output_type": "stream",
          "text": [
            "              precision    recall  f1-score   support\n",
            "\n",
            "           0       0.98      0.80      0.88      1572\n",
            "           1       0.09      0.62      0.16        53\n",
            "\n",
            "    accuracy                           0.79      1625\n",
            "   macro avg       0.54      0.71      0.52      1625\n",
            "weighted avg       0.96      0.79      0.86      1625\n",
            "\n"
          ],
          "name": "stdout"
        }
      ]
    },
    {
      "cell_type": "code",
      "metadata": {
        "id": "ocYxSt76Ww43",
        "outputId": "a3386dc8-493a-44e9-d345-f49a007ac463",
        "colab": {
          "base_uri": "https://localhost:8080/",
          "height": 390
        }
      },
      "source": [
        "cm, acc, maj, min, f1 = score_model(y_test, y_hat)\n",
        "results_df.loc['Focal Loss + Balanced Batching'] = [*maj, *min, acc, f1]\n",
        "results_df"
      ],
      "execution_count": 87,
      "outputs": [
        {
          "output_type": "execute_result",
          "data": {
            "text/html": [
              "<div>\n",
              "<style scoped>\n",
              "    .dataframe tbody tr th:only-of-type {\n",
              "        vertical-align: middle;\n",
              "    }\n",
              "\n",
              "    .dataframe tbody tr th {\n",
              "        vertical-align: top;\n",
              "    }\n",
              "\n",
              "    .dataframe thead tr th {\n",
              "        text-align: left;\n",
              "    }\n",
              "</style>\n",
              "<table border=\"1\" class=\"dataframe\">\n",
              "  <thead>\n",
              "    <tr>\n",
              "      <th></th>\n",
              "      <th colspan=\"2\" halign=\"left\">Majority</th>\n",
              "      <th colspan=\"2\" halign=\"left\">Minority</th>\n",
              "      <th colspan=\"2\" halign=\"left\">Scoring</th>\n",
              "    </tr>\n",
              "    <tr>\n",
              "      <th></th>\n",
              "      <th>Precision</th>\n",
              "      <th>Recall</th>\n",
              "      <th>Precision</th>\n",
              "      <th>Recall</th>\n",
              "      <th>Accuracy</th>\n",
              "      <th>F1</th>\n",
              "    </tr>\n",
              "  </thead>\n",
              "  <tbody>\n",
              "    <tr>\n",
              "      <th>Baseline</th>\n",
              "      <td>0.967385</td>\n",
              "      <td>1.000000</td>\n",
              "      <td>NaN</td>\n",
              "      <td>0.000000</td>\n",
              "      <td>0.967385</td>\n",
              "      <td>0.000000</td>\n",
              "    </tr>\n",
              "    <tr>\n",
              "      <th>Random</th>\n",
              "      <td>0.980507</td>\n",
              "      <td>0.319975</td>\n",
              "      <td>0.038669</td>\n",
              "      <td>0.811321</td>\n",
              "      <td>0.336000</td>\n",
              "      <td>0.073820</td>\n",
              "    </tr>\n",
              "    <tr>\n",
              "      <th>Unbalanced</th>\n",
              "      <td>0.966969</td>\n",
              "      <td>0.744911</td>\n",
              "      <td>0.031401</td>\n",
              "      <td>0.245283</td>\n",
              "      <td>0.728615</td>\n",
              "      <td>0.055675</td>\n",
              "    </tr>\n",
              "    <tr>\n",
              "      <th>Weighted</th>\n",
              "      <td>0.982112</td>\n",
              "      <td>0.733461</td>\n",
              "      <td>0.070953</td>\n",
              "      <td>0.603774</td>\n",
              "      <td>0.729231</td>\n",
              "      <td>0.126984</td>\n",
              "    </tr>\n",
              "    <tr>\n",
              "      <th>Over Sample</th>\n",
              "      <td>0.983619</td>\n",
              "      <td>0.802163</td>\n",
              "      <td>0.093294</td>\n",
              "      <td>0.603774</td>\n",
              "      <td>0.795692</td>\n",
              "      <td>0.161616</td>\n",
              "    </tr>\n",
              "    <tr>\n",
              "      <th>Under Sample</th>\n",
              "      <td>0.986667</td>\n",
              "      <td>0.659033</td>\n",
              "      <td>0.067826</td>\n",
              "      <td>0.735849</td>\n",
              "      <td>0.661538</td>\n",
              "      <td>0.124204</td>\n",
              "    </tr>\n",
              "    <tr>\n",
              "      <th>Balanced Batching</th>\n",
              "      <td>0.984744</td>\n",
              "      <td>0.821247</td>\n",
              "      <td>0.105096</td>\n",
              "      <td>0.622642</td>\n",
              "      <td>0.814769</td>\n",
              "      <td>0.179837</td>\n",
              "    </tr>\n",
              "    <tr>\n",
              "      <th>Focal Loss</th>\n",
              "      <td>0.967385</td>\n",
              "      <td>1.000000</td>\n",
              "      <td>NaN</td>\n",
              "      <td>0.000000</td>\n",
              "      <td>0.967385</td>\n",
              "      <td>0.000000</td>\n",
              "    </tr>\n",
              "    <tr>\n",
              "      <th>Focal Loss + Over Sample</th>\n",
              "      <td>0.977661</td>\n",
              "      <td>0.946565</td>\n",
              "      <td>0.184466</td>\n",
              "      <td>0.358491</td>\n",
              "      <td>0.927385</td>\n",
              "      <td>0.243590</td>\n",
              "    </tr>\n",
              "    <tr>\n",
              "      <th>Focal Loss + Balanced Batching</th>\n",
              "      <td>0.984338</td>\n",
              "      <td>0.799618</td>\n",
              "      <td>0.094828</td>\n",
              "      <td>0.622642</td>\n",
              "      <td>0.793846</td>\n",
              "      <td>0.164589</td>\n",
              "    </tr>\n",
              "  </tbody>\n",
              "</table>\n",
              "</div>"
            ],
            "text/plain": [
              "                                Majority            ...   Scoring          \n",
              "                               Precision    Recall  ...  Accuracy        F1\n",
              "Baseline                        0.967385  1.000000  ...  0.967385  0.000000\n",
              "Random                          0.980507  0.319975  ...  0.336000  0.073820\n",
              "Unbalanced                      0.966969  0.744911  ...  0.728615  0.055675\n",
              "Weighted                        0.982112  0.733461  ...  0.729231  0.126984\n",
              "Over Sample                     0.983619  0.802163  ...  0.795692  0.161616\n",
              "Under Sample                    0.986667  0.659033  ...  0.661538  0.124204\n",
              "Balanced Batching               0.984744  0.821247  ...  0.814769  0.179837\n",
              "Focal Loss                      0.967385  1.000000  ...  0.967385  0.000000\n",
              "Focal Loss + Over Sample        0.977661  0.946565  ...  0.927385  0.243590\n",
              "Focal Loss + Balanced Batching  0.984338  0.799618  ...  0.793846  0.164589\n",
              "\n",
              "[10 rows x 6 columns]"
            ]
          },
          "metadata": {
            "tags": []
          },
          "execution_count": 87
        }
      ]
    },
    {
      "cell_type": "markdown",
      "metadata": {
        "id": "6l0c0GUm1Tv7"
      },
      "source": [
        "# Outcome"
      ]
    },
    {
      "cell_type": "markdown",
      "metadata": {
        "id": "Bs4TLq9jGols"
      },
      "source": [
        "## F1 Score\n",
        "* Highest F1 Score represents a balance between precision and recall"
      ]
    },
    {
      "cell_type": "code",
      "metadata": {
        "id": "cq6PS-ql1loS",
        "outputId": "aa4b800c-84c3-4bb6-afd7-411fd99efa32",
        "colab": {
          "base_uri": "https://localhost:8080/",
          "height": 390
        }
      },
      "source": [
        "results_df.sort_values(('Scoring', 'F1'), ascending=False)"
      ],
      "execution_count": 88,
      "outputs": [
        {
          "output_type": "execute_result",
          "data": {
            "text/html": [
              "<div>\n",
              "<style scoped>\n",
              "    .dataframe tbody tr th:only-of-type {\n",
              "        vertical-align: middle;\n",
              "    }\n",
              "\n",
              "    .dataframe tbody tr th {\n",
              "        vertical-align: top;\n",
              "    }\n",
              "\n",
              "    .dataframe thead tr th {\n",
              "        text-align: left;\n",
              "    }\n",
              "</style>\n",
              "<table border=\"1\" class=\"dataframe\">\n",
              "  <thead>\n",
              "    <tr>\n",
              "      <th></th>\n",
              "      <th colspan=\"2\" halign=\"left\">Majority</th>\n",
              "      <th colspan=\"2\" halign=\"left\">Minority</th>\n",
              "      <th colspan=\"2\" halign=\"left\">Scoring</th>\n",
              "    </tr>\n",
              "    <tr>\n",
              "      <th></th>\n",
              "      <th>Precision</th>\n",
              "      <th>Recall</th>\n",
              "      <th>Precision</th>\n",
              "      <th>Recall</th>\n",
              "      <th>Accuracy</th>\n",
              "      <th>F1</th>\n",
              "    </tr>\n",
              "  </thead>\n",
              "  <tbody>\n",
              "    <tr>\n",
              "      <th>Focal Loss + Over Sample</th>\n",
              "      <td>0.977661</td>\n",
              "      <td>0.946565</td>\n",
              "      <td>0.184466</td>\n",
              "      <td>0.358491</td>\n",
              "      <td>0.927385</td>\n",
              "      <td>0.243590</td>\n",
              "    </tr>\n",
              "    <tr>\n",
              "      <th>Balanced Batching</th>\n",
              "      <td>0.984744</td>\n",
              "      <td>0.821247</td>\n",
              "      <td>0.105096</td>\n",
              "      <td>0.622642</td>\n",
              "      <td>0.814769</td>\n",
              "      <td>0.179837</td>\n",
              "    </tr>\n",
              "    <tr>\n",
              "      <th>Focal Loss + Balanced Batching</th>\n",
              "      <td>0.984338</td>\n",
              "      <td>0.799618</td>\n",
              "      <td>0.094828</td>\n",
              "      <td>0.622642</td>\n",
              "      <td>0.793846</td>\n",
              "      <td>0.164589</td>\n",
              "    </tr>\n",
              "    <tr>\n",
              "      <th>Over Sample</th>\n",
              "      <td>0.983619</td>\n",
              "      <td>0.802163</td>\n",
              "      <td>0.093294</td>\n",
              "      <td>0.603774</td>\n",
              "      <td>0.795692</td>\n",
              "      <td>0.161616</td>\n",
              "    </tr>\n",
              "    <tr>\n",
              "      <th>Weighted</th>\n",
              "      <td>0.982112</td>\n",
              "      <td>0.733461</td>\n",
              "      <td>0.070953</td>\n",
              "      <td>0.603774</td>\n",
              "      <td>0.729231</td>\n",
              "      <td>0.126984</td>\n",
              "    </tr>\n",
              "    <tr>\n",
              "      <th>Under Sample</th>\n",
              "      <td>0.986667</td>\n",
              "      <td>0.659033</td>\n",
              "      <td>0.067826</td>\n",
              "      <td>0.735849</td>\n",
              "      <td>0.661538</td>\n",
              "      <td>0.124204</td>\n",
              "    </tr>\n",
              "    <tr>\n",
              "      <th>Random</th>\n",
              "      <td>0.980507</td>\n",
              "      <td>0.319975</td>\n",
              "      <td>0.038669</td>\n",
              "      <td>0.811321</td>\n",
              "      <td>0.336000</td>\n",
              "      <td>0.073820</td>\n",
              "    </tr>\n",
              "    <tr>\n",
              "      <th>Unbalanced</th>\n",
              "      <td>0.966969</td>\n",
              "      <td>0.744911</td>\n",
              "      <td>0.031401</td>\n",
              "      <td>0.245283</td>\n",
              "      <td>0.728615</td>\n",
              "      <td>0.055675</td>\n",
              "    </tr>\n",
              "    <tr>\n",
              "      <th>Baseline</th>\n",
              "      <td>0.967385</td>\n",
              "      <td>1.000000</td>\n",
              "      <td>NaN</td>\n",
              "      <td>0.000000</td>\n",
              "      <td>0.967385</td>\n",
              "      <td>0.000000</td>\n",
              "    </tr>\n",
              "    <tr>\n",
              "      <th>Focal Loss</th>\n",
              "      <td>0.967385</td>\n",
              "      <td>1.000000</td>\n",
              "      <td>NaN</td>\n",
              "      <td>0.000000</td>\n",
              "      <td>0.967385</td>\n",
              "      <td>0.000000</td>\n",
              "    </tr>\n",
              "  </tbody>\n",
              "</table>\n",
              "</div>"
            ],
            "text/plain": [
              "                                Majority            ...   Scoring          \n",
              "                               Precision    Recall  ...  Accuracy        F1\n",
              "Focal Loss + Over Sample        0.977661  0.946565  ...  0.927385  0.243590\n",
              "Balanced Batching               0.984744  0.821247  ...  0.814769  0.179837\n",
              "Focal Loss + Balanced Batching  0.984338  0.799618  ...  0.793846  0.164589\n",
              "Over Sample                     0.983619  0.802163  ...  0.795692  0.161616\n",
              "Weighted                        0.982112  0.733461  ...  0.729231  0.126984\n",
              "Under Sample                    0.986667  0.659033  ...  0.661538  0.124204\n",
              "Random                          0.980507  0.319975  ...  0.336000  0.073820\n",
              "Unbalanced                      0.966969  0.744911  ...  0.728615  0.055675\n",
              "Baseline                        0.967385  1.000000  ...  0.967385  0.000000\n",
              "Focal Loss                      0.967385  1.000000  ...  0.967385  0.000000\n",
              "\n",
              "[10 rows x 6 columns]"
            ]
          },
          "metadata": {
            "tags": []
          },
          "execution_count": 88
        }
      ]
    },
    {
      "cell_type": "markdown",
      "metadata": {
        "id": "O78t7K_mGvHg"
      },
      "source": [
        "## Minority Recall\n",
        "* To get higher recall on the minority class we're sacrificing precision\n",
        "* If we care more about false positives vs false negatives use a different F-beta score (i.e. F2 or F0.5)"
      ]
    },
    {
      "cell_type": "code",
      "metadata": {
        "id": "ut-wnPzJG2N2",
        "outputId": "21a303e2-6b6f-4f4b-ef80-ce0cf02d9a8b",
        "colab": {
          "base_uri": "https://localhost:8080/",
          "height": 390
        }
      },
      "source": [
        "results_df.sort_values(('Minority', 'Recall'), ascending=False)"
      ],
      "execution_count": 89,
      "outputs": [
        {
          "output_type": "execute_result",
          "data": {
            "text/html": [
              "<div>\n",
              "<style scoped>\n",
              "    .dataframe tbody tr th:only-of-type {\n",
              "        vertical-align: middle;\n",
              "    }\n",
              "\n",
              "    .dataframe tbody tr th {\n",
              "        vertical-align: top;\n",
              "    }\n",
              "\n",
              "    .dataframe thead tr th {\n",
              "        text-align: left;\n",
              "    }\n",
              "</style>\n",
              "<table border=\"1\" class=\"dataframe\">\n",
              "  <thead>\n",
              "    <tr>\n",
              "      <th></th>\n",
              "      <th colspan=\"2\" halign=\"left\">Majority</th>\n",
              "      <th colspan=\"2\" halign=\"left\">Minority</th>\n",
              "      <th colspan=\"2\" halign=\"left\">Scoring</th>\n",
              "    </tr>\n",
              "    <tr>\n",
              "      <th></th>\n",
              "      <th>Precision</th>\n",
              "      <th>Recall</th>\n",
              "      <th>Precision</th>\n",
              "      <th>Recall</th>\n",
              "      <th>Accuracy</th>\n",
              "      <th>F1</th>\n",
              "    </tr>\n",
              "  </thead>\n",
              "  <tbody>\n",
              "    <tr>\n",
              "      <th>Random</th>\n",
              "      <td>0.980507</td>\n",
              "      <td>0.319975</td>\n",
              "      <td>0.038669</td>\n",
              "      <td>0.811321</td>\n",
              "      <td>0.336000</td>\n",
              "      <td>0.073820</td>\n",
              "    </tr>\n",
              "    <tr>\n",
              "      <th>Under Sample</th>\n",
              "      <td>0.986667</td>\n",
              "      <td>0.659033</td>\n",
              "      <td>0.067826</td>\n",
              "      <td>0.735849</td>\n",
              "      <td>0.661538</td>\n",
              "      <td>0.124204</td>\n",
              "    </tr>\n",
              "    <tr>\n",
              "      <th>Balanced Batching</th>\n",
              "      <td>0.984744</td>\n",
              "      <td>0.821247</td>\n",
              "      <td>0.105096</td>\n",
              "      <td>0.622642</td>\n",
              "      <td>0.814769</td>\n",
              "      <td>0.179837</td>\n",
              "    </tr>\n",
              "    <tr>\n",
              "      <th>Focal Loss + Balanced Batching</th>\n",
              "      <td>0.984338</td>\n",
              "      <td>0.799618</td>\n",
              "      <td>0.094828</td>\n",
              "      <td>0.622642</td>\n",
              "      <td>0.793846</td>\n",
              "      <td>0.164589</td>\n",
              "    </tr>\n",
              "    <tr>\n",
              "      <th>Weighted</th>\n",
              "      <td>0.982112</td>\n",
              "      <td>0.733461</td>\n",
              "      <td>0.070953</td>\n",
              "      <td>0.603774</td>\n",
              "      <td>0.729231</td>\n",
              "      <td>0.126984</td>\n",
              "    </tr>\n",
              "    <tr>\n",
              "      <th>Over Sample</th>\n",
              "      <td>0.983619</td>\n",
              "      <td>0.802163</td>\n",
              "      <td>0.093294</td>\n",
              "      <td>0.603774</td>\n",
              "      <td>0.795692</td>\n",
              "      <td>0.161616</td>\n",
              "    </tr>\n",
              "    <tr>\n",
              "      <th>Focal Loss + Over Sample</th>\n",
              "      <td>0.977661</td>\n",
              "      <td>0.946565</td>\n",
              "      <td>0.184466</td>\n",
              "      <td>0.358491</td>\n",
              "      <td>0.927385</td>\n",
              "      <td>0.243590</td>\n",
              "    </tr>\n",
              "    <tr>\n",
              "      <th>Unbalanced</th>\n",
              "      <td>0.966969</td>\n",
              "      <td>0.744911</td>\n",
              "      <td>0.031401</td>\n",
              "      <td>0.245283</td>\n",
              "      <td>0.728615</td>\n",
              "      <td>0.055675</td>\n",
              "    </tr>\n",
              "    <tr>\n",
              "      <th>Baseline</th>\n",
              "      <td>0.967385</td>\n",
              "      <td>1.000000</td>\n",
              "      <td>NaN</td>\n",
              "      <td>0.000000</td>\n",
              "      <td>0.967385</td>\n",
              "      <td>0.000000</td>\n",
              "    </tr>\n",
              "    <tr>\n",
              "      <th>Focal Loss</th>\n",
              "      <td>0.967385</td>\n",
              "      <td>1.000000</td>\n",
              "      <td>NaN</td>\n",
              "      <td>0.000000</td>\n",
              "      <td>0.967385</td>\n",
              "      <td>0.000000</td>\n",
              "    </tr>\n",
              "  </tbody>\n",
              "</table>\n",
              "</div>"
            ],
            "text/plain": [
              "                                Majority            ...   Scoring          \n",
              "                               Precision    Recall  ...  Accuracy        F1\n",
              "Random                          0.980507  0.319975  ...  0.336000  0.073820\n",
              "Under Sample                    0.986667  0.659033  ...  0.661538  0.124204\n",
              "Balanced Batching               0.984744  0.821247  ...  0.814769  0.179837\n",
              "Focal Loss + Balanced Batching  0.984338  0.799618  ...  0.793846  0.164589\n",
              "Weighted                        0.982112  0.733461  ...  0.729231  0.126984\n",
              "Over Sample                     0.983619  0.802163  ...  0.795692  0.161616\n",
              "Focal Loss + Over Sample        0.977661  0.946565  ...  0.927385  0.243590\n",
              "Unbalanced                      0.966969  0.744911  ...  0.728615  0.055675\n",
              "Baseline                        0.967385  1.000000  ...  0.967385  0.000000\n",
              "Focal Loss                      0.967385  1.000000  ...  0.967385  0.000000\n",
              "\n",
              "[10 rows x 6 columns]"
            ]
          },
          "metadata": {
            "tags": []
          },
          "execution_count": 89
        }
      ]
    },
    {
      "cell_type": "code",
      "metadata": {
        "id": "ZU23T5ZZGNrb"
      },
      "source": [
        ""
      ],
      "execution_count": 89,
      "outputs": []
    }
  ]
}